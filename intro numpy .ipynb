{
 "cells": [
  {
   "cell_type": "code",
   "execution_count": 2,
   "id": "cdb33b36-2213-4413-a5a3-2b142c253786",
   "metadata": {},
   "outputs": [
    {
     "name": "stdout",
     "output_type": "stream",
     "text": [
      "Requirement already satisfied: numpy in c:\\users\\kaustubh hande\\anaconda3\\lib\\site-packages (1.26.4)\n"
     ]
    }
   ],
   "source": [
    "!PiP install numpy"
   ]
  },
  {
   "cell_type": "code",
   "execution_count": 3,
   "id": "3688406f-fdc0-4060-ac7c-a95be5abed38",
   "metadata": {},
   "outputs": [],
   "source": [
    "import numpy as np"
   ]
  },
  {
   "cell_type": "code",
   "execution_count": 9,
   "id": "03a7af6b-0f3d-444a-b2b6-1df9a7ad93ce",
   "metadata": {},
   "outputs": [
    {
     "data": {
      "text/plain": [
       "array([[1, 2],\n",
       "       [7, 8],\n",
       "       [3, 4],\n",
       "       [5, 6]])"
      ]
     },
     "execution_count": 9,
     "metadata": {},
     "output_type": "execute_result"
    }
   ],
   "source": [
    "# axis= 0 is used for row and axis= 1 is used for column\n",
    "a=np.array([[1,2],[7,8]])\n",
    "b=np.array([[3,4],[5,6]])\n",
    "z=np.concatenate((a,b),axis=0)\n",
    "z"
   ]
  },
  {
   "cell_type": "code",
   "execution_count": 10,
   "id": "7e2c6848-8aa8-485d-8572-5549f00a320c",
   "metadata": {},
   "outputs": [
    {
     "data": {
      "text/plain": [
       "array([[1, 2, 3, 4],\n",
       "       [7, 8, 5, 6]])"
      ]
     },
     "execution_count": 10,
     "metadata": {},
     "output_type": "execute_result"
    }
   ],
   "source": [
    "#axis= 1 is used for column\n",
    "a=np.array([[1,2],[7,8]])\n",
    "b=np.array([[3,4],[5,6]])\n",
    "z=np.concatenate((a,b),axis=1)\n",
    "z"
   ]
  },
  {
   "cell_type": "markdown",
   "id": "e304c051-65e4-46a1-b91f-e74a62db3691",
   "metadata": {},
   "source": [
    "### reshape"
   ]
  },
  {
   "cell_type": "code",
   "execution_count": 16,
   "id": "09a6f5e8-ce8b-4626-a017-241eaa727a71",
   "metadata": {},
   "outputs": [
    {
     "data": {
      "text/plain": [
       "array([[1, 2],\n",
       "       [3, 4],\n",
       "       [7, 8],\n",
       "       [5, 6]])"
      ]
     },
     "execution_count": 16,
     "metadata": {},
     "output_type": "execute_result"
    }
   ],
   "source": [
    "a=z.reshape(4,2)\n",
    "a"
   ]
  },
  {
   "cell_type": "markdown",
   "id": "22a4726f-af36-436b-a5c9-5862f40f15e7",
   "metadata": {},
   "source": [
    "### Indexing and slicing"
   ]
  },
  {
   "cell_type": "code",
   "execution_count": 17,
   "id": "14f560a1-5099-41ec-99ab-3c7667c3ce5b",
   "metadata": {},
   "outputs": [
    {
     "data": {
      "text/plain": [
       "array([2, 3])"
      ]
     },
     "execution_count": 17,
     "metadata": {},
     "output_type": "execute_result"
    }
   ],
   "source": [
    "###basic array opration\n",
    "\n",
    "data =np.array([1,2])\n",
    "ones_arr=np.ones(2,dtype=int)\n",
    "x= data + ones_arr\n",
    "x"
   ]
  },
  {
   "cell_type": "code",
   "execution_count": 18,
   "id": "4134212e-f0bb-456d-817d-b84031708207",
   "metadata": {},
   "outputs": [
    {
     "name": "stdout",
     "output_type": "stream",
     "text": [
      "[0 1] [1 2] [1. 2.]\n"
     ]
    }
   ],
   "source": [
    "y= data - ones_arr\n",
    "z=data*ones_arr\n",
    "a=data /ones_arr\n",
    "print(y,z,a)"
   ]
  },
  {
   "cell_type": "markdown",
   "id": "9530b8d2-b08b-4ee6-91d1-6d85e9fa1443",
   "metadata": {},
   "source": [
    "### More useful array opration"
   ]
  },
  {
   "cell_type": "code",
   "execution_count": 19,
   "id": "ee21be1e-d219-45c3-81cf-ec67cd80e7d2",
   "metadata": {},
   "outputs": [],
   "source": [
    "### minimum,maximum,sum,mean,product,standard deviation and more"
   ]
  },
  {
   "cell_type": "code",
   "execution_count": null,
   "id": "7e6b9568-9e35-4f10-9ef2-05ccf9860d6c",
   "metadata": {},
   "outputs": [],
   "source": [
    "'''\n",
    "mean = sum of element / total number of element\n",
    "mode= highest frequency is mode [repedated for many time]\n",
    "medium= set in  the ascending order[n/2] if'n' is odd we do [n+1/2] and for even [n/2]\n",
    "the avarage of the n/2 will bw medium\n"
   ]
  }
 ],
 "metadata": {
  "kernelspec": {
   "display_name": "Python 3 (ipykernel)",
   "language": "python",
   "name": "python3"
  },
  "language_info": {
   "codemirror_mode": {
    "name": "ipython",
    "version": 3
   },
   "file_extension": ".py",
   "mimetype": "text/x-python",
   "name": "python",
   "nbconvert_exporter": "python",
   "pygments_lexer": "ipython3",
   "version": "3.12.4"
  }
 },
 "nbformat": 4,
 "nbformat_minor": 5
}
