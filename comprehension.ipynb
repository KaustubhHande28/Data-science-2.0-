{
 "cells": [
  {
   "cell_type": "code",
   "execution_count": 1,
   "id": "17813a18-0d4c-40e7-b2ba-7494ef0e6c77",
   "metadata": {},
   "outputs": [
    {
     "name": "stdout",
     "output_type": "stream",
     "text": [
      "[2, 4, 6, 8, 10]\n",
      "[1, 3, 5, 7, 9]\n"
     ]
    }
   ],
   "source": [
    "a=[1,2,3,4,5,6,7,8,9,10]\n",
    "b=[]\n",
    "c=[]\n",
    "for i in a:\n",
    "    if i%2 ==0:\n",
    "        b.append(i)\n",
    "    else:\n",
    "        c.append(i)\n",
    "print(b)\n",
    "print(c)"
   ]
  },
  {
   "cell_type": "code",
   "execution_count": 2,
   "id": "8d01663d-8525-440c-9cd8-5da4a8fd8a2b",
   "metadata": {},
   "outputs": [
    {
     "name": "stdout",
     "output_type": "stream",
     "text": [
      "[2, 4, 6, 8, 10]\n"
     ]
    }
   ],
   "source": [
    "#list comprehension\n",
    "a=[1,2,3,4,5,6,7,8,9,10]\n",
    "b=[i for i in a if i%2 ==0]\n",
    "print(b)"
   ]
  },
  {
   "cell_type": "code",
   "execution_count": 3,
   "id": "b707d76e-22e6-4a03-a4cf-71ba64434261",
   "metadata": {},
   "outputs": [
    {
     "name": "stdout",
     "output_type": "stream",
     "text": [
      "[10, 20, 35, 40]\n"
     ]
    }
   ],
   "source": [
    "a=[10,11,20,32,35,38,40]\n",
    "b=[i for i in a if i%5==0]\n",
    "print(b)"
   ]
  },
  {
   "cell_type": "code",
   "execution_count": 4,
   "id": "0ec20c0b-8edb-4ec9-9b6e-6302ec36bd1f",
   "metadata": {},
   "outputs": [
    {
     "name": "stdout",
     "output_type": "stream",
     "text": [
      "[2, 4, 6, 8, 10, 2, 2, 4, 4, 6, 6, 6]\n"
     ]
    }
   ],
   "source": [
    "# if we use \"[]\" than it will print the simmilar even number also:\n",
    "\n",
    "a=[1,2,3,4,5,6,7,8,9,10,2,2,3,3,4,4,6,6,6]\n",
    "b=[i for i in a if i%2==0]\n",
    "print(b)"
   ]
  },
  {
   "cell_type": "code",
   "execution_count": 5,
   "id": "1d072c5d-35b0-4d01-95ff-279e21e5ec99",
   "metadata": {},
   "outputs": [
    {
     "name": "stdout",
     "output_type": "stream",
     "text": [
      "{2, 4, 6, 8, 10}\n"
     ]
    }
   ],
   "source": [
    "#if we want unique even number than we use \"{}\"\n",
    "a=[1,2,3,4,5,6,7,8,9,10,2,2,3,3,4,4,6,6,6]\n",
    "b={i for i in a if i%2==0}\n",
    "print(b)"
   ]
  },
  {
   "cell_type": "code",
   "execution_count": 6,
   "id": "642d8f8c-eb42-4c59-b185-7b5fb09fab5c",
   "metadata": {},
   "outputs": [
    {
     "name": "stdout",
     "output_type": "stream",
     "text": [
      "[1, 4, 9, 16, 25, 36, 49, 64]\n"
     ]
    }
   ],
   "source": [
    "#for getting the square of the list\n",
    "a=[1,2,3,4,5,6,7,8]\n",
    "d=[i**2 for i in a]\n",
    "print(d)"
   ]
  },
  {
   "cell_type": "code",
   "execution_count": 7,
   "id": "493a6819-7075-4d10-a104-bb5196eeb8e7",
   "metadata": {},
   "outputs": [
    {
     "name": "stdout",
     "output_type": "stream",
     "text": [
      "[1, 8, 27, 64, 125, 216, 343, 512]\n"
     ]
    }
   ],
   "source": [
    "#for getting the cube of the list\n",
    "a=[1,2,3,4,5,6,7,8]\n",
    "d=[i**3 for i in a]\n",
    "print(d)"
   ]
  },
  {
   "cell_type": "code",
   "execution_count": 8,
   "id": "6a5e34af-bb38-4398-96f7-d6cb8eacf3df",
   "metadata": {},
   "outputs": [
    {
     "name": "stdout",
     "output_type": "stream",
     "text": [
      "[0, 4, 16, 36, 64]\n"
     ]
    }
   ],
   "source": [
    "#for getting the square of the list in even :\n",
    "a=[1,2,3,4,5,6,7,8]\n",
    "d=[i**2 for i in range(9) if i%2 ==0]\n",
    "print(d)"
   ]
  },
  {
   "cell_type": "code",
   "execution_count": 9,
   "id": "8505db41-dda7-45bf-9757-14a7859ba820",
   "metadata": {},
   "outputs": [
    {
     "name": "stdout",
     "output_type": "stream",
     "text": [
      "[33.8, 35.6, 37.4, 39.2, 41.0, 42.8, 44.6, 46.4]\n"
     ]
    }
   ],
   "source": [
    "#for getting the celcius of the list\n",
    "a=[1,2,3,4,5,6,7,8]\n",
    "d=[(9/5)*i +32 for i in a]\n",
    "print(d)"
   ]
  },
  {
   "cell_type": "code",
   "execution_count": 10,
   "id": "18b898b2-6168-403e-b8fd-510693bf2e37",
   "metadata": {},
   "outputs": [
    {
     "name": "stdout",
     "output_type": "stream",
     "text": [
      "[33.8, 35.6, 37.4, 39.2, 41.0, 42.8, 44.6, 46.4]\n"
     ]
    }
   ],
   "source": [
    "#another method for getting the celcius\n",
    "d=[(9/5)*i +32 for i in [1,2,3,4,5,6,7,8] ]\n",
    "print(d)"
   ]
  },
  {
   "cell_type": "code",
   "execution_count": 11,
   "id": "cc6625b9-a987-4ff6-b664-a3a2450ab059",
   "metadata": {},
   "outputs": [
    {
     "name": "stdout",
     "output_type": "stream",
     "text": [
      "{1: 33.8, 2: 35.6, 3: 37.4, 4: 39.2, 5: 41.0, 6: 42.8, 7: 44.6, 8: 46.4}\n"
     ]
    }
   ],
   "source": [
    "#creat dictonary by using comprehension:\n",
    "a=[1,2,3,4,5,6,7,8]\n",
    "temp_dict={i:(9/5)*i +32 for i in a}\n",
    "print(temp_dict)"
   ]
  },
  {
   "cell_type": "code",
   "execution_count": 14,
   "id": "94256b1d-faa7-48f1-b8c2-04b7d0b0fb1c",
   "metadata": {},
   "outputs": [
    {
     "data": {
      "text/plain": [
       "{1: 33.8, 2: 35.6, 3: 37.4, 4: 39.2, 5: 41.0, 6: 42.8, 7: 44.6, 8: 46.4}"
      ]
     },
     "execution_count": 14,
     "metadata": {},
     "output_type": "execute_result"
    }
   ],
   "source": [
    "#another method creating dictonary by using comprehension\n",
    "dict={i:j for i,j in zip(a,d)}\n",
    "dict"
   ]
  },
  {
   "cell_type": "code",
   "execution_count": null,
   "id": "60b1c5f9-9c8f-4dcc-9ba6-e58e47bed87e",
   "metadata": {},
   "outputs": [],
   "source": []
  }
 ],
 "metadata": {
  "kernelspec": {
   "display_name": "Python 3 (ipykernel)",
   "language": "python",
   "name": "python3"
  },
  "language_info": {
   "codemirror_mode": {
    "name": "ipython",
    "version": 3
   },
   "file_extension": ".py",
   "mimetype": "text/x-python",
   "name": "python",
   "nbconvert_exporter": "python",
   "pygments_lexer": "ipython3",
   "version": "3.12.4"
  }
 },
 "nbformat": 4,
 "nbformat_minor": 5
}
