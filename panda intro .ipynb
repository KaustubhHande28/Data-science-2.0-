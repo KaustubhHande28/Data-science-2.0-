{
 "cells": [
  {
   "cell_type": "code",
   "execution_count": 1,
   "id": "3db43b62-875d-4a6f-8ef1-33a9cc79ab64",
   "metadata": {},
   "outputs": [
    {
     "name": "stdout",
     "output_type": "stream",
     "text": [
      "Requirement already satisfied: pandas in c:\\users\\kaustubh hande\\anaconda3\\lib\\site-packages (2.2.2)\n",
      "Requirement already satisfied: numpy>=1.26.0 in c:\\users\\kaustubh hande\\anaconda3\\lib\\site-packages (from pandas) (1.26.4)\n",
      "Requirement already satisfied: python-dateutil>=2.8.2 in c:\\users\\kaustubh hande\\anaconda3\\lib\\site-packages (from pandas) (2.9.0.post0)\n",
      "Requirement already satisfied: pytz>=2020.1 in c:\\users\\kaustubh hande\\anaconda3\\lib\\site-packages (from pandas) (2024.1)\n",
      "Requirement already satisfied: tzdata>=2022.7 in c:\\users\\kaustubh hande\\anaconda3\\lib\\site-packages (from pandas) (2023.3)\n",
      "Requirement already satisfied: six>=1.5 in c:\\users\\kaustubh hande\\anaconda3\\lib\\site-packages (from python-dateutil>=2.8.2->pandas) (1.16.0)\n"
     ]
    }
   ],
   "source": [
    "!pip install pandas"
   ]
  },
  {
   "cell_type": "code",
   "execution_count": 2,
   "id": "92fea5cc-46bd-4ba9-8be8-7665448482a3",
   "metadata": {},
   "outputs": [],
   "source": [
    "import pandas as pd "
   ]
  },
  {
   "cell_type": "code",
   "execution_count": 6,
   "id": "a065ca80-53e4-4b71-9476-23aba8c11569",
   "metadata": {},
   "outputs": [
    {
     "data": {
      "text/plain": [
       "0    4\n",
       "1    2\n",
       "2    3\n",
       "3    4\n",
       "4    5\n",
       "dtype: int64"
      ]
     },
     "execution_count": 6,
     "metadata": {},
     "output_type": "execute_result"
    }
   ],
   "source": [
    "#series : it is a class which should be in capital \n",
    "from pandas import Series,DataFrame\n",
    "obj_1= pd.Series([4,2,3,4,5])#bydefault it takes index from 0 \n",
    "obj_1"
   ]
  },
  {
   "cell_type": "code",
   "execution_count": 8,
   "id": "75f90981-0df8-4ecc-837a-d14f76c82bff",
   "metadata": {},
   "outputs": [
    {
     "data": {
      "text/plain": [
       "april     4\n",
       "may       2\n",
       "june      3\n",
       "july      4\n",
       "august    5\n",
       "dtype: int64"
      ]
     },
     "execution_count": 8,
     "metadata": {},
     "output_type": "execute_result"
    }
   ],
   "source": [
    "#if we want months at bydefault index\n",
    "obj_1= pd.Series([4,2,3,4,5],index=['april','may','june','july','august'])\n",
    "obj_1"
   ]
  },
  {
   "cell_type": "code",
   "execution_count": 12,
   "id": "b81d1347-0a39-4f7f-99f9-e299f578384f",
   "metadata": {},
   "outputs": [
    {
     "data": {
      "text/plain": [
       "array([4, 2, 3, 4, 5], dtype=int64)"
      ]
     },
     "execution_count": 12,
     "metadata": {},
     "output_type": "execute_result"
    }
   ],
   "source": [
    "#this are the atributes which doesnot need the'()' brackets\n",
    "obj_1.values "
   ]
  },
  {
   "cell_type": "code",
   "execution_count": 13,
   "id": "38ad7ebb-7473-4df5-8775-0a8948548583",
   "metadata": {},
   "outputs": [
    {
     "data": {
      "text/plain": [
       "Index(['april', 'may', 'june', 'july', 'august'], dtype='object')"
      ]
     },
     "execution_count": 13,
     "metadata": {},
     "output_type": "execute_result"
    }
   ],
   "source": [
    "#this are the atributes which doesnot need the'()' brackets\n",
    "obj_1.index"
   ]
  },
  {
   "cell_type": "code",
   "execution_count": 17,
   "id": "f71fb7ef-c70f-46c3-bc81-536d77ce5b14",
   "metadata": {},
   "outputs": [
    {
     "data": {
      "text/plain": [
       "4"
      ]
     },
     "execution_count": 17,
     "metadata": {},
     "output_type": "execute_result"
    }
   ],
   "source": [
    "#for checking the index value \n",
    "obj_1['april'] #indexing should call in '[]' brackets"
   ]
  },
  {
   "cell_type": "code",
   "execution_count": 22,
   "id": "5826abbe-85b6-488d-adf4-87008dbe4077",
   "metadata": {},
   "outputs": [
    {
     "data": {
      "text/plain": [
       "april     5\n",
       "may       2\n",
       "june      3\n",
       "july      4\n",
       "august    5\n",
       "dtype: int64"
      ]
     },
     "execution_count": 22,
     "metadata": {},
     "output_type": "execute_result"
    }
   ],
   "source": [
    "#we can update the index value\n",
    "obj_1['april']=5\n",
    "obj_1"
   ]
  },
  {
   "cell_type": "code",
   "execution_count": 23,
   "id": "f08c29d4-bc68-49cd-bae5-3448b0c5ff2d",
   "metadata": {},
   "outputs": [
    {
     "name": "stdout",
     "output_type": "stream",
     "text": [
      "april     5\n",
      "july      4\n",
      "august    5\n",
      "dtype: int64\n"
     ]
    }
   ],
   "source": [
    "#it is a condition to filter out \n",
    "print(obj_1[obj_1 >=4])"
   ]
  },
  {
   "cell_type": "code",
   "execution_count": 24,
   "id": "bc51c269-b732-42a2-90f7-da2ba632f6dc",
   "metadata": {},
   "outputs": [],
   "source": [
    "a=pd.Series([20,30,40,50,60],index=['kaustubh','sahil','jay','prajwal','sujit'])"
   ]
  },
  {
   "cell_type": "code",
   "execution_count": 25,
   "id": "53d3f647-60cf-45e3-baae-779105399e84",
   "metadata": {},
   "outputs": [
    {
     "data": {
      "text/plain": [
       "kaustubh    20\n",
       "sahil       30\n",
       "jay         40\n",
       "prajwal     50\n",
       "sujit       60\n",
       "dtype: int64"
      ]
     },
     "execution_count": 25,
     "metadata": {},
     "output_type": "execute_result"
    }
   ],
   "source": [
    "a"
   ]
  },
  {
   "cell_type": "code",
   "execution_count": 26,
   "id": "4187c7cf-acd9-4136-ad82-75847f02790d",
   "metadata": {},
   "outputs": [
    {
     "data": {
      "text/plain": [
       "Index(['kaustubh', 'sahil', 'jay', 'prajwal', 'sujit'], dtype='object')"
      ]
     },
     "execution_count": 26,
     "metadata": {},
     "output_type": "execute_result"
    }
   ],
   "source": [
    "a.index"
   ]
  },
  {
   "cell_type": "code",
   "execution_count": 27,
   "id": "ca4b1d6c-60e5-40ca-8635-9bace3d8c98a",
   "metadata": {},
   "outputs": [
    {
     "data": {
      "text/plain": [
       "array([20, 30, 40, 50, 60], dtype=int64)"
      ]
     },
     "execution_count": 27,
     "metadata": {},
     "output_type": "execute_result"
    }
   ],
   "source": [
    "a.values"
   ]
  },
  {
   "cell_type": "code",
   "execution_count": 29,
   "id": "1883c2aa-19c7-4aca-aa9b-c32f4233d72e",
   "metadata": {},
   "outputs": [
    {
     "data": {
      "text/plain": [
       "30"
      ]
     },
     "execution_count": 29,
     "metadata": {},
     "output_type": "execute_result"
    }
   ],
   "source": [
    "a['sahil']"
   ]
  },
  {
   "cell_type": "code",
   "execution_count": 30,
   "id": "523c9eee-42e6-4054-8548-5d8bd20f186d",
   "metadata": {},
   "outputs": [
    {
     "name": "stdout",
     "output_type": "stream",
     "text": [
      "kaustubh    20\n",
      "sahil       30\n",
      "jay         40\n",
      "dtype: int64\n"
     ]
    }
   ],
   "source": [
    "print(a[a<=40])"
   ]
  },
  {
   "cell_type": "code",
   "execution_count": 31,
   "id": "15f8b909-376e-4b6f-b321-0a7d430098c6",
   "metadata": {},
   "outputs": [
    {
     "data": {
      "text/plain": [
       "kaustubh     4.0\n",
       "sahil        6.0\n",
       "jay          8.0\n",
       "prajwal     10.0\n",
       "sujit       12.0\n",
       "dtype: float64"
      ]
     },
     "execution_count": 31,
     "metadata": {},
     "output_type": "execute_result"
    }
   ],
   "source": [
    "#it multiply the values of the given\n",
    "obj_2=a*0.20\n",
    "obj_2"
   ]
  },
  {
   "cell_type": "code",
   "execution_count": 32,
   "id": "791778cb-52ff-496f-91d5-a55ce63bfd88",
   "metadata": {},
   "outputs": [],
   "source": [
    "import numpy as np"
   ]
  },
  {
   "cell_type": "code",
   "execution_count": 34,
   "id": "22cf902a-e66a-4d8d-815c-497f08316c90",
   "metadata": {},
   "outputs": [
    {
     "data": {
      "text/plain": [
       "kaustubh        54.598150\n",
       "sahil          403.428793\n",
       "jay           2980.957987\n",
       "prajwal      22026.465795\n",
       "sujit       162754.791419\n",
       "dtype: float64"
      ]
     },
     "execution_count": 34,
     "metadata": {},
     "output_type": "execute_result"
    }
   ],
   "source": [
    "# e mostly used for exponent and log\n",
    "obj_3=np.exp(obj_2)\n",
    "obj_3"
   ]
  },
  {
   "cell_type": "code",
   "execution_count": 36,
   "id": "2d53a0a5-7719-4a34-89ed-8dec0b630abe",
   "metadata": {},
   "outputs": [
    {
     "data": {
      "text/plain": [
       "False"
      ]
     },
     "execution_count": 36,
     "metadata": {},
     "output_type": "execute_result"
    }
   ],
   "source": [
    "#checks the index of series \n",
    "'jan' in obj_1"
   ]
  },
  {
   "cell_type": "code",
   "execution_count": 38,
   "id": "bf5d09ee-cd66-4a7c-9678-5357f6e1f444",
   "metadata": {},
   "outputs": [
    {
     "data": {
      "text/plain": [
       "True"
      ]
     },
     "execution_count": 38,
     "metadata": {},
     "output_type": "execute_result"
    }
   ],
   "source": [
    "#checks the value of series\n",
    "5 in obj_1.values"
   ]
  },
  {
   "cell_type": "markdown",
   "id": "7354b8b3-57fe-4b07-ba20-484b19687525",
   "metadata": {},
   "source": [
    "### Connection between Dictionaries and Series in pandas"
   ]
  },
  {
   "cell_type": "code",
   "execution_count": 39,
   "id": "2e24bb93-3199-46a1-87f4-394342e7a2e1",
   "metadata": {},
   "outputs": [],
   "source": [
    "dict_1={'A':50,'B':70,'C':80,'D':100,'E':67}"
   ]
  },
  {
   "cell_type": "code",
   "execution_count": 40,
   "id": "5e804304-0210-446b-a145-ad9411707231",
   "metadata": {},
   "outputs": [
    {
     "data": {
      "text/plain": [
       "A     50\n",
       "B     70\n",
       "C     80\n",
       "D    100\n",
       "E     67\n",
       "dtype: int64"
      ]
     },
     "execution_count": 40,
     "metadata": {},
     "output_type": "execute_result"
    }
   ],
   "source": [
    "obj_4 = pd.Series(dict_1)\n",
    "obj_4"
   ]
  },
  {
   "cell_type": "code",
   "execution_count": 43,
   "id": "3f63e063-e3f9-4943-a8b7-74990e5fb266",
   "metadata": {},
   "outputs": [
    {
     "data": {
      "text/plain": [
       "1     50\n",
       "2     70\n",
       "3     80\n",
       "4    100\n",
       "5     67\n",
       "dtype: int64"
      ]
     },
     "execution_count": 43,
     "metadata": {},
     "output_type": "execute_result"
    }
   ],
   "source": [
    "#for changing the indexing of series\n",
    "index_name=[1,2,3,4,5]\n",
    "obj_4.index=index_name\n",
    "obj_4"
   ]
  },
  {
   "cell_type": "code",
   "execution_count": 44,
   "id": "b6b185af-1a7e-4593-a753-a21812cb1460",
   "metadata": {},
   "outputs": [
    {
     "data": {
      "text/plain": [
       "B     70\n",
       "C     80\n",
       "D    100\n",
       "A     50\n",
       "dtype: int64"
      ]
     },
     "execution_count": 44,
     "metadata": {},
     "output_type": "execute_result"
    }
   ],
   "source": [
    "#if we want to replace the original value of index\n",
    "index_name2=['B','C','D','A']\n",
    "obj_5=pd.Series(dict_1, index =index_name2)\n",
    "obj_5"
   ]
  },
  {
   "cell_type": "code",
   "execution_count": 47,
   "id": "a4ffa983-b4e0-4a43-88d7-d15a5565f0ef",
   "metadata": {},
   "outputs": [
    {
     "data": {
      "text/plain": [
       "B    False\n",
       "C    False\n",
       "D    False\n",
       "A    False\n",
       "dtype: bool"
      ]
     },
     "execution_count": 47,
     "metadata": {},
     "output_type": "execute_result"
    }
   ],
   "source": [
    "#for checking the series is null or not ; null is denoted by 'NAN'\n",
    "pd.isnull(obj_5)="
   ]
  },
  {
   "cell_type": "code",
   "execution_count": 48,
   "id": "d8cbcc21-96c9-4060-9462-bd99daef11d4",
   "metadata": {},
   "outputs": [
    {
     "data": {
      "text/plain": [
       "B    True\n",
       "C    True\n",
       "D    True\n",
       "A    True\n",
       "dtype: bool"
      ]
     },
     "execution_count": 48,
     "metadata": {},
     "output_type": "execute_result"
    }
   ],
   "source": [
    "pd.notnull(obj_5)"
   ]
  },
  {
   "cell_type": "code",
   "execution_count": 49,
   "id": "ef06bc90-8c66-45da-92f0-7420ba3048f7",
   "metadata": {},
   "outputs": [
    {
     "data": {
      "text/plain": [
       "B     50\n",
       "C     70\n",
       "D     80\n",
       "E    100\n",
       "F     67\n",
       "dtype: int64"
      ]
     },
     "execution_count": 49,
     "metadata": {},
     "output_type": "execute_result"
    }
   ],
   "source": [
    "obj_4"
   ]
  },
  {
   "cell_type": "code",
   "execution_count": 50,
   "id": "7a76ab7b-6671-4c14-98d7-16142a7a6810",
   "metadata": {},
   "outputs": [
    {
     "data": {
      "text/plain": [
       "A     50\n",
       "B     70\n",
       "C     80\n",
       "D    100\n",
       "E     67\n",
       "dtype: int64"
      ]
     },
     "execution_count": 50,
     "metadata": {},
     "output_type": "execute_result"
    }
   ],
   "source": [
    "obj_5=obj_4\n",
    "obj_5.index=['A','B','C','D','E']\n",
    "obj_5"
   ]
  },
  {
   "cell_type": "code",
   "execution_count": 51,
   "id": "2518b03f-91d3-4976-a0e9-dfcd8102ebcd",
   "metadata": {},
   "outputs": [
    {
     "data": {
      "text/plain": [
       "A    100\n",
       "B    140\n",
       "C    160\n",
       "D    200\n",
       "E    134\n",
       "dtype: int64"
      ]
     },
     "execution_count": 51,
     "metadata": {},
     "output_type": "execute_result"
    }
   ],
   "source": [
    "#add the value of the series\n",
    "obj_9=obj_4+obj_5\n",
    "obj_9"
   ]
  },
  {
   "cell_type": "code",
   "execution_count": 53,
   "id": "50528bab-ac86-4b68-b724-021a8373e6b0",
   "metadata": {},
   "outputs": [
    {
     "data": {
      "text/plain": [
       "A    100\n",
       "B    140\n",
       "C    160\n",
       "D    200\n",
       "E    134\n",
       "dtype: int64"
      ]
     },
     "execution_count": 53,
     "metadata": {},
     "output_type": "execute_result"
    }
   ],
   "source": [
    "#bydefault it takes 1st five values\n",
    "obj_9.head()"
   ]
  },
  {
   "cell_type": "code",
   "execution_count": 54,
   "id": "fc90596d-5fef-4695-81ba-c95f5e761338",
   "metadata": {},
   "outputs": [
    {
     "data": {
      "text/plain": [
       "A    100\n",
       "B    140\n",
       "dtype: int64"
      ]
     },
     "execution_count": 54,
     "metadata": {},
     "output_type": "execute_result"
    }
   ],
   "source": [
    "obj_9.head(2)"
   ]
  },
  {
   "cell_type": "code",
   "execution_count": 56,
   "id": "53871420-964c-4e52-9f73-042b8d184046",
   "metadata": {},
   "outputs": [
    {
     "data": {
      "text/plain": [
       "D    200\n",
       "E    134\n",
       "dtype: int64"
      ]
     },
     "execution_count": 56,
     "metadata": {},
     "output_type": "execute_result"
    }
   ],
   "source": [
    "obj_9.tail(2)"
   ]
  },
  {
   "cell_type": "code",
   "execution_count": 58,
   "id": "3f00fef9-77f7-4e8f-83ad-5c841e74af56",
   "metadata": {},
   "outputs": [
    {
     "data": {
      "text/plain": [
       "Student Name\n",
       "A     50\n",
       "B     70\n",
       "C     80\n",
       "D    100\n",
       "E     67\n",
       "Name: marks, dtype: int64"
      ]
     },
     "execution_count": 58,
     "metadata": {},
     "output_type": "execute_result"
    }
   ],
   "source": [
    "obj_4.index.name=\"Student Name\"\n",
    "obj_4.name=\"marks\"\n",
    "obj_4"
   ]
  },
  {
   "cell_type": "code",
   "execution_count": 61,
   "id": "d039bf26-f978-4529-a5b5-ccaf9a0bdbe8",
   "metadata": {},
   "outputs": [
    {
     "data": {
      "text/plain": [
       "0     Ana\n",
       "4    Anne\n",
       "dtype: object"
      ]
     },
     "execution_count": 61,
     "metadata": {},
     "output_type": "execute_result"
    }
   ],
   "source": [
    "student_name= pd.Series(['Ana','Eve','Chris','Della','Anne'])\n",
    "student_name_filter=student_name[student_name.str.startswith(\"A\")]\n",
    "student_name_filter"
   ]
  },
  {
   "cell_type": "markdown",
   "id": "6a8a16a0-0b2a-4169-a6da-b0f825892a8b",
   "metadata": {},
   "source": [
    "### Reindexing "
   ]
  },
  {
   "cell_type": "code",
   "execution_count": 2,
   "id": "cb47072f-7379-497a-89e3-68ae1789eb58",
   "metadata": {},
   "outputs": [],
   "source": [
    "import pandas as pd\n",
    "import numpy as np"
   ]
  },
  {
   "cell_type": "code",
   "execution_count": 3,
   "id": "2f38e7dd-e449-43ae-bec5-bf801e3f06a2",
   "metadata": {},
   "outputs": [
    {
     "data": {
      "text/plain": [
       "a    10\n",
       "b    20\n",
       "c    30\n",
       "d    40\n",
       "dtype: int64"
      ]
     },
     "execution_count": 3,
     "metadata": {},
     "output_type": "execute_result"
    }
   ],
   "source": [
    "series=pd.Series([10,20,30,40],index=['a','b','c','d'])\n",
    "series"
   ]
  },
  {
   "cell_type": "code",
   "execution_count": 4,
   "id": "5ea44bc3-b6b6-460d-bd0c-2968f080ea24",
   "metadata": {},
   "outputs": [
    {
     "data": {
      "text/plain": [
       "d    40\n",
       "c    30\n",
       "a    10\n",
       "b    20\n",
       "dtype: int64"
      ]
     },
     "execution_count": 4,
     "metadata": {},
     "output_type": "execute_result"
    }
   ],
   "source": [
    "#reindex : used to shuffling the row & by defult it fills null value\n",
    "'''\n",
    "if we will take another index which  is not a part of index \n",
    "then it will show null value and data type will be flot bydefualt\n",
    "'''\n",
    "series_1=series.reindex( index=['d','c','a','b'])\n",
    "series_1\n"
   ]
  },
  {
   "cell_type": "code",
   "execution_count": 5,
   "id": "72757601-6ec7-4b70-a39a-1b292b63be99",
   "metadata": {},
   "outputs": [
    {
     "data": {
      "text/plain": [
       "0     10\n",
       "3     20\n",
       "9     30\n",
       "12    40\n",
       "dtype: int64"
      ]
     },
     "execution_count": 5,
     "metadata": {},
     "output_type": "execute_result"
    }
   ],
   "source": [
    "series_2=pd.Series([10,20,30,40],index=[0,3,9,12])\n",
    "series_2"
   ]
  },
  {
   "cell_type": "code",
   "execution_count": 6,
   "id": "1afe6d9f-f4cb-4332-af78-59008e52148c",
   "metadata": {},
   "outputs": [
    {
     "data": {
      "text/plain": [
       "0     10.0\n",
       "1      NaN\n",
       "2      NaN\n",
       "3     20.0\n",
       "4      NaN\n",
       "5      NaN\n",
       "6      NaN\n",
       "7      NaN\n",
       "8      NaN\n",
       "9     30.0\n",
       "10     NaN\n",
       "11     NaN\n",
       "12    40.0\n",
       "dtype: float64"
      ]
     },
     "execution_count": 6,
     "metadata": {},
     "output_type": "execute_result"
    }
   ],
   "source": [
    "#reindex in range is return no.of range upto index 13 & return value which is given otherwise it will return null value \n",
    "series_3=series_2.reindex(range(13))\n",
    "series_3"
   ]
  },
  {
   "cell_type": "code",
   "execution_count": 7,
   "id": "18fa97e0-76bb-41da-9dc6-212fffc106bf",
   "metadata": {},
   "outputs": [
    {
     "data": {
      "text/plain": [
       "0     10\n",
       "1     10\n",
       "2     10\n",
       "3     20\n",
       "4     20\n",
       "5     20\n",
       "6     20\n",
       "7     20\n",
       "8     20\n",
       "9     30\n",
       "10    30\n",
       "11    30\n",
       "12    40\n",
       "dtype: int64"
      ]
     },
     "execution_count": 7,
     "metadata": {},
     "output_type": "execute_result"
    }
   ],
   "source": [
    "#reindex: it is having method for filling the null value.\n",
    "'''\n",
    "ffill:-forward filling\n",
    "bfill:- backward filling\n",
    "'''\n",
    "series_4=series_2.reindex(range(13),method='ffill')\n",
    "series_4 #forward filling"
   ]
  },
  {
   "cell_type": "code",
   "execution_count": 8,
   "id": "f4843ce3-9246-4c92-958f-dc88852657c1",
   "metadata": {},
   "outputs": [
    {
     "data": {
      "text/plain": [
       "0     10\n",
       "1     20\n",
       "2     20\n",
       "3     20\n",
       "4     30\n",
       "5     30\n",
       "6     30\n",
       "7     30\n",
       "8     30\n",
       "9     30\n",
       "10    40\n",
       "11    40\n",
       "12    40\n",
       "dtype: int64"
      ]
     },
     "execution_count": 8,
     "metadata": {},
     "output_type": "execute_result"
    }
   ],
   "source": [
    "series_4=series_2.reindex(range(13),method='bfill')\n",
    "series_4 #backward filling"
   ]
  },
  {
   "cell_type": "markdown",
   "id": "8c714db4-0791-4c2e-994b-3e9fc90630ef",
   "metadata": {},
   "source": [
    "### when numpy and pandas work togheter "
   ]
  },
  {
   "cell_type": "code",
   "execution_count": 24,
   "id": "bbcd5da9-4749-415f-bfc4-65aa66520a11",
   "metadata": {},
   "outputs": [
    {
     "data": {
      "text/html": [
       "<div>\n",
       "<style scoped>\n",
       "    .dataframe tbody tr th:only-of-type {\n",
       "        vertical-align: middle;\n",
       "    }\n",
       "\n",
       "    .dataframe tbody tr th {\n",
       "        vertical-align: top;\n",
       "    }\n",
       "\n",
       "    .dataframe thead th {\n",
       "        text-align: right;\n",
       "    }\n",
       "</style>\n",
       "<table border=\"1\" class=\"dataframe\">\n",
       "  <thead>\n",
       "    <tr style=\"text-align: right;\">\n",
       "      <th></th>\n",
       "      <th>one</th>\n",
       "      <th>two</th>\n",
       "      <th>three</th>\n",
       "      <th>four</th>\n",
       "    </tr>\n",
       "  </thead>\n",
       "  <tbody>\n",
       "    <tr>\n",
       "      <th>ohio</th>\n",
       "      <td>0</td>\n",
       "      <td>1</td>\n",
       "      <td>2</td>\n",
       "      <td>3</td>\n",
       "    </tr>\n",
       "    <tr>\n",
       "      <th>colorado</th>\n",
       "      <td>4</td>\n",
       "      <td>5</td>\n",
       "      <td>6</td>\n",
       "      <td>7</td>\n",
       "    </tr>\n",
       "    <tr>\n",
       "      <th>utah</th>\n",
       "      <td>8</td>\n",
       "      <td>9</td>\n",
       "      <td>10</td>\n",
       "      <td>11</td>\n",
       "    </tr>\n",
       "    <tr>\n",
       "      <th>New York</th>\n",
       "      <td>12</td>\n",
       "      <td>13</td>\n",
       "      <td>14</td>\n",
       "      <td>15</td>\n",
       "    </tr>\n",
       "  </tbody>\n",
       "</table>\n",
       "</div>"
      ],
      "text/plain": [
       "          one  two  three  four\n",
       "ohio        0    1      2     3\n",
       "colorado    4    5      6     7\n",
       "utah        8    9     10    11\n",
       "New York   12   13     14    15"
      ]
     },
     "execution_count": 24,
     "metadata": {},
     "output_type": "execute_result"
    }
   ],
   "source": [
    "df=pd.DataFrame(np.arange(16).reshape((4,4)),index=['ohio','colorado','utah','New York'],columns=['one','two','three','four'])\n",
    "df"
   ]
  },
  {
   "cell_type": "code",
   "execution_count": 25,
   "id": "718d5ee8-78d8-44f2-b2a8-a194a51de83f",
   "metadata": {},
   "outputs": [
    {
     "data": {
      "text/plain": [
       "ohio         1\n",
       "colorado     5\n",
       "utah         9\n",
       "New York    13\n",
       "Name: two, dtype: int32"
      ]
     },
     "execution_count": 25,
     "metadata": {},
     "output_type": "execute_result"
    }
   ],
   "source": [
    "df['two']"
   ]
  },
  {
   "cell_type": "code",
   "execution_count": 26,
   "id": "84c6750d-f19e-4d33-acc0-77289bd7c5b3",
   "metadata": {},
   "outputs": [
    {
     "data": {
      "text/html": [
       "<div>\n",
       "<style scoped>\n",
       "    .dataframe tbody tr th:only-of-type {\n",
       "        vertical-align: middle;\n",
       "    }\n",
       "\n",
       "    .dataframe tbody tr th {\n",
       "        vertical-align: top;\n",
       "    }\n",
       "\n",
       "    .dataframe thead th {\n",
       "        text-align: right;\n",
       "    }\n",
       "</style>\n",
       "<table border=\"1\" class=\"dataframe\">\n",
       "  <thead>\n",
       "    <tr style=\"text-align: right;\">\n",
       "      <th></th>\n",
       "      <th>two</th>\n",
       "      <th>three</th>\n",
       "    </tr>\n",
       "  </thead>\n",
       "  <tbody>\n",
       "    <tr>\n",
       "      <th>ohio</th>\n",
       "      <td>1</td>\n",
       "      <td>2</td>\n",
       "    </tr>\n",
       "    <tr>\n",
       "      <th>colorado</th>\n",
       "      <td>5</td>\n",
       "      <td>6</td>\n",
       "    </tr>\n",
       "    <tr>\n",
       "      <th>utah</th>\n",
       "      <td>9</td>\n",
       "      <td>10</td>\n",
       "    </tr>\n",
       "    <tr>\n",
       "      <th>New York</th>\n",
       "      <td>13</td>\n",
       "      <td>14</td>\n",
       "    </tr>\n",
       "  </tbody>\n",
       "</table>\n",
       "</div>"
      ],
      "text/plain": [
       "          two  three\n",
       "ohio        1      2\n",
       "colorado    5      6\n",
       "utah        9     10\n",
       "New York   13     14"
      ]
     },
     "execution_count": 26,
     "metadata": {},
     "output_type": "execute_result"
    }
   ],
   "source": [
    "df[['two','three']]"
   ]
  },
  {
   "cell_type": "code",
   "execution_count": 27,
   "id": "8e9d10da-23cd-42ff-b52b-af8d18b3bfe6",
   "metadata": {},
   "outputs": [
    {
     "data": {
      "text/plain": [
       "1"
      ]
     },
     "execution_count": 27,
     "metadata": {},
     "output_type": "execute_result"
    }
   ],
   "source": [
    "#when you have to call both row and column then :-\n",
    "df['two']['ohio']"
   ]
  },
  {
   "cell_type": "code",
   "execution_count": 28,
   "id": "d2945b94-2762-461b-8ad4-b40ca08d3be7",
   "metadata": {},
   "outputs": [
    {
     "data": {
      "text/html": [
       "<div>\n",
       "<style scoped>\n",
       "    .dataframe tbody tr th:only-of-type {\n",
       "        vertical-align: middle;\n",
       "    }\n",
       "\n",
       "    .dataframe tbody tr th {\n",
       "        vertical-align: top;\n",
       "    }\n",
       "\n",
       "    .dataframe thead th {\n",
       "        text-align: right;\n",
       "    }\n",
       "</style>\n",
       "<table border=\"1\" class=\"dataframe\">\n",
       "  <thead>\n",
       "    <tr style=\"text-align: right;\">\n",
       "      <th></th>\n",
       "      <th>one</th>\n",
       "      <th>two</th>\n",
       "      <th>three</th>\n",
       "      <th>four</th>\n",
       "    </tr>\n",
       "  </thead>\n",
       "  <tbody>\n",
       "    <tr>\n",
       "      <th>ohio</th>\n",
       "      <td>0</td>\n",
       "      <td>1</td>\n",
       "      <td>2</td>\n",
       "      <td>3</td>\n",
       "    </tr>\n",
       "    <tr>\n",
       "      <th>colorado</th>\n",
       "      <td>4</td>\n",
       "      <td>5</td>\n",
       "      <td>6</td>\n",
       "      <td>7</td>\n",
       "    </tr>\n",
       "  </tbody>\n",
       "</table>\n",
       "</div>"
      ],
      "text/plain": [
       "          one  two  three  four\n",
       "ohio        0    1      2     3\n",
       "colorado    4    5      6     7"
      ]
     },
     "execution_count": 28,
     "metadata": {},
     "output_type": "execute_result"
    }
   ],
   "source": [
    "a=df[:2]\n",
    "a"
   ]
  },
  {
   "cell_type": "code",
   "execution_count": 29,
   "id": "414fe595-3af8-4a52-9f4d-a8e9ee2f3056",
   "metadata": {},
   "outputs": [
    {
     "data": {
      "text/html": [
       "<div>\n",
       "<style scoped>\n",
       "    .dataframe tbody tr th:only-of-type {\n",
       "        vertical-align: middle;\n",
       "    }\n",
       "\n",
       "    .dataframe tbody tr th {\n",
       "        vertical-align: top;\n",
       "    }\n",
       "\n",
       "    .dataframe thead th {\n",
       "        text-align: right;\n",
       "    }\n",
       "</style>\n",
       "<table border=\"1\" class=\"dataframe\">\n",
       "  <thead>\n",
       "    <tr style=\"text-align: right;\">\n",
       "      <th></th>\n",
       "      <th>one</th>\n",
       "      <th>two</th>\n",
       "      <th>three</th>\n",
       "      <th>four</th>\n",
       "    </tr>\n",
       "  </thead>\n",
       "  <tbody>\n",
       "    <tr>\n",
       "      <th>ohio</th>\n",
       "      <td>0</td>\n",
       "      <td>1</td>\n",
       "      <td>2</td>\n",
       "      <td>3</td>\n",
       "    </tr>\n",
       "    <tr>\n",
       "      <th>colorado</th>\n",
       "      <td>4</td>\n",
       "      <td>5</td>\n",
       "      <td>6</td>\n",
       "      <td>7</td>\n",
       "    </tr>\n",
       "    <tr>\n",
       "      <th>utah</th>\n",
       "      <td>8</td>\n",
       "      <td>9</td>\n",
       "      <td>10</td>\n",
       "      <td>11</td>\n",
       "    </tr>\n",
       "    <tr>\n",
       "      <th>New York</th>\n",
       "      <td>12</td>\n",
       "      <td>13</td>\n",
       "      <td>14</td>\n",
       "      <td>15</td>\n",
       "    </tr>\n",
       "  </tbody>\n",
       "</table>\n",
       "</div>"
      ],
      "text/plain": [
       "          one  two  three  four\n",
       "ohio        0    1      2     3\n",
       "colorado    4    5      6     7\n",
       "utah        8    9     10    11\n",
       "New York   12   13     14    15"
      ]
     },
     "execution_count": 29,
     "metadata": {},
     "output_type": "execute_result"
    }
   ],
   "source": [
    "df"
   ]
  },
  {
   "cell_type": "code",
   "execution_count": 31,
   "id": "a77aba36-4361-43b3-8912-11cd455902ab",
   "metadata": {},
   "outputs": [
    {
     "data": {
      "text/html": [
       "<div>\n",
       "<style scoped>\n",
       "    .dataframe tbody tr th:only-of-type {\n",
       "        vertical-align: middle;\n",
       "    }\n",
       "\n",
       "    .dataframe tbody tr th {\n",
       "        vertical-align: top;\n",
       "    }\n",
       "\n",
       "    .dataframe thead th {\n",
       "        text-align: right;\n",
       "    }\n",
       "</style>\n",
       "<table border=\"1\" class=\"dataframe\">\n",
       "  <thead>\n",
       "    <tr style=\"text-align: right;\">\n",
       "      <th></th>\n",
       "      <th>one</th>\n",
       "      <th>two</th>\n",
       "      <th>three</th>\n",
       "      <th>four</th>\n",
       "    </tr>\n",
       "  </thead>\n",
       "  <tbody>\n",
       "    <tr>\n",
       "      <th>ohio</th>\n",
       "      <td>0</td>\n",
       "      <td>1</td>\n",
       "      <td>2</td>\n",
       "      <td>3</td>\n",
       "    </tr>\n",
       "    <tr>\n",
       "      <th>colorado</th>\n",
       "      <td>4</td>\n",
       "      <td>5</td>\n",
       "      <td>6</td>\n",
       "      <td>7</td>\n",
       "    </tr>\n",
       "  </tbody>\n",
       "</table>\n",
       "</div>"
      ],
      "text/plain": [
       "          one  two  three  four\n",
       "ohio        0    1      2     3\n",
       "colorado    4    5      6     7"
      ]
     },
     "execution_count": 31,
     "metadata": {},
     "output_type": "execute_result"
    }
   ],
   "source": [
    "df[df['four']<11]\n"
   ]
  },
  {
   "cell_type": "code",
   "execution_count": 32,
   "id": "77dc5c6b-7a53-4991-9c67-04cd282ac256",
   "metadata": {},
   "outputs": [
    {
     "data": {
      "text/html": [
       "<div>\n",
       "<style scoped>\n",
       "    .dataframe tbody tr th:only-of-type {\n",
       "        vertical-align: middle;\n",
       "    }\n",
       "\n",
       "    .dataframe tbody tr th {\n",
       "        vertical-align: top;\n",
       "    }\n",
       "\n",
       "    .dataframe thead th {\n",
       "        text-align: right;\n",
       "    }\n",
       "</style>\n",
       "<table border=\"1\" class=\"dataframe\">\n",
       "  <thead>\n",
       "    <tr style=\"text-align: right;\">\n",
       "      <th></th>\n",
       "      <th>one</th>\n",
       "      <th>two</th>\n",
       "      <th>three</th>\n",
       "      <th>four</th>\n",
       "    </tr>\n",
       "  </thead>\n",
       "  <tbody>\n",
       "    <tr>\n",
       "      <th>ohio</th>\n",
       "      <td>True</td>\n",
       "      <td>True</td>\n",
       "      <td>True</td>\n",
       "      <td>True</td>\n",
       "    </tr>\n",
       "    <tr>\n",
       "      <th>colorado</th>\n",
       "      <td>True</td>\n",
       "      <td>True</td>\n",
       "      <td>True</td>\n",
       "      <td>True</td>\n",
       "    </tr>\n",
       "    <tr>\n",
       "      <th>utah</th>\n",
       "      <td>True</td>\n",
       "      <td>True</td>\n",
       "      <td>True</td>\n",
       "      <td>False</td>\n",
       "    </tr>\n",
       "    <tr>\n",
       "      <th>New York</th>\n",
       "      <td>False</td>\n",
       "      <td>False</td>\n",
       "      <td>False</td>\n",
       "      <td>False</td>\n",
       "    </tr>\n",
       "  </tbody>\n",
       "</table>\n",
       "</div>"
      ],
      "text/plain": [
       "            one    two  three   four\n",
       "ohio       True   True   True   True\n",
       "colorado   True   True   True   True\n",
       "utah       True   True   True  False\n",
       "New York  False  False  False  False"
      ]
     },
     "execution_count": 32,
     "metadata": {},
     "output_type": "execute_result"
    }
   ],
   "source": [
    "df<11"
   ]
  },
  {
   "cell_type": "markdown",
   "id": "ce901b76-1de8-4bfa-9b2a-838a85869b10",
   "metadata": {},
   "source": [
    "### add two data frame"
   ]
  },
  {
   "cell_type": "code",
   "execution_count": 40,
   "id": "e1f1d614-2f44-4f79-a38e-81576760a64a",
   "metadata": {},
   "outputs": [
    {
     "name": "stdout",
     "output_type": "stream",
     "text": [
      "          one  two  three\n",
      "ohio        0    1      2\n",
      "colorado    3    4      5\n",
      "utah        6    7      8\n",
      "New York    9   10     11\n",
      "          one  two  three  four\n",
      "ohio        0    1      2     3\n",
      "colorado    4    5      6     7\n",
      "utah        8    9     10    11\n",
      "New York   12   13     14    15\n"
     ]
    }
   ],
   "source": [
    "df1=pd.DataFrame(np.arange(12).reshape((4,3)),index=['ohio','colorado','utah','New York'],columns=['one','two','three'])\n",
    "print(df1)\n",
    "print(df)"
   ]
  },
  {
   "cell_type": "code",
   "execution_count": 49,
   "id": "f7fe3471-222d-4cfa-8470-2a738d83d101",
   "metadata": {},
   "outputs": [
    {
     "data": {
      "text/html": [
       "<div>\n",
       "<style scoped>\n",
       "    .dataframe tbody tr th:only-of-type {\n",
       "        vertical-align: middle;\n",
       "    }\n",
       "\n",
       "    .dataframe tbody tr th {\n",
       "        vertical-align: top;\n",
       "    }\n",
       "\n",
       "    .dataframe thead th {\n",
       "        text-align: right;\n",
       "    }\n",
       "</style>\n",
       "<table border=\"1\" class=\"dataframe\">\n",
       "  <thead>\n",
       "    <tr style=\"text-align: right;\">\n",
       "      <th></th>\n",
       "      <th>four</th>\n",
       "      <th>one</th>\n",
       "      <th>three</th>\n",
       "      <th>two</th>\n",
       "    </tr>\n",
       "  </thead>\n",
       "  <tbody>\n",
       "    <tr>\n",
       "      <th>ohio</th>\n",
       "      <td>NaN</td>\n",
       "      <td>0</td>\n",
       "      <td>4</td>\n",
       "      <td>2</td>\n",
       "    </tr>\n",
       "    <tr>\n",
       "      <th>colorado</th>\n",
       "      <td>NaN</td>\n",
       "      <td>7</td>\n",
       "      <td>11</td>\n",
       "      <td>9</td>\n",
       "    </tr>\n",
       "    <tr>\n",
       "      <th>utah</th>\n",
       "      <td>NaN</td>\n",
       "      <td>14</td>\n",
       "      <td>18</td>\n",
       "      <td>16</td>\n",
       "    </tr>\n",
       "    <tr>\n",
       "      <th>New York</th>\n",
       "      <td>NaN</td>\n",
       "      <td>21</td>\n",
       "      <td>25</td>\n",
       "      <td>23</td>\n",
       "    </tr>\n",
       "  </tbody>\n",
       "</table>\n",
       "</div>"
      ],
      "text/plain": [
       "          four  one  three  two\n",
       "ohio       NaN    0      4    2\n",
       "colorado   NaN    7     11    9\n",
       "utah       NaN   14     18   16\n",
       "New York   NaN   21     25   23"
      ]
     },
     "execution_count": 49,
     "metadata": {},
     "output_type": "execute_result"
    }
   ],
   "source": [
    "df2=df1+df\n",
    "df2"
   ]
  },
  {
   "cell_type": "code",
   "execution_count": 45,
   "id": "868b0186-7067-4fb7-b5d1-6f937d636b60",
   "metadata": {},
   "outputs": [
    {
     "data": {
      "text/html": [
       "<div>\n",
       "<style scoped>\n",
       "    .dataframe tbody tr th:only-of-type {\n",
       "        vertical-align: middle;\n",
       "    }\n",
       "\n",
       "    .dataframe tbody tr th {\n",
       "        vertical-align: top;\n",
       "    }\n",
       "\n",
       "    .dataframe thead th {\n",
       "        text-align: right;\n",
       "    }\n",
       "</style>\n",
       "<table border=\"1\" class=\"dataframe\">\n",
       "  <thead>\n",
       "    <tr style=\"text-align: right;\">\n",
       "      <th></th>\n",
       "      <th>four</th>\n",
       "      <th>one</th>\n",
       "      <th>three</th>\n",
       "      <th>two</th>\n",
       "    </tr>\n",
       "  </thead>\n",
       "  <tbody>\n",
       "    <tr>\n",
       "      <th>ohio</th>\n",
       "      <td>3.0</td>\n",
       "      <td>0</td>\n",
       "      <td>4</td>\n",
       "      <td>2</td>\n",
       "    </tr>\n",
       "    <tr>\n",
       "      <th>colorado</th>\n",
       "      <td>7.0</td>\n",
       "      <td>7</td>\n",
       "      <td>11</td>\n",
       "      <td>9</td>\n",
       "    </tr>\n",
       "    <tr>\n",
       "      <th>utah</th>\n",
       "      <td>11.0</td>\n",
       "      <td>14</td>\n",
       "      <td>18</td>\n",
       "      <td>16</td>\n",
       "    </tr>\n",
       "    <tr>\n",
       "      <th>New York</th>\n",
       "      <td>15.0</td>\n",
       "      <td>21</td>\n",
       "      <td>25</td>\n",
       "      <td>23</td>\n",
       "    </tr>\n",
       "  </tbody>\n",
       "</table>\n",
       "</div>"
      ],
      "text/plain": [
       "          four  one  three  two\n",
       "ohio       3.0    0      4    2\n",
       "colorado   7.0    7     11    9\n",
       "utah      11.0   14     18   16\n",
       "New York  15.0   21     25   23"
      ]
     },
     "execution_count": 45,
     "metadata": {},
     "output_type": "execute_result"
    }
   ],
   "source": [
    "df5=df.add(df1,fill_value=0)\n",
    "df5"
   ]
  },
  {
   "cell_type": "code",
   "execution_count": 47,
   "id": "babc545e-9574-4590-b8f6-a7885592b2ca",
   "metadata": {},
   "outputs": [
    {
     "data": {
      "text/html": [
       "<div>\n",
       "<style scoped>\n",
       "    .dataframe tbody tr th:only-of-type {\n",
       "        vertical-align: middle;\n",
       "    }\n",
       "\n",
       "    .dataframe tbody tr th {\n",
       "        vertical-align: top;\n",
       "    }\n",
       "\n",
       "    .dataframe thead th {\n",
       "        text-align: right;\n",
       "    }\n",
       "</style>\n",
       "<table border=\"1\" class=\"dataframe\">\n",
       "  <thead>\n",
       "    <tr style=\"text-align: right;\">\n",
       "      <th></th>\n",
       "      <th>one</th>\n",
       "      <th>two</th>\n",
       "      <th>three</th>\n",
       "      <th>four</th>\n",
       "    </tr>\n",
       "  </thead>\n",
       "  <tbody>\n",
       "    <tr>\n",
       "      <th>ohio</th>\n",
       "      <td>0</td>\n",
       "      <td>1</td>\n",
       "      <td>4</td>\n",
       "      <td>9</td>\n",
       "    </tr>\n",
       "    <tr>\n",
       "      <th>colorado</th>\n",
       "      <td>16</td>\n",
       "      <td>25</td>\n",
       "      <td>36</td>\n",
       "      <td>49</td>\n",
       "    </tr>\n",
       "    <tr>\n",
       "      <th>utah</th>\n",
       "      <td>64</td>\n",
       "      <td>81</td>\n",
       "      <td>100</td>\n",
       "      <td>121</td>\n",
       "    </tr>\n",
       "    <tr>\n",
       "      <th>New York</th>\n",
       "      <td>144</td>\n",
       "      <td>169</td>\n",
       "      <td>196</td>\n",
       "      <td>225</td>\n",
       "    </tr>\n",
       "  </tbody>\n",
       "</table>\n",
       "</div>"
      ],
      "text/plain": [
       "          one  two  three  four\n",
       "ohio        0    1      4     9\n",
       "colorado   16   25     36    49\n",
       "utah       64   81    100   121\n",
       "New York  144  169    196   225"
      ]
     },
     "execution_count": 47,
     "metadata": {},
     "output_type": "execute_result"
    }
   ],
   "source": [
    "f=lambda x:x**2\n",
    "df.apply(f)"
   ]
  },
  {
   "cell_type": "code",
   "execution_count": 51,
   "id": "a2cfb810-3ddb-4858-8212-05323f307425",
   "metadata": {},
   "outputs": [
    {
     "data": {
      "text/plain": [
       "one      12\n",
       "two      12\n",
       "three    12\n",
       "four     12\n",
       "dtype: int64"
      ]
     },
     "execution_count": 51,
     "metadata": {},
     "output_type": "execute_result"
    }
   ],
   "source": [
    "f=lambda x:x.max()-x.min()\n",
    "df.apply(f)"
   ]
  },
  {
   "cell_type": "code",
   "execution_count": 55,
   "id": "d3420f24-7e3c-4ec1-b227-c635ad2c6805",
   "metadata": {},
   "outputs": [
    {
     "ename": "NameError",
     "evalue": "name 'minmax' is not defined",
     "output_type": "error",
     "traceback": [
      "\u001b[1;31m---------------------------------------------------------------------------\u001b[0m",
      "\u001b[1;31mNameError\u001b[0m                                 Traceback (most recent call last)",
      "Cell \u001b[1;32mIn[55], line 3\u001b[0m\n\u001b[0;32m      1\u001b[0m \u001b[38;5;28;01mdef\u001b[39;00m \u001b[38;5;21mf\u001b[39m(x):\n\u001b[0;32m      2\u001b[0m     \u001b[38;5;28;01mreturn\u001b[39;00m pd,series([x\u001b[38;5;241m.\u001b[39mmin(),x\u001b[38;5;241m.\u001b[39mmax()],index\u001b[38;5;241m=\u001b[39m[\u001b[38;5;124m'\u001b[39m\u001b[38;5;124mmin\u001b[39m\u001b[38;5;124m'\u001b[39m,\u001b[38;5;124m'\u001b[39m\u001b[38;5;124mmax\u001b[39m\u001b[38;5;124m'\u001b[39m])\n\u001b[1;32m----> 3\u001b[0m df1\u001b[38;5;241m.\u001b[39mapply (minmax)\n",
      "\u001b[1;31mNameError\u001b[0m: name 'minmax' is not defined"
     ]
    }
   ],
   "source": [
    "def f(x):\n",
    "    return pd,series([x.min(),x.max()],index=['min','max'])\n",
    "df1.apply (minmax)"
   ]
  },
  {
   "cell_type": "code",
   "execution_count": 58,
   "id": "fa307c0e-52d8-4088-b875-79bba035f3e8",
   "metadata": {},
   "outputs": [
    {
     "data": {
      "text/plain": [
       "d    1\n",
       "b    2\n",
       "c    3\n",
       "e    4\n",
       "f    5\n",
       "dtype: int64"
      ]
     },
     "execution_count": 58,
     "metadata": {},
     "output_type": "execute_result"
    }
   ],
   "source": [
    "series_1=pd.Series([1,2,3,4,5],index=['d','b','c','e','f'])\n",
    "sorted_series=series_1.sort_index()\n",
    "sorted_series_1 = series_1.sort_values()\n",
    "sorted_series_1 # by defualt sorting is done in the ascending order "
   ]
  },
  {
   "cell_type": "code",
   "execution_count": 62,
   "id": "06f4a139-13dc-4b4d-b5e0-47b1c1b7ca45",
   "metadata": {},
   "outputs": [
    {
     "data": {
      "text/plain": [
       "d    1\n",
       "b    2\n",
       "c    3\n",
       "e    4\n",
       "f    5\n",
       "dtype: int64"
      ]
     },
     "execution_count": 62,
     "metadata": {},
     "output_type": "execute_result"
    }
   ],
   "source": [
    "series_1=pd.Series([1,2,3,4,5],index=['d','b','c','e','f'])\n",
    "sorted_series=series_1.sort_index(ascending = False)\n",
    "sorted_series_1 = series_1.sort_values()\n",
    "sorted_series_1"
   ]
  },
  {
   "cell_type": "code",
   "execution_count": 63,
   "id": "de32d3bf-46c7-4715-8f72-7a8901c9f526",
   "metadata": {},
   "outputs": [],
   "source": [
    "df1=pd.DataFrame({'key':['k0','k1','k2'],'A':['A0','A1','A2']})"
   ]
  },
  {
   "cell_type": "code",
   "execution_count": null,
   "id": "21308a3b-58fd-4e6a-977c-54d3f96ddf02",
   "metadata": {},
   "outputs": [],
   "source": []
  }
 ],
 "metadata": {
  "kernelspec": {
   "display_name": "Python 3 (ipykernel)",
   "language": "python",
   "name": "python3"
  },
  "language_info": {
   "codemirror_mode": {
    "name": "ipython",
    "version": 3
   },
   "file_extension": ".py",
   "mimetype": "text/x-python",
   "name": "python",
   "nbconvert_exporter": "python",
   "pygments_lexer": "ipython3",
   "version": "3.12.4"
  }
 },
 "nbformat": 4,
 "nbformat_minor": 5
}
