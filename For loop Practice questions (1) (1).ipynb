{
 "cells": [
  {
   "cell_type": "markdown",
   "id": "6e5f631a-6d3c-4f57-a870-54f682a79df8",
   "metadata": {},
   "source": [
    "**Basic Questions**\n",
    "\n",
    "1. Write a for loop that prints numbers from 1 to 10.\n",
    "\n",
    "2. Given a list of fruits ['apple', 'banana', 'cherry'], write a for loop to print each fruit.\n",
    "\n",
    "3. Write a for loop to print each character of the string \"Python\".\n",
    "\n",
    "4. Use a for loop to calculate the sum of numbers from 1 to 100.\n",
    "\n",
    "5. Write a for loop to print all even numbers between 1 and 20.\n",
    "\n",
    "6. Write a for loop to print the first 10 multiples of 5.\n",
    "\n",
    "7. Write a for loop to print numbers from 5 to 15 using the range function.\n",
    "\n",
    "8. Given a list ['a', 'b', 'c', 'd'], write a for loop to print the index and value of each element.\n",
    "\n",
    "9. Write a for loop to count down from 10 to 1.\n",
    "\n",
    "10. Given a list of numbers [2, 4, 6, 8, 10], write a for loop to find the sum of the elements."
   ]
  },
  {
   "cell_type": "code",
   "execution_count": 20,
   "id": "0f497561-38e8-46ad-b3df-b1538b64630c",
   "metadata": {},
   "outputs": [
    {
     "name": "stdout",
     "output_type": "stream",
     "text": [
      "1\n",
      "2\n",
      "3\n",
      "4\n",
      "5\n",
      "6\n",
      "7\n",
      "8\n",
      "9\n",
      "10\n"
     ]
    }
   ],
   "source": [
    "#Write a for loop that prints numbers from 1 to 10.\n",
    "a=[1,2,3,4,5,6,7,8,9,10]\n",
    "for num in a:\n",
    "    print(num)\n",
    "\n"
   ]
  },
  {
   "cell_type": "code",
   "execution_count": 2,
   "id": "e1019530-f5bd-43f0-8254-d8316e6b093b",
   "metadata": {},
   "outputs": [
    {
     "name": "stdout",
     "output_type": "stream",
     "text": [
      "apple\n",
      "cherry\n",
      "banana\n"
     ]
    }
   ],
   "source": [
    "#Given a list of fruits ['apple', 'banana', 'cherry'], write a for loop to print each fruit.\n",
    "fruit={\"apple\",\"banana\",\"cherry\"}\n",
    "for a in fruit:\n",
    "    print(a)\n"
   ]
  },
  {
   "cell_type": "code",
   "execution_count": 3,
   "id": "00142bcb-e7b8-45b8-87e6-ecc3a59a2570",
   "metadata": {},
   "outputs": [
    {
     "name": "stdout",
     "output_type": "stream",
     "text": [
      "pppppppppp\n",
      "yyyyyyyyyy\n",
      "tttttttttt\n",
      "hhhhhhhhhh\n",
      "oooooooooo\n",
      "nnnnnnnnnn\n"
     ]
    }
   ],
   "source": [
    "#Write a for loop to print each character of the string \"Python\".\n",
    "a=\"python\"\n",
    "for i in a:\n",
    "    print(i*10)"
   ]
  },
  {
   "cell_type": "code",
   "execution_count": 4,
   "id": "1b6289b4-76cd-435e-bc52-095b84fe374c",
   "metadata": {},
   "outputs": [
    {
     "name": "stdout",
     "output_type": "stream",
     "text": [
      "5050\n"
     ]
    }
   ],
   "source": [
    "#Use a for loop to calculate the sum of numbers from 1 to 100.\n",
    "a=list(range(1,101))\n",
    "sum=0\n",
    "for b in a:\n",
    "    sum=sum+b\n",
    "print(sum)"
   ]
  },
  {
   "cell_type": "code",
   "execution_count": 19,
   "id": "bfc44091-5df3-44a6-b3ab-34e1d99f08d4",
   "metadata": {},
   "outputs": [
    {
     "name": "stdout",
     "output_type": "stream",
     "text": [
      "[2, 4, 6, 8, 10, 12, 14, 16, 18, 20]\n"
     ]
    }
   ],
   "source": [
    "#Write a for loop to print all even numbers between 1 and 20\n",
    "n=list(range(1,21))\n",
    "even_num=[]\n",
    "for num in n:\n",
    "    if num%2==0:\n",
    "        even_num.append(num)\n",
    "print(even_num)"
   ]
  },
  {
   "cell_type": "code",
   "execution_count": 6,
   "id": "dce34b91-ed78-45eb-b483-e8b5566ed755",
   "metadata": {
    "scrolled": true
   },
   "outputs": [
    {
     "name": "stdout",
     "output_type": "stream",
     "text": [
      "5 10 15 20 25 30 35 40 45 50 "
     ]
    }
   ],
   "source": [
    "#Write a for loop to print the first 10 multiples of 5\n",
    "n= 5\n",
    "for i in range(1,11):\n",
    "    print(n*i, end=\" \")\n",
    "    "
   ]
  },
  {
   "cell_type": "code",
   "execution_count": 7,
   "id": "adcef5ac-7e6c-479b-ac0a-937519d23e3b",
   "metadata": {},
   "outputs": [
    {
     "name": "stdout",
     "output_type": "stream",
     "text": [
      "5\n",
      "11\n",
      "18\n",
      "26\n",
      "35\n",
      "45\n",
      "56\n",
      "68\n",
      "81\n",
      "95\n",
      "110\n"
     ]
    }
   ],
   "source": [
    "#Write a for loop to print numbers from 5 to 15 using the range function\n",
    "a=[5,6,7,8,9,10,11,12,13,14,15]\n",
    "sum=0\n",
    "for i in range(0,len(a)):\n",
    "    sum+=a[i]\n",
    "    print(sum)"
   ]
  },
  {
   "cell_type": "code",
   "execution_count": 8,
   "id": "23c7ad6e-6c6b-4ee6-8f0a-ddb38ab63ce6",
   "metadata": {},
   "outputs": [
    {
     "data": {
      "text/plain": [
       "{'a': 1, 'b': 2, 'd': 3, 'c': 4}"
      ]
     },
     "execution_count": 8,
     "metadata": {},
     "output_type": "execute_result"
    }
   ],
   "source": [
    "#Given a list ['a', 'b', 'c', 'd'], write a for loop to print the index and value of each element.\n",
    "a={\"a\",\"b\",\"c\",\"d\"}\n",
    "b=[1,2,3,4]\n",
    "a_dictonary=dict(zip(a,b))\n",
    "a_dictonary"
   ]
  },
  {
   "cell_type": "code",
   "execution_count": 9,
   "id": "58047fa3-5f47-4d27-b825-3ab1431d17b2",
   "metadata": {},
   "outputs": [
    {
     "name": "stdout",
     "output_type": "stream",
     "text": [
      "10\n",
      "9\n",
      "8\n",
      "7\n",
      "6\n",
      "5\n",
      "4\n",
      "3\n",
      "2\n",
      "1\n"
     ]
    }
   ],
   "source": [
    "#Write a for loop to count down from 10 to 1.\n",
    "#we use -1 for revercing the list if we want distance 1\n",
    "for i in range(10,0,-1):\n",
    "    print(i)"
   ]
  },
  {
   "cell_type": "code",
   "execution_count": 10,
   "id": "ceb5f5e0-fd83-4c5e-bca7-2b86d6f6a956",
   "metadata": {},
   "outputs": [
    {
     "name": "stdout",
     "output_type": "stream",
     "text": [
      "30\n"
     ]
    }
   ],
   "source": [
    "#Given a list of numbers [2, 4, 6, 8, 10], write a for loop to find the sum of the elements.\n",
    "a=[2,4,6,8,10]\n",
    "sum=0\n",
    "for i in range(0,len(a)):\n",
    "    sum+=a[i]\n",
    "print(sum)\n",
    "    "
   ]
  },
  {
   "cell_type": "markdown",
   "id": "ab1468e9-e8e3-4d61-9df7-fec654f22c42",
   "metadata": {},
   "source": [
    "**Medium Level Questions**\n",
    "\n",
    "1. Write a for loop to iterate through the numbers from 1 to 20. Inside the loop, use an if-else statement to print whether each number is even or odd.\n",
    "\n",
    "2. Given a list numbers = [-10, -5, 0, 5, 10], write a for loop to iterate through the list. Inside the loop, use an if-elif-else statement to print whether each number is positive, negative, or zero.\n",
    "\n",
    "3. Write a for loop to iterate through the numbers from 1 to 30. Inside the loop, use an if-elif-else statement to print \"Fizz\" if the number is divisible by 3, \"Buzz\" if the number is divisible by 5, and \"FizzBuzz\" if the number is divisible by both 3 and 5. Print the number itself if it is not divisible by either.\n",
    "\n",
    "4. Given a list of student scores scores = [85, 62, 78, 95, 55, 89, 73], write a for loop to iterate through the list. Inside the loop, use an if-elif-else statement to categorize each score as follows:\n",
    "\n",
    "- \"A\" for scores 90 and above\n",
    "- \"B\" for scores between 80 and 89\n",
    "- \"C\" for scores between 70 and 79\n",
    "- \"D\" for scores between 60 and 69\n",
    "- \"F\" for scores below 60\n",
    "\n",
    "5. Write a for loop to iterate through each character in the string \"Hello, World!\". Inside the loop, use an if-else statement to print whether each character is a vowel (a, e, i, o, u) or a consonant. Ignore non-alphabetic characters."
   ]
  },
  {
   "cell_type": "code",
   "execution_count": 11,
   "id": "0bab2efd-0adb-42da-848f-8291b1b36658",
   "metadata": {},
   "outputs": [
    {
     "name": "stdout",
     "output_type": "stream",
     "text": [
      "[2, 4, 6, 8, 10, 12, 14, 16, 18, 20]\n",
      "[1, 3, 5, 7, 9, 11, 13, 15, 17, 19]\n"
     ]
    }
   ],
   "source": [
    "\n",
    "#Write a for loop to iterate through the numbers from 1 to 20. Inside the loop, use an if-else statement to print whether each number is even or odd\n",
    "a=[1,2,3,4,5,6,7,8,9,10,11,12,13,14,15,16,17,18,19,20]\n",
    "even_num=[]\n",
    "odd_num=[]\n",
    "for nums in a:\n",
    "    if nums%2 ==0:\n",
    "        even_num.append(nums)\n",
    "    else:\n",
    "        odd_num.append(nums)\n",
    "print(even_num)\n",
    "print(odd_num)"
   ]
  },
  {
   "cell_type": "code",
   "execution_count": 12,
   "id": "14ddd473-a553-4885-9cce-851bb4b85dca",
   "metadata": {},
   "outputs": [
    {
     "name": "stdout",
     "output_type": "stream",
     "text": [
      "negative number\n",
      "negative number\n",
      "zero\n",
      "positive number\n",
      "positive number\n"
     ]
    }
   ],
   "source": [
    "#Given a list numbers = [-10, -5, 0, 5, 10], write a for loop to iterate through the list. Inside the loop, \n",
    "#use an if-elif-else statement to print whether each number is positive, negative, or zero.\n",
    "a=[-10,-5,0,5,10]\n",
    "for b in a: \n",
    "    if b > 0:\n",
    "        print(\"positive number\")\n",
    "    elif b < 0:\n",
    "        print(\"negative number\")\n",
    "    else:\n",
    "        print(\"zero\")"
   ]
  },
  {
   "cell_type": "code",
   "execution_count": 13,
   "id": "6615910a-a7da-4c77-87c4-94e2ddf7c960",
   "metadata": {},
   "outputs": [
    {
     "name": "stdout",
     "output_type": "stream",
     "text": [
      "1\n",
      "2\n",
      "fizz 3\n",
      "4\n",
      "buzz 5\n",
      "fizz 6\n",
      "7\n",
      "8\n",
      "fizz 9\n",
      "buzz 10\n",
      "11\n",
      "fizz 12\n",
      "13\n",
      "14\n",
      "fizzBuzz 15\n",
      "16\n",
      "17\n",
      "fizz 18\n",
      "19\n",
      "buzz 20\n",
      "fizz 21\n",
      "22\n",
      "23\n",
      "fizz 24\n",
      "buzz 25\n",
      "26\n",
      "fizz 27\n",
      "28\n",
      "29\n",
      "fizzBuzz 30\n"
     ]
    }
   ],
   "source": [
    "# Write a for loop to iterate through the numbers from 1 to 30. Inside the loop, \n",
    "#use an if-elif-else statement to print \"Fizz\" if the number is divisible by 3, \"Buzz\" if the number is divisible by 5, and \"FizzBuzz\" \n",
    "#if the number is divisible by both 3 and 5. Print the number itself if it is not divisible by either\n",
    "a=[1,2,3,4,5,6,7,8,9,10,11,12,13,14,15,16,17,18,19,20,21,22,23,24,25,26,27,28,29,30]\n",
    "for num in a:\n",
    "    if num%3==0 and num%5==0:\n",
    "        print(\"fizzBuzz\",num)\n",
    "    \n",
    "    elif  num%3 ==0:\n",
    "        print(\"fizz\",num)\n",
    "    elif num%5 ==0:\n",
    "        print(\"buzz\",num)\n",
    "    else:\n",
    "        print(num)"
   ]
  },
  {
   "cell_type": "code",
   "execution_count": 14,
   "id": "e24754a8-1d7d-4753-a76c-62c455512599",
   "metadata": {},
   "outputs": [
    {
     "name": "stdout",
     "output_type": "stream",
     "text": [
      "B\n",
      "D\n",
      "C\n",
      "A\n",
      "F\n",
      "B\n",
      "C\n"
     ]
    }
   ],
   "source": [
    "#Given a list of student scores scores = [85, 62, 78, 95, 55, 89, 73],\n",
    "#write a for loop to iterate through the list. Inside the loop, use an if-elif-else statement to categorize each score as follows:\n",
    "a=[85, 62, 78, 95, 55, 89, 73]\n",
    "for num in a:\n",
    "    if num >=90:\n",
    "        print(\"A\")\n",
    "    elif 80<= num <=89:\n",
    "         print(\"B\")\n",
    "    elif 70<= num <=79:\n",
    "         print(\"C\") \n",
    "    elif 60<= num <=69:\n",
    "        print(\"D\")\n",
    "    else:\n",
    "        print(\"F\")\n",
    "         \n",
    "        "
   ]
  },
  {
   "cell_type": "code",
   "execution_count": 15,
   "id": "0ee4ac34-7da1-4e3e-8a70-3216d8e02545",
   "metadata": {},
   "outputs": [
    {
     "name": "stdout",
     "output_type": "stream",
     "text": [
      "constant\n",
      "vowel\n",
      "constant\n",
      "constant\n",
      "vowel\n",
      "constant\n",
      "constant\n",
      "vowel\n",
      "constant\n",
      "constant\n",
      "constant\n"
     ]
    }
   ],
   "source": [
    "#Write a for loop to iterate through each character in the string \"Hello, World!\".\n",
    "#Inside the loop, use an if-else statement to print whether each character is a vowel (a, e, i, o, u) or a consonant. Ignore non-alphabetic characters.\n",
    "\n",
    "k=\"Hello world\"\n",
    "for m in k:\n",
    "    if m==\"a\" or m==\"e\" or m==\"i\" or m==\"o\" or m==\"u\":\n",
    "      print(\"vowel\")\n",
    "    else:\n",
    "      print(\"constant\")"
   ]
  },
  {
   "cell_type": "code",
   "execution_count": null,
   "id": "0ff90190-c75c-44c0-aa6e-66743dea231c",
   "metadata": {},
   "outputs": [],
   "source": []
  }
 ],
 "metadata": {
  "kernelspec": {
   "display_name": "Python 3 (ipykernel)",
   "language": "python",
   "name": "python3"
  },
  "language_info": {
   "codemirror_mode": {
    "name": "ipython",
    "version": 3
   },
   "file_extension": ".py",
   "mimetype": "text/x-python",
   "name": "python",
   "nbconvert_exporter": "python",
   "pygments_lexer": "ipython3",
   "version": "3.12.4"
  }
 },
 "nbformat": 4,
 "nbformat_minor": 5
}
