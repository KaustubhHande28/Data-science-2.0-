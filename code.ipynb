{
 "cells": [
  {
   "cell_type": "code",
   "execution_count": null,
   "id": "3079fd2d-3773-4d36-b117-98d7ff46c3ba",
   "metadata": {},
   "outputs": [],
   "source": [
    "#Relation opration"
   ]
  },
  {
   "cell_type": "code",
   "execution_count": 1,
   "id": "cd19ffca-87c6-4b94-945d-43b22a45794a",
   "metadata": {},
   "outputs": [
    {
     "data": {
      "text/plain": [
       "False"
      ]
     },
     "execution_count": 1,
     "metadata": {},
     "output_type": "execute_result"
    }
   ],
   "source": [
    "#equal to\n",
    "x=10\n",
    "y=5\n",
    "x==y"
   ]
  },
  {
   "cell_type": "code",
   "execution_count": 2,
   "id": "099e2088-3d15-4095-a411-9a59d526282a",
   "metadata": {},
   "outputs": [
    {
     "data": {
      "text/plain": [
       "True"
      ]
     },
     "execution_count": 2,
     "metadata": {},
     "output_type": "execute_result"
    }
   ],
   "source": [
    "#not equal to\n",
    "x=10\n",
    "y=15\n",
    "x!=y"
   ]
  },
  {
   "cell_type": "code",
   "execution_count": 6,
   "id": "58e1f5a6-9c19-4dad-8991-53ff9ff6f864",
   "metadata": {},
   "outputs": [
    {
     "data": {
      "text/plain": [
       "False"
      ]
     },
     "execution_count": 6,
     "metadata": {},
     "output_type": "execute_result"
    }
   ],
   "source": [
    "#more than equalto\n",
    "x=10\n",
    "y=15\n",
    "x>=y"
   ]
  },
  {
   "cell_type": "code",
   "execution_count": 15,
   "id": "d538ef19-42ee-49ef-ae68-dc626c82f0b2",
   "metadata": {},
   "outputs": [
    {
     "data": {
      "text/plain": [
       "True"
      ]
     },
     "execution_count": 15,
     "metadata": {},
     "output_type": "execute_result"
    }
   ],
   "source": [
    "#less than equal to\n",
    "x=10\n",
    "y=15\n",
    "x<=y"
   ]
  },
  {
   "cell_type": "code",
   "execution_count": 25,
   "id": "f030ab4a-c7ec-4777-bbf1-138702534873",
   "metadata": {},
   "outputs": [],
   "source": [
    "#variable:-string,flot,complex,integer\n",
    "name= \"kaustubh\"\n",
    "marks=325\n",
    "percentage=75.5\n",
    "x=3+2j"
   ]
  },
  {
   "cell_type": "code",
   "execution_count": 26,
   "id": "8b16a3a4-42a3-4632-bc59-4d8314a5cfd9",
   "metadata": {},
   "outputs": [
    {
     "data": {
      "text/plain": [
       "str"
      ]
     },
     "execution_count": 26,
     "metadata": {},
     "output_type": "execute_result"
    }
   ],
   "source": [
    "type(name)"
   ]
  },
  {
   "cell_type": "code",
   "execution_count": 27,
   "id": "d704dfe6-6b5f-4152-909e-4250df163d03",
   "metadata": {},
   "outputs": [
    {
     "data": {
      "text/plain": [
       "int"
      ]
     },
     "execution_count": 27,
     "metadata": {},
     "output_type": "execute_result"
    }
   ],
   "source": [
    "type(marks)"
   ]
  },
  {
   "cell_type": "code",
   "execution_count": 28,
   "id": "51fa825e-b15b-4c08-a12a-a5668d95c512",
   "metadata": {},
   "outputs": [
    {
     "data": {
      "text/plain": [
       "float"
      ]
     },
     "execution_count": 28,
     "metadata": {},
     "output_type": "execute_result"
    }
   ],
   "source": [
    "type(percentage)"
   ]
  },
  {
   "cell_type": "code",
   "execution_count": 29,
   "id": "40a22ce1-0317-4d77-9996-f6ba82a58aad",
   "metadata": {},
   "outputs": [
    {
     "data": {
      "text/plain": [
       "complex"
      ]
     },
     "execution_count": 29,
     "metadata": {},
     "output_type": "execute_result"
    }
   ],
   "source": [
    "type(x)"
   ]
  },
  {
   "cell_type": "code",
   "execution_count": 31,
   "id": "e1b1ae76-97f8-4528-8ccd-2a9b8452f417",
   "metadata": {},
   "outputs": [
    {
     "data": {
      "text/plain": [
       "1"
      ]
     },
     "execution_count": 31,
     "metadata": {},
     "output_type": "execute_result"
    }
   ],
   "source": [
    "# to find reminder\n",
    "11%2"
   ]
  },
  {
   "cell_type": "code",
   "execution_count": 32,
   "id": "e11cf8f8-f5b4-489a-b08c-8607891df7f7",
   "metadata": {},
   "outputs": [
    {
     "data": {
      "text/plain": [
       "5"
      ]
     },
     "execution_count": 32,
     "metadata": {},
     "output_type": "execute_result"
    }
   ],
   "source": [
    "# to find quantion\n",
    "11//2"
   ]
  },
  {
   "cell_type": "code",
   "execution_count": 33,
   "id": "84e7e475-e9e0-4ddc-b67a-1e6ce4ef8aaa",
   "metadata": {},
   "outputs": [
    {
     "data": {
      "text/plain": [
       "5.5"
      ]
     },
     "execution_count": 33,
     "metadata": {},
     "output_type": "execute_result"
    }
   ],
   "source": [
    "# to find divident\n",
    "11/2"
   ]
  },
  {
   "cell_type": "code",
   "execution_count": 36,
   "id": "2e7b7895-1a0f-4617-8ec6-e7b626468c8e",
   "metadata": {},
   "outputs": [
    {
     "data": {
      "text/plain": [
       "'15'"
      ]
     },
     "execution_count": 36,
     "metadata": {},
     "output_type": "execute_result"
    }
   ],
   "source": [
    "x='1'\n",
    "y='5'\n",
    "x+y"
   ]
  },
  {
   "cell_type": "code",
   "execution_count": 37,
   "id": "6d21b94e-79e4-4f0b-9fbd-d950fa912650",
   "metadata": {},
   "outputs": [],
   "source": [
    "x=20"
   ]
  },
  {
   "cell_type": "code",
   "execution_count": 41,
   "id": "86a22e42-7e7e-4f53-87f0-63b4f1e0349c",
   "metadata": {},
   "outputs": [
    {
     "data": {
      "text/plain": [
       "164"
      ]
     },
     "execution_count": 41,
     "metadata": {},
     "output_type": "execute_result"
    }
   ],
   "source": [
    "# for adding x value by itself\n",
    "x=x+x\n",
    "x"
   ]
  },
  {
   "cell_type": "code",
   "execution_count": 42,
   "id": "8a6b9a32-edb3-43db-9e61-f0745e637c52",
   "metadata": {},
   "outputs": [
    {
     "data": {
      "text/plain": [
       "166"
      ]
     },
     "execution_count": 42,
     "metadata": {},
     "output_type": "execute_result"
    }
   ],
   "source": [
    "#for adding value in x\n",
    "x+=2\n",
    "x"
   ]
  },
  {
   "cell_type": "code",
   "execution_count": 44,
   "id": "75df2eb5-12f6-42b9-af04-dc7753df0b58",
   "metadata": {},
   "outputs": [],
   "source": [
    "#tax=15%\n",
    "#income=100000\n",
    "#total taxon income=?\n",
    "a=100000\n",
    "total=(15/100)*a\n"
   ]
  },
  {
   "cell_type": "code",
   "execution_count": 45,
   "id": "fde73575-a853-4525-a9e9-7536050d5f3c",
   "metadata": {},
   "outputs": [
    {
     "data": {
      "text/plain": [
       "15000.0"
      ]
     },
     "execution_count": 45,
     "metadata": {},
     "output_type": "execute_result"
    }
   ],
   "source": [
    "total"
   ]
  },
  {
   "cell_type": "code",
   "execution_count": 52,
   "id": "cb64c946-2a82-4990-b462-ac441af12c65",
   "metadata": {},
   "outputs": [
    {
     "data": {
      "text/plain": [
       "284.0"
      ]
     },
     "execution_count": 52,
     "metadata": {},
     "output_type": "execute_result"
    }
   ],
   "source": [
    "#c=140\n",
    "# f=(9/5)*c+32[formula]\n",
    "f=(9/5)*140+32\n",
    "f #asksed in flot"
   ]
  },
  {
   "cell_type": "code",
   "execution_count": 54,
   "id": "500f8cbf-2751-4f53-a219-c016e28b0ec1",
   "metadata": {},
   "outputs": [
    {
     "data": {
      "text/plain": [
       "284"
      ]
     },
     "execution_count": 54,
     "metadata": {},
     "output_type": "execute_result"
    }
   ],
   "source": [
    "#c=140\n",
    "# f=(9/5)*c+32[formula]\n",
    "f=(9/5)*140+32\n",
    "int(f) #asked in integer"
   ]
  },
  {
   "cell_type": "code",
   "execution_count": 49,
   "id": "c835d255-3072-4f3d-bd89-f00ad2e45d89",
   "metadata": {},
   "outputs": [
    {
     "name": "stdout",
     "output_type": "stream",
     "text": [
      "10\n",
      "20\n"
     ]
    }
   ],
   "source": [
    "x=10\n",
    "y=20\n",
    "print(x)\n",
    "print(y)"
   ]
  },
  {
   "cell_type": "code",
   "execution_count": 56,
   "id": "a84e1ef1-f210-4350-ae73-963623992d00",
   "metadata": {},
   "outputs": [
    {
     "data": {
      "text/plain": [
       "' hello world'"
      ]
     },
     "execution_count": 56,
     "metadata": {},
     "output_type": "execute_result"
    }
   ],
   "source": [
    "x= ' hello'\n",
    "y= ' world'\n",
    "x+y"
   ]
  },
  {
   "cell_type": "code",
   "execution_count": 60,
   "id": "592794b3-58ae-4f24-ac30-cf04901689d7",
   "metadata": {},
   "outputs": [
    {
     "name": "stdout",
     "output_type": "stream",
     "text": [
      " hello world\n"
     ]
    }
   ],
   "source": [
    "#concatination( can be used without variable)\n",
    "print(' hello'+''+' world')"
   ]
  },
  {
   "cell_type": "code",
   "execution_count": 61,
   "id": "d4e33906-e39b-4bf7-8255-db39615d41f1",
   "metadata": {},
   "outputs": [
    {
     "name": "stdout",
     "output_type": "stream",
     "text": [
      " hello world\n"
     ]
    }
   ],
   "source": [
    "print(' hello'+' world')"
   ]
  },
  {
   "cell_type": "code",
   "execution_count": 1,
   "id": "217090ef-6ca4-4082-a0ef-f5e77b37250b",
   "metadata": {},
   "outputs": [
    {
     "data": {
      "text/plain": [
       "13.397642015005358"
      ]
     },
     "execution_count": 1,
     "metadata": {},
     "output_type": "execute_result"
    }
   ],
   "source": [
    "#convert rupee into dollar\n",
    "rupee=1000\n",
    "total=rupee/(74.64)\n",
    "total"
   ]
  },
  {
   "cell_type": "code",
   "execution_count": null,
   "id": "65a847a3-7052-416e-8a5c-21eab8419c3f",
   "metadata": {},
   "outputs": [],
   "source": []
  }
 ],
 "metadata": {
  "kernelspec": {
   "display_name": "Python 3 (ipykernel)",
   "language": "python",
   "name": "python3"
  },
  "language_info": {
   "codemirror_mode": {
    "name": "ipython",
    "version": 3
   },
   "file_extension": ".py",
   "mimetype": "text/x-python",
   "name": "python",
   "nbconvert_exporter": "python",
   "pygments_lexer": "ipython3",
   "version": "3.12.4"
  }
 },
 "nbformat": 4,
 "nbformat_minor": 5
}
