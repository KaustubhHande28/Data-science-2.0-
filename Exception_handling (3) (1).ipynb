{
 "cells": [
  {
   "cell_type": "markdown",
   "metadata": {
    "id": "Nw6dCml04Sa_"
   },
   "source": [
    "<h2 style = \"color:Brown\">Logic Building/Hands-On"
   ]
  },
  {
   "cell_type": "markdown",
   "metadata": {
    "id": "sHDm58p94SbD"
   },
   "source": [
    "This part consists of some good practise problems to help you have a good hands on the concepts till now."
   ]
  },
  {
   "cell_type": "markdown",
   "metadata": {
    "id": "H-elKsf-4SbE"
   },
   "source": [
    "## Alarm Clock\n",
    "Do you wake up at the same time every morning? No, right? If it is a normal working day where you're swamped with work and meetings starting early morning, you try to wake up as soon as possible. If it is a weekend or a vacation day, you mostly want to give yourself some extra rest, right? Now, you might set alarms for this manually periodically depending on what day it is. Instead of manually setting up an alarm, what if you try to write a code that automates the time the alarm goes off. If there was some way for the alarm to know the kind of day it is, it would automatically ring according to the preferences set by you. Let's attempt to do this.\n",
    "\n",
    "So the problem statement is, you're trying to automate your alarm clock by writing a function for it. You're given a day of the week encoded as 1 = Mon, 2 = Tue, ..., 6 = Sat, 7 = Sun, and whether you are on vacation as a boolean value (a boolean object is either True or False. Google \"booleans Python\" to get a better understanding).\n",
    "\n",
    "Based on the day and whether you're on vacation, write a function that returns a time in form of a string indicating when the alarm clock should ring.\n",
    "\n",
    "When not on a vacation, on weekdays, the alarm should ring at \"7:00\" and on the weekends (Saturday and Sunday) it should ring at \"10:00\".\n",
    "\n",
    "While on a vacation, it should ring at \"10:00\" on weekdays. On vacation, it should not ring on weekends, i.e., it should return \"off\"."
   ]
  },
  {
   "cell_type": "code",
   "execution_count": null,
   "metadata": {
    "colab": {
     "base_uri": "https://localhost:8080/"
    },
    "id": "9HD1mOvD4SbH",
    "outputId": "6a15788d-2d55-49ad-a866-6a647f30ff42"
   },
   "outputs": [
    {
     "name": "stdout",
     "output_type": "stream",
     "text": [
      "[2,True]\n",
      "10:00\n"
     ]
    }
   ],
   "source": [
    "#Take input here\n",
    "#we will take input using ast sys\n",
    "import ast\n",
    "input_str = input()\n",
    "\n",
    "#ast.literal_eval() will evaluate the string and make a data structure for the same\n",
    "#here the input is a list since input is in '[...]', so ast.literal_eval() will\n",
    "#make a list with the same data as passed\n",
    "input_list = ast.literal_eval(input_str)\n",
    "\n",
    "#the data or the two values in list is now changed to separate variables\n",
    "day_of_the_week = input_list[0] #first element is an integer denoting the day of the week\n",
    "is_on_vacation = input_list[1] #this is a boolean denoting if its vacation or not\n",
    "\n",
    "# write your code here\n",
    "def alarm_time(day_of_the_week, is_on_vacation):\n",
    "    weekend=[6,7]\n",
    "    if is_on_vacation and day_of_the_week not in weekend:\n",
    "        print(\"10:00\")\n",
    "    elif is_on_vacation and day_of_the_week in weekend:\n",
    "        print(\"off\")\n",
    "    elif not is_on_vacation and day_of_the_week not in weekend:\n",
    "        print(\"7:00\")\n",
    "    else:\n",
    "        print(\"10:00\")\n",
    "\n",
    "alarm_time(day_of_the_week, is_on_vacation)"
   ]
  },
  {
   "cell_type": "markdown",
   "metadata": {
    "id": "jX3O4z6l4SbK"
   },
   "source": [
    "## Recruit New Members\n",
    "Suppose you are the manager of a big firm and are looking to hire new members for your team. You published an advertisement and have received a few applications.\n",
    "\n",
    "You rate people on a scale of 0 to 100 and have given scores to all the members of your team and the new applicants. The selection process is very straightforward - if the applicant improves the average of the team then you hire the applicant or else reject the applicant. Remember the order of processing applications is going to be important here."
   ]
  },
  {
   "cell_type": "code",
   "execution_count": null,
   "metadata": {
    "id": "wI5XrvLi4SbM"
   },
   "outputs": [],
   "source": [
    "#you have to take input on your own here\n",
    "\n",
    "import ast\n",
    "\n",
    "team = ast.literal_eval(input())\n",
    "applicant = ast.literal_eval(input())\n",
    "\n",
    "#write your code here\n",
    "def check_above_average(data, check):\n",
    "    # s=0\n",
    "    # for item in data:\n",
    "    #     s = s+ item\n",
    "    s = sum(data)\n",
    "    avg = s/len(data)\n",
    "    if check > avg:\n",
    "        return 1\n",
    "    else:\n",
    "        return 0\n",
    "\n",
    "for appl in applicant:\n",
    "    is_add = check_above_average(team,appl)\n",
    "    if is_add==1:\n",
    "        team.append(appl)\n",
    "\n",
    "print(team)"
   ]
  },
  {
   "cell_type": "markdown",
   "metadata": {
    "id": "rAXstyKt4SbN"
   },
   "source": [
    "## Fenced Matrix\n",
    "You will be given two positive integers m and n. You have to make a list of lists (which can be visualised as a matrix) of size m*n, that is m sublists (rows), with each sublist having n integers (columns).\n",
    "\n",
    "The matrix should be such that it should have 1 on the border and 0 everywhere else.\n",
    "\n",
    "Sample input 1:\n",
    "4,5\n",
    "\n",
    "Sample output 1:\n",
    "[1, 1, 1, 1, 1]\n",
    "[1, 0, 0, 0, 1]\n",
    "[1, 0, 0, 0, 1]\n",
    "[1, 1, 1, 1, 1]\n",
    "\n",
    "Sample input 2:\n",
    "3,3\n",
    "\n",
    "Sample output 2:\n",
    "[1, 1, 1]\n",
    "[1, 0, 1]\n",
    "[1, 1, 1]"
   ]
  },
  {
   "cell_type": "code",
   "execution_count": null,
   "metadata": {
    "id": "tkyJT7Ml4SbO"
   },
   "outputs": [],
   "source": [
    "in_str=input()\n",
    "in_str=in_str.split(',')\n",
    "m=int(in_str[0])\n",
    "n=int(in_str[1])\n",
    "\n",
    "#make a list with n zeroes\n",
    "final=[0]*n\n",
    "\n",
    "#make a matrix of m such lists\n",
    "final=[list(final) for i in range(m)]\n",
    "for i in range(m):\n",
    "    for j in range(n):\n",
    "        if i==0 or j==0 or i==m-1 or j==n-1:\n",
    "            final[i][j]=1\n",
    "\n",
    "#print in the fashion as shown in Sample output\n",
    "for i in final:\n",
    "    print(i)"
   ]
  },
  {
   "cell_type": "markdown",
   "metadata": {
    "id": "ocvd738V4SbQ"
   },
   "source": [
    "## Common Prefix\n",
    "You will be given two strings. You have to find the largest prefix common in both the strings.\n",
    "\n",
    "Sample input 1:\n",
    "abshdksajd\n",
    "abshiehand\n",
    "\n",
    "Sample output 1:\n",
    "absh\n",
    "\n",
    "Sample input 2:\n",
    "upgradData\n",
    "upGradScience\n",
    "\n",
    "Sample output 2:\n",
    "upgrad"
   ]
  },
  {
   "cell_type": "code",
   "execution_count": null,
   "metadata": {
    "id": "FE_kQPDy4SbR"
   },
   "outputs": [],
   "source": [
    "#input has been taken for you\n",
    "\n",
    "string1=input()\n",
    "string2=input()\n",
    "\n",
    "#make them all lower\n",
    "string1 = string1.lower()\n",
    "string2 = string2.lower()\n",
    "\n",
    "#start writing your code to find largest common prefix here\n",
    "#first we find the length of smaller string as that can be the longest prefix possible\n",
    "#checking beyond that is pointless\n",
    "l1 = len(string1)\n",
    "l2 = len(string2)\n",
    "min_len = min(l1,l2)\n",
    "\n",
    "#we will check all characters one by one upto min_len in both strings and\n",
    "#break the loop whereever we find that they are not matching\n",
    "for i in range(min_len):\n",
    "    if string1[i] != string2[i]:\n",
    "        break\n",
    "#if i is zero, that means first element is not matching\n",
    "#value of i here indicate what index is not matching\n",
    "if i==0:\n",
    "    print(-1)\n",
    "#if there is atleast one matching prefixx string\n",
    "#if one of the strings entirely becomes a prefix of another, for loop will end when i=min_len-1\n",
    "#Hence we need to increase i by 1 to print string1[:min_len]\n",
    "elif i==min_len-1:\n",
    "    print(string1[:i+1])\n",
    "else:\n",
    "    print(string1[:i])\n"
   ]
  },
  {
   "cell_type": "markdown",
   "metadata": {
    "id": "6qkfi3uX4SbS"
   },
   "source": [
    "<h2 style = \"color:Brown\">Error-Handling/Debugging"
   ]
  },
  {
   "cell_type": "markdown",
   "metadata": {
    "id": "OcEHJNOz4SbS"
   },
   "source": [
    "<h2 style = \"color:Brown\">Types of Error"
   ]
  },
  {
   "cell_type": "markdown",
   "metadata": {
    "id": "sLXQnImo9iDG"
   },
   "source": [
    "Syntax Error: Error occurs when you use wrong syntax"
   ]
  },
  {
   "cell_type": "code",
   "execution_count": null,
   "metadata": {
    "colab": {
     "base_uri": "https://localhost:8080/",
     "height": 106
    },
    "id": "7FbWBwc69kcR",
    "outputId": "66d9c9fd-26ab-4420-de0d-e2b78548f98a"
   },
   "outputs": [
    {
     "ename": "SyntaxError",
     "evalue": "expected ':' (<ipython-input-3-9ad01bb7dac7>, line 2)",
     "output_type": "error",
     "traceback": [
      "\u001b[0;36m  File \u001b[0;32m\"<ipython-input-3-9ad01bb7dac7>\"\u001b[0;36m, line \u001b[0;32m2\u001b[0m\n\u001b[0;31m    if(value>17)\u001b[0m\n\u001b[0m                ^\u001b[0m\n\u001b[0;31mSyntaxError\u001b[0m\u001b[0;31m:\u001b[0m expected ':'\n"
     ]
    }
   ],
   "source": [
    "value=input()\n",
    "if(value>17)\n",
    "print(\"Eligible to vote\")"
   ]
  },
  {
   "cell_type": "markdown",
   "metadata": {
    "id": "3OdGx5ek4SbT"
   },
   "source": [
    "Index Out of Range Error: This error occurs when you try to access an index that is outside the bounds of a list (or other sequence types, like tuples and strings). This is a type of IndexError."
   ]
  },
  {
   "cell_type": "code",
   "execution_count": null,
   "metadata": {
    "id": "u2f1Igsm4SbT"
   },
   "outputs": [],
   "source": [
    "my_list = [1, 2, 3]\n",
    "print(my_list[3])  # Index 3 is out of bounds because list indexing starts at 0.\n"
   ]
  },
  {
   "cell_type": "code",
   "execution_count": null,
   "metadata": {
    "colab": {
     "base_uri": "https://localhost:8080/"
    },
    "id": "hIfasrO_4SbU",
    "outputId": "30aebaf4-23ad-424a-f082-659fe172800d"
   },
   "outputs": [
    {
     "name": "stdout",
     "output_type": "stream",
     "text": [
      "Error: list index out of range\n"
     ]
    }
   ],
   "source": [
    "try:\n",
    "    my_list = [1, 2, 3]\n",
    "    print(my_list[3])  # Index 3 is out of bounds because list indexing starts at 0.\n",
    "except IndexError as e:\n",
    "    print(\"Error:\", e)\n"
   ]
  },
  {
   "cell_type": "code",
   "execution_count": null,
   "metadata": {
    "id": "aliwfvOJ5V_I"
   },
   "outputs": [],
   "source": [
    "#Home assignment\n",
    "#Try using a negative index\n",
    "#Try to access an empty list"
   ]
  },
  {
   "cell_type": "markdown",
   "metadata": {
    "id": "tpCKDxHr4SbU"
   },
   "source": [
    "Non-Exit Loop (Commonly Infinite Loop)\n",
    "A non-exit loop, often an infinite loop, happens when the loop condition never becomes false. Here’s a simple way to handle potential infinite loops."
   ]
  },
  {
   "cell_type": "code",
   "execution_count": null,
   "metadata": {
    "id": "ILuHoO0K4SbV"
   },
   "outputs": [],
   "source": [
    "# Infinite loop due to faulty exit condition\n",
    "counter = 0\n",
    "while counter >= 0:\n",
    "    print(\"Looping forever...\")\n",
    "    counter += 1  # This counter always increases and never meets a condition to break the loop.\n"
   ]
  },
  {
   "cell_type": "code",
   "execution_count": null,
   "metadata": {
    "id": "g2DtmPTA4SbW"
   },
   "outputs": [],
   "source": [
    "# Corrected finite loop with an exit condition\n",
    "counter = 0\n",
    "while counter >= 0:\n",
    "    print(\"Looping until counter reaches 10...\")\n",
    "    counter += 1  # Increment counter\n",
    "    if counter > 10:  # Break condition to exit the loop\n",
    "        break\n"
   ]
  },
  {
   "cell_type": "markdown",
   "metadata": {
    "id": "hiOFzakD4SbW"
   },
   "source": [
    "Indentation Error\n",
    "Python uses indentation to define blocks of code. An indentation error occurs when the spaces or tabs are inconsistent or incorrect."
   ]
  },
  {
   "cell_type": "code",
   "execution_count": null,
   "metadata": {
    "id": "6HYda23N4SbW"
   },
   "outputs": [],
   "source": [
    "def my_function():\n",
    "print(\"Hello\")  # This line should be indented\n"
   ]
  },
  {
   "cell_type": "code",
   "execution_count": null,
   "metadata": {
    "id": "4aHLXjMd4SbX"
   },
   "outputs": [],
   "source": [
    "def my_function():\n",
    "    print(\"Hello\")\n"
   ]
  },
  {
   "cell_type": "markdown",
   "metadata": {
    "id": "oJwpADU34SbX"
   },
   "source": [
    "Comparison Error between Strings and Numbers\n",
    "Trying to compare a string with a number using relational operators will raise a TypeError because these types are not directly comparable."
   ]
  },
  {
   "cell_type": "code",
   "execution_count": null,
   "metadata": {
    "id": "JBnipxCW4SbY"
   },
   "outputs": [],
   "source": [
    "try:\n",
    "    if '10' > 9:  # Comparing a string with an integer\n",
    "        print(\"Greater\")\n",
    "except TypeError as e:\n",
    "    print(\"Error:\", e)\n"
   ]
  },
  {
   "cell_type": "markdown",
   "metadata": {
    "id": "YNcR6Rl4-rtQ"
   },
   "source": [
    "OverflowError: This error occurs when the result of an arithmetic operation exceeds the maximum representable value for a numeric type."
   ]
  },
  {
   "cell_type": "code",
   "execution_count": null,
   "metadata": {
    "id": "H98wUnGAALpT"
   },
   "outputs": [],
   "source": [
    "result = 999999999999999999999999999999999999999999999999999999999999 * 999999999999999999999999999999999999999999999999999999999999999999999\n",
    "# This will raise an OverflowError\n"
   ]
  },
  {
   "cell_type": "markdown",
   "metadata": {
    "id": "8IMRgVm8AZnE"
   },
   "source": [
    "FloatingPointError: This error occurs when a floating-point calculation results in an error, such as overflow or underflow."
   ]
  },
  {
   "cell_type": "code",
   "execution_count": null,
   "metadata": {
    "id": "fEx1355XAbQu"
   },
   "outputs": [],
   "source": [
    "result = 1e308 * 1e308  # This will raise a FloatingPointError"
   ]
  },
  {
   "cell_type": "markdown",
   "metadata": {
    "id": "P9lqqU3dAeK3"
   },
   "source": [
    "TypeError: This error occurs when you try to perform an unsupported operation on a data type."
   ]
  },
  {
   "cell_type": "code",
   "execution_count": null,
   "metadata": {
    "id": "eG7IG7KtAi1x"
   },
   "outputs": [],
   "source": [
    "result = \"hello\" / 2  # This will raise a TypeError\n"
   ]
  },
  {
   "cell_type": "markdown",
   "metadata": {
    "id": "C46Vw_jk8erl"
   },
   "source": [
    "Value Error"
   ]
  },
  {
   "cell_type": "code",
   "execution_count": null,
   "metadata": {
    "colab": {
     "base_uri": "https://localhost:8080/",
     "height": 141
    },
    "id": "IMgWuAiL8daN",
    "outputId": "f21d7b07-d42b-496e-f58e-6a880ccfb1bc"
   },
   "outputs": [
    {
     "ename": "ValueError",
     "evalue": "invalid literal for int() with base 10: 'Hii'",
     "output_type": "error",
     "traceback": [
      "\u001b[0;31m---------------------------------------------------------------------------\u001b[0m",
      "\u001b[0;31mValueError\u001b[0m                                Traceback (most recent call last)",
      "\u001b[0;32m<ipython-input-2-43ab88e6f3b8>\u001b[0m in \u001b[0;36m<cell line: 1>\u001b[0;34m()\u001b[0m\n\u001b[0;32m----> 1\u001b[0;31m \u001b[0mprint\u001b[0m\u001b[0;34m(\u001b[0m\u001b[0mint\u001b[0m\u001b[0;34m(\u001b[0m\u001b[0;34m\"Hii\"\u001b[0m\u001b[0;34m)\u001b[0m\u001b[0;34m)\u001b[0m\u001b[0;34m\u001b[0m\u001b[0;34m\u001b[0m\u001b[0m\n\u001b[0m",
      "\u001b[0;31mValueError\u001b[0m: invalid literal for int() with base 10: 'Hii'"
     ]
    }
   ],
   "source": [
    "print(int(\"Hii\"))"
   ]
  },
  {
   "cell_type": "markdown",
   "metadata": {
    "id": "nQyJIEnqBC81"
   },
   "source": [
    "Handling Specific Exceptions:"
   ]
  },
  {
   "cell_type": "code",
   "execution_count": null,
   "metadata": {
    "id": "vKiFWhhnBEap"
   },
   "outputs": [],
   "source": [
    "try:\n",
    "    x = int(input(\"Enter a number: \"))\n",
    "    result = 10 / x\n",
    "except ValueError:\n",
    "    print(\"Please enter a valid integer.\")\n",
    "except ZeroDivisionError:\n",
    "    print(\"Cannot divide by zero.\")\n",
    "finally:\n",
    "    print(\"This block will always execute.\")"
   ]
  },
  {
   "cell_type": "markdown",
   "metadata": {
    "id": "DOvNc44JBK3m"
   },
   "source": [
    "Handling Multiple Exceptions:"
   ]
  },
  {
   "cell_type": "code",
   "execution_count": null,
   "metadata": {
    "id": "JRkXUkCcBMyA"
   },
   "outputs": [],
   "source": [
    "try:\n",
    "    x = int(input(\"Enter a number: \"))\n",
    "    result = 10 / x\n",
    "except (ValueError, ZeroDivisionError) as e:\n",
    "    print(\"An error occurred:\", e)\n",
    "finally:\n",
    "    print(\"This block will always execute.\")"
   ]
  },
  {
   "cell_type": "markdown",
   "metadata": {
    "id": "viqQDZaSBPc4"
   },
   "source": [
    "Using Try-Except Without Finally:"
   ]
  },
  {
   "cell_type": "code",
   "execution_count": null,
   "metadata": {
    "id": "OdgZtx4TBeBn"
   },
   "outputs": [],
   "source": [
    "try:\n",
    "    x = int(input(\"Enter a number: \"))\n",
    "    result = 10 / x\n",
    "except ValueError:\n",
    "    print(\"Please enter a valid integer.\")\n",
    "except ZeroDivisionError:\n",
    "    print(\"Cannot divide by zero.\")"
   ]
  },
  {
   "cell_type": "markdown",
   "metadata": {
    "id": "-1dmYtP6BgmJ"
   },
   "source": [
    "Using Try-Finally Without Except:"
   ]
  },
  {
   "cell_type": "code",
   "execution_count": null,
   "metadata": {
    "colab": {
     "base_uri": "https://localhost:8080/"
    },
    "id": "FVFQoW0yBlEI",
    "outputId": "429b058a-a8f8-4c60-d77c-27171e5b38b6"
   },
   "outputs": [
    {
     "name": "stdout",
     "output_type": "stream",
     "text": [
      "Enter a number: 9\n",
      "This block will always execute.\n"
     ]
    }
   ],
   "source": [
    "try:\n",
    "    x = int(input(\"Enter a number: \"))\n",
    "    result = 10 / x\n",
    "finally:\n",
    "    print(\"This block will always execute.\")\n"
   ]
  },
  {
   "cell_type": "markdown",
   "metadata": {
    "id": "s0irVr2Y4SbY"
   },
   "source": [
    "Try/Except/Else/Finally in one block"
   ]
  },
  {
   "cell_type": "code",
   "execution_count": null,
   "metadata": {
    "id": "Tl0UQUm54SbY"
   },
   "outputs": [],
   "source": [
    "def divide(a, b):\n",
    "    try:\n",
    "        result = a / b\n",
    "    except ZeroDivisionError:\n",
    "        print(\"Error: Cannot divide by zero.\")\n",
    "    else:\n",
    "        print(f\"Result: {result}\")\n",
    "    finally:\n",
    "        print(\"Operation attempted.\")\n",
    "\n",
    "# Example usage\n",
    "divide(10, 2)  # Should print result and operation message\n",
    "divide(10, 0)  # Should print error message and operation message\n"
   ]
  },
  {
   "cell_type": "markdown",
   "metadata": {
    "id": "UUbi19vD9Xkd"
   },
   "source": [
    "Debugging in Python"
   ]
  },
  {
   "cell_type": "code",
   "execution_count": null,
   "metadata": {
    "colab": {
     "base_uri": "https://localhost:8080/",
     "height": 870
    },
    "id": "VCzdxHEP9Zy3",
    "outputId": "39f52800-9fd6-4fae-e359-56ce442854d0"
   },
   "outputs": [
    {
     "metadata": {
      "tags": null
     },
     "name": "stdout",
     "output_type": "stream",
     "text": [
      "> \u001b[0;32m<ipython-input-2-8e0b6d03d33e>\u001b[0m(7)\u001b[0;36mdivide\u001b[0;34m()\u001b[0m\n",
      "\u001b[0;32m      5 \u001b[0;31m\u001b[0;32mdef\u001b[0m \u001b[0mdivide\u001b[0m\u001b[0;34m(\u001b[0m\u001b[0ma\u001b[0m\u001b[0;34m,\u001b[0m \u001b[0mb\u001b[0m\u001b[0;34m)\u001b[0m\u001b[0;34m:\u001b[0m\u001b[0;34m\u001b[0m\u001b[0;34m\u001b[0m\u001b[0m\n",
      "\u001b[0m\u001b[0;32m      6 \u001b[0;31m    \u001b[0mpdb\u001b[0m\u001b[0;34m.\u001b[0m\u001b[0mset_trace\u001b[0m\u001b[0;34m(\u001b[0m\u001b[0;34m)\u001b[0m  \u001b[0;31m# Set a breakpoint here\u001b[0m\u001b[0;34m\u001b[0m\u001b[0;34m\u001b[0m\u001b[0m\n",
      "\u001b[0m\u001b[0;32m----> 7 \u001b[0;31m    \u001b[0mresult\u001b[0m \u001b[0;34m=\u001b[0m \u001b[0ma\u001b[0m \u001b[0;34m/\u001b[0m \u001b[0mb\u001b[0m\u001b[0;34m\u001b[0m\u001b[0;34m\u001b[0m\u001b[0m\n",
      "\u001b[0m\u001b[0;32m      8 \u001b[0;31m    \u001b[0;32mreturn\u001b[0m \u001b[0mresult\u001b[0m\u001b[0;34m\u001b[0m\u001b[0;34m\u001b[0m\u001b[0m\n",
      "\u001b[0m\u001b[0;32m      9 \u001b[0;31m\u001b[0;34m\u001b[0m\u001b[0m\n",
      "\u001b[0m\n"
     ]
    },
    {
     "name": "stderr",
     "output_type": "stream",
     "text": [
      "\n",
      "PYDEV DEBUGGER WARNING:\n",
      "sys.settrace() should not be used when the debugger is being used.\n",
      "This may cause the debugger to stop working correctly.\n",
      "If this is needed, please check: \n",
      "http://pydev.blogspot.com/2007/06/why-cant-pydev-debugger-work-with.html\n",
      "to see how to restore the debug tracing back correctly.\n",
      "Call Location:\n",
      "  File \"/usr/local/lib/python3.10/dist-packages/IPython/core/debugger.py\", line 1075, in cmdloop\n",
      "    sys.settrace(None)\n",
      "\n"
     ]
    },
    {
     "name": "stdout",
     "output_type": "stream",
     "text": [
      "--KeyboardInterrupt--\n",
      "\n",
      "KeyboardInterrupt: Interrupted by user\n",
      "The result of 10 divided by 2 is 5.0\n",
      "> \u001b[0;32m<ipython-input-2-8e0b6d03d33e>\u001b[0m(7)\u001b[0;36mdivide\u001b[0;34m()\u001b[0m\n",
      "\u001b[0;32m      5 \u001b[0;31m\u001b[0;32mdef\u001b[0m \u001b[0mdivide\u001b[0m\u001b[0;34m(\u001b[0m\u001b[0ma\u001b[0m\u001b[0;34m,\u001b[0m \u001b[0mb\u001b[0m\u001b[0;34m)\u001b[0m\u001b[0;34m:\u001b[0m\u001b[0;34m\u001b[0m\u001b[0;34m\u001b[0m\u001b[0m\n",
      "\u001b[0m\u001b[0;32m      6 \u001b[0;31m    \u001b[0mpdb\u001b[0m\u001b[0;34m.\u001b[0m\u001b[0mset_trace\u001b[0m\u001b[0;34m(\u001b[0m\u001b[0;34m)\u001b[0m  \u001b[0;31m# Set a breakpoint here\u001b[0m\u001b[0;34m\u001b[0m\u001b[0;34m\u001b[0m\u001b[0m\n",
      "\u001b[0m\u001b[0;32m----> 7 \u001b[0;31m    \u001b[0mresult\u001b[0m \u001b[0;34m=\u001b[0m \u001b[0ma\u001b[0m \u001b[0;34m/\u001b[0m \u001b[0mb\u001b[0m\u001b[0;34m\u001b[0m\u001b[0;34m\u001b[0m\u001b[0m\n",
      "\u001b[0m\u001b[0;32m      8 \u001b[0;31m    \u001b[0;32mreturn\u001b[0m \u001b[0mresult\u001b[0m\u001b[0;34m\u001b[0m\u001b[0;34m\u001b[0m\u001b[0m\n",
      "\u001b[0m\u001b[0;32m      9 \u001b[0;31m\u001b[0;34m\u001b[0m\u001b[0m\n",
      "\u001b[0m\n",
      "--KeyboardInterrupt--\n",
      "\n",
      "KeyboardInterrupt: Interrupted by user\n"
     ]
    },
    {
     "ename": "ZeroDivisionError",
     "evalue": "division by zero",
     "output_type": "error",
     "traceback": [
      "\u001b[0;31m---------------------------------------------------------------------------\u001b[0m",
      "\u001b[0;31mZeroDivisionError\u001b[0m                         Traceback (most recent call last)",
      "\u001b[0;32m<ipython-input-2-8e0b6d03d33e>\u001b[0m in \u001b[0;36m<cell line: 18>\u001b[0;34m()\u001b[0m\n\u001b[1;32m     16\u001b[0m \u001b[0;31m# Change y to 0 to see handling of zero division\u001b[0m\u001b[0;34m\u001b[0m\u001b[0;34m\u001b[0m\u001b[0m\n\u001b[1;32m     17\u001b[0m \u001b[0my\u001b[0m \u001b[0;34m=\u001b[0m \u001b[0;36m0\u001b[0m\u001b[0;34m\u001b[0m\u001b[0;34m\u001b[0m\u001b[0m\n\u001b[0;32m---> 18\u001b[0;31m \u001b[0moutput\u001b[0m \u001b[0;34m=\u001b[0m \u001b[0mdivide\u001b[0m\u001b[0;34m(\u001b[0m\u001b[0mx\u001b[0m\u001b[0;34m,\u001b[0m \u001b[0my\u001b[0m\u001b[0;34m)\u001b[0m\u001b[0;34m\u001b[0m\u001b[0;34m\u001b[0m\u001b[0m\n\u001b[0m\u001b[1;32m     19\u001b[0m \u001b[0mprint\u001b[0m\u001b[0;34m(\u001b[0m\u001b[0;34mf\"The result of {x} divided by {y} is {output}\"\u001b[0m\u001b[0;34m)\u001b[0m\u001b[0;34m\u001b[0m\u001b[0;34m\u001b[0m\u001b[0m\n",
      "\u001b[0;32m<ipython-input-2-8e0b6d03d33e>\u001b[0m in \u001b[0;36mdivide\u001b[0;34m(a, b)\u001b[0m\n\u001b[1;32m      5\u001b[0m \u001b[0;32mdef\u001b[0m \u001b[0mdivide\u001b[0m\u001b[0;34m(\u001b[0m\u001b[0ma\u001b[0m\u001b[0;34m,\u001b[0m \u001b[0mb\u001b[0m\u001b[0;34m)\u001b[0m\u001b[0;34m:\u001b[0m\u001b[0;34m\u001b[0m\u001b[0;34m\u001b[0m\u001b[0m\n\u001b[1;32m      6\u001b[0m     \u001b[0mpdb\u001b[0m\u001b[0;34m.\u001b[0m\u001b[0mset_trace\u001b[0m\u001b[0;34m(\u001b[0m\u001b[0;34m)\u001b[0m  \u001b[0;31m# Set a breakpoint here\u001b[0m\u001b[0;34m\u001b[0m\u001b[0;34m\u001b[0m\u001b[0m\n\u001b[0;32m----> 7\u001b[0;31m     \u001b[0mresult\u001b[0m \u001b[0;34m=\u001b[0m \u001b[0ma\u001b[0m \u001b[0;34m/\u001b[0m \u001b[0mb\u001b[0m\u001b[0;34m\u001b[0m\u001b[0;34m\u001b[0m\u001b[0m\n\u001b[0m\u001b[1;32m      8\u001b[0m     \u001b[0;32mreturn\u001b[0m \u001b[0mresult\u001b[0m\u001b[0;34m\u001b[0m\u001b[0;34m\u001b[0m\u001b[0m\n\u001b[1;32m      9\u001b[0m \u001b[0;34m\u001b[0m\u001b[0m\n",
      "\u001b[0;31mZeroDivisionError\u001b[0m: division by zero"
     ]
    }
   ],
   "source": [
    "# Import the pdb module\n",
    "import pdb\n",
    "\n",
    "# A simple function to demonstrate debugging\n",
    "def divide(a, b):\n",
    "    pdb.set_trace()  # Set a breakpoint here\n",
    "    result = a / b\n",
    "    return result\n",
    "\n",
    "# Main part of the program\n",
    "x = 10\n",
    "y = 2\n",
    "output = divide(x, y)\n",
    "print(f\"The result of {x} divided by {y} is {output}\")\n",
    "\n",
    "# Change y to 0 to see handling of zero division\n",
    "y = 0\n",
    "output = divide(x, y)\n",
    "print(f\"The result of {x} divided by {y} is {output}\")\n"
   ]
  },
  {
   "cell_type": "markdown",
   "metadata": {
    "id": "DptZlNyH4SbZ"
   },
   "source": [
    "<h2 style = color:brown>Calculator Program"
   ]
  },
  {
   "cell_type": "markdown",
   "metadata": {
    "id": "RlxfGNX54SbZ"
   },
   "source": [
    "Creating a basic calculator in Python is a great way to learn about functions, input handling, and simple arithmetic operations.\n",
    "Step-by-Step Explanation\n",
    "\n",
    "Functions for Operations: We'll define separate functions for each arithmetic operation. This keeps our code organized and reusable.\n",
    "\n",
    "Taking User Input: We'll prompt the user to enter two numbers and the operation they wish to perform.\n",
    "\n",
    "Performing the Calculation: Depending on the user's choice of operation, the appropriate function will be called.\n",
    "\n",
    "Displaying the Result: After the calculation, we'll display the result to the user.\n",
    "\n",
    "Handling Errors: It's important to consider errors, like division by zero, and handle them gracefully."
   ]
  },
  {
   "cell_type": "code",
   "execution_count": null,
   "metadata": {
    "id": "dkPvHmD-4Sba"
   },
   "outputs": [],
   "source": [
    "# Function to add two numbers\n",
    "def add(x, y):\n",
    "    return x + y\n",
    "\n",
    "# Function to subtract two numbers\n",
    "def subtract(x, y):\n",
    "    return x - y\n",
    "\n",
    "# Function to multiply two numbers\n",
    "def multiply(x, y):\n",
    "    return x * y\n",
    "\n",
    "# Function to divide two numbers\n",
    "def divide(x, y):\n",
    "    # Check if the denominator is zero\n",
    "    if y == 0:\n",
    "        return \"Error! Division by zero.\"\n",
    "    else:\n",
    "        return x / y\n",
    "\n",
    "# Main function to run the calculator\n",
    "def calculator():\n",
    "    try:\n",
    "        # Take input from the user\n",
    "        num1 = float(input(\"Enter first number: \"))\n",
    "        num2 = float(input(\"Enter second number: \"))\n",
    "        operation = input(\"Choose the operation (add, subtract, multiply, divide): \").lower()\n",
    "\n",
    "        # Mapping the user input to the calculator functions\n",
    "        if operation == 'add':\n",
    "            print(\"Result:\", add(num1, num2))\n",
    "        elif operation == 'subtract':\n",
    "            print(\"Result:\", subtract(num1, num2))\n",
    "        elif operation == 'multiply':\n",
    "            print(\"Result:\", multiply(num1, num2))\n",
    "        elif operation == 'divide':\n",
    "            print(\"Result:\", divide(num1, num2))\n",
    "        else:\n",
    "            print(\"Invalid operation. Please choose a valid operation.\")\n",
    "\n",
    "    except ValueError:\n",
    "        print(\"Invalid input. Please enter a number.\")\n",
    "\n",
    "# Call the calculator function\n",
    "calculator()\n"
   ]
  }
 ],
 "metadata": {
  "colab": {
   "provenance": []
  },
  "kernelspec": {
   "display_name": "Python 3 (ipykernel)",
   "language": "python",
   "name": "python3"
  },
  "language_info": {
   "codemirror_mode": {
    "name": "ipython",
    "version": 3
   },
   "file_extension": ".py",
   "mimetype": "text/x-python",
   "name": "python",
   "nbconvert_exporter": "python",
   "pygments_lexer": "ipython3",
   "version": "3.12.4"
  },
  "vscode": {
   "interpreter": {
    "hash": "600e5dfc7548bf1a7dbf1ce56dffde4cc2022c36a863916f16fbf41298a3bf62"
   }
  }
 },
 "nbformat": 4,
 "nbformat_minor": 4
}
