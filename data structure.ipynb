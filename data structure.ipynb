{
 "cells": [
  {
   "cell_type": "code",
   "execution_count": 3,
   "id": "ade1b18c-2bc9-4a1c-8a0b-d45d1e981006",
   "metadata": {},
   "outputs": [
    {
     "ename": "NameError",
     "evalue": "name 'a' is not defined",
     "output_type": "error",
     "traceback": [
      "\u001b[1;31m---------------------------------------------------------------------------\u001b[0m",
      "\u001b[1;31mNameError\u001b[0m                                 Traceback (most recent call last)",
      "Cell \u001b[1;32mIn[3], line 3\u001b[0m\n\u001b[0;32m      1\u001b[0m \u001b[38;5;28;01mimport\u001b[39;00m \u001b[38;5;21;01marray\u001b[39;00m\n\u001b[0;32m      2\u001b[0m \u001b[38;5;66;03m# how would you creat array\u001b[39;00m\n\u001b[1;32m----> 3\u001b[0m array\u001b[38;5;241m.\u001b[39marray(a)\n",
      "\u001b[1;31mNameError\u001b[0m: name 'a' is not defined"
     ]
    }
   ],
   "source": [
    "\n",
    "import array\n",
    "# how would you creat array\n",
    "array.array(a) "
   ]
  },
  {
   "cell_type": "code",
   "execution_count": null,
   "id": "b0523e87-75ee-40e7-a69f-9228ed807bbf",
   "metadata": {},
   "outputs": [],
   "source": []
  },
  {
   "cell_type": "code",
   "execution_count": null,
   "id": "85addbb2-9555-4b1d-8611-c180f1b570a0",
   "metadata": {},
   "outputs": [],
   "source": [
    "#example:- \n",
    "import array\n",
    "num = array.array('i',[1,2,3,4,5,6])\n",
    "num"
   ]
  },
  {
   "cell_type": "code",
   "execution_count": null,
   "id": "389af826-dc23-4a5a-9af0-91af942cb2f2",
   "metadata": {},
   "outputs": [],
   "source": [
    "from array import*\n",
    "array()"
   ]
  },
  {
   "cell_type": "code",
   "execution_count": null,
   "id": "a6cbcc10-522b-4602-8477-b3692eaa7dc4",
   "metadata": {},
   "outputs": [],
   "source": [
    "#all method are worked in a similar way in list"
   ]
  },
  {
   "cell_type": "code",
   "execution_count": null,
   "id": "340bb786-de40-40ff-95c4-de127860a8dd",
   "metadata": {},
   "outputs": [],
   "source": [
    "from array import*\n",
    "num = array('i',[1,2,3,4,5,6])\n",
    "num"
   ]
  },
  {
   "cell_type": "code",
   "execution_count": null,
   "id": "806d3351-8fd2-4899-a073-e0a4714712c9",
   "metadata": {},
   "outputs": [],
   "source": [
    "#creat in float datatype\n",
    "num=array('f',[1,2,3,4,5]) #f for flot datatype\n",
    "num"
   ]
  },
  {
   "cell_type": "code",
   "execution_count": null,
   "id": "fd71708c-06c8-4791-b414-d14a4ac54722",
   "metadata": {},
   "outputs": [],
   "source": [
    "#append 6th element in the list\n",
    "num=array.array('i',[1,2,3,4,5])# i for integer\n",
    "num.append(6)\n",
    "num"
   ]
  },
  {
   "cell_type": "code",
   "execution_count": null,
   "id": "80b207c3-531b-4d93-828a-5d953325baf4",
   "metadata": {},
   "outputs": [],
   "source": [
    "#creat an array with grades of student from the below list.\n",
    "#[4.3,3.5,4.1,4.8,3.9,4.0]\n",
    "grades=array('d',[4.3,3.5,4.1,4.8,3.9,4.0]) #d for indexing double digit index\n",
    "grades.index(4.1)"
   ]
  },
  {
   "cell_type": "code",
   "execution_count": null,
   "id": "2e80c29f-7e68-42ed-9a46-4bf36707f977",
   "metadata": {},
   "outputs": [],
   "source": [
    "#creat an array with grades of student from the below list.\n",
    "#[40,30,45,46,47,48]\n",
    "grades=array('i',[40,30,45,46,47,48])\n",
    "grades"
   ]
  },
  {
   "cell_type": "code",
   "execution_count": null,
   "id": "dcebf5f1-d11c-41e5-8800-4e21bb7fd67b",
   "metadata": {},
   "outputs": [],
   "source": [
    "#find the index of the 5th element\n",
    "import array as arr\n",
    "num=arr.array('i',[1,2,3,4,5,6])\n",
    "print(num.index(5))"
   ]
  },
  {
   "cell_type": "code",
   "execution_count": null,
   "id": "a0a1b75b-c65c-4330-878f-759a94fa5872",
   "metadata": {},
   "outputs": [],
   "source": [
    "number=[1,2,3,4,5]\n",
    "for i in number:\n",
    "    print(i)"
   ]
  },
  {
   "cell_type": "code",
   "execution_count": null,
   "id": "dd3a7a5f-2254-4b04-bb95-5a4649243442",
   "metadata": {},
   "outputs": [],
   "source": [
    "#to find time complexity\n",
    "print(number[:2])"
   ]
  },
  {
   "cell_type": "code",
   "execution_count": null,
   "id": "1d9993a4-2bb6-466d-b02f-1f0157bf5436",
   "metadata": {},
   "outputs": [],
   "source": [
    "#time and space complexity for slicing an array o[k],where k is the number of elements in the slice.\n",
    "#this is because k elements need to be picked up from array and need to be added to a new array."
   ]
  },
  {
   "cell_type": "code",
   "execution_count": null,
   "id": "2aee7f05-b360-4727-92e8-3f5dd648d671",
   "metadata": {},
   "outputs": [],
   "source": [
    "#insert from beginning of the list\n",
    "num =array.array('i',[1,2,3,4])\n",
    "num.insert(0,5)\n",
    "num\n"
   ]
  },
  {
   "cell_type": "code",
   "execution_count": null,
   "id": "c45184fc-ef0f-4ac8-b95b-dd44834f3f2c",
   "metadata": {},
   "outputs": [],
   "source": [
    "#insert from ending of the list\n",
    "num = array.array('i',[1,2,3,4])\n",
    "num.append(5)\n",
    "num"
   ]
  },
  {
   "cell_type": "code",
   "execution_count": null,
   "id": "5306517c-a792-4460-8bfc-d59b33d9d465",
   "metadata": {},
   "outputs": [],
   "source": [
    "#insert element in middle of the list\n",
    "num=array.array('i',[1,2,4,5])\n",
    "num.insert(2,3)#'2' indicate the index\n",
    "num"
   ]
  },
  {
   "cell_type": "code",
   "execution_count": null,
   "id": "5875f04a-69be-46b8-955e-ad85d26f0eea",
   "metadata": {},
   "outputs": [],
   "source": [
    "#deleting element from the beginning\n",
    "num=array.array('i',[1,2,3,4])\n",
    "num.pop(0)#'0' indicate the index\n",
    "num"
   ]
  },
  {
   "cell_type": "code",
   "execution_count": null,
   "id": "f0754b56-dbea-40c2-88b1-ee6532bb678c",
   "metadata": {},
   "outputs": [],
   "source": [
    "#delete from the end\n",
    "num=array.array('i',[1,2,3,4])\n",
    "num.pop()\n",
    "num"
   ]
  },
  {
   "cell_type": "code",
   "execution_count": null,
   "id": "a4cc141b-f53a-4988-9654-65ea6c8c8bdc",
   "metadata": {},
   "outputs": [],
   "source": [
    "#delete element from the middle\n",
    "num=array.array('i',[1,2,3,4])\n",
    "num.pop(3)\n",
    "num"
   ]
  },
  {
   "cell_type": "code",
   "execution_count": 5,
   "id": "5d5be44f-f94a-48c4-92bb-5d337e0b461b",
   "metadata": {},
   "outputs": [
    {
     "data": {
      "text/plain": [
       "array('i', [1, 2, 3, 4, 5, 6, 7])"
      ]
     },
     "execution_count": 5,
     "metadata": {},
     "output_type": "execute_result"
    }
   ],
   "source": [
    "#insert more than one element in the list\n",
    "num=array.array('i',[1,2,3,4])\n",
    "num.extend([5,6,7])\n",
    "num"
   ]
  },
  {
   "cell_type": "code",
   "execution_count": 6,
   "id": "4e8f6218-0d97-4e92-b751-955b2f09ab86",
   "metadata": {},
   "outputs": [
    {
     "data": {
      "text/plain": [
       "array('i', [7, 6, 5, 4, 3, 2, 1])"
      ]
     },
     "execution_count": 6,
     "metadata": {},
     "output_type": "execute_result"
    }
   ],
   "source": [
    "#reversing the list\n",
    "num=array.array('i',[1,2,3,4,5,6,7])\n",
    "num.reverse()\n",
    "num"
   ]
  },
  {
   "cell_type": "code",
   "execution_count": null,
   "id": "e190062e-6ac0-40f5-af96-22b83fe097ba",
   "metadata": {},
   "outputs": [],
   "source": []
  }
 ],
 "metadata": {
  "kernelspec": {
   "display_name": "Python 3 (ipykernel)",
   "language": "python",
   "name": "python3"
  },
  "language_info": {
   "codemirror_mode": {
    "name": "ipython",
    "version": 3
   },
   "file_extension": ".py",
   "mimetype": "text/x-python",
   "name": "python",
   "nbconvert_exporter": "python",
   "pygments_lexer": "ipython3",
   "version": "3.12.4"
  }
 },
 "nbformat": 4,
 "nbformat_minor": 5
}
