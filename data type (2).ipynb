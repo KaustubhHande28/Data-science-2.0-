{
 "cells": [
  {
   "cell_type": "code",
   "execution_count": 12,
   "id": "e93bc385-e427-4a80-8576-30c345842491",
   "metadata": {},
   "outputs": [
    {
     "name": "stdout",
     "output_type": "stream",
     "text": [
      "{1, 2, 3, 4}\n"
     ]
    },
    {
     "data": {
      "text/plain": [
       "set"
      ]
     },
     "execution_count": 12,
     "metadata": {},
     "output_type": "execute_result"
    }
   ],
   "source": [
    "#set datatype\n",
    "a={1,2,2,3,3,4,4}\n",
    "print(a)\n",
    "type(a)"
   ]
  },
  {
   "cell_type": "code",
   "execution_count": 14,
   "id": "7668efcb-8a44-4193-a5a0-65f121eab4a6",
   "metadata": {},
   "outputs": [
    {
     "name": "stdout",
     "output_type": "stream",
     "text": [
      "(1, 2, 3, 4)\n"
     ]
    },
    {
     "data": {
      "text/plain": [
       "tuple"
      ]
     },
     "execution_count": 14,
     "metadata": {},
     "output_type": "execute_result"
    }
   ],
   "source": [
    "#tuple datatype\n",
    "a=(1,2,3,4)\n",
    "print(a)\n",
    "type(a)\n",
    "  "
   ]
  },
  {
   "cell_type": "code",
   "execution_count": 15,
   "id": "efc03f56-520a-4869-9d58-2b605cf4d800",
   "metadata": {},
   "outputs": [
    {
     "name": "stdout",
     "output_type": "stream",
     "text": [
      "[1, 2, 3, 4]\n"
     ]
    },
    {
     "data": {
      "text/plain": [
       "list"
      ]
     },
     "execution_count": 15,
     "metadata": {},
     "output_type": "execute_result"
    }
   ],
   "source": [
    "#list data type\n",
    "a=[1,2,3,4]\n",
    "print(a)\n",
    "type(a)"
   ]
  },
  {
   "cell_type": "code",
   "execution_count": 16,
   "id": "f852a3af-057e-43be-9a67-3b046424e3aa",
   "metadata": {},
   "outputs": [
    {
     "name": "stdout",
     "output_type": "stream",
     "text": [
      "frozenset({1, 2, 3, 4})\n"
     ]
    },
    {
     "data": {
      "text/plain": [
       "frozenset"
      ]
     },
     "execution_count": 16,
     "metadata": {},
     "output_type": "execute_result"
    }
   ],
   "source": [
    "#frozenset datatype\n",
    "a=frozenset({1,2,2,3,3,4,4})\n",
    "print(a)\n",
    "type(a)"
   ]
  },
  {
   "cell_type": "code",
   "execution_count": 13,
   "id": "9cd76663-975d-42af-9f8d-ca2eb897624b",
   "metadata": {},
   "outputs": [
    {
     "name": "stdout",
     "output_type": "stream",
     "text": [
      "{'name': 'kaustubh', 'rollno': 28, 'age': 20}\n"
     ]
    },
    {
     "data": {
      "text/plain": [
       "dict"
      ]
     },
     "execution_count": 13,
     "metadata": {},
     "output_type": "execute_result"
    }
   ],
   "source": [
    "#dictonary datatype\n",
    "a={\"name\":\"kaustubh\",\"rollno\":28,\"age\":20}\n",
    "print(a)\n",
    "type(a)"
   ]
  },
  {
   "cell_type": "code",
   "execution_count": 24,
   "id": "025b40e2-4e4d-4afd-8a74-74b4ba9bbe08",
   "metadata": {},
   "outputs": [],
   "source": [
    "#positive indexing start form 0 to infinity"
   ]
  },
  {
   "cell_type": "code",
   "execution_count": 29,
   "id": "59da7f15-96df-4afc-aa7b-4d1899395979",
   "metadata": {},
   "outputs": [
    {
     "data": {
      "text/plain": [
       "'s'"
      ]
     },
     "execution_count": 29,
     "metadata": {},
     "output_type": "execute_result"
    }
   ],
   "source": [
    "# positive index calling form the string\n",
    "k=\"kaustubh\"\n",
    "k[3]"
   ]
  },
  {
   "cell_type": "code",
   "execution_count": 30,
   "id": "ac26239f-b0ca-4c77-a5cf-a4ef6030e364",
   "metadata": {},
   "outputs": [
    {
     "data": {
      "text/plain": [
       "3"
      ]
     },
     "execution_count": 30,
     "metadata": {},
     "output_type": "execute_result"
    }
   ],
   "source": [
    "# positive index calling for the list\n",
    "a=[0,1,1,2,3,4,5]\n",
    "a[4]"
   ]
  },
  {
   "cell_type": "code",
   "execution_count": 27,
   "id": "0fe59898-b5fd-4ead-8809-49bcaaa4095d",
   "metadata": {},
   "outputs": [],
   "source": [
    "#negative indexing start form -1 to infinity"
   ]
  },
  {
   "cell_type": "code",
   "execution_count": 28,
   "id": "cbfea0be-1439-47a6-8d4b-0f76ef083ede",
   "metadata": {},
   "outputs": [
    {
     "data": {
      "text/plain": [
       "3"
      ]
     },
     "execution_count": 28,
     "metadata": {},
     "output_type": "execute_result"
    }
   ],
   "source": [
    "#negative index calling form the list\n",
    "a=[0,1,2,3,4]\n",
    "a[-2]"
   ]
  },
  {
   "cell_type": "code",
   "execution_count": 31,
   "id": "ba355e4e-ab8d-4a72-aee8-3f94e262bca3",
   "metadata": {},
   "outputs": [
    {
     "data": {
      "text/plain": [
       "'u'"
      ]
     },
     "execution_count": 31,
     "metadata": {},
     "output_type": "execute_result"
    }
   ],
   "source": [
    "# negative index calling form the string\n",
    "k=\"kaustubh\"\n",
    "k[-3]"
   ]
  },
  {
   "cell_type": "code",
   "execution_count": 34,
   "id": "ff6e59f3-1d1d-45ad-80b8-2939f5ca3c76",
   "metadata": {},
   "outputs": [
    {
     "data": {
      "text/plain": [
       "[2, 3, 4, 5, 6]"
      ]
     },
     "execution_count": 34,
     "metadata": {},
     "output_type": "execute_result"
    }
   ],
   "source": [
    "#slicing :- it is having starting and ending point which is its index{ ex:a[1:6] }\n",
    "a=[1,2,3,4,5,6,7]\n",
    "a[1:6]"
   ]
  },
  {
   "cell_type": "code",
   "execution_count": 42,
   "id": "2333aede-d452-4cf3-8a26-59dc08f3ceee",
   "metadata": {},
   "outputs": [
    {
     "data": {
      "text/plain": [
       "[2, 4, 6, 8, 10]"
      ]
     },
     "execution_count": 42,
     "metadata": {},
     "output_type": "execute_result"
    }
   ],
   "source": [
    "#for even number\n",
    "n_num=[1,2,3,4,5,6,7,8,9,10]\n",
    "even_num=n_num[1::2]\n",
    "even_num"
   ]
  },
  {
   "cell_type": "code",
   "execution_count": 43,
   "id": "4d3273b8-7c0c-47fe-8f5f-4bad7fa3569c",
   "metadata": {},
   "outputs": [
    {
     "data": {
      "text/plain": [
       "[1, 3, 5, 7, 9]"
      ]
     },
     "execution_count": 43,
     "metadata": {},
     "output_type": "execute_result"
    }
   ],
   "source": [
    "#for odd number\n",
    "n_num=[1,2,3,4,5,6,7,8,9,10]\n",
    "odd_num=n_num[0::2]\n",
    "odd_num"
   ]
  },
  {
   "cell_type": "code",
   "execution_count": 51,
   "id": "729aadd3-801b-4058-9606-1f7d0aa64652",
   "metadata": {},
   "outputs": [
    {
     "data": {
      "text/plain": [
       "[4]"
      ]
     },
     "execution_count": 51,
     "metadata": {},
     "output_type": "execute_result"
    }
   ],
   "source": [
    "n_num=[2,3,4,5,6,7,8,9,10]\n",
    "prime_num=n_num[2::10]\n",
    "prime_num"
   ]
  },
  {
   "cell_type": "code",
   "execution_count": 58,
   "id": "b7b6df11-78da-43b1-be5e-16cface5ebdc",
   "metadata": {},
   "outputs": [],
   "source": [
    "#slicing in tuple\n",
    "#create tuple of first 10 natural no.\n",
    "#slice even no.tuple form creatd form natural no.tuple\n",
    "#slice odd no.tuple form creatd form natural no.tuple   \n"
   ]
  },
  {
   "cell_type": "code",
   "execution_count": 59,
   "id": "e198930a-8d23-4fc2-9c61-52ffde575420",
   "metadata": {},
   "outputs": [
    {
     "data": {
      "text/plain": [
       "20"
      ]
     },
     "execution_count": 59,
     "metadata": {},
     "output_type": "execute_result"
    }
   ],
   "source": [
    "#dictonary calling by indexing\n",
    "a={\"name\":\"kaustubh\",\"rollno\":28,\"age\":20}\n",
    "a[\"age\"]\n",
    "#In the dictonary key cannot be same but value can be same and variable should be different for different list"
   ]
  },
  {
   "cell_type": "code",
   "execution_count": 62,
   "id": "cc07702b-b84e-4482-a882-cd9ae589b9a0",
   "metadata": {},
   "outputs": [
    {
     "data": {
      "text/plain": [
       "(1, 2, 3, 4)"
      ]
     },
     "execution_count": 62,
     "metadata": {},
     "output_type": "execute_result"
    }
   ],
   "source": [
    "#creat a list and convert it in the tuple using type casting\n",
    "a=[1,2,3,4]\n",
    "b=tuple(a)\n",
    "b"
   ]
  },
  {
   "cell_type": "code",
   "execution_count": 63,
   "id": "5547d8ea-a770-474f-adad-903a33ddf32d",
   "metadata": {},
   "outputs": [
    {
     "data": {
      "text/plain": [
       "[1, 2, 3, 4, 5]"
      ]
     },
     "execution_count": 63,
     "metadata": {},
     "output_type": "execute_result"
    }
   ],
   "source": [
    "a=(1,2,3,4,5)\n",
    "b=list(a)\n",
    "b"
   ]
  },
  {
   "cell_type": "code",
   "execution_count": null,
   "id": "d74fdccc-6732-482b-b235-3267402c6490",
   "metadata": {},
   "outputs": [],
   "source": [
    "#Method of tuple"
   ]
  },
  {
   "cell_type": "code",
   "execution_count": 75,
   "id": "303c7e18-a199-4a4f-8d67-deef7d28ff89",
   "metadata": {},
   "outputs": [
    {
     "data": {
      "text/plain": [
       "3"
      ]
     },
     "execution_count": 75,
     "metadata": {},
     "output_type": "execute_result"
    }
   ],
   "source": [
    "b=(1,1,2,2,2,3,3,3,4,)\n",
    "b.count(2) #it tells us the repeated value form the tuple"
   ]
  },
  {
   "cell_type": "code",
   "execution_count": 74,
   "id": "69289af9-b400-434c-a47c-1833ea12fd12",
   "metadata": {},
   "outputs": [
    {
     "data": {
      "text/plain": [
       "8"
      ]
     },
     "execution_count": 74,
     "metadata": {},
     "output_type": "execute_result"
    }
   ],
   "source": [
    "b=(1,1,2,2,2,3,3,3,4,)\n",
    "b.index(4) #it tells us the value present in the tuple"
   ]
  },
  {
   "cell_type": "code",
   "execution_count": 73,
   "id": "c1678866-da26-4a40-a195-4f5e4e697e4b",
   "metadata": {},
   "outputs": [
    {
     "data": {
      "text/plain": [
       "[1, 2, 3, 4, 5, 'A']"
      ]
     },
     "execution_count": 73,
     "metadata": {},
     "output_type": "execute_result"
    }
   ],
   "source": [
    "#Method of list\n",
    "#append:- it add value in the present list\n",
    "a=[1,2,3,4,5]\n",
    "a.append(\"A\")\n",
    "a"
   ]
  },
  {
   "cell_type": "code",
   "execution_count": 88,
   "id": "0dbecd63-0f21-43c0-975e-71207f575235",
   "metadata": {},
   "outputs": [
    {
     "data": {
      "text/plain": [
       "['kaustubh',\n",
       " ['hindi', 'marathi', 'english', 'maths', 'science'],\n",
       " (90, 70, 60, 80, 98),\n",
       " {'hindi': 'shital', 'english': 'shalini'}]"
      ]
     },
     "execution_count": 88,
     "metadata": {},
     "output_type": "execute_result"
    }
   ],
   "source": [
    "#list of name, name of subject\n",
    "# tuple of marks of each subject\n",
    "#add dictonary in the list\n",
    "student_info=[\"kaustubh\", [\"hindi\",\"marathi\", \"english\", \"maths\",\"science\"],(90,70,60,80,98)]\n",
    "d={\"hindi\":\"shital\",\"english\":\"shalini\"}\n",
    "student_info.append(d)\n",
    "student_info"
   ]
  },
  {
   "cell_type": "code",
   "execution_count": 95,
   "id": "11575496-808a-4efd-9d05-156d8cf0809f",
   "metadata": {},
   "outputs": [
    {
     "data": {
      "text/plain": [
       "['kaustubh',\n",
       " ['hindi', 'marathi', 'english', 'maths', 'science'],\n",
       " (90, 70, 60, 80, 98)]"
      ]
     },
     "execution_count": 95,
     "metadata": {},
     "output_type": "execute_result"
    }
   ],
   "source": [
    "#pop:- it remove the perticular index form the list\n",
    "student_info=[\"kaustubh\", [\"hindi\",\"marathi\", \"english\", \"maths\",\"science\"],(90,70,60,80,98)]\n",
    "d={\"hindi\":\"shital\",\"english\":\"shalini\"}\n",
    "student_info.pop\n",
    "student_info"
   ]
  },
  {
   "cell_type": "code",
   "execution_count": 96,
   "id": "6931a3b4-61d0-4398-bf5f-364e43c48986",
   "metadata": {},
   "outputs": [
    {
     "data": {
      "text/plain": [
       "[['hindi', 'marathi', 'english', 'maths', 'science'], (90, 70, 60, 80, 98)]"
      ]
     },
     "execution_count": 96,
     "metadata": {},
     "output_type": "execute_result"
    }
   ],
   "source": [
    "#remove:- it is used for removing perticular value from the list\n",
    "student_info=[\"kaustubh\", [\"hindi\",\"marathi\", \"english\", \"maths\",\"science\"],(90,70,60,80,98)]\n",
    "d={\"hindi\":\"shital\",\"english\":\"shalini\"}\n",
    "student_info.remove(\"kaustubh\")\n",
    "student_info"
   ]
  },
  {
   "cell_type": "code",
   "execution_count": 99,
   "id": "92406a2c-91d7-4b6b-be0f-23f68dc03333",
   "metadata": {},
   "outputs": [
    {
     "data": {
      "text/plain": [
       "['kaustubh',\n",
       " 'sahil',\n",
       " ['hindi', 'marathi', 'english', 'maths', 'science'],\n",
       " (90, 70, 60, 80, 98)]"
      ]
     },
     "execution_count": 99,
     "metadata": {},
     "output_type": "execute_result"
    }
   ],
   "source": [
    "#insert:- add the value in the list as per it is assign\n",
    "student_info=[\"kaustubh\", [\"hindi\",\"marathi\", \"english\", \"maths\",\"science\"],(90,70,60,80,98)]\n",
    "d={\"hindi\":\"shital\",\"english\":\"shalini\"}\n",
    "student_info.insert(1,\"sahil\")\n",
    "student_info"
   ]
  },
  {
   "cell_type": "code",
   "execution_count": 104,
   "id": "9eb7529c-b04a-430f-b90a-c587f196a7d3",
   "metadata": {},
   "outputs": [
    {
     "data": {
      "text/plain": [
       "'OLLEH'"
      ]
     },
     "execution_count": 104,
     "metadata": {},
     "output_type": "execute_result"
    }
   ],
   "source": [
    "#reverse slicing\n",
    "a=\"HELLO\"\n",
    "a[::-1]"
   ]
  },
  {
   "cell_type": "code",
   "execution_count": 105,
   "id": "af5f0bea-42ab-47c0-aded-10daf379e7cb",
   "metadata": {},
   "outputs": [],
   "source": [
    "#list method\n",
    "#string method"
   ]
  },
  {
   "cell_type": "code",
   "execution_count": 7,
   "id": "56081ac5-b087-4173-a1ad-a8378eb374c9",
   "metadata": {},
   "outputs": [
    {
     "data": {
      "text/plain": [
       "(1, 2, 3, 4, 5, 6, 7, 8, 9, 10)"
      ]
     },
     "execution_count": 7,
     "metadata": {},
     "output_type": "execute_result"
    }
   ],
   "source": [
    "#slicing in tuple :#create tuple of first 10 natural no.\n",
    "t=(1,2,3,4,5,6,7,8,9,10)\n",
    "t"
   ]
  },
  {
   "cell_type": "code",
   "execution_count": 8,
   "id": "e1269e49-9522-4521-9902-df2d427ee81a",
   "metadata": {},
   "outputs": [
    {
     "data": {
      "text/plain": [
       "(2, 4, 6, 8, 10)"
      ]
     },
     "execution_count": 8,
     "metadata": {},
     "output_type": "execute_result"
    }
   ],
   "source": [
    "#slice even no.tuple form creatd form natural no.tuple\n",
    "t=(1,2,3,4,5,6,7,8,9,10)\n",
    "t[1::2]\n"
   ]
  },
  {
   "cell_type": "code",
   "execution_count": 6,
   "id": "1ae3e8f9-bc89-47ce-9066-dcd8da3759d5",
   "metadata": {},
   "outputs": [
    {
     "data": {
      "text/plain": [
       "(1, 3, 5, 7, 9)"
      ]
     },
     "execution_count": 6,
     "metadata": {},
     "output_type": "execute_result"
    }
   ],
   "source": [
    "#slice odd no.tuple form creatd form natural no.tuple\n",
    "t=(1,2,3,4,5,6,7,8,9,10)\n",
    "t[0::2]\n"
   ]
  },
  {
   "cell_type": "code",
   "execution_count": 9,
   "id": "bf35b01c-0519-42aa-b9ae-ff0cb2958a03",
   "metadata": {},
   "outputs": [
    {
     "data": {
      "text/plain": [
       "'Kaustubh'"
      ]
     },
     "execution_count": 9,
     "metadata": {},
     "output_type": "execute_result"
    }
   ],
   "source": [
    "#string method\n",
    "a=\"kaustubh\"\n",
    "a.capitalize()"
   ]
  },
  {
   "cell_type": "code",
   "execution_count": 12,
   "id": "4022301d-5b8b-4456-bab8-956a91007f26",
   "metadata": {},
   "outputs": [
    {
     "data": {
      "text/plain": [
       "'kaustubh'"
      ]
     },
     "execution_count": 12,
     "metadata": {},
     "output_type": "execute_result"
    }
   ],
   "source": [
    "a=\"KAUSTUBH\"\n",
    "a.casefold()"
   ]
  },
  {
   "cell_type": "code",
   "execution_count": 13,
   "id": "c3572fb1-0de1-4f77-aa5d-a6cf3b51ad0f",
   "metadata": {},
   "outputs": [
    {
     "data": {
      "text/plain": [
       "'KAUSTUBH'"
      ]
     },
     "execution_count": 13,
     "metadata": {},
     "output_type": "execute_result"
    }
   ],
   "source": [
    "a=\"kaustubh\"\n",
    "a.upper()"
   ]
  },
  {
   "cell_type": "code",
   "execution_count": 14,
   "id": "877445fc-86ed-477e-9562-c1b1b342c8f9",
   "metadata": {},
   "outputs": [
    {
     "data": {
      "text/plain": [
       "'kaustubh'"
      ]
     },
     "execution_count": 14,
     "metadata": {},
     "output_type": "execute_result"
    }
   ],
   "source": [
    "a=\"KaUsTuBh\"\n",
    "a.lower()"
   ]
  },
  {
   "cell_type": "code",
   "execution_count": 16,
   "id": "06ee145c-b5c1-4ed8-ad02-5a9d7bd58024",
   "metadata": {},
   "outputs": [
    {
     "data": {
      "text/plain": [
       "'Kaustubh'"
      ]
     },
     "execution_count": 16,
     "metadata": {},
     "output_type": "execute_result"
    }
   ],
   "source": [
    "a=\"kAUSTUBH\"\n",
    "a.swapcase()"
   ]
  },
  {
   "cell_type": "code",
   "execution_count": 17,
   "id": "2269d8c3-fc98-4e0c-ab5f-b4a06eab3950",
   "metadata": {},
   "outputs": [
    {
     "data": {
      "text/plain": [
       "'Kaustubh'"
      ]
     },
     "execution_count": 17,
     "metadata": {},
     "output_type": "execute_result"
    }
   ],
   "source": [
    "a=\"kaustubh\"\n",
    "a.title()"
   ]
  },
  {
   "cell_type": "code",
   "execution_count": 18,
   "id": "5602eef9-77d4-4796-949a-e190d0ecf2f4",
   "metadata": {},
   "outputs": [
    {
     "data": {
      "text/plain": [
       "['kaustubh']"
      ]
     },
     "execution_count": 18,
     "metadata": {},
     "output_type": "execute_result"
    }
   ],
   "source": [
    "a=\"kaustubh\"\n",
    "a.split()"
   ]
  },
  {
   "cell_type": "code",
   "execution_count": 21,
   "id": "80c96c3c-61ed-4f91-bd83-c0889c2149a0",
   "metadata": {},
   "outputs": [
    {
     "data": {
      "text/plain": [
       "[1, 2, 3, 4, 5, 6]"
      ]
     },
     "execution_count": 21,
     "metadata": {},
     "output_type": "execute_result"
    }
   ],
   "source": [
    "#list method\n",
    "k=[1,2,3,4,5]\n",
    "k.append(6)\n",
    "k"
   ]
  },
  {
   "cell_type": "code",
   "execution_count": 25,
   "id": "c3d2f22c-79ec-433e-9c3c-903c948493ea",
   "metadata": {},
   "outputs": [
    {
     "data": {
      "text/plain": [
       "[]"
      ]
     },
     "execution_count": 25,
     "metadata": {},
     "output_type": "execute_result"
    }
   ],
   "source": [
    "k=[1,2,3,4,5]\n",
    "k.clear()\n",
    "k"
   ]
  },
  {
   "cell_type": "code",
   "execution_count": 2,
   "id": "7b460199-703e-4cbd-b10b-19a21e7fadc4",
   "metadata": {},
   "outputs": [
    {
     "data": {
      "text/plain": [
       "2"
      ]
     },
     "execution_count": 2,
     "metadata": {},
     "output_type": "execute_result"
    }
   ],
   "source": [
    "k=[1,2,2,2,3,3,4,5]\n",
    "k.count(3)"
   ]
  },
  {
   "cell_type": "code",
   "execution_count": 28,
   "id": "261d1ef6-a1d6-4471-ba94-fbe4c8be3a9c",
   "metadata": {},
   "outputs": [
    {
     "data": {
      "text/plain": [
       "3"
      ]
     },
     "execution_count": 28,
     "metadata": {},
     "output_type": "execute_result"
    }
   ],
   "source": [
    "k=[1,2,3,4,5]\n",
    "k.index(4)"
   ]
  },
  {
   "cell_type": "code",
   "execution_count": 31,
   "id": "06a3fd58-c0a2-407e-a5f9-8ea9b219e1eb",
   "metadata": {},
   "outputs": [
    {
     "data": {
      "text/plain": [
       "[1, 2, 3, 4, 7, 5]"
      ]
     },
     "execution_count": 31,
     "metadata": {},
     "output_type": "execute_result"
    }
   ],
   "source": [
    "k=[1,2,3,4,5]\n",
    "k.insert(4,7)\n",
    "k"
   ]
  },
  {
   "cell_type": "code",
   "execution_count": 32,
   "id": "1adc20ff-19a6-482c-ad85-0c09d0f117a1",
   "metadata": {},
   "outputs": [
    {
     "data": {
      "text/plain": [
       "[1, 2, 3, 4]"
      ]
     },
     "execution_count": 32,
     "metadata": {},
     "output_type": "execute_result"
    }
   ],
   "source": [
    "k=[1,2,3,4,5]\n",
    "k.pop()\n",
    "k"
   ]
  },
  {
   "cell_type": "code",
   "execution_count": 33,
   "id": "564dd669-45b5-4644-af05-1e15255fa9ab",
   "metadata": {},
   "outputs": [
    {
     "data": {
      "text/plain": [
       "[1, 2, 4, 5]"
      ]
     },
     "execution_count": 33,
     "metadata": {},
     "output_type": "execute_result"
    }
   ],
   "source": [
    "k=[1,2,3,4,5]\n",
    "k.remove(3)\n",
    "k"
   ]
  },
  {
   "cell_type": "code",
   "execution_count": 34,
   "id": "31f203f7-3bf9-424d-a571-0d36636409ba",
   "metadata": {},
   "outputs": [
    {
     "data": {
      "text/plain": [
       "[5, 4, 3, 2, 1]"
      ]
     },
     "execution_count": 34,
     "metadata": {},
     "output_type": "execute_result"
    }
   ],
   "source": [
    "k=[1,2,3,4,5]\n",
    "k.reverse()\n",
    "k"
   ]
  },
  {
   "cell_type": "code",
   "execution_count": 37,
   "id": "1aef62cf-91f0-4ee4-8ec0-96e5824d381c",
   "metadata": {},
   "outputs": [
    {
     "data": {
      "text/plain": [
       "[1, 2, 3, 4, 5]"
      ]
     },
     "execution_count": 37,
     "metadata": {},
     "output_type": "execute_result"
    }
   ],
   "source": [
    "k=[1,2,3,4,5]\n",
    "k.sort()\n",
    "k"
   ]
  },
  {
   "cell_type": "code",
   "execution_count": null,
   "id": "cd1b3fe0-df55-4657-a00c-91e49199035b",
   "metadata": {},
   "outputs": [],
   "source": []
  }
 ],
 "metadata": {
  "kernelspec": {
   "display_name": "Python 3 (ipykernel)",
   "language": "python",
   "name": "python3"
  },
  "language_info": {
   "codemirror_mode": {
    "name": "ipython",
    "version": 3
   },
   "file_extension": ".py",
   "mimetype": "text/x-python",
   "name": "python",
   "nbconvert_exporter": "python",
   "pygments_lexer": "ipython3",
   "version": "3.12.4"
  }
 },
 "nbformat": 4,
 "nbformat_minor": 5
}
