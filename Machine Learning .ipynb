{
 "cells": [
  {
   "cell_type": "markdown",
   "id": "76988642-aea8-4352-ab25-44c273facbd9",
   "metadata": {},
   "source": [
    "- Linear Regression :-is used to find relationship between dependent variable and one or more independent variable \n",
    "- Logistic Regression :-is used statistical analysis method to predict a binary outcome, such as yes or no, based on prior observations of a data set.\n",
    "- Supervised learning :- is a method where labeled dataset is used prediced the outcome of it \n",
    "- Unsupervisted learning :-is a method where unlabeled data set [raw data] is used to calssify the outcome of it.\n",
    "- Discrete varaible :- It represent to count whole numbers eg . Number of objects in a collection\n",
    "- Continuous variable :- It represent to count measureable amount eg. Water volume or weight \n",
    "- Decision tree :-is a supervisted machine learning algorithm used for both classification and predection,it is tree like structure with root node,branch node,& leaf node\n",
    "- KNL [K NEAREST LABEL ] : used to find the value with the help of nearest neighboor\n",
    "- KNN [K NEAREST NEIGHBOOR ]: It is also used for pattern regocgnization in data mining , intrustion detection [detect bugs from link ]\n"
   ]
  },
  {
   "cell_type": "markdown",
   "id": "3f5dc926-f2a5-4443-863a-8ecb3b7d7ef3",
   "metadata": {},
   "source": [
    "- linear Regression : prediction\n",
    "- logistic Regression : classification\n",
    "- Supervisted learning  : prediction\n",
    "- Unsupervisted learning :  classification\n",
    "- Decision tree : prediction &  classification\n",
    "- KNN : prediction & classification"
   ]
  },
  {
   "cell_type": "code",
   "execution_count": null,
   "id": "cdaedee5-2826-41b5-b800-01c1c852e3cd",
   "metadata": {},
   "outputs": [],
   "source": []
  }
 ],
 "metadata": {
  "kernelspec": {
   "display_name": "Python 3 (ipykernel)",
   "language": "python",
   "name": "python3"
  },
  "language_info": {
   "codemirror_mode": {
    "name": "ipython",
    "version": 3
   },
   "file_extension": ".py",
   "mimetype": "text/x-python",
   "name": "python",
   "nbconvert_exporter": "python",
   "pygments_lexer": "ipython3",
   "version": "3.12.4"
  }
 },
 "nbformat": 4,
 "nbformat_minor": 5
}
