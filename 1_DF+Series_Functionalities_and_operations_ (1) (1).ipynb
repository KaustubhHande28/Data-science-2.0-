{
 "cells": [
  {
   "cell_type": "code",
   "execution_count": null,
   "metadata": {
    "id": "fztDQiXk-Nbv"
   },
   "outputs": [],
   "source": [
    "import numpy as np\n",
    "import pandas as pd\n"
   ]
  },
  {
   "cell_type": "markdown",
   "metadata": {
    "id": "9pTl3Jyg99H1"
   },
   "source": [
    "### **Reindexing**\n",
    "A critical method on pandas objects is reindex, which means to create a new object\n",
    "with the data conformed to a new index."
   ]
  },
  {
   "cell_type": "code",
   "execution_count": null,
   "metadata": {
    "colab": {
     "base_uri": "https://localhost:8080/"
    },
    "id": "Js9JRApA-HvM",
    "outputId": "d34e5bf2-21b0-4897-af1a-69453ddfe96a"
   },
   "outputs": [
    {
     "data": {
      "text/plain": [
       "d    4.5\n",
       "b    7.2\n",
       "a   -5.3\n",
       "c    3.6\n",
       "dtype: float64"
      ]
     },
     "execution_count": 3,
     "metadata": {},
     "output_type": "execute_result"
    }
   ],
   "source": [
    " obj = pd.Series([4.5, 7.2, -5.3, 3.6], index=['d', 'b', 'a', 'c'])\n",
    " obj"
   ]
  },
  {
   "cell_type": "markdown",
   "metadata": {
    "id": "IOzV6otq_Fe6"
   },
   "source": [
    "Calling reindex on this Series rearranges the data according to the new index, introducing missing values if any index values were not already present"
   ]
  },
  {
   "cell_type": "code",
   "execution_count": null,
   "metadata": {
    "colab": {
     "base_uri": "https://localhost:8080/"
    },
    "id": "jttuqDpX-KM9",
    "outputId": "11d13259-c8cf-4699-f777-99202cc02321"
   },
   "outputs": [
    {
     "data": {
      "text/plain": [
       "a   -5.3\n",
       "b    7.2\n",
       "c    3.6\n",
       "d    4.5\n",
       "e    NaN\n",
       "dtype: float64"
      ]
     },
     "execution_count": 4,
     "metadata": {},
     "output_type": "execute_result"
    }
   ],
   "source": [
    "obj2 = obj.reindex(['a', 'b', 'c', 'd', 'e'])\n",
    "\n",
    "obj2"
   ]
  },
  {
   "cell_type": "markdown",
   "metadata": {
    "id": "CRjVOZmy98-F"
   },
   "source": [
    "For ordered data like time series, it may be desirable to do some interpolation or filling\n",
    "of values when reindexing. The method option allows us to do this, using a method such\n",
    "as ffill which forward fills the values:\n"
   ]
  },
  {
   "cell_type": "code",
   "execution_count": 3,
   "metadata": {
    "colab": {
     "base_uri": "https://localhost:8080/"
    },
    "id": "MIGWHb0ZHb70",
    "outputId": "5567ce7b-cd6c-450f-ce64-c906d008178b"
   },
   "outputs": [
    {
     "data": {
      "text/plain": [
       "0      blue\n",
       "1      blue\n",
       "2    purple\n",
       "3    purple\n",
       "4    yellow\n",
       "5    yellow\n",
       "6    yellow\n",
       "7    yellow\n",
       "8    yellow\n",
       "dtype: object"
      ]
     },
     "execution_count": 3,
     "metadata": {},
     "output_type": "execute_result"
    }
   ],
   "source": [
    "import pandas as pd\n",
    "# ffill\n",
    "\n",
    "obj3 = pd.Series(['blue', 'purple', 'yellow'], index=[0, 2, 4])    # 0 to 2 ->'blue'    2 to 4 ->'purple'   4 and greater than it\n",
    "obj3.reindex(range(9), method='ffill')"
   ]
  },
  {
   "cell_type": "code",
   "execution_count": null,
   "metadata": {
    "colab": {
     "base_uri": "https://localhost:8080/"
    },
    "id": "uZ7vodC7M3Jh",
    "outputId": "65ed1413-2ee4-43b1-e99e-ebcd4d42835a"
   },
   "outputs": [
    {
     "data": {
      "text/plain": [
       "0      blue\n",
       "1    purple\n",
       "2    purple\n",
       "3    yellow\n",
       "4    yellow\n",
       "5       NaN\n",
       "6       NaN\n",
       "7       NaN\n",
       "8       NaN\n",
       "dtype: object"
      ]
     },
     "execution_count": 15,
     "metadata": {},
     "output_type": "execute_result"
    }
   ],
   "source": [
    "# bfill\n",
    "\n",
    "obj3 = pd.Series(['blue', 'purple', 'yellow'], index=[0, 2, 4])\n",
    "obj3.reindex(range(9), method='bfill')"
   ]
  },
  {
   "cell_type": "code",
   "execution_count": null,
   "metadata": {
    "colab": {
     "base_uri": "https://localhost:8080/"
    },
    "id": "VYr7wBAvNj5p",
    "outputId": "5c7de028-12d8-42c6-d797-c404f22bdec9"
   },
   "outputs": [
    {
     "data": {
      "text/plain": [
       "0      blue\n",
       "1    purple\n",
       "2    purple\n",
       "3    yellow\n",
       "4    yellow\n",
       "5    yellow\n",
       "6    yellow\n",
       "7       NaN\n",
       "8       NaN\n",
       "dtype: object"
      ]
     },
     "execution_count": 18,
     "metadata": {},
     "output_type": "execute_result"
    }
   ],
   "source": [
    "# bfill\n",
    "\n",
    "obj3 = pd.Series(['blue', 'purple', 'yellow'], index=[0, 2, 6])\n",
    "obj3.reindex(range(9), method='bfill')"
   ]
  },
  {
   "cell_type": "markdown",
   "metadata": {
    "id": "GUo6MNRY980h"
   },
   "source": [
    "![image.png](data:image/png;base64,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)"
   ]
  },
  {
   "cell_type": "markdown",
   "metadata": {
    "id": "O57UKmVsRcly"
   },
   "source": [
    "###Dropping entries from an axis"
   ]
  },
  {
   "cell_type": "markdown",
   "metadata": {
    "id": "XQAyO6Q6RgXL"
   },
   "source": [
    "Dropping one or more entries from an axis is easy if you have an index array or list\n",
    "without those entries.\n",
    "\n",
    "\n",
    "The drop\n",
    "method will return a new object with the indicated value or values deleted from an axis"
   ]
  },
  {
   "cell_type": "code",
   "execution_count": 9,
   "metadata": {
    "colab": {
     "base_uri": "https://localhost:8080/"
    },
    "id": "4Cshbig79zWK",
    "outputId": "add3fda9-e2fa-4dfc-8b9d-a4a1a1b13295"
   },
   "outputs": [
    {
     "data": {
      "text/plain": [
       "a    0.0\n",
       "b    1.0\n",
       "d    3.0\n",
       "e    4.0\n",
       "dtype: float64"
      ]
     },
     "execution_count": 9,
     "metadata": {},
     "output_type": "execute_result"
    }
   ],
   "source": [
    "import numpy as np\n",
    "\n",
    "obj = pd.Series(np.arange(5.), index=['a', 'b', 'c', 'd', 'e'])\n",
    "obj\n",
    "\n",
    "new_obj = obj.drop('c')\n",
    "\n",
    "new_obj"
   ]
  },
  {
   "cell_type": "code",
   "execution_count": null,
   "metadata": {
    "colab": {
     "base_uri": "https://localhost:8080/"
    },
    "id": "n6LeaQVTSYDx",
    "outputId": "4f84dbac-103a-4bff-df96-75e878b71f27"
   },
   "outputs": [
    {
     "data": {
      "text/plain": [
       "a    0.0\n",
       "b    1.0\n",
       "e    4.0\n",
       "dtype: float64"
      ]
     },
     "execution_count": 21,
     "metadata": {},
     "output_type": "execute_result"
    }
   ],
   "source": [
    " obj.drop(['d', 'c'])\n"
   ]
  },
  {
   "cell_type": "code",
   "execution_count": null,
   "metadata": {
    "colab": {
     "base_uri": "https://localhost:8080/"
    },
    "id": "UvuxkovjSek7",
    "outputId": "1faab539-93b6-4ced-bfac-e8518c30fa3b"
   },
   "outputs": [
    {
     "data": {
      "text/plain": [
       "a    0.0\n",
       "b    1.0\n",
       "c    2.0\n",
       "d    3.0\n",
       "e    4.0\n",
       "dtype: float64"
      ]
     },
     "execution_count": 22,
     "metadata": {},
     "output_type": "execute_result"
    }
   ],
   "source": [
    "obj   # No changes to be observed as the new obj is being asssign the return output form the dropping of column in dataframe."
   ]
  },
  {
   "cell_type": "markdown",
   "metadata": {
    "id": "7d9r4YRWDe8X"
   },
   "source": [
    "###More...Selection and Filtering"
   ]
  },
  {
   "cell_type": "code",
   "execution_count": 5,
   "metadata": {
    "colab": {
     "base_uri": "https://localhost:8080/",
     "height": 175
    },
    "id": "vXVqHYQlSuhf",
    "outputId": "f1419887-1413-4611-ada1-5da28161f5d3"
   },
   "outputs": [
    {
     "data": {
      "text/html": [
       "<div>\n",
       "<style scoped>\n",
       "    .dataframe tbody tr th:only-of-type {\n",
       "        vertical-align: middle;\n",
       "    }\n",
       "\n",
       "    .dataframe tbody tr th {\n",
       "        vertical-align: top;\n",
       "    }\n",
       "\n",
       "    .dataframe thead th {\n",
       "        text-align: right;\n",
       "    }\n",
       "</style>\n",
       "<table border=\"1\" class=\"dataframe\">\n",
       "  <thead>\n",
       "    <tr style=\"text-align: right;\">\n",
       "      <th></th>\n",
       "      <th>one</th>\n",
       "      <th>two</th>\n",
       "      <th>three</th>\n",
       "      <th>four</th>\n",
       "    </tr>\n",
       "  </thead>\n",
       "  <tbody>\n",
       "    <tr>\n",
       "      <th>Ohio</th>\n",
       "      <td>0</td>\n",
       "      <td>1</td>\n",
       "      <td>2</td>\n",
       "      <td>3</td>\n",
       "    </tr>\n",
       "    <tr>\n",
       "      <th>Colorado</th>\n",
       "      <td>4</td>\n",
       "      <td>5</td>\n",
       "      <td>6</td>\n",
       "      <td>7</td>\n",
       "    </tr>\n",
       "    <tr>\n",
       "      <th>Utah</th>\n",
       "      <td>8</td>\n",
       "      <td>9</td>\n",
       "      <td>10</td>\n",
       "      <td>11</td>\n",
       "    </tr>\n",
       "    <tr>\n",
       "      <th>New York</th>\n",
       "      <td>12</td>\n",
       "      <td>13</td>\n",
       "      <td>14</td>\n",
       "      <td>15</td>\n",
       "    </tr>\n",
       "  </tbody>\n",
       "</table>\n",
       "</div>"
      ],
      "text/plain": [
       "          one  two  three  four\n",
       "Ohio        0    1      2     3\n",
       "Colorado    4    5      6     7\n",
       "Utah        8    9     10    11\n",
       "New York   12   13     14    15"
      ]
     },
     "execution_count": 5,
     "metadata": {},
     "output_type": "execute_result"
    }
   ],
   "source": [
    "import pandas as pd\n",
    "import numpy as np\n",
    "\n",
    "data = pd.DataFrame(np.arange(16).reshape((4, 4)),index=['Ohio', 'Colorado', 'Utah', 'New York'],columns=['one', 'two', 'three', 'four'])\n",
    "data"
   ]
  },
  {
   "cell_type": "markdown",
   "metadata": {
    "id": "536DLgsYD0ZR"
   },
   "source": [
    "Now Try to Comprehend what all these code cells are trying to do!"
   ]
  },
  {
   "cell_type": "code",
   "execution_count": 6,
   "metadata": {
    "colab": {
     "base_uri": "https://localhost:8080/"
    },
    "id": "Iuc_KmVKD7H1",
    "outputId": "e27c52df-82f0-49c4-97a4-9a0181cfa642"
   },
   "outputs": [
    {
     "data": {
      "text/plain": [
       "1"
      ]
     },
     "execution_count": 6,
     "metadata": {},
     "output_type": "execute_result"
    }
   ],
   "source": [
    "data['two']['Ohio']    #returns column 'two'of the dataframe, with index"
   ]
  },
  {
   "cell_type": "code",
   "execution_count": null,
   "metadata": {
    "colab": {
     "base_uri": "https://localhost:8080/",
     "height": 175
    },
    "id": "DjEdmQ3aEIJ-",
    "outputId": "b12dfb95-dc2f-4024-f473-585b38db291a"
   },
   "outputs": [
    {
     "data": {
      "application/vnd.google.colaboratory.intrinsic+json": {
       "summary": "{\n  \"name\": \"data[['three', 'one']]\",\n  \"rows\": 4,\n  \"fields\": [\n    {\n      \"column\": \"three\",\n      \"properties\": {\n        \"dtype\": \"number\",\n        \"std\": 5,\n        \"min\": 2,\n        \"max\": 14,\n        \"num_unique_values\": 4,\n        \"samples\": [\n          6,\n          14,\n          2\n        ],\n        \"semantic_type\": \"\",\n        \"description\": \"\"\n      }\n    },\n    {\n      \"column\": \"one\",\n      \"properties\": {\n        \"dtype\": \"number\",\n        \"std\": 5,\n        \"min\": 0,\n        \"max\": 12,\n        \"num_unique_values\": 4,\n        \"samples\": [\n          4,\n          12,\n          0\n        ],\n        \"semantic_type\": \"\",\n        \"description\": \"\"\n      }\n    }\n  ]\n}",
       "type": "dataframe"
      },
      "text/html": [
       "\n",
       "  <div id=\"df-c8110b77-30b9-44b0-9fa3-6450c6a0f542\" class=\"colab-df-container\">\n",
       "    <div>\n",
       "<style scoped>\n",
       "    .dataframe tbody tr th:only-of-type {\n",
       "        vertical-align: middle;\n",
       "    }\n",
       "\n",
       "    .dataframe tbody tr th {\n",
       "        vertical-align: top;\n",
       "    }\n",
       "\n",
       "    .dataframe thead th {\n",
       "        text-align: right;\n",
       "    }\n",
       "</style>\n",
       "<table border=\"1\" class=\"dataframe\">\n",
       "  <thead>\n",
       "    <tr style=\"text-align: right;\">\n",
       "      <th></th>\n",
       "      <th>three</th>\n",
       "      <th>one</th>\n",
       "    </tr>\n",
       "  </thead>\n",
       "  <tbody>\n",
       "    <tr>\n",
       "      <th>Ohio</th>\n",
       "      <td>2</td>\n",
       "      <td>0</td>\n",
       "    </tr>\n",
       "    <tr>\n",
       "      <th>Colorado</th>\n",
       "      <td>6</td>\n",
       "      <td>4</td>\n",
       "    </tr>\n",
       "    <tr>\n",
       "      <th>Utah</th>\n",
       "      <td>10</td>\n",
       "      <td>8</td>\n",
       "    </tr>\n",
       "    <tr>\n",
       "      <th>New York</th>\n",
       "      <td>14</td>\n",
       "      <td>12</td>\n",
       "    </tr>\n",
       "  </tbody>\n",
       "</table>\n",
       "</div>\n",
       "    <div class=\"colab-df-buttons\">\n",
       "\n",
       "  <div class=\"colab-df-container\">\n",
       "    <button class=\"colab-df-convert\" onclick=\"convertToInteractive('df-c8110b77-30b9-44b0-9fa3-6450c6a0f542')\"\n",
       "            title=\"Convert this dataframe to an interactive table.\"\n",
       "            style=\"display:none;\">\n",
       "\n",
       "  <svg xmlns=\"http://www.w3.org/2000/svg\" height=\"24px\" viewBox=\"0 -960 960 960\">\n",
       "    <path d=\"M120-120v-720h720v720H120Zm60-500h600v-160H180v160Zm220 220h160v-160H400v160Zm0 220h160v-160H400v160ZM180-400h160v-160H180v160Zm440 0h160v-160H620v160ZM180-180h160v-160H180v160Zm440 0h160v-160H620v160Z\"/>\n",
       "  </svg>\n",
       "    </button>\n",
       "\n",
       "  <style>\n",
       "    .colab-df-container {\n",
       "      display:flex;\n",
       "      gap: 12px;\n",
       "    }\n",
       "\n",
       "    .colab-df-convert {\n",
       "      background-color: #E8F0FE;\n",
       "      border: none;\n",
       "      border-radius: 50%;\n",
       "      cursor: pointer;\n",
       "      display: none;\n",
       "      fill: #1967D2;\n",
       "      height: 32px;\n",
       "      padding: 0 0 0 0;\n",
       "      width: 32px;\n",
       "    }\n",
       "\n",
       "    .colab-df-convert:hover {\n",
       "      background-color: #E2EBFA;\n",
       "      box-shadow: 0px 1px 2px rgba(60, 64, 67, 0.3), 0px 1px 3px 1px rgba(60, 64, 67, 0.15);\n",
       "      fill: #174EA6;\n",
       "    }\n",
       "\n",
       "    .colab-df-buttons div {\n",
       "      margin-bottom: 4px;\n",
       "    }\n",
       "\n",
       "    [theme=dark] .colab-df-convert {\n",
       "      background-color: #3B4455;\n",
       "      fill: #D2E3FC;\n",
       "    }\n",
       "\n",
       "    [theme=dark] .colab-df-convert:hover {\n",
       "      background-color: #434B5C;\n",
       "      box-shadow: 0px 1px 3px 1px rgba(0, 0, 0, 0.15);\n",
       "      filter: drop-shadow(0px 1px 2px rgba(0, 0, 0, 0.3));\n",
       "      fill: #FFFFFF;\n",
       "    }\n",
       "  </style>\n",
       "\n",
       "    <script>\n",
       "      const buttonEl =\n",
       "        document.querySelector('#df-c8110b77-30b9-44b0-9fa3-6450c6a0f542 button.colab-df-convert');\n",
       "      buttonEl.style.display =\n",
       "        google.colab.kernel.accessAllowed ? 'block' : 'none';\n",
       "\n",
       "      async function convertToInteractive(key) {\n",
       "        const element = document.querySelector('#df-c8110b77-30b9-44b0-9fa3-6450c6a0f542');\n",
       "        const dataTable =\n",
       "          await google.colab.kernel.invokeFunction('convertToInteractive',\n",
       "                                                    [key], {});\n",
       "        if (!dataTable) return;\n",
       "\n",
       "        const docLinkHtml = 'Like what you see? Visit the ' +\n",
       "          '<a target=\"_blank\" href=https://colab.research.google.com/notebooks/data_table.ipynb>data table notebook</a>'\n",
       "          + ' to learn more about interactive tables.';\n",
       "        element.innerHTML = '';\n",
       "        dataTable['output_type'] = 'display_data';\n",
       "        await google.colab.output.renderOutput(dataTable, element);\n",
       "        const docLink = document.createElement('div');\n",
       "        docLink.innerHTML = docLinkHtml;\n",
       "        element.appendChild(docLink);\n",
       "      }\n",
       "    </script>\n",
       "  </div>\n",
       "\n",
       "\n",
       "<div id=\"df-33af0ddf-6675-40a4-ba2a-296b355e891a\">\n",
       "  <button class=\"colab-df-quickchart\" onclick=\"quickchart('df-33af0ddf-6675-40a4-ba2a-296b355e891a')\"\n",
       "            title=\"Suggest charts\"\n",
       "            style=\"display:none;\">\n",
       "\n",
       "<svg xmlns=\"http://www.w3.org/2000/svg\" height=\"24px\"viewBox=\"0 0 24 24\"\n",
       "     width=\"24px\">\n",
       "    <g>\n",
       "        <path d=\"M19 3H5c-1.1 0-2 .9-2 2v14c0 1.1.9 2 2 2h14c1.1 0 2-.9 2-2V5c0-1.1-.9-2-2-2zM9 17H7v-7h2v7zm4 0h-2V7h2v10zm4 0h-2v-4h2v4z\"/>\n",
       "    </g>\n",
       "</svg>\n",
       "  </button>\n",
       "\n",
       "<style>\n",
       "  .colab-df-quickchart {\n",
       "      --bg-color: #E8F0FE;\n",
       "      --fill-color: #1967D2;\n",
       "      --hover-bg-color: #E2EBFA;\n",
       "      --hover-fill-color: #174EA6;\n",
       "      --disabled-fill-color: #AAA;\n",
       "      --disabled-bg-color: #DDD;\n",
       "  }\n",
       "\n",
       "  [theme=dark] .colab-df-quickchart {\n",
       "      --bg-color: #3B4455;\n",
       "      --fill-color: #D2E3FC;\n",
       "      --hover-bg-color: #434B5C;\n",
       "      --hover-fill-color: #FFFFFF;\n",
       "      --disabled-bg-color: #3B4455;\n",
       "      --disabled-fill-color: #666;\n",
       "  }\n",
       "\n",
       "  .colab-df-quickchart {\n",
       "    background-color: var(--bg-color);\n",
       "    border: none;\n",
       "    border-radius: 50%;\n",
       "    cursor: pointer;\n",
       "    display: none;\n",
       "    fill: var(--fill-color);\n",
       "    height: 32px;\n",
       "    padding: 0;\n",
       "    width: 32px;\n",
       "  }\n",
       "\n",
       "  .colab-df-quickchart:hover {\n",
       "    background-color: var(--hover-bg-color);\n",
       "    box-shadow: 0 1px 2px rgba(60, 64, 67, 0.3), 0 1px 3px 1px rgba(60, 64, 67, 0.15);\n",
       "    fill: var(--button-hover-fill-color);\n",
       "  }\n",
       "\n",
       "  .colab-df-quickchart-complete:disabled,\n",
       "  .colab-df-quickchart-complete:disabled:hover {\n",
       "    background-color: var(--disabled-bg-color);\n",
       "    fill: var(--disabled-fill-color);\n",
       "    box-shadow: none;\n",
       "  }\n",
       "\n",
       "  .colab-df-spinner {\n",
       "    border: 2px solid var(--fill-color);\n",
       "    border-color: transparent;\n",
       "    border-bottom-color: var(--fill-color);\n",
       "    animation:\n",
       "      spin 1s steps(1) infinite;\n",
       "  }\n",
       "\n",
       "  @keyframes spin {\n",
       "    0% {\n",
       "      border-color: transparent;\n",
       "      border-bottom-color: var(--fill-color);\n",
       "      border-left-color: var(--fill-color);\n",
       "    }\n",
       "    20% {\n",
       "      border-color: transparent;\n",
       "      border-left-color: var(--fill-color);\n",
       "      border-top-color: var(--fill-color);\n",
       "    }\n",
       "    30% {\n",
       "      border-color: transparent;\n",
       "      border-left-color: var(--fill-color);\n",
       "      border-top-color: var(--fill-color);\n",
       "      border-right-color: var(--fill-color);\n",
       "    }\n",
       "    40% {\n",
       "      border-color: transparent;\n",
       "      border-right-color: var(--fill-color);\n",
       "      border-top-color: var(--fill-color);\n",
       "    }\n",
       "    60% {\n",
       "      border-color: transparent;\n",
       "      border-right-color: var(--fill-color);\n",
       "    }\n",
       "    80% {\n",
       "      border-color: transparent;\n",
       "      border-right-color: var(--fill-color);\n",
       "      border-bottom-color: var(--fill-color);\n",
       "    }\n",
       "    90% {\n",
       "      border-color: transparent;\n",
       "      border-bottom-color: var(--fill-color);\n",
       "    }\n",
       "  }\n",
       "</style>\n",
       "\n",
       "  <script>\n",
       "    async function quickchart(key) {\n",
       "      const quickchartButtonEl =\n",
       "        document.querySelector('#' + key + ' button');\n",
       "      quickchartButtonEl.disabled = true;  // To prevent multiple clicks.\n",
       "      quickchartButtonEl.classList.add('colab-df-spinner');\n",
       "      try {\n",
       "        const charts = await google.colab.kernel.invokeFunction(\n",
       "            'suggestCharts', [key], {});\n",
       "      } catch (error) {\n",
       "        console.error('Error during call to suggestCharts:', error);\n",
       "      }\n",
       "      quickchartButtonEl.classList.remove('colab-df-spinner');\n",
       "      quickchartButtonEl.classList.add('colab-df-quickchart-complete');\n",
       "    }\n",
       "    (() => {\n",
       "      let quickchartButtonEl =\n",
       "        document.querySelector('#df-33af0ddf-6675-40a4-ba2a-296b355e891a button');\n",
       "      quickchartButtonEl.style.display =\n",
       "        google.colab.kernel.accessAllowed ? 'block' : 'none';\n",
       "    })();\n",
       "  </script>\n",
       "</div>\n",
       "    </div>\n",
       "  </div>\n"
      ],
      "text/plain": [
       "          three  one\n",
       "Ohio          2    0\n",
       "Colorado      6    4\n",
       "Utah         10    8\n",
       "New York     14   12"
      ]
     },
     "execution_count": 7,
     "metadata": {},
     "output_type": "execute_result"
    }
   ],
   "source": [
    "data[['three', 'one']]"
   ]
  },
  {
   "cell_type": "code",
   "execution_count": null,
   "metadata": {
    "colab": {
     "base_uri": "https://localhost:8080/",
     "height": 112
    },
    "id": "0cmX02yCEU3J",
    "outputId": "74623a62-0ef1-4bad-dc19-d6ee3108d96f"
   },
   "outputs": [
    {
     "data": {
      "application/vnd.google.colaboratory.intrinsic+json": {
       "summary": "{\n  \"name\": \"data[:2]\",\n  \"rows\": 2,\n  \"fields\": [\n    {\n      \"column\": \"one\",\n      \"properties\": {\n        \"dtype\": \"number\",\n        \"std\": 2,\n        \"min\": 0,\n        \"max\": 4,\n        \"num_unique_values\": 2,\n        \"samples\": [\n          4,\n          0\n        ],\n        \"semantic_type\": \"\",\n        \"description\": \"\"\n      }\n    },\n    {\n      \"column\": \"two\",\n      \"properties\": {\n        \"dtype\": \"number\",\n        \"std\": 2,\n        \"min\": 1,\n        \"max\": 5,\n        \"num_unique_values\": 2,\n        \"samples\": [\n          5,\n          1\n        ],\n        \"semantic_type\": \"\",\n        \"description\": \"\"\n      }\n    },\n    {\n      \"column\": \"three\",\n      \"properties\": {\n        \"dtype\": \"number\",\n        \"std\": 2,\n        \"min\": 2,\n        \"max\": 6,\n        \"num_unique_values\": 2,\n        \"samples\": [\n          6,\n          2\n        ],\n        \"semantic_type\": \"\",\n        \"description\": \"\"\n      }\n    },\n    {\n      \"column\": \"four\",\n      \"properties\": {\n        \"dtype\": \"number\",\n        \"std\": 2,\n        \"min\": 3,\n        \"max\": 7,\n        \"num_unique_values\": 2,\n        \"samples\": [\n          7,\n          3\n        ],\n        \"semantic_type\": \"\",\n        \"description\": \"\"\n      }\n    }\n  ]\n}",
       "type": "dataframe"
      },
      "text/html": [
       "\n",
       "  <div id=\"df-86603946-969a-4f52-ad32-06ed467a6bed\" class=\"colab-df-container\">\n",
       "    <div>\n",
       "<style scoped>\n",
       "    .dataframe tbody tr th:only-of-type {\n",
       "        vertical-align: middle;\n",
       "    }\n",
       "\n",
       "    .dataframe tbody tr th {\n",
       "        vertical-align: top;\n",
       "    }\n",
       "\n",
       "    .dataframe thead th {\n",
       "        text-align: right;\n",
       "    }\n",
       "</style>\n",
       "<table border=\"1\" class=\"dataframe\">\n",
       "  <thead>\n",
       "    <tr style=\"text-align: right;\">\n",
       "      <th></th>\n",
       "      <th>one</th>\n",
       "      <th>two</th>\n",
       "      <th>three</th>\n",
       "      <th>four</th>\n",
       "    </tr>\n",
       "  </thead>\n",
       "  <tbody>\n",
       "    <tr>\n",
       "      <th>Ohio</th>\n",
       "      <td>0</td>\n",
       "      <td>1</td>\n",
       "      <td>2</td>\n",
       "      <td>3</td>\n",
       "    </tr>\n",
       "    <tr>\n",
       "      <th>Colorado</th>\n",
       "      <td>4</td>\n",
       "      <td>5</td>\n",
       "      <td>6</td>\n",
       "      <td>7</td>\n",
       "    </tr>\n",
       "  </tbody>\n",
       "</table>\n",
       "</div>\n",
       "    <div class=\"colab-df-buttons\">\n",
       "\n",
       "  <div class=\"colab-df-container\">\n",
       "    <button class=\"colab-df-convert\" onclick=\"convertToInteractive('df-86603946-969a-4f52-ad32-06ed467a6bed')\"\n",
       "            title=\"Convert this dataframe to an interactive table.\"\n",
       "            style=\"display:none;\">\n",
       "\n",
       "  <svg xmlns=\"http://www.w3.org/2000/svg\" height=\"24px\" viewBox=\"0 -960 960 960\">\n",
       "    <path d=\"M120-120v-720h720v720H120Zm60-500h600v-160H180v160Zm220 220h160v-160H400v160Zm0 220h160v-160H400v160ZM180-400h160v-160H180v160Zm440 0h160v-160H620v160ZM180-180h160v-160H180v160Zm440 0h160v-160H620v160Z\"/>\n",
       "  </svg>\n",
       "    </button>\n",
       "\n",
       "  <style>\n",
       "    .colab-df-container {\n",
       "      display:flex;\n",
       "      gap: 12px;\n",
       "    }\n",
       "\n",
       "    .colab-df-convert {\n",
       "      background-color: #E8F0FE;\n",
       "      border: none;\n",
       "      border-radius: 50%;\n",
       "      cursor: pointer;\n",
       "      display: none;\n",
       "      fill: #1967D2;\n",
       "      height: 32px;\n",
       "      padding: 0 0 0 0;\n",
       "      width: 32px;\n",
       "    }\n",
       "\n",
       "    .colab-df-convert:hover {\n",
       "      background-color: #E2EBFA;\n",
       "      box-shadow: 0px 1px 2px rgba(60, 64, 67, 0.3), 0px 1px 3px 1px rgba(60, 64, 67, 0.15);\n",
       "      fill: #174EA6;\n",
       "    }\n",
       "\n",
       "    .colab-df-buttons div {\n",
       "      margin-bottom: 4px;\n",
       "    }\n",
       "\n",
       "    [theme=dark] .colab-df-convert {\n",
       "      background-color: #3B4455;\n",
       "      fill: #D2E3FC;\n",
       "    }\n",
       "\n",
       "    [theme=dark] .colab-df-convert:hover {\n",
       "      background-color: #434B5C;\n",
       "      box-shadow: 0px 1px 3px 1px rgba(0, 0, 0, 0.15);\n",
       "      filter: drop-shadow(0px 1px 2px rgba(0, 0, 0, 0.3));\n",
       "      fill: #FFFFFF;\n",
       "    }\n",
       "  </style>\n",
       "\n",
       "    <script>\n",
       "      const buttonEl =\n",
       "        document.querySelector('#df-86603946-969a-4f52-ad32-06ed467a6bed button.colab-df-convert');\n",
       "      buttonEl.style.display =\n",
       "        google.colab.kernel.accessAllowed ? 'block' : 'none';\n",
       "\n",
       "      async function convertToInteractive(key) {\n",
       "        const element = document.querySelector('#df-86603946-969a-4f52-ad32-06ed467a6bed');\n",
       "        const dataTable =\n",
       "          await google.colab.kernel.invokeFunction('convertToInteractive',\n",
       "                                                    [key], {});\n",
       "        if (!dataTable) return;\n",
       "\n",
       "        const docLinkHtml = 'Like what you see? Visit the ' +\n",
       "          '<a target=\"_blank\" href=https://colab.research.google.com/notebooks/data_table.ipynb>data table notebook</a>'\n",
       "          + ' to learn more about interactive tables.';\n",
       "        element.innerHTML = '';\n",
       "        dataTable['output_type'] = 'display_data';\n",
       "        await google.colab.output.renderOutput(dataTable, element);\n",
       "        const docLink = document.createElement('div');\n",
       "        docLink.innerHTML = docLinkHtml;\n",
       "        element.appendChild(docLink);\n",
       "      }\n",
       "    </script>\n",
       "  </div>\n",
       "\n",
       "\n",
       "<div id=\"df-0a6f1de5-faf4-4721-bf4d-c2c753453a70\">\n",
       "  <button class=\"colab-df-quickchart\" onclick=\"quickchart('df-0a6f1de5-faf4-4721-bf4d-c2c753453a70')\"\n",
       "            title=\"Suggest charts\"\n",
       "            style=\"display:none;\">\n",
       "\n",
       "<svg xmlns=\"http://www.w3.org/2000/svg\" height=\"24px\"viewBox=\"0 0 24 24\"\n",
       "     width=\"24px\">\n",
       "    <g>\n",
       "        <path d=\"M19 3H5c-1.1 0-2 .9-2 2v14c0 1.1.9 2 2 2h14c1.1 0 2-.9 2-2V5c0-1.1-.9-2-2-2zM9 17H7v-7h2v7zm4 0h-2V7h2v10zm4 0h-2v-4h2v4z\"/>\n",
       "    </g>\n",
       "</svg>\n",
       "  </button>\n",
       "\n",
       "<style>\n",
       "  .colab-df-quickchart {\n",
       "      --bg-color: #E8F0FE;\n",
       "      --fill-color: #1967D2;\n",
       "      --hover-bg-color: #E2EBFA;\n",
       "      --hover-fill-color: #174EA6;\n",
       "      --disabled-fill-color: #AAA;\n",
       "      --disabled-bg-color: #DDD;\n",
       "  }\n",
       "\n",
       "  [theme=dark] .colab-df-quickchart {\n",
       "      --bg-color: #3B4455;\n",
       "      --fill-color: #D2E3FC;\n",
       "      --hover-bg-color: #434B5C;\n",
       "      --hover-fill-color: #FFFFFF;\n",
       "      --disabled-bg-color: #3B4455;\n",
       "      --disabled-fill-color: #666;\n",
       "  }\n",
       "\n",
       "  .colab-df-quickchart {\n",
       "    background-color: var(--bg-color);\n",
       "    border: none;\n",
       "    border-radius: 50%;\n",
       "    cursor: pointer;\n",
       "    display: none;\n",
       "    fill: var(--fill-color);\n",
       "    height: 32px;\n",
       "    padding: 0;\n",
       "    width: 32px;\n",
       "  }\n",
       "\n",
       "  .colab-df-quickchart:hover {\n",
       "    background-color: var(--hover-bg-color);\n",
       "    box-shadow: 0 1px 2px rgba(60, 64, 67, 0.3), 0 1px 3px 1px rgba(60, 64, 67, 0.15);\n",
       "    fill: var(--button-hover-fill-color);\n",
       "  }\n",
       "\n",
       "  .colab-df-quickchart-complete:disabled,\n",
       "  .colab-df-quickchart-complete:disabled:hover {\n",
       "    background-color: var(--disabled-bg-color);\n",
       "    fill: var(--disabled-fill-color);\n",
       "    box-shadow: none;\n",
       "  }\n",
       "\n",
       "  .colab-df-spinner {\n",
       "    border: 2px solid var(--fill-color);\n",
       "    border-color: transparent;\n",
       "    border-bottom-color: var(--fill-color);\n",
       "    animation:\n",
       "      spin 1s steps(1) infinite;\n",
       "  }\n",
       "\n",
       "  @keyframes spin {\n",
       "    0% {\n",
       "      border-color: transparent;\n",
       "      border-bottom-color: var(--fill-color);\n",
       "      border-left-color: var(--fill-color);\n",
       "    }\n",
       "    20% {\n",
       "      border-color: transparent;\n",
       "      border-left-color: var(--fill-color);\n",
       "      border-top-color: var(--fill-color);\n",
       "    }\n",
       "    30% {\n",
       "      border-color: transparent;\n",
       "      border-left-color: var(--fill-color);\n",
       "      border-top-color: var(--fill-color);\n",
       "      border-right-color: var(--fill-color);\n",
       "    }\n",
       "    40% {\n",
       "      border-color: transparent;\n",
       "      border-right-color: var(--fill-color);\n",
       "      border-top-color: var(--fill-color);\n",
       "    }\n",
       "    60% {\n",
       "      border-color: transparent;\n",
       "      border-right-color: var(--fill-color);\n",
       "    }\n",
       "    80% {\n",
       "      border-color: transparent;\n",
       "      border-right-color: var(--fill-color);\n",
       "      border-bottom-color: var(--fill-color);\n",
       "    }\n",
       "    90% {\n",
       "      border-color: transparent;\n",
       "      border-bottom-color: var(--fill-color);\n",
       "    }\n",
       "  }\n",
       "</style>\n",
       "\n",
       "  <script>\n",
       "    async function quickchart(key) {\n",
       "      const quickchartButtonEl =\n",
       "        document.querySelector('#' + key + ' button');\n",
       "      quickchartButtonEl.disabled = true;  // To prevent multiple clicks.\n",
       "      quickchartButtonEl.classList.add('colab-df-spinner');\n",
       "      try {\n",
       "        const charts = await google.colab.kernel.invokeFunction(\n",
       "            'suggestCharts', [key], {});\n",
       "      } catch (error) {\n",
       "        console.error('Error during call to suggestCharts:', error);\n",
       "      }\n",
       "      quickchartButtonEl.classList.remove('colab-df-spinner');\n",
       "      quickchartButtonEl.classList.add('colab-df-quickchart-complete');\n",
       "    }\n",
       "    (() => {\n",
       "      let quickchartButtonEl =\n",
       "        document.querySelector('#df-0a6f1de5-faf4-4721-bf4d-c2c753453a70 button');\n",
       "      quickchartButtonEl.style.display =\n",
       "        google.colab.kernel.accessAllowed ? 'block' : 'none';\n",
       "    })();\n",
       "  </script>\n",
       "</div>\n",
       "    </div>\n",
       "  </div>\n"
      ],
      "text/plain": [
       "          one  two  three  four\n",
       "Ohio        0    1      2     3\n",
       "Colorado    4    5      6     7"
      ]
     },
     "execution_count": 8,
     "metadata": {},
     "output_type": "execute_result"
    }
   ],
   "source": [
    " data[:2]     # Slicing of dataframe"
   ]
  },
  {
   "cell_type": "code",
   "execution_count": null,
   "metadata": {
    "colab": {
     "base_uri": "https://localhost:8080/",
     "height": 143
    },
    "id": "OmBqGTAXEhK_",
    "outputId": "0dec0a44-cd8c-4fd5-9e9d-5ce122b0607b"
   },
   "outputs": [
    {
     "data": {
      "application/vnd.google.colaboratory.intrinsic+json": {
       "summary": "{\n  \"name\": \"data[data['three'] > 5]    # returns part of data, where the column value of data's 'three' column > 5\",\n  \"rows\": 3,\n  \"fields\": [\n    {\n      \"column\": \"one\",\n      \"properties\": {\n        \"dtype\": \"number\",\n        \"std\": 4,\n        \"min\": 4,\n        \"max\": 12,\n        \"num_unique_values\": 3,\n        \"samples\": [\n          4,\n          8,\n          12\n        ],\n        \"semantic_type\": \"\",\n        \"description\": \"\"\n      }\n    },\n    {\n      \"column\": \"two\",\n      \"properties\": {\n        \"dtype\": \"number\",\n        \"std\": 4,\n        \"min\": 5,\n        \"max\": 13,\n        \"num_unique_values\": 3,\n        \"samples\": [\n          5,\n          9,\n          13\n        ],\n        \"semantic_type\": \"\",\n        \"description\": \"\"\n      }\n    },\n    {\n      \"column\": \"three\",\n      \"properties\": {\n        \"dtype\": \"number\",\n        \"std\": 4,\n        \"min\": 6,\n        \"max\": 14,\n        \"num_unique_values\": 3,\n        \"samples\": [\n          6,\n          10,\n          14\n        ],\n        \"semantic_type\": \"\",\n        \"description\": \"\"\n      }\n    },\n    {\n      \"column\": \"four\",\n      \"properties\": {\n        \"dtype\": \"number\",\n        \"std\": 4,\n        \"min\": 7,\n        \"max\": 15,\n        \"num_unique_values\": 3,\n        \"samples\": [\n          7,\n          11,\n          15\n        ],\n        \"semantic_type\": \"\",\n        \"description\": \"\"\n      }\n    }\n  ]\n}",
       "type": "dataframe"
      },
      "text/html": [
       "\n",
       "  <div id=\"df-8367d6f6-6e5c-4526-8500-0e5d1b3d3edd\" class=\"colab-df-container\">\n",
       "    <div>\n",
       "<style scoped>\n",
       "    .dataframe tbody tr th:only-of-type {\n",
       "        vertical-align: middle;\n",
       "    }\n",
       "\n",
       "    .dataframe tbody tr th {\n",
       "        vertical-align: top;\n",
       "    }\n",
       "\n",
       "    .dataframe thead th {\n",
       "        text-align: right;\n",
       "    }\n",
       "</style>\n",
       "<table border=\"1\" class=\"dataframe\">\n",
       "  <thead>\n",
       "    <tr style=\"text-align: right;\">\n",
       "      <th></th>\n",
       "      <th>one</th>\n",
       "      <th>two</th>\n",
       "      <th>three</th>\n",
       "      <th>four</th>\n",
       "    </tr>\n",
       "  </thead>\n",
       "  <tbody>\n",
       "    <tr>\n",
       "      <th>Colorado</th>\n",
       "      <td>4</td>\n",
       "      <td>5</td>\n",
       "      <td>6</td>\n",
       "      <td>7</td>\n",
       "    </tr>\n",
       "    <tr>\n",
       "      <th>Utah</th>\n",
       "      <td>8</td>\n",
       "      <td>9</td>\n",
       "      <td>10</td>\n",
       "      <td>11</td>\n",
       "    </tr>\n",
       "    <tr>\n",
       "      <th>New York</th>\n",
       "      <td>12</td>\n",
       "      <td>13</td>\n",
       "      <td>14</td>\n",
       "      <td>15</td>\n",
       "    </tr>\n",
       "  </tbody>\n",
       "</table>\n",
       "</div>\n",
       "    <div class=\"colab-df-buttons\">\n",
       "\n",
       "  <div class=\"colab-df-container\">\n",
       "    <button class=\"colab-df-convert\" onclick=\"convertToInteractive('df-8367d6f6-6e5c-4526-8500-0e5d1b3d3edd')\"\n",
       "            title=\"Convert this dataframe to an interactive table.\"\n",
       "            style=\"display:none;\">\n",
       "\n",
       "  <svg xmlns=\"http://www.w3.org/2000/svg\" height=\"24px\" viewBox=\"0 -960 960 960\">\n",
       "    <path d=\"M120-120v-720h720v720H120Zm60-500h600v-160H180v160Zm220 220h160v-160H400v160Zm0 220h160v-160H400v160ZM180-400h160v-160H180v160Zm440 0h160v-160H620v160ZM180-180h160v-160H180v160Zm440 0h160v-160H620v160Z\"/>\n",
       "  </svg>\n",
       "    </button>\n",
       "\n",
       "  <style>\n",
       "    .colab-df-container {\n",
       "      display:flex;\n",
       "      gap: 12px;\n",
       "    }\n",
       "\n",
       "    .colab-df-convert {\n",
       "      background-color: #E8F0FE;\n",
       "      border: none;\n",
       "      border-radius: 50%;\n",
       "      cursor: pointer;\n",
       "      display: none;\n",
       "      fill: #1967D2;\n",
       "      height: 32px;\n",
       "      padding: 0 0 0 0;\n",
       "      width: 32px;\n",
       "    }\n",
       "\n",
       "    .colab-df-convert:hover {\n",
       "      background-color: #E2EBFA;\n",
       "      box-shadow: 0px 1px 2px rgba(60, 64, 67, 0.3), 0px 1px 3px 1px rgba(60, 64, 67, 0.15);\n",
       "      fill: #174EA6;\n",
       "    }\n",
       "\n",
       "    .colab-df-buttons div {\n",
       "      margin-bottom: 4px;\n",
       "    }\n",
       "\n",
       "    [theme=dark] .colab-df-convert {\n",
       "      background-color: #3B4455;\n",
       "      fill: #D2E3FC;\n",
       "    }\n",
       "\n",
       "    [theme=dark] .colab-df-convert:hover {\n",
       "      background-color: #434B5C;\n",
       "      box-shadow: 0px 1px 3px 1px rgba(0, 0, 0, 0.15);\n",
       "      filter: drop-shadow(0px 1px 2px rgba(0, 0, 0, 0.3));\n",
       "      fill: #FFFFFF;\n",
       "    }\n",
       "  </style>\n",
       "\n",
       "    <script>\n",
       "      const buttonEl =\n",
       "        document.querySelector('#df-8367d6f6-6e5c-4526-8500-0e5d1b3d3edd button.colab-df-convert');\n",
       "      buttonEl.style.display =\n",
       "        google.colab.kernel.accessAllowed ? 'block' : 'none';\n",
       "\n",
       "      async function convertToInteractive(key) {\n",
       "        const element = document.querySelector('#df-8367d6f6-6e5c-4526-8500-0e5d1b3d3edd');\n",
       "        const dataTable =\n",
       "          await google.colab.kernel.invokeFunction('convertToInteractive',\n",
       "                                                    [key], {});\n",
       "        if (!dataTable) return;\n",
       "\n",
       "        const docLinkHtml = 'Like what you see? Visit the ' +\n",
       "          '<a target=\"_blank\" href=https://colab.research.google.com/notebooks/data_table.ipynb>data table notebook</a>'\n",
       "          + ' to learn more about interactive tables.';\n",
       "        element.innerHTML = '';\n",
       "        dataTable['output_type'] = 'display_data';\n",
       "        await google.colab.output.renderOutput(dataTable, element);\n",
       "        const docLink = document.createElement('div');\n",
       "        docLink.innerHTML = docLinkHtml;\n",
       "        element.appendChild(docLink);\n",
       "      }\n",
       "    </script>\n",
       "  </div>\n",
       "\n",
       "\n",
       "<div id=\"df-36f9e735-9085-4963-b44b-ca7c6988188e\">\n",
       "  <button class=\"colab-df-quickchart\" onclick=\"quickchart('df-36f9e735-9085-4963-b44b-ca7c6988188e')\"\n",
       "            title=\"Suggest charts\"\n",
       "            style=\"display:none;\">\n",
       "\n",
       "<svg xmlns=\"http://www.w3.org/2000/svg\" height=\"24px\"viewBox=\"0 0 24 24\"\n",
       "     width=\"24px\">\n",
       "    <g>\n",
       "        <path d=\"M19 3H5c-1.1 0-2 .9-2 2v14c0 1.1.9 2 2 2h14c1.1 0 2-.9 2-2V5c0-1.1-.9-2-2-2zM9 17H7v-7h2v7zm4 0h-2V7h2v10zm4 0h-2v-4h2v4z\"/>\n",
       "    </g>\n",
       "</svg>\n",
       "  </button>\n",
       "\n",
       "<style>\n",
       "  .colab-df-quickchart {\n",
       "      --bg-color: #E8F0FE;\n",
       "      --fill-color: #1967D2;\n",
       "      --hover-bg-color: #E2EBFA;\n",
       "      --hover-fill-color: #174EA6;\n",
       "      --disabled-fill-color: #AAA;\n",
       "      --disabled-bg-color: #DDD;\n",
       "  }\n",
       "\n",
       "  [theme=dark] .colab-df-quickchart {\n",
       "      --bg-color: #3B4455;\n",
       "      --fill-color: #D2E3FC;\n",
       "      --hover-bg-color: #434B5C;\n",
       "      --hover-fill-color: #FFFFFF;\n",
       "      --disabled-bg-color: #3B4455;\n",
       "      --disabled-fill-color: #666;\n",
       "  }\n",
       "\n",
       "  .colab-df-quickchart {\n",
       "    background-color: var(--bg-color);\n",
       "    border: none;\n",
       "    border-radius: 50%;\n",
       "    cursor: pointer;\n",
       "    display: none;\n",
       "    fill: var(--fill-color);\n",
       "    height: 32px;\n",
       "    padding: 0;\n",
       "    width: 32px;\n",
       "  }\n",
       "\n",
       "  .colab-df-quickchart:hover {\n",
       "    background-color: var(--hover-bg-color);\n",
       "    box-shadow: 0 1px 2px rgba(60, 64, 67, 0.3), 0 1px 3px 1px rgba(60, 64, 67, 0.15);\n",
       "    fill: var(--button-hover-fill-color);\n",
       "  }\n",
       "\n",
       "  .colab-df-quickchart-complete:disabled,\n",
       "  .colab-df-quickchart-complete:disabled:hover {\n",
       "    background-color: var(--disabled-bg-color);\n",
       "    fill: var(--disabled-fill-color);\n",
       "    box-shadow: none;\n",
       "  }\n",
       "\n",
       "  .colab-df-spinner {\n",
       "    border: 2px solid var(--fill-color);\n",
       "    border-color: transparent;\n",
       "    border-bottom-color: var(--fill-color);\n",
       "    animation:\n",
       "      spin 1s steps(1) infinite;\n",
       "  }\n",
       "\n",
       "  @keyframes spin {\n",
       "    0% {\n",
       "      border-color: transparent;\n",
       "      border-bottom-color: var(--fill-color);\n",
       "      border-left-color: var(--fill-color);\n",
       "    }\n",
       "    20% {\n",
       "      border-color: transparent;\n",
       "      border-left-color: var(--fill-color);\n",
       "      border-top-color: var(--fill-color);\n",
       "    }\n",
       "    30% {\n",
       "      border-color: transparent;\n",
       "      border-left-color: var(--fill-color);\n",
       "      border-top-color: var(--fill-color);\n",
       "      border-right-color: var(--fill-color);\n",
       "    }\n",
       "    40% {\n",
       "      border-color: transparent;\n",
       "      border-right-color: var(--fill-color);\n",
       "      border-top-color: var(--fill-color);\n",
       "    }\n",
       "    60% {\n",
       "      border-color: transparent;\n",
       "      border-right-color: var(--fill-color);\n",
       "    }\n",
       "    80% {\n",
       "      border-color: transparent;\n",
       "      border-right-color: var(--fill-color);\n",
       "      border-bottom-color: var(--fill-color);\n",
       "    }\n",
       "    90% {\n",
       "      border-color: transparent;\n",
       "      border-bottom-color: var(--fill-color);\n",
       "    }\n",
       "  }\n",
       "</style>\n",
       "\n",
       "  <script>\n",
       "    async function quickchart(key) {\n",
       "      const quickchartButtonEl =\n",
       "        document.querySelector('#' + key + ' button');\n",
       "      quickchartButtonEl.disabled = true;  // To prevent multiple clicks.\n",
       "      quickchartButtonEl.classList.add('colab-df-spinner');\n",
       "      try {\n",
       "        const charts = await google.colab.kernel.invokeFunction(\n",
       "            'suggestCharts', [key], {});\n",
       "      } catch (error) {\n",
       "        console.error('Error during call to suggestCharts:', error);\n",
       "      }\n",
       "      quickchartButtonEl.classList.remove('colab-df-spinner');\n",
       "      quickchartButtonEl.classList.add('colab-df-quickchart-complete');\n",
       "    }\n",
       "    (() => {\n",
       "      let quickchartButtonEl =\n",
       "        document.querySelector('#df-36f9e735-9085-4963-b44b-ca7c6988188e button');\n",
       "      quickchartButtonEl.style.display =\n",
       "        google.colab.kernel.accessAllowed ? 'block' : 'none';\n",
       "    })();\n",
       "  </script>\n",
       "</div>\n",
       "    </div>\n",
       "  </div>\n"
      ],
      "text/plain": [
       "          one  two  three  four\n",
       "Colorado    4    5      6     7\n",
       "Utah        8    9     10    11\n",
       "New York   12   13     14    15"
      ]
     },
     "execution_count": 10,
     "metadata": {},
     "output_type": "execute_result"
    }
   ],
   "source": [
    " data[data['three'] > 5]    # returns part of data, where the column value of data's 'three' column > 5"
   ]
  },
  {
   "cell_type": "code",
   "execution_count": null,
   "metadata": {
    "colab": {
     "base_uri": "https://localhost:8080/",
     "height": 175
    },
    "id": "3mJn-THjFNdE",
    "outputId": "3f9325de-8d99-44b1-f106-f890a802b02a"
   },
   "outputs": [
    {
     "data": {
      "application/vnd.google.colaboratory.intrinsic+json": {
       "summary": "{\n  \"name\": \"data < 5\",\n  \"rows\": 4,\n  \"fields\": [\n    {\n      \"column\": \"one\",\n      \"properties\": {\n        \"dtype\": \"boolean\",\n        \"num_unique_values\": 2,\n        \"samples\": [\n          false,\n          true\n        ],\n        \"semantic_type\": \"\",\n        \"description\": \"\"\n      }\n    },\n    {\n      \"column\": \"two\",\n      \"properties\": {\n        \"dtype\": \"boolean\",\n        \"num_unique_values\": 2,\n        \"samples\": [\n          false,\n          true\n        ],\n        \"semantic_type\": \"\",\n        \"description\": \"\"\n      }\n    },\n    {\n      \"column\": \"three\",\n      \"properties\": {\n        \"dtype\": \"boolean\",\n        \"num_unique_values\": 2,\n        \"samples\": [\n          false,\n          true\n        ],\n        \"semantic_type\": \"\",\n        \"description\": \"\"\n      }\n    },\n    {\n      \"column\": \"four\",\n      \"properties\": {\n        \"dtype\": \"boolean\",\n        \"num_unique_values\": 2,\n        \"samples\": [\n          false,\n          true\n        ],\n        \"semantic_type\": \"\",\n        \"description\": \"\"\n      }\n    }\n  ]\n}",
       "type": "dataframe"
      },
      "text/html": [
       "\n",
       "  <div id=\"df-f9de6a96-ec96-4694-a671-a1c4b8b967ea\" class=\"colab-df-container\">\n",
       "    <div>\n",
       "<style scoped>\n",
       "    .dataframe tbody tr th:only-of-type {\n",
       "        vertical-align: middle;\n",
       "    }\n",
       "\n",
       "    .dataframe tbody tr th {\n",
       "        vertical-align: top;\n",
       "    }\n",
       "\n",
       "    .dataframe thead th {\n",
       "        text-align: right;\n",
       "    }\n",
       "</style>\n",
       "<table border=\"1\" class=\"dataframe\">\n",
       "  <thead>\n",
       "    <tr style=\"text-align: right;\">\n",
       "      <th></th>\n",
       "      <th>one</th>\n",
       "      <th>two</th>\n",
       "      <th>three</th>\n",
       "      <th>four</th>\n",
       "    </tr>\n",
       "  </thead>\n",
       "  <tbody>\n",
       "    <tr>\n",
       "      <th>Ohio</th>\n",
       "      <td>True</td>\n",
       "      <td>True</td>\n",
       "      <td>True</td>\n",
       "      <td>True</td>\n",
       "    </tr>\n",
       "    <tr>\n",
       "      <th>Colorado</th>\n",
       "      <td>True</td>\n",
       "      <td>False</td>\n",
       "      <td>False</td>\n",
       "      <td>False</td>\n",
       "    </tr>\n",
       "    <tr>\n",
       "      <th>Utah</th>\n",
       "      <td>False</td>\n",
       "      <td>False</td>\n",
       "      <td>False</td>\n",
       "      <td>False</td>\n",
       "    </tr>\n",
       "    <tr>\n",
       "      <th>New York</th>\n",
       "      <td>False</td>\n",
       "      <td>False</td>\n",
       "      <td>False</td>\n",
       "      <td>False</td>\n",
       "    </tr>\n",
       "  </tbody>\n",
       "</table>\n",
       "</div>\n",
       "    <div class=\"colab-df-buttons\">\n",
       "\n",
       "  <div class=\"colab-df-container\">\n",
       "    <button class=\"colab-df-convert\" onclick=\"convertToInteractive('df-f9de6a96-ec96-4694-a671-a1c4b8b967ea')\"\n",
       "            title=\"Convert this dataframe to an interactive table.\"\n",
       "            style=\"display:none;\">\n",
       "\n",
       "  <svg xmlns=\"http://www.w3.org/2000/svg\" height=\"24px\" viewBox=\"0 -960 960 960\">\n",
       "    <path d=\"M120-120v-720h720v720H120Zm60-500h600v-160H180v160Zm220 220h160v-160H400v160Zm0 220h160v-160H400v160ZM180-400h160v-160H180v160Zm440 0h160v-160H620v160ZM180-180h160v-160H180v160Zm440 0h160v-160H620v160Z\"/>\n",
       "  </svg>\n",
       "    </button>\n",
       "\n",
       "  <style>\n",
       "    .colab-df-container {\n",
       "      display:flex;\n",
       "      gap: 12px;\n",
       "    }\n",
       "\n",
       "    .colab-df-convert {\n",
       "      background-color: #E8F0FE;\n",
       "      border: none;\n",
       "      border-radius: 50%;\n",
       "      cursor: pointer;\n",
       "      display: none;\n",
       "      fill: #1967D2;\n",
       "      height: 32px;\n",
       "      padding: 0 0 0 0;\n",
       "      width: 32px;\n",
       "    }\n",
       "\n",
       "    .colab-df-convert:hover {\n",
       "      background-color: #E2EBFA;\n",
       "      box-shadow: 0px 1px 2px rgba(60, 64, 67, 0.3), 0px 1px 3px 1px rgba(60, 64, 67, 0.15);\n",
       "      fill: #174EA6;\n",
       "    }\n",
       "\n",
       "    .colab-df-buttons div {\n",
       "      margin-bottom: 4px;\n",
       "    }\n",
       "\n",
       "    [theme=dark] .colab-df-convert {\n",
       "      background-color: #3B4455;\n",
       "      fill: #D2E3FC;\n",
       "    }\n",
       "\n",
       "    [theme=dark] .colab-df-convert:hover {\n",
       "      background-color: #434B5C;\n",
       "      box-shadow: 0px 1px 3px 1px rgba(0, 0, 0, 0.15);\n",
       "      filter: drop-shadow(0px 1px 2px rgba(0, 0, 0, 0.3));\n",
       "      fill: #FFFFFF;\n",
       "    }\n",
       "  </style>\n",
       "\n",
       "    <script>\n",
       "      const buttonEl =\n",
       "        document.querySelector('#df-f9de6a96-ec96-4694-a671-a1c4b8b967ea button.colab-df-convert');\n",
       "      buttonEl.style.display =\n",
       "        google.colab.kernel.accessAllowed ? 'block' : 'none';\n",
       "\n",
       "      async function convertToInteractive(key) {\n",
       "        const element = document.querySelector('#df-f9de6a96-ec96-4694-a671-a1c4b8b967ea');\n",
       "        const dataTable =\n",
       "          await google.colab.kernel.invokeFunction('convertToInteractive',\n",
       "                                                    [key], {});\n",
       "        if (!dataTable) return;\n",
       "\n",
       "        const docLinkHtml = 'Like what you see? Visit the ' +\n",
       "          '<a target=\"_blank\" href=https://colab.research.google.com/notebooks/data_table.ipynb>data table notebook</a>'\n",
       "          + ' to learn more about interactive tables.';\n",
       "        element.innerHTML = '';\n",
       "        dataTable['output_type'] = 'display_data';\n",
       "        await google.colab.output.renderOutput(dataTable, element);\n",
       "        const docLink = document.createElement('div');\n",
       "        docLink.innerHTML = docLinkHtml;\n",
       "        element.appendChild(docLink);\n",
       "      }\n",
       "    </script>\n",
       "  </div>\n",
       "\n",
       "\n",
       "<div id=\"df-3307b429-206e-4a32-a054-889f56f2228f\">\n",
       "  <button class=\"colab-df-quickchart\" onclick=\"quickchart('df-3307b429-206e-4a32-a054-889f56f2228f')\"\n",
       "            title=\"Suggest charts\"\n",
       "            style=\"display:none;\">\n",
       "\n",
       "<svg xmlns=\"http://www.w3.org/2000/svg\" height=\"24px\"viewBox=\"0 0 24 24\"\n",
       "     width=\"24px\">\n",
       "    <g>\n",
       "        <path d=\"M19 3H5c-1.1 0-2 .9-2 2v14c0 1.1.9 2 2 2h14c1.1 0 2-.9 2-2V5c0-1.1-.9-2-2-2zM9 17H7v-7h2v7zm4 0h-2V7h2v10zm4 0h-2v-4h2v4z\"/>\n",
       "    </g>\n",
       "</svg>\n",
       "  </button>\n",
       "\n",
       "<style>\n",
       "  .colab-df-quickchart {\n",
       "      --bg-color: #E8F0FE;\n",
       "      --fill-color: #1967D2;\n",
       "      --hover-bg-color: #E2EBFA;\n",
       "      --hover-fill-color: #174EA6;\n",
       "      --disabled-fill-color: #AAA;\n",
       "      --disabled-bg-color: #DDD;\n",
       "  }\n",
       "\n",
       "  [theme=dark] .colab-df-quickchart {\n",
       "      --bg-color: #3B4455;\n",
       "      --fill-color: #D2E3FC;\n",
       "      --hover-bg-color: #434B5C;\n",
       "      --hover-fill-color: #FFFFFF;\n",
       "      --disabled-bg-color: #3B4455;\n",
       "      --disabled-fill-color: #666;\n",
       "  }\n",
       "\n",
       "  .colab-df-quickchart {\n",
       "    background-color: var(--bg-color);\n",
       "    border: none;\n",
       "    border-radius: 50%;\n",
       "    cursor: pointer;\n",
       "    display: none;\n",
       "    fill: var(--fill-color);\n",
       "    height: 32px;\n",
       "    padding: 0;\n",
       "    width: 32px;\n",
       "  }\n",
       "\n",
       "  .colab-df-quickchart:hover {\n",
       "    background-color: var(--hover-bg-color);\n",
       "    box-shadow: 0 1px 2px rgba(60, 64, 67, 0.3), 0 1px 3px 1px rgba(60, 64, 67, 0.15);\n",
       "    fill: var(--button-hover-fill-color);\n",
       "  }\n",
       "\n",
       "  .colab-df-quickchart-complete:disabled,\n",
       "  .colab-df-quickchart-complete:disabled:hover {\n",
       "    background-color: var(--disabled-bg-color);\n",
       "    fill: var(--disabled-fill-color);\n",
       "    box-shadow: none;\n",
       "  }\n",
       "\n",
       "  .colab-df-spinner {\n",
       "    border: 2px solid var(--fill-color);\n",
       "    border-color: transparent;\n",
       "    border-bottom-color: var(--fill-color);\n",
       "    animation:\n",
       "      spin 1s steps(1) infinite;\n",
       "  }\n",
       "\n",
       "  @keyframes spin {\n",
       "    0% {\n",
       "      border-color: transparent;\n",
       "      border-bottom-color: var(--fill-color);\n",
       "      border-left-color: var(--fill-color);\n",
       "    }\n",
       "    20% {\n",
       "      border-color: transparent;\n",
       "      border-left-color: var(--fill-color);\n",
       "      border-top-color: var(--fill-color);\n",
       "    }\n",
       "    30% {\n",
       "      border-color: transparent;\n",
       "      border-left-color: var(--fill-color);\n",
       "      border-top-color: var(--fill-color);\n",
       "      border-right-color: var(--fill-color);\n",
       "    }\n",
       "    40% {\n",
       "      border-color: transparent;\n",
       "      border-right-color: var(--fill-color);\n",
       "      border-top-color: var(--fill-color);\n",
       "    }\n",
       "    60% {\n",
       "      border-color: transparent;\n",
       "      border-right-color: var(--fill-color);\n",
       "    }\n",
       "    80% {\n",
       "      border-color: transparent;\n",
       "      border-right-color: var(--fill-color);\n",
       "      border-bottom-color: var(--fill-color);\n",
       "    }\n",
       "    90% {\n",
       "      border-color: transparent;\n",
       "      border-bottom-color: var(--fill-color);\n",
       "    }\n",
       "  }\n",
       "</style>\n",
       "\n",
       "  <script>\n",
       "    async function quickchart(key) {\n",
       "      const quickchartButtonEl =\n",
       "        document.querySelector('#' + key + ' button');\n",
       "      quickchartButtonEl.disabled = true;  // To prevent multiple clicks.\n",
       "      quickchartButtonEl.classList.add('colab-df-spinner');\n",
       "      try {\n",
       "        const charts = await google.colab.kernel.invokeFunction(\n",
       "            'suggestCharts', [key], {});\n",
       "      } catch (error) {\n",
       "        console.error('Error during call to suggestCharts:', error);\n",
       "      }\n",
       "      quickchartButtonEl.classList.remove('colab-df-spinner');\n",
       "      quickchartButtonEl.classList.add('colab-df-quickchart-complete');\n",
       "    }\n",
       "    (() => {\n",
       "      let quickchartButtonEl =\n",
       "        document.querySelector('#df-3307b429-206e-4a32-a054-889f56f2228f button');\n",
       "      quickchartButtonEl.style.display =\n",
       "        google.colab.kernel.accessAllowed ? 'block' : 'none';\n",
       "    })();\n",
       "  </script>\n",
       "</div>\n",
       "    </div>\n",
       "  </div>\n"
      ],
      "text/plain": [
       "            one    two  three   four\n",
       "Ohio       True   True   True   True\n",
       "Colorado   True  False  False  False\n",
       "Utah      False  False  False  False\n",
       "New York  False  False  False  False"
      ]
     },
     "execution_count": 11,
     "metadata": {},
     "output_type": "execute_result"
    }
   ],
   "source": [
    "data < 5   # Tells if dataframe values are < 5 or not in tabular form for each value in it"
   ]
  },
  {
   "cell_type": "code",
   "execution_count": 12,
   "metadata": {
    "id": "ub9BtqGXRmbW"
   },
   "outputs": [
    {
     "data": {
      "text/html": [
       "<div>\n",
       "<style scoped>\n",
       "    .dataframe tbody tr th:only-of-type {\n",
       "        vertical-align: middle;\n",
       "    }\n",
       "\n",
       "    .dataframe tbody tr th {\n",
       "        vertical-align: top;\n",
       "    }\n",
       "\n",
       "    .dataframe thead th {\n",
       "        text-align: right;\n",
       "    }\n",
       "</style>\n",
       "<table border=\"1\" class=\"dataframe\">\n",
       "  <thead>\n",
       "    <tr style=\"text-align: right;\">\n",
       "      <th></th>\n",
       "      <th>a</th>\n",
       "      <th>b</th>\n",
       "      <th>c</th>\n",
       "      <th>d</th>\n",
       "    </tr>\n",
       "  </thead>\n",
       "  <tbody>\n",
       "    <tr>\n",
       "      <th>0</th>\n",
       "      <td>0.0</td>\n",
       "      <td>1.0</td>\n",
       "      <td>2.0</td>\n",
       "      <td>3.0</td>\n",
       "    </tr>\n",
       "    <tr>\n",
       "      <th>1</th>\n",
       "      <td>4.0</td>\n",
       "      <td>5.0</td>\n",
       "      <td>6.0</td>\n",
       "      <td>7.0</td>\n",
       "    </tr>\n",
       "    <tr>\n",
       "      <th>2</th>\n",
       "      <td>8.0</td>\n",
       "      <td>9.0</td>\n",
       "      <td>10.0</td>\n",
       "      <td>11.0</td>\n",
       "    </tr>\n",
       "  </tbody>\n",
       "</table>\n",
       "</div>"
      ],
      "text/plain": [
       "     a    b     c     d\n",
       "0  0.0  1.0   2.0   3.0\n",
       "1  4.0  5.0   6.0   7.0\n",
       "2  8.0  9.0  10.0  11.0"
      ]
     },
     "execution_count": 12,
     "metadata": {},
     "output_type": "execute_result"
    }
   ],
   "source": [
    " df1 = pd.DataFrame(np.arange(12.).reshape((3, 4)), columns=list('abcd'))\n",
    "df1"
   ]
  },
  {
   "cell_type": "code",
   "execution_count": 13,
   "metadata": {
    "id": "T2GFq4mxRo2G"
   },
   "outputs": [
    {
     "data": {
      "text/html": [
       "<div>\n",
       "<style scoped>\n",
       "    .dataframe tbody tr th:only-of-type {\n",
       "        vertical-align: middle;\n",
       "    }\n",
       "\n",
       "    .dataframe tbody tr th {\n",
       "        vertical-align: top;\n",
       "    }\n",
       "\n",
       "    .dataframe thead th {\n",
       "        text-align: right;\n",
       "    }\n",
       "</style>\n",
       "<table border=\"1\" class=\"dataframe\">\n",
       "  <thead>\n",
       "    <tr style=\"text-align: right;\">\n",
       "      <th></th>\n",
       "      <th>a</th>\n",
       "      <th>b</th>\n",
       "      <th>c</th>\n",
       "      <th>d</th>\n",
       "      <th>e</th>\n",
       "    </tr>\n",
       "  </thead>\n",
       "  <tbody>\n",
       "    <tr>\n",
       "      <th>0</th>\n",
       "      <td>0.0</td>\n",
       "      <td>1.0</td>\n",
       "      <td>2.0</td>\n",
       "      <td>3.0</td>\n",
       "      <td>4.0</td>\n",
       "    </tr>\n",
       "    <tr>\n",
       "      <th>1</th>\n",
       "      <td>5.0</td>\n",
       "      <td>6.0</td>\n",
       "      <td>7.0</td>\n",
       "      <td>8.0</td>\n",
       "      <td>9.0</td>\n",
       "    </tr>\n",
       "    <tr>\n",
       "      <th>2</th>\n",
       "      <td>10.0</td>\n",
       "      <td>11.0</td>\n",
       "      <td>12.0</td>\n",
       "      <td>13.0</td>\n",
       "      <td>14.0</td>\n",
       "    </tr>\n",
       "    <tr>\n",
       "      <th>3</th>\n",
       "      <td>15.0</td>\n",
       "      <td>16.0</td>\n",
       "      <td>17.0</td>\n",
       "      <td>18.0</td>\n",
       "      <td>19.0</td>\n",
       "    </tr>\n",
       "  </tbody>\n",
       "</table>\n",
       "</div>"
      ],
      "text/plain": [
       "      a     b     c     d     e\n",
       "0   0.0   1.0   2.0   3.0   4.0\n",
       "1   5.0   6.0   7.0   8.0   9.0\n",
       "2  10.0  11.0  12.0  13.0  14.0\n",
       "3  15.0  16.0  17.0  18.0  19.0"
      ]
     },
     "execution_count": 13,
     "metadata": {},
     "output_type": "execute_result"
    }
   ],
   "source": [
    "df2 = pd.DataFrame(np.arange(20.).reshape((4, 5)), columns=list('abcde'))\n",
    "df2"
   ]
  },
  {
   "cell_type": "code",
   "execution_count": 14,
   "metadata": {
    "id": "ABWCS8xZRpot"
   },
   "outputs": [
    {
     "data": {
      "text/html": [
       "<div>\n",
       "<style scoped>\n",
       "    .dataframe tbody tr th:only-of-type {\n",
       "        vertical-align: middle;\n",
       "    }\n",
       "\n",
       "    .dataframe tbody tr th {\n",
       "        vertical-align: top;\n",
       "    }\n",
       "\n",
       "    .dataframe thead th {\n",
       "        text-align: right;\n",
       "    }\n",
       "</style>\n",
       "<table border=\"1\" class=\"dataframe\">\n",
       "  <thead>\n",
       "    <tr style=\"text-align: right;\">\n",
       "      <th></th>\n",
       "      <th>a</th>\n",
       "      <th>b</th>\n",
       "      <th>c</th>\n",
       "      <th>d</th>\n",
       "      <th>e</th>\n",
       "    </tr>\n",
       "  </thead>\n",
       "  <tbody>\n",
       "    <tr>\n",
       "      <th>0</th>\n",
       "      <td>0.0</td>\n",
       "      <td>2.0</td>\n",
       "      <td>4.0</td>\n",
       "      <td>6.0</td>\n",
       "      <td>NaN</td>\n",
       "    </tr>\n",
       "    <tr>\n",
       "      <th>1</th>\n",
       "      <td>9.0</td>\n",
       "      <td>11.0</td>\n",
       "      <td>13.0</td>\n",
       "      <td>15.0</td>\n",
       "      <td>NaN</td>\n",
       "    </tr>\n",
       "    <tr>\n",
       "      <th>2</th>\n",
       "      <td>18.0</td>\n",
       "      <td>20.0</td>\n",
       "      <td>22.0</td>\n",
       "      <td>24.0</td>\n",
       "      <td>NaN</td>\n",
       "    </tr>\n",
       "    <tr>\n",
       "      <th>3</th>\n",
       "      <td>NaN</td>\n",
       "      <td>NaN</td>\n",
       "      <td>NaN</td>\n",
       "      <td>NaN</td>\n",
       "      <td>NaN</td>\n",
       "    </tr>\n",
       "  </tbody>\n",
       "</table>\n",
       "</div>"
      ],
      "text/plain": [
       "      a     b     c     d   e\n",
       "0   0.0   2.0   4.0   6.0 NaN\n",
       "1   9.0  11.0  13.0  15.0 NaN\n",
       "2  18.0  20.0  22.0  24.0 NaN\n",
       "3   NaN   NaN   NaN   NaN NaN"
      ]
     },
     "execution_count": 14,
     "metadata": {},
     "output_type": "execute_result"
    }
   ],
   "source": [
    "df1 + df2   #Adding these together results in NA values in the locations that don’t overlap"
   ]
  },
  {
   "cell_type": "code",
   "execution_count": 15,
   "metadata": {
    "id": "XC7Qoiu2RuTW"
   },
   "outputs": [
    {
     "data": {
      "text/html": [
       "<div>\n",
       "<style scoped>\n",
       "    .dataframe tbody tr th:only-of-type {\n",
       "        vertical-align: middle;\n",
       "    }\n",
       "\n",
       "    .dataframe tbody tr th {\n",
       "        vertical-align: top;\n",
       "    }\n",
       "\n",
       "    .dataframe thead th {\n",
       "        text-align: right;\n",
       "    }\n",
       "</style>\n",
       "<table border=\"1\" class=\"dataframe\">\n",
       "  <thead>\n",
       "    <tr style=\"text-align: right;\">\n",
       "      <th></th>\n",
       "      <th>a</th>\n",
       "      <th>b</th>\n",
       "      <th>c</th>\n",
       "      <th>d</th>\n",
       "      <th>e</th>\n",
       "    </tr>\n",
       "  </thead>\n",
       "  <tbody>\n",
       "    <tr>\n",
       "      <th>0</th>\n",
       "      <td>0.0</td>\n",
       "      <td>2.0</td>\n",
       "      <td>4.0</td>\n",
       "      <td>6.0</td>\n",
       "      <td>4.0</td>\n",
       "    </tr>\n",
       "    <tr>\n",
       "      <th>1</th>\n",
       "      <td>9.0</td>\n",
       "      <td>11.0</td>\n",
       "      <td>13.0</td>\n",
       "      <td>15.0</td>\n",
       "      <td>9.0</td>\n",
       "    </tr>\n",
       "    <tr>\n",
       "      <th>2</th>\n",
       "      <td>18.0</td>\n",
       "      <td>20.0</td>\n",
       "      <td>22.0</td>\n",
       "      <td>24.0</td>\n",
       "      <td>14.0</td>\n",
       "    </tr>\n",
       "    <tr>\n",
       "      <th>3</th>\n",
       "      <td>15.0</td>\n",
       "      <td>16.0</td>\n",
       "      <td>17.0</td>\n",
       "      <td>18.0</td>\n",
       "      <td>19.0</td>\n",
       "    </tr>\n",
       "  </tbody>\n",
       "</table>\n",
       "</div>"
      ],
      "text/plain": [
       "      a     b     c     d     e\n",
       "0   0.0   2.0   4.0   6.0   4.0\n",
       "1   9.0  11.0  13.0  15.0   9.0\n",
       "2  18.0  20.0  22.0  24.0  14.0\n",
       "3  15.0  16.0  17.0  18.0  19.0"
      ]
     },
     "execution_count": 15,
     "metadata": {},
     "output_type": "execute_result"
    }
   ],
   "source": [
    "df1.add(df2, fill_value=0)   #Using the add method on df1, I pass df2 and an argument to fill_value"
   ]
  },
  {
   "cell_type": "markdown",
   "metadata": {
    "id": "L2t4rtydSmfq"
   },
   "source": [
    "Using the add method on df1, passing df2 and an argument to fill_value."
   ]
  },
  {
   "cell_type": "markdown",
   "metadata": {
    "id": "IxFV9qlQHOza"
   },
   "source": [
    "You could also pass, a series into the Pandas method as an arguement and compute the output.\n",
    "\n",
    "Example:\n",
    "\n",
    "`pd.Series.add(df1,df2)`\n",
    "\n",
    "few such operations are:-"
   ]
  },
  {
   "cell_type": "markdown",
   "metadata": {
    "id": "L1fvpI5oS06B"
   },
   "source": [
    "![image.png](data:image/png;base64,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)"
   ]
  },
  {
   "cell_type": "code",
   "execution_count": 20,
   "metadata": {
    "id": "Se5pA1uiSktX"
   },
   "outputs": [
    {
     "data": {
      "text/html": [
       "<div>\n",
       "<style scoped>\n",
       "    .dataframe tbody tr th:only-of-type {\n",
       "        vertical-align: middle;\n",
       "    }\n",
       "\n",
       "    .dataframe tbody tr th {\n",
       "        vertical-align: top;\n",
       "    }\n",
       "\n",
       "    .dataframe thead th {\n",
       "        text-align: right;\n",
       "    }\n",
       "</style>\n",
       "<table border=\"1\" class=\"dataframe\">\n",
       "  <thead>\n",
       "    <tr style=\"text-align: right;\">\n",
       "      <th></th>\n",
       "      <th>a</th>\n",
       "      <th>b</th>\n",
       "      <th>c</th>\n",
       "      <th>d</th>\n",
       "      <th>e</th>\n",
       "    </tr>\n",
       "  </thead>\n",
       "  <tbody>\n",
       "    <tr>\n",
       "      <th>0</th>\n",
       "      <td>0.0</td>\n",
       "      <td>2.0</td>\n",
       "      <td>4.0</td>\n",
       "      <td>6.0</td>\n",
       "      <td>4.0</td>\n",
       "    </tr>\n",
       "    <tr>\n",
       "      <th>1</th>\n",
       "      <td>9.0</td>\n",
       "      <td>11.0</td>\n",
       "      <td>13.0</td>\n",
       "      <td>15.0</td>\n",
       "      <td>9.0</td>\n",
       "    </tr>\n",
       "    <tr>\n",
       "      <th>2</th>\n",
       "      <td>18.0</td>\n",
       "      <td>20.0</td>\n",
       "      <td>22.0</td>\n",
       "      <td>24.0</td>\n",
       "      <td>14.0</td>\n",
       "    </tr>\n",
       "    <tr>\n",
       "      <th>3</th>\n",
       "      <td>15.0</td>\n",
       "      <td>16.0</td>\n",
       "      <td>17.0</td>\n",
       "      <td>18.0</td>\n",
       "      <td>19.0</td>\n",
       "    </tr>\n",
       "  </tbody>\n",
       "</table>\n",
       "</div>"
      ],
      "text/plain": [
       "      a     b     c     d     e\n",
       "0   0.0   2.0   4.0   6.0   4.0\n",
       "1   9.0  11.0  13.0  15.0   9.0\n",
       "2  18.0  20.0  22.0  24.0  14.0\n",
       "3  15.0  16.0  17.0  18.0  19.0"
      ]
     },
     "execution_count": 20,
     "metadata": {},
     "output_type": "execute_result"
    }
   ],
   "source": [
    "pd.DataFrame.add(df1,df2, fill_value = 0)"
   ]
  },
  {
   "cell_type": "markdown",
   "metadata": {
    "id": "oEPYFFCHYlV3"
   },
   "source": [
    "####Function application and mapping\n",
    "\n",
    "Another frequent operation is applying a function on 1D arrays to each column or row.\n",
    "DataFrame’s apply method"
   ]
  },
  {
   "cell_type": "code",
   "execution_count": 9,
   "metadata": {
    "id": "2mCw_MYEYuIa"
   },
   "outputs": [
    {
     "data": {
      "text/html": [
       "<div>\n",
       "<style scoped>\n",
       "    .dataframe tbody tr th:only-of-type {\n",
       "        vertical-align: middle;\n",
       "    }\n",
       "\n",
       "    .dataframe tbody tr th {\n",
       "        vertical-align: top;\n",
       "    }\n",
       "\n",
       "    .dataframe thead th {\n",
       "        text-align: right;\n",
       "    }\n",
       "</style>\n",
       "<table border=\"1\" class=\"dataframe\">\n",
       "  <thead>\n",
       "    <tr style=\"text-align: right;\">\n",
       "      <th></th>\n",
       "      <th>b</th>\n",
       "      <th>d</th>\n",
       "      <th>e</th>\n",
       "    </tr>\n",
       "  </thead>\n",
       "  <tbody>\n",
       "    <tr>\n",
       "      <th>Utah</th>\n",
       "      <td>0.079756</td>\n",
       "      <td>-0.167588</td>\n",
       "      <td>0.005581</td>\n",
       "    </tr>\n",
       "    <tr>\n",
       "      <th>Ohio</th>\n",
       "      <td>0.873966</td>\n",
       "      <td>2.557971</td>\n",
       "      <td>-0.582164</td>\n",
       "    </tr>\n",
       "    <tr>\n",
       "      <th>Texas</th>\n",
       "      <td>0.383305</td>\n",
       "      <td>1.017064</td>\n",
       "      <td>0.306397</td>\n",
       "    </tr>\n",
       "    <tr>\n",
       "      <th>Oregon</th>\n",
       "      <td>-1.256152</td>\n",
       "      <td>0.145467</td>\n",
       "      <td>-1.062265</td>\n",
       "    </tr>\n",
       "  </tbody>\n",
       "</table>\n",
       "</div>"
      ],
      "text/plain": [
       "               b         d         e\n",
       "Utah    0.079756 -0.167588  0.005581\n",
       "Ohio    0.873966  2.557971 -0.582164\n",
       "Texas   0.383305  1.017064  0.306397\n",
       "Oregon -1.256152  0.145467 -1.062265"
      ]
     },
     "execution_count": 9,
     "metadata": {},
     "output_type": "execute_result"
    }
   ],
   "source": [
    "frame = pd.DataFrame(np.random.randn(4, 3), columns=list('bde'),index=['Utah', 'Ohio', 'Texas', 'Oregon'])  # randn In NumPy, np.random.randn() is used to generate an array of random numbers sampled from a standard normal distribution (mean=0, standard deviation=1).\n",
    "frame"
   ]
  },
  {
   "cell_type": "code",
   "execution_count": 10,
   "metadata": {
    "id": "KdDgPGwtY0ut"
   },
   "outputs": [],
   "source": [
    "f = lambda x: x**2"
   ]
  },
  {
   "cell_type": "code",
   "execution_count": 11,
   "metadata": {
    "id": "XNf1OBiNiYza"
   },
   "outputs": [
    {
     "data": {
      "text/html": [
       "<div>\n",
       "<style scoped>\n",
       "    .dataframe tbody tr th:only-of-type {\n",
       "        vertical-align: middle;\n",
       "    }\n",
       "\n",
       "    .dataframe tbody tr th {\n",
       "        vertical-align: top;\n",
       "    }\n",
       "\n",
       "    .dataframe thead th {\n",
       "        text-align: right;\n",
       "    }\n",
       "</style>\n",
       "<table border=\"1\" class=\"dataframe\">\n",
       "  <thead>\n",
       "    <tr style=\"text-align: right;\">\n",
       "      <th></th>\n",
       "      <th>b</th>\n",
       "      <th>d</th>\n",
       "      <th>e</th>\n",
       "    </tr>\n",
       "  </thead>\n",
       "  <tbody>\n",
       "    <tr>\n",
       "      <th>Utah</th>\n",
       "      <td>0.006361</td>\n",
       "      <td>0.028086</td>\n",
       "      <td>0.000031</td>\n",
       "    </tr>\n",
       "    <tr>\n",
       "      <th>Ohio</th>\n",
       "      <td>0.763816</td>\n",
       "      <td>6.543213</td>\n",
       "      <td>0.338915</td>\n",
       "    </tr>\n",
       "    <tr>\n",
       "      <th>Texas</th>\n",
       "      <td>0.146922</td>\n",
       "      <td>1.034420</td>\n",
       "      <td>0.093879</td>\n",
       "    </tr>\n",
       "    <tr>\n",
       "      <th>Oregon</th>\n",
       "      <td>1.577918</td>\n",
       "      <td>0.021161</td>\n",
       "      <td>1.128406</td>\n",
       "    </tr>\n",
       "  </tbody>\n",
       "</table>\n",
       "</div>"
      ],
      "text/plain": [
       "               b         d         e\n",
       "Utah    0.006361  0.028086  0.000031\n",
       "Ohio    0.763816  6.543213  0.338915\n",
       "Texas   0.146922  1.034420  0.093879\n",
       "Oregon  1.577918  0.021161  1.128406"
      ]
     },
     "execution_count": 11,
     "metadata": {},
     "output_type": "execute_result"
    }
   ],
   "source": [
    "frame.apply(f)"
   ]
  },
  {
   "cell_type": "markdown",
   "metadata": {
    "id": "KkLzJi0diyJL"
   },
   "source": [
    "The function passed to apply need not return a scalar value, it can also return a Series\n",
    "with multiple values:\n"
   ]
  },
  {
   "cell_type": "code",
   "execution_count": 39,
   "metadata": {
    "id": "9APKWUSsi0Q6"
   },
   "outputs": [
    {
     "data": {
      "text/html": [
       "<div>\n",
       "<style scoped>\n",
       "    .dataframe tbody tr th:only-of-type {\n",
       "        vertical-align: middle;\n",
       "    }\n",
       "\n",
       "    .dataframe tbody tr th {\n",
       "        vertical-align: top;\n",
       "    }\n",
       "\n",
       "    .dataframe thead th {\n",
       "        text-align: right;\n",
       "    }\n",
       "</style>\n",
       "<table border=\"1\" class=\"dataframe\">\n",
       "  <thead>\n",
       "    <tr style=\"text-align: right;\">\n",
       "      <th></th>\n",
       "      <th>b</th>\n",
       "      <th>d</th>\n",
       "      <th>e</th>\n",
       "    </tr>\n",
       "  </thead>\n",
       "  <tbody>\n",
       "    <tr>\n",
       "      <th>min</th>\n",
       "      <td>0.160324</td>\n",
       "      <td>-0.498869</td>\n",
       "      <td>-1.007697</td>\n",
       "    </tr>\n",
       "    <tr>\n",
       "      <th>max</th>\n",
       "      <td>2.265205</td>\n",
       "      <td>0.267422</td>\n",
       "      <td>1.305580</td>\n",
       "    </tr>\n",
       "  </tbody>\n",
       "</table>\n",
       "</div>"
      ],
      "text/plain": [
       "            b         d         e\n",
       "min  0.160324 -0.498869 -1.007697\n",
       "max  2.265205  0.267422  1.305580"
      ]
     },
     "execution_count": 39,
     "metadata": {},
     "output_type": "execute_result"
    }
   ],
   "source": [
    "def f(x):\n",
    "  return pd.Series([x.min(), x.max()], index=['min', 'max'])\n",
    "\n",
    "frame.apply(f)"
   ]
  },
  {
   "cell_type": "markdown",
   "metadata": {
    "id": "b5X-TIuNpnCc"
   },
   "source": [
    "map"
   ]
  },
  {
   "cell_type": "code",
   "execution_count": 53,
   "metadata": {},
   "outputs": [
    {
     "name": "stdout",
     "output_type": "stream",
     "text": [
      "               b         d         e\n",
      "Utah    1.132603  0.133711 -0.503848\n",
      "Ohio    0.357926  0.123562  0.652790\n",
      "Texas   0.080162 -0.249435 -0.394050\n",
      "Oregon  0.342814 -0.077014 -0.425153\n"
     ]
    }
   ],
   "source": [
    "add_in = lambda x:  x/2\n",
    "\n",
    "y = frame.apply(add_in, axis =1)\n",
    "\n",
    "print(y)"
   ]
  },
  {
   "cell_type": "code",
   "execution_count": 45,
   "metadata": {
    "id": "kxsDKBJvpMT5"
   },
   "outputs": [
    {
     "name": "stdout",
     "output_type": "stream",
     "text": [
      "               b         d         e\n",
      "Utah    5.131155  0.071515  1.015453\n",
      "Ohio    0.512443  0.061071  1.704539\n",
      "Texas   0.025704  0.248870  0.621101\n",
      "Oregon  0.470085  0.023724  0.723019\n",
      "               b         d         e\n",
      "Utah    5.131155  0.071515  1.015453\n",
      "Ohio    0.512443  0.061071  1.704539\n",
      "Texas   0.025704  0.248870  0.621101\n",
      "Oregon  0.470085  0.023724  0.723019\n"
     ]
    }
   ],
   "source": [
    "format = lambda x:  x**2\n",
    "\n",
    "x = frame.map(format)\n",
    "y = frame.apply(format, axis =0)\n",
    "\n",
    "print(x)\n",
    "print(y)"
   ]
  },
  {
   "cell_type": "code",
   "execution_count": 33,
   "metadata": {},
   "outputs": [
    {
     "data": {
      "text/html": [
       "<div>\n",
       "<style scoped>\n",
       "    .dataframe tbody tr th:only-of-type {\n",
       "        vertical-align: middle;\n",
       "    }\n",
       "\n",
       "    .dataframe tbody tr th {\n",
       "        vertical-align: top;\n",
       "    }\n",
       "\n",
       "    .dataframe thead th {\n",
       "        text-align: right;\n",
       "    }\n",
       "</style>\n",
       "<table border=\"1\" class=\"dataframe\">\n",
       "  <thead>\n",
       "    <tr style=\"text-align: right;\">\n",
       "      <th></th>\n",
       "      <th>b</th>\n",
       "      <th>d</th>\n",
       "      <th>e</th>\n",
       "    </tr>\n",
       "  </thead>\n",
       "  <tbody>\n",
       "    <tr>\n",
       "      <th>Utah</th>\n",
       "      <td>1.137946</td>\n",
       "      <td>0.926642</td>\n",
       "      <td>1.233864</td>\n",
       "    </tr>\n",
       "    <tr>\n",
       "      <th>Ohio</th>\n",
       "      <td>0.401545</td>\n",
       "      <td>1.648087</td>\n",
       "      <td>0.604375</td>\n",
       "    </tr>\n",
       "    <tr>\n",
       "      <th>Texas</th>\n",
       "      <td>0.862697</td>\n",
       "      <td>1.765532</td>\n",
       "      <td>0.853673</td>\n",
       "    </tr>\n",
       "    <tr>\n",
       "      <th>Oregon</th>\n",
       "      <td>0.263955</td>\n",
       "      <td>1.397139</td>\n",
       "      <td>0.741112</td>\n",
       "    </tr>\n",
       "  </tbody>\n",
       "</table>\n",
       "</div>"
      ],
      "text/plain": [
       "               b         d         e\n",
       "Utah    1.137946  0.926642  1.233864\n",
       "Ohio    0.401545  1.648087  0.604375\n",
       "Texas   0.862697  1.765532  0.853673\n",
       "Oregon  0.263955  1.397139  0.741112"
      ]
     },
     "execution_count": 33,
     "metadata": {},
     "output_type": "execute_result"
    }
   ],
   "source": [
    "format = lambda x:  x%2\n",
    "\n",
    "frame.apply(format, axis = 0)"
   ]
  },
  {
   "cell_type": "markdown",
   "metadata": {
    "id": "S4-MMn3-pvrT"
   },
   "source": [
    "map"
   ]
  },
  {
   "cell_type": "code",
   "execution_count": 34,
   "metadata": {
    "id": "lyi9vvropw1Z"
   },
   "outputs": [
    {
     "data": {
      "text/html": [
       "<div>\n",
       "<style scoped>\n",
       "    .dataframe tbody tr th:only-of-type {\n",
       "        vertical-align: middle;\n",
       "    }\n",
       "\n",
       "    .dataframe tbody tr th {\n",
       "        vertical-align: top;\n",
       "    }\n",
       "\n",
       "    .dataframe thead th {\n",
       "        text-align: right;\n",
       "    }\n",
       "</style>\n",
       "<table border=\"1\" class=\"dataframe\">\n",
       "  <thead>\n",
       "    <tr style=\"text-align: right;\">\n",
       "      <th></th>\n",
       "      <th>b</th>\n",
       "      <th>d</th>\n",
       "      <th>e</th>\n",
       "    </tr>\n",
       "  </thead>\n",
       "  <tbody>\n",
       "    <tr>\n",
       "      <th>Utah</th>\n",
       "      <td>1.137946</td>\n",
       "      <td>-1.073358</td>\n",
       "      <td>-0.766136</td>\n",
       "    </tr>\n",
       "    <tr>\n",
       "      <th>Ohio</th>\n",
       "      <td>-1.598455</td>\n",
       "      <td>-2.351913</td>\n",
       "      <td>-1.395625</td>\n",
       "    </tr>\n",
       "    <tr>\n",
       "      <th>Texas</th>\n",
       "      <td>-1.137303</td>\n",
       "      <td>-0.234468</td>\n",
       "      <td>0.853673</td>\n",
       "    </tr>\n",
       "    <tr>\n",
       "      <th>Oregon</th>\n",
       "      <td>-1.736045</td>\n",
       "      <td>-0.602861</td>\n",
       "      <td>-1.258888</td>\n",
       "    </tr>\n",
       "  </tbody>\n",
       "</table>\n",
       "</div>"
      ],
      "text/plain": [
       "               b         d         e\n",
       "Utah    1.137946 -1.073358 -0.766136\n",
       "Ohio   -1.598455 -2.351913 -1.395625\n",
       "Texas  -1.137303 -0.234468  0.853673\n",
       "Oregon -1.736045 -0.602861 -1.258888"
      ]
     },
     "execution_count": 34,
     "metadata": {},
     "output_type": "execute_result"
    }
   ],
   "source": [
    "frame['e'].map(format)\n",
    "\n",
    "frame"
   ]
  },
  {
   "cell_type": "markdown",
   "metadata": {
    "id": "eOWvEnSBpIQZ"
   },
   "source": [
    "here is a concise comparison between apply and applymap in pandas:\n",
    "\n",
    "**apply**\n",
    "\n",
    "* Scope: Applies a function along rows or columns.\n",
    "\n",
    "* Usage: Works with DataFrame and Series.\n",
    "Function Application: Applies to entire rows/columns.\n"
   ]
  },
  {
   "cell_type": "markdown",
   "metadata": {
    "id": "ES5Ig_isqixf"
   },
   "source": [
    "####pandas Sorting and Ranking"
   ]
  },
  {
   "cell_type": "markdown",
   "metadata": {
    "id": "lbEmKU5vqlfZ"
   },
   "source": [
    "Sorting by Index"
   ]
  },
  {
   "cell_type": "code",
   "execution_count": 54,
   "metadata": {
    "id": "z_M3K9v6qn1f"
   },
   "outputs": [
    {
     "name": "stdout",
     "output_type": "stream",
     "text": [
      "a    1\n",
      "b    2\n",
      "c    3\n",
      "d    0\n",
      "dtype: int64\n"
     ]
    }
   ],
   "source": [
    "#Series Example:\n",
    "\n",
    "obj = pd.Series(range(4), index=['d', 'a', 'b', 'c'])\n",
    "sorted_obj = obj.sort_index()\n",
    "print(sorted_obj)"
   ]
  },
  {
   "cell_type": "code",
   "execution_count": 55,
   "metadata": {
    "id": "7hQL4Z0mqrDv"
   },
   "outputs": [
    {
     "name": "stdout",
     "output_type": "stream",
     "text": [
      "       d  a  b  c\n",
      "one    4  5  6  7\n",
      "three  0  1  2  3\n",
      "       a  b  c  d\n",
      "three  1  2  3  0\n",
      "one    5  6  7  4\n"
     ]
    }
   ],
   "source": [
    "#DataFrame Example:\n",
    "\n",
    "frame = pd.DataFrame(np.arange(8).reshape((2, 4)), index=['three', 'one'], columns=['d', 'a', 'b', 'c'])\n",
    "\n",
    "# Sort by row index\n",
    "sorted_frame = frame.sort_index()\n",
    "print(sorted_frame)\n",
    "\n",
    "# Sort by column index\n",
    "sorted_frame_col = frame.sort_index(axis=1)\n",
    "print(sorted_frame_col)"
   ]
  },
  {
   "cell_type": "markdown",
   "metadata": {
    "id": "vQvcnyUtq6eS"
   },
   "source": [
    "**Descending or Acsending Order:**\n",
    "\n",
    "Use True / False to make it happen."
   ]
  },
  {
   "cell_type": "code",
   "execution_count": 56,
   "metadata": {
    "id": "XreAcRYeq0pL"
   },
   "outputs": [
    {
     "name": "stdout",
     "output_type": "stream",
     "text": [
      "       d  c  b  a\n",
      "three  0  3  2  1\n",
      "one    4  7  6  5\n"
     ]
    }
   ],
   "source": [
    "sorted_frame_desc = frame.sort_index(axis=1, ascending=False)\n",
    "print(sorted_frame_desc)"
   ]
  },
  {
   "cell_type": "markdown",
   "metadata": {
    "id": "g_RlKd0RrUQy"
   },
   "source": [
    "**Sorting by Values**\n"
   ]
  },
  {
   "cell_type": "code",
   "execution_count": 57,
   "metadata": {
    "id": "gwfWaCAlrZ0l"
   },
   "outputs": [
    {
     "name": "stdout",
     "output_type": "stream",
     "text": [
      "2   -3\n",
      "3    2\n",
      "0    4\n",
      "1    7\n",
      "dtype: int64\n"
     ]
    }
   ],
   "source": [
    "# Series Example:\n",
    "\n",
    "\n",
    "obj = pd.Series([4, 7, -3, 2])\n",
    "sorted_obj = obj.sort_values()\n",
    "print(sorted_obj)"
   ]
  },
  {
   "cell_type": "code",
   "execution_count": 58,
   "metadata": {
    "id": "7JgMvgxrrcDy"
   },
   "outputs": [
    {
     "name": "stdout",
     "output_type": "stream",
     "text": [
      "   b  a\n",
      "2 -3  0\n",
      "3  2  1\n",
      "0  4  0\n",
      "1  7  1\n"
     ]
    }
   ],
   "source": [
    "# DataFrame Example (by column):\n",
    "\n",
    "frame = pd.DataFrame({'b': [4, 7, -3, 2], 'a': [0, 1, 0, 1]})\n",
    "sorted_frame_by_b = frame.sort_values(by='b')\n",
    "print(sorted_frame_by_b)"
   ]
  },
  {
   "cell_type": "markdown",
   "metadata": {
    "id": "nqIV7BmNrlIi"
   },
   "source": [
    "NOTE: In pandas, when sorting by values, NaN (Not a Number) values are treated as if they are larger than any other values by default. Therefore, they are placed at the end of the sorted Series or DataFrame by default."
   ]
  },
  {
   "cell_type": "markdown",
   "metadata": {
    "id": "MPi2-b9ks12H"
   },
   "source": [
    "**Sorting by Multiple Columns:**"
   ]
  },
  {
   "cell_type": "code",
   "execution_count": 67,
   "metadata": {
    "id": "jbYnV-ons-hw"
   },
   "outputs": [
    {
     "name": "stdout",
     "output_type": "stream",
     "text": [
      "   a  b\n",
      "2  0 -3\n",
      "0  0  4\n",
      "3  1  2\n",
      "1  1  7\n"
     ]
    }
   ],
   "source": [
    "sorted_frame_by_ab = frame.sort_values(by=['a', 'b'])\n",
    "print(sorted_frame_by_ab.reindex(columns = ['a','b']))"
   ]
  },
  {
   "cell_type": "markdown",
   "metadata": {
    "id": "GJAkA1QRtCNu"
   },
   "source": [
    "####**Ranking**\n"
   ]
  },
  {
   "cell_type": "markdown",
   "metadata": {
    "id": "N6oIb7NMEa6P"
   },
   "source": [
    "Mostly used syntax: `Series/DataFrame_Col.rank(method='______')`\n",
    "\n",
    "\n",
    "method: {‘average’, ‘min’, ‘max’, ‘first’, ‘dense’}, default ‘average’\n",
    "Method used to assign ranks to tied elements:\n",
    "* ‘`average`': Assigns the average rank to each group of tied values.\n",
    "* ‘`min`’: Assigns the minimum rank to each group of tied values.\n",
    "* ‘`max`’: Assigns the maximum rank to each group of tied values.\n",
    "* ‘`first`’: Assigns ranks in the order the values appear in the array.\n",
    "* ‘`dense`’: Assigns ranks in a dense fashion; the rank increases by 1 between groups of tied values.\n"
   ]
  },
  {
   "cell_type": "code",
   "execution_count": null,
   "metadata": {
    "id": "mkqmYVSUtGow"
   },
   "outputs": [],
   "source": [
    "# Series Example:\n",
    "\n",
    "obj = pd.Series([7, -5, 7, 4, 2, 0, 4])\n",
    "ranked_obj = obj.rank()\n",
    "print(ranked_obj)"
   ]
  },
  {
   "cell_type": "code",
   "execution_count": null,
   "metadata": {
    "id": "SlajSYz6tJd_"
   },
   "outputs": [],
   "source": [
    "ranked_obj_first = obj.rank(method='first')\n",
    "print(ranked_obj_first)"
   ]
  },
  {
   "cell_type": "code",
   "execution_count": null,
   "metadata": {
    "id": "VqMhAdEVtfkz"
   },
   "outputs": [],
   "source": [
    "\n",
    "ranked_obj_desc = obj.rank( method='max')\n",
    "print(ranked_obj_desc)\n"
   ]
  },
  {
   "cell_type": "code",
   "execution_count": null,
   "metadata": {
    "id": "SXQG3JRBtt54"
   },
   "outputs": [],
   "source": [
    "# DataFrame Example:\n",
    "\n",
    "\n",
    "frame = pd.DataFrame({'b': [4.3, 7, -3, 2], 'a': [0, 1, 0, 1], 'c': [-2, 5, 8, -2.5]})\n",
    "ranked_frame = frame.rank(axis=1)\n",
    "print(ranked_frame)"
   ]
  },
  {
   "cell_type": "markdown",
   "metadata": {
    "id": "MvocbHPy3qc7"
   },
   "source": [
    "###`loc` (Label-based Indexing)\n",
    "\n",
    "loc is used for accessing a group of rows and columns by labels or a boolean array. It is label-based, meaning that you have to specify rows and columns based on their labels.\n",
    "\n",
    "Syntax:\n",
    "`df.loc[row_labels, column_labels]`\n",
    "\n",
    "\n"
   ]
  },
  {
   "cell_type": "code",
   "execution_count": null,
   "metadata": {
    "id": "9mgBBXAu4UXO"
   },
   "outputs": [],
   "source": [
    "# Example 1\n",
    "\n",
    "df = pd.DataFrame({'A': [1, 2, 3], 'B': [4, 5, 6]}, index=['a', 'b', 'c'])\n",
    "result = df.loc['a', 'A']\n"
   ]
  },
  {
   "cell_type": "code",
   "execution_count": null,
   "metadata": {
    "id": "it9jmALB4aQ9"
   },
   "outputs": [],
   "source": [
    "result = df.loc[:, 'A']  #Selecting All Rows for Specific Column\n"
   ]
  },
  {
   "cell_type": "code",
   "execution_count": null,
   "metadata": {
    "id": "s5K6mew54ilm"
   },
   "outputs": [],
   "source": [
    "result = df.loc['a', :]  #Selecting Specific Rows and All Columns"
   ]
  },
  {
   "cell_type": "code",
   "execution_count": null,
   "metadata": {
    "id": "EVI65O9U5L6R"
   },
   "outputs": [],
   "source": [
    "result = df.loc[['a', 'b'], ['A', 'B']]   #Selecting Multiple Rows and Columns"
   ]
  },
  {
   "cell_type": "markdown",
   "metadata": {
    "id": "MgHh5BgM3vt5"
   },
   "source": [
    "**Conditional Selection**\n",
    "\n",
    "`df.loc[df['column_label'] > value]`\n",
    "\n"
   ]
  },
  {
   "cell_type": "code",
   "execution_count": null,
   "metadata": {
    "id": "sDtFYLdo5qcV"
   },
   "outputs": [],
   "source": [
    "result = df.loc[df['A'] > 1]"
   ]
  },
  {
   "cell_type": "markdown",
   "metadata": {
    "id": "D-9bOHyl56FV"
   },
   "source": [
    "### **`iloc` (Integer-location Based Indexing)**\n",
    "\n",
    "iloc is used for accessing a group of rows and columns by integer positions (i.e., positions based on the index order).\n",
    "\n",
    "Syntax: `df.iloc[row_positions, column_positions]`\n",
    "\n"
   ]
  },
  {
   "cell_type": "code",
   "execution_count": null,
   "metadata": {
    "id": "ubMT0e1U6LVj"
   },
   "outputs": [],
   "source": [
    "#Example 1\n",
    "\n",
    "df = pd.DataFrame({'A': [1, 2, 3], 'B': [4, 5, 6]})\n",
    "result = df.iloc[0, 0]\n"
   ]
  },
  {
   "cell_type": "code",
   "execution_count": null,
   "metadata": {
    "id": "BdKR0Sij6P6J"
   },
   "outputs": [],
   "source": [
    "result = df.iloc[:, 0]  #Selecting All Rows for Specific Column\n"
   ]
  },
  {
   "cell_type": "code",
   "execution_count": null,
   "metadata": {
    "id": "0Orip8FU6bU1"
   },
   "outputs": [],
   "source": [
    "result = df.iloc[0, :]  #Selecting Specific Rows and All Columns"
   ]
  },
  {
   "cell_type": "code",
   "execution_count": null,
   "metadata": {
    "id": "8B7jxB_W6m15"
   },
   "outputs": [],
   "source": [
    "result = df.iloc[[0,1], [0,1]]   #Selecting Multiple Rows and Columns"
   ]
  },
  {
   "cell_type": "markdown",
   "metadata": {
    "id": "1_AnDC_r6wVf"
   },
   "source": [
    "####Slicing Rows and Columns:\n",
    "\n",
    "\n",
    "Syntax:  `df.iloc[row_start:row_end, col_start:col_end]`"
   ]
  },
  {
   "cell_type": "code",
   "execution_count": null,
   "metadata": {
    "id": "1_KXvKX36vpd"
   },
   "outputs": [],
   "source": [
    "result = df.iloc[0:2, 0:2]"
   ]
  },
  {
   "cell_type": "markdown",
   "metadata": {
    "id": "PTf1lD_p7CJS"
   },
   "source": [
    "**Differences between loc and iloc**\n",
    "\n",
    "Type of Indexing:\n",
    "* loc: Label-based indexing\n",
    "* iloc: Integer-based indexing\n",
    "\n",
    "Out-of-Bounds Indexing:\n",
    "* loc: Will raise a KeyError if a label is not found.\n",
    "* iloc: Will raise an IndexError if the index is out of bounds.\n",
    "\n",
    "Usage with Slicing:\n",
    "* loc: The end of the slice is included.\n",
    "* iloc: The end of the slice is excluded.\n",
    "\n",
    "\n",
    " These methods provide flexible and powerful ways to select and filter data based on labels or integer positions resulting refined data."
   ]
  },
  {
   "cell_type": "markdown",
   "metadata": {
    "id": "Ox5Mo-9CXSDW"
   },
   "source": [
    "###**Pandas concat, join, and merge Operations**"
   ]
  },
  {
   "cell_type": "markdown",
   "metadata": {
    "id": "5NMhehi9Xc6G"
   },
   "source": [
    "####**concat (Concatenation)**\n",
    "The concat function is used to concatenate pandas objects along a particular axis with optional set logic along the other axes.\n",
    "\n",
    "Syntax:`pd.concat(objs, axis=0, join='outer', ignore_index=False, keys=None,  sort=False)`\n",
    "\n",
    "Parameters\n",
    "* objs: A sequence or mapping of Series or DataFrame objects.\n",
    "* axis: The axis to concatenate along (default is 0, meaning rows).\n",
    "* join: How to handle indexes on other axis (outer, inner).\n",
    "* ignore_index: If True, do not use the index values along the concatenation axis (default is False).\n",
    "* keys: Construct hierarchical index using the passed keys as the outermost level.\n",
    "* sort: Sort non-concatenation axis if it is not already aligned."
   ]
  },
  {
   "cell_type": "code",
   "execution_count": null,
   "metadata": {
    "id": "K4ly4Gv9YDQ8"
   },
   "outputs": [],
   "source": [
    "# Concatenating DataFrames Vertically (default)\n",
    "\n",
    "df1 = pd.DataFrame({'A': ['A0', 'A1', 'A2'], 'B': ['B0', 'B1', 'B2']})\n",
    "df2 = pd.DataFrame({'A': ['A3', 'A4', 'A5'], 'B': ['B3', 'B4', 'B5']})\n",
    "\n",
    "result = pd.concat([df1, df2])\n",
    "\n",
    "result"
   ]
  },
  {
   "cell_type": "code",
   "execution_count": null,
   "metadata": {
    "id": "xq_qWJ83YLc4"
   },
   "outputs": [],
   "source": [
    "# Concatenating DataFrames Horizontally:\n",
    "\n",
    "result = pd.concat([df1, df2], axis=1)\n",
    "result"
   ]
  },
  {
   "cell_type": "code",
   "execution_count": null,
   "metadata": {
    "id": "Xn7ZcOioYb90"
   },
   "outputs": [],
   "source": [
    "# Using keys Parameter:\n",
    "\n",
    "result = pd.concat([df1, df2], keys=['df1', 'df2'])\n",
    "result"
   ]
  },
  {
   "cell_type": "code",
   "execution_count": null,
   "metadata": {
    "id": "yKHf4JIEYgDo"
   },
   "outputs": [],
   "source": []
  },
  {
   "cell_type": "markdown",
   "metadata": {
    "id": "HWW98ixoX2un"
   },
   "source": [
    "####**join (Joining)**\n",
    "The join function is used to join DataFrames on indices or on a key column.\n",
    "\n",
    "Syntax:`df.join(other, on=None, how='left', lsuffix='', rsuffix='', sort=False)`\n",
    "\n",
    "Parameters\n",
    "* other: DataFrame, Series, or list of DataFrame.\n",
    "* on: Column or index level name(s). If None, join indexes.\n",
    "* how: One of left, right, outer, inner (default is left).\n",
    "* lsuffix: Suffix to use for overlapping column names in the left DataFrame.\n",
    "* rsuffix: Suffix to use for overlapping column names in the right DataFrame.\n",
    "* sort: Sort the join keys."
   ]
  },
  {
   "cell_type": "code",
   "execution_count": null,
   "metadata": {
    "id": "U8BB4HeEY62h"
   },
   "outputs": [],
   "source": [
    "# Joining on Index:\n",
    "\n",
    "df1 = pd.DataFrame({'A': ['A0', 'A1', 'A2']}, index=['K0', 'K1', 'K2'])\n",
    "df2 = pd.DataFrame({'B': ['B0', 'B1', 'B2']}, index=['K0', 'K2', 'K3'])\n",
    "result = df1.join(df2, how='outer')\n",
    "\n",
    "result"
   ]
  },
  {
   "cell_type": "code",
   "execution_count": null,
   "metadata": {
    "id": "8pP55CaPZDOk"
   },
   "outputs": [],
   "source": [
    "# Joining on Key Columns:\n",
    "\n",
    "df1 = pd.DataFrame({'A': ['A0', 'A1', 'A2'], 'key': ['K0', 'K1', 'K2']})\n",
    "df2 = pd.DataFrame({'B': ['B0', 'B1', 'B2'], 'key': ['K0', 'K2', 'K3']})\n",
    "result = df1.join(df2.set_index('key'), on='key', how='outer')\n",
    "\n",
    "result"
   ]
  },
  {
   "cell_type": "markdown",
   "metadata": {
    "id": "bFJ-sKHlZdfN"
   },
   "source": [
    "####**merge (Merging)**\n",
    "The merge function is similar to SQL joins and combines DataFrames based on key columns.\n",
    "\n",
    "Syntax: `pd.merge(left, right, how='inner', on=None, left_on=None, right_on=None, left_index=False, right_index=False, sort=False)`\n",
    "\n",
    "Parameters\n",
    "* left: A DataFrame.\n",
    "* right: Another DataFrame.\n",
    "* how: Type of merge (left, right, outer, inner).\n",
    "* on: Column or index level names to join on. Must be found in both DataFrames.\n",
    "* left_on: Column or index level names to join on in the left DataFrame.\n",
    "* right_on: Column or index level names to join on in the right DataFrame.\n",
    "* left_index: Use index from the left DataFrame as the join key(s).\n",
    "* right_index: Use index from the right DataFrame as the join key(s).\n",
    "\n"
   ]
  },
  {
   "cell_type": "code",
   "execution_count": null,
   "metadata": {
    "id": "vkkuFKZ3ZJH9"
   },
   "outputs": [],
   "source": [
    "# Inner Join:\n",
    "\n",
    "\n",
    "df1 = pd.DataFrame({'key': ['K0', 'K1', 'K2'], 'A': ['A0', 'A1', 'A2']})\n",
    "df2 = pd.DataFrame({'key': ['K0', 'K1', 'K3'], 'B': ['B0', 'B1', 'B2']})\n",
    "result = pd.merge(df1, df2, on='key')\n",
    "result"
   ]
  },
  {
   "cell_type": "code",
   "execution_count": null,
   "metadata": {
    "id": "VPFqsDgLc7yT"
   },
   "outputs": [],
   "source": [
    "# Left Join:\n",
    "\n",
    "result = pd.merge(df1, df2, on='key', how='left')\n",
    "\n",
    "result\n"
   ]
  },
  {
   "cell_type": "code",
   "execution_count": null,
   "metadata": {
    "id": "AaM6Mbt2eZAO"
   },
   "outputs": [],
   "source": [
    "# Right Join:\n",
    "\n",
    "result = pd.merge(df1, df2, on='key', how='right')\n",
    "\n",
    "result"
   ]
  },
  {
   "cell_type": "code",
   "execution_count": null,
   "metadata": {
    "id": "msKdUuJwedWV"
   },
   "outputs": [],
   "source": [
    "# Outer Join:\n",
    "\n",
    "result = pd.merge(df1, df2, on='key', how='outer')\n",
    "\n",
    "result"
   ]
  },
  {
   "cell_type": "markdown",
   "metadata": {
    "id": "UJgNp0yCfvL9"
   },
   "source": [
    "`concat`: Use for concatenating DataFrames along rows or columns, stacking them on top of each other or side by side.\n",
    "\n",
    "`join`: Use for joining DataFrames on indices or on key columns. It is convenient for index-based joins.\n",
    "\n",
    "`merge`: Use for database-style joins, combining DataFrames based on one or more keys, similar to SQL joins. This method is very flexible and can handle different join types and column/key names."
   ]
  },
  {
   "cell_type": "markdown",
   "metadata": {
    "id": "yK04nMTmg1oS"
   },
   "source": [
    "### **dropna() Method**\n",
    "\n",
    "The `dropna()` method in pandas is used to remove missing values (NaNs) from a DataFrame or Series. It is a powerful tool for data cleaning, allowing you to manage and preprocess your data by eliminating rows or columns with missing data.\n",
    "\n",
    "Syntax:\n",
    "`DataFrame.dropna(axis=0, how='any', thresh=None, subset=None, inplace=False)`\n",
    "\n",
    "`Series.dropna(axis=0, inplace=False)`\n",
    "\n",
    "\n",
    "#####*Parameters*\n",
    "\n",
    "**Common Parameters (for both DataFrame and Series)**\n",
    "\n",
    "* axis: {0 or ‘index’, 1 or ‘columns’}, default 0\n",
    "\n",
    " * Determine if rows or columns which contain missing values are removed.\n",
    " * 0, or ‘index’: Drop rows which contain missing values.\n",
    " * 1, or ‘columns’: Drop columns which contain missing values.\n",
    "* inplace: bool, default False\n",
    "\n",
    " * If True, do operation inplace and return None.\n",
    "\n",
    "\n",
    "**DataFrame-specific Parameters**\n",
    "* how: {‘any’, ‘all’}, default ‘any’\n",
    "\n",
    " * Determine if row or column is removed from DataFrame, when we have at least one NA or all NA.\n",
    " * ‘any’: If any NA values are present, drop that row or column.\n",
    " * ‘all’: If all values are NA, drop that row or column.\n",
    "\n",
    "* thresh: int, optional\n",
    "\n",
    " * Keeps rows/columns with at least n non-NA values. Cannot be combined with how.\n",
    "\n",
    "* subset: array-like, optional\n",
    "\n",
    " * Labels along other axis to consider, e.g. if you are dropping rows these would be a list of columns to include."
   ]
  },
  {
   "cell_type": "code",
   "execution_count": null,
   "metadata": {
    "id": "kwMnSIUQf7Bd"
   },
   "outputs": [],
   "source": [
    "# Dropping Rows with Any Missing Values\n",
    "# Example:\n",
    "\n",
    "df = pd.DataFrame({\n",
    "    'A': [1, 2, np.nan, 4],\n",
    "    'B': [np.nan, 2, 3, 4],\n",
    "    'C': [1, np.nan, np.nan, 4]\n",
    "})\n",
    "result = df.dropna()\n",
    "\n",
    "result"
   ]
  },
  {
   "cell_type": "code",
   "execution_count": null,
   "metadata": {
    "id": "yCm5QKO0jW9c"
   },
   "outputs": [],
   "source": [
    "# Dropping Columns with Any Missing Values\n",
    "\n",
    "\n",
    "result = df.dropna(axis=1)"
   ]
  },
  {
   "cell_type": "code",
   "execution_count": null,
   "metadata": {
    "id": "lW8WMxB7jjgY"
   },
   "outputs": [],
   "source": [
    "# Dropping Rows with All Missing Values\n",
    "\n",
    "df = pd.DataFrame({\n",
    "    'A': [np.nan, 2, np.nan, 4],\n",
    "    'B': [np.nan, 2, 3, 4],\n",
    "    'C': [np.nan, np.nan, np.nan, 4]\n",
    "})\n",
    "\n",
    "result = df.dropna(how='all')"
   ]
  },
  {
   "cell_type": "code",
   "execution_count": null,
   "metadata": {
    "id": "GeF1JMYyj8LA"
   },
   "outputs": [],
   "source": [
    "# Dropping Columns with All Missing Values\n",
    "\n",
    "result = df.dropna(axis=1, how='all')"
   ]
  },
  {
   "cell_type": "code",
   "execution_count": null,
   "metadata": {
    "id": "g_ioyQ6Ukbrg"
   },
   "outputs": [],
   "source": [
    "# Using subset Parameter to Specify Columns for NA Consideration\n",
    "\n",
    "df = pd.DataFrame({\n",
    "    'A': [1, np.nan, 3, 4],\n",
    "    'B': [np.nan, 2, 3, np.nan],\n",
    "    'C': [1, 2, np.nan, 4]\n",
    "})\n",
    "\n",
    "result = df.dropna(subset=['A', 'B'])\n",
    "\n",
    "result"
   ]
  },
  {
   "cell_type": "code",
   "execution_count": null,
   "metadata": {
    "id": "SzR9pQYsj_8P"
   },
   "outputs": [],
   "source": [
    "# Inplace Parameter\n",
    "# If inplace=True, the operation is performed in place and the DataFrame is modified directly.\n",
    "\n",
    "\n",
    "df.dropna(inplace=True)"
   ]
  },
  {
   "cell_type": "markdown",
   "metadata": {
    "id": "_0DNK82J2ehK"
   },
   "source": [
    "### **`fillna` Method in Pandas:**\n",
    "\n",
    "The `fillna` method in pandas is used to fill missing values in a DataFrame or Series with a specified value or using a method to propagate values. This method is essential for data cleaning and preprocessing, especially when dealing with datasets that have missing or null values.\n",
    "\n",
    "Syntax: `DataFrame.fillna(value=None, method=None, axis=None, inplace=False, limit=None, downcast=None)`\n",
    "\n",
    "\n",
    "**Parameters**\n",
    "\n",
    "* **value: scalar, dict, Series, or DataFrame**\n",
    "\n",
    " Value to use to fill the missing values. This can be a single value (e.g., a scalar), a dictionary of values specifying the value to use for each column, or a Series/DataFrame with matching indices.\n",
    "\n",
    "\n",
    "* **method: {‘backfill’, ‘bfill’, ‘pad’, ‘ffill’}, optional**\n",
    "\n",
    " Method to use for filling holes in reindexed Series. pad/ffill: propagate last valid observation forward to next valid. backfill/bfill: use next valid\n",
    " observation to fill the gap.\n",
    "\n",
    "* **axis: {0 or ‘index’, 1 or ‘columns’}, default 0**\n",
    "\n",
    " Axis along which to fill missing values. For DataFrame: axis=0 fills along the index (rows), axis=1 fills along the columns.\n",
    "\n",
    "* **inplace: bool, default False**\n",
    "\n",
    " If True, fill in-place. Note: this will modify the original DataFrame/Series.\n",
    "\n",
    "* **limit: int, default None**\n",
    "\n",
    " Maximum number of consecutive NaNs to fill. If limit is specified, only this many consecutive NaNs will be filled.\n"
   ]
  },
  {
   "cell_type": "code",
   "execution_count": null,
   "metadata": {
    "id": "tNTs_UAo3mS8"
   },
   "outputs": [],
   "source": [
    "df = pd.DataFrame({\n",
    "    'A': [1, 2, np.nan, 4],\n",
    "    'B': [np.nan, 2, 3, 4],\n",
    "    'C': [1, np.nan, np.nan, 4]\n",
    "})\n",
    "\n",
    "\n",
    "# Fill missing values with a scalar value (e.g., 0)\n",
    "\n",
    "df_filled = df.fillna(0)  # or df_filled = df.fillna(value=0)\n"
   ]
  },
  {
   "cell_type": "code",
   "execution_count": null,
   "metadata": {
    "id": "ArrufA3r35-H"
   },
   "outputs": [],
   "source": [
    "# Fill missing values with the mean of each column\n",
    "df_filled_mean = df.fillna(df.mean())\n",
    "\n",
    "\n",
    "# Fill missing values with the median of each column\n",
    "df_filled_median = df.fillna(df.median())\n"
   ]
  },
  {
   "cell_type": "code",
   "execution_count": null,
   "metadata": {
    "id": "P2lX5xltABmA"
   },
   "outputs": [],
   "source": [
    "# Fill missing values with a dictionary specifying fill values for each column\n",
    "\n",
    "df_filled_dict = df.fillna({'A': 0, 'B': 1, 'C': 2})"
   ]
  },
  {
   "cell_type": "markdown",
   "metadata": {
    "id": "JZOgZDcqAL75"
   },
   "source": [
    "You can print and check the DataFrames created by filling up the nan values.\n"
   ]
  }
 ],
 "metadata": {
  "colab": {
   "provenance": []
  },
  "kernelspec": {
   "display_name": "Python 3 (ipykernel)",
   "language": "python",
   "name": "python3"
  },
  "language_info": {
   "codemirror_mode": {
    "name": "ipython",
    "version": 3
   },
   "file_extension": ".py",
   "mimetype": "text/x-python",
   "name": "python",
   "nbconvert_exporter": "python",
   "pygments_lexer": "ipython3",
   "version": "3.12.4"
  }
 },
 "nbformat": 4,
 "nbformat_minor": 4
}
