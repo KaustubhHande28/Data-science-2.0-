{
 "cells": [
  {
   "cell_type": "code",
   "execution_count": 1,
   "id": "5d18dd94",
   "metadata": {},
   "outputs": [
    {
     "name": "stdout",
     "output_type": "stream",
     "text": [
      "a -> 0\n",
      "b -> 100\n",
      "d -> 1010\n",
      "f -> 10110\n",
      "e -> 10111\n",
      "c -> 11\n"
     ]
    }
   ],
   "source": [
    "class Node:\n",
    "    def __init__(self, freq, symbol, left=None, right=None):\n",
    "        self.freq = freq\n",
    "        self.symbol = symbol\n",
    "        self.left = left\n",
    "        self.right = right\n",
    "        self.huff = ''\n",
    "\n",
    "def printNodes(node, val=''):\n",
    "    newVal = val + str(node.huff)\n",
    "    if node.left:\n",
    "        printNodes(node.left, newVal)\n",
    "    if node.right:\n",
    "        printNodes(node.right, newVal)\n",
    "\n",
    "    if not node.left and not node.right:\n",
    "        print(f\"{node.symbol} -> {newVal}\")\n",
    "\n",
    "\n",
    "chars = ['a', 'b', 'c', 'd', 'e', 'f']\n",
    "freq = [50, 10, 30, 5, 3, 2]\n",
    "nodes = []\n",
    "\n",
    "\n",
    "for x in range(len(chars)):\n",
    "    nodes.append(Node(freq[x], chars[x]))\n",
    "\n",
    "\n",
    "while len(nodes) > 1:\n",
    "    nodes = sorted(nodes, key=lambda x: x.freq) \n",
    "    left = nodes[0]\n",
    "    right = nodes[1]\n",
    "\n",
    "    left.huff = '0'  \n",
    "    right.huff = '1'  \n",
    "\n",
    "   \n",
    "    newNode = Node(left.freq + right.freq, left.symbol + right.symbol, left, right) \n",
    "    nodes.remove(left)\n",
    "    nodes.remove(right)\n",
    "    nodes.append(newNode)\n",
    "\n",
    "\n",
    "printNodes(nodes[0])\n",
    "\n",
    "\n"
   ]
  },
  {
   "cell_type": "code",
   "execution_count": null,
   "id": "42e483eb",
   "metadata": {},
   "outputs": [],
   "source": []
  }
 ],
 "metadata": {
  "kernelspec": {
   "display_name": "Python 3 (ipykernel)",
   "language": "python",
   "name": "python3"
  },
  "language_info": {
   "codemirror_mode": {
    "name": "ipython",
    "version": 3
   },
   "file_extension": ".py",
   "mimetype": "text/x-python",
   "name": "python",
   "nbconvert_exporter": "python",
   "pygments_lexer": "ipython3",
   "version": "3.12.6"
  }
 },
 "nbformat": 4,
 "nbformat_minor": 5
}
