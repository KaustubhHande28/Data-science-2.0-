{
 "cells": [
  {
   "cell_type": "code",
   "execution_count": 15,
   "id": "3fccb21f-3db1-4649-a22d-fd29d7632618",
   "metadata": {},
   "outputs": [],
   "source": [
    "#creat a Node:\n",
    "class Node:\n",
    "    def __init__(self,data):#underscore is neccesary for calling\n",
    "        self.data= data\n",
    "        self.next= None "
   ]
  },
  {
   "cell_type": "code",
   "execution_count": 20,
   "id": "250a2820-1589-43ce-9a7a-80082c1cf7a5",
   "metadata": {},
   "outputs": [],
   "source": [
    "class Linkedlist:\n",
    "    def __init__(self): #after def space is neccesary\n",
    "        self.head=None \n",
    "#inserting at the beginning\n",
    "    def insert_at_the_beginning(self,new_data):\n",
    "        new_node = Node(new_data) #created a new node in the 'class Node'\n",
    "        new_node.next=self.head #\n",
    "        self.head=new_node\n",
    "#printing the linked list\n",
    "    def print_ll(self):\n",
    "        temp=self.head\n",
    "        while temp: #it means till temp not get null\n",
    "            print(temp.data,end='->')\n",
    "            temp=temp.next\n",
    "        print(\"None\")\n",
    "        "
   ]
  },
  {
   "cell_type": "code",
   "execution_count": 21,
   "id": "60265926-a181-4480-83da-127fef28dc32",
   "metadata": {},
   "outputs": [
    {
     "name": "stdout",
     "output_type": "stream",
     "text": [
      "5->4->3->2->1->None\n"
     ]
    }
   ],
   "source": [
    "#creat a linked list [insert at the beginning]\n",
    "link_list_1=Linkedlist()\n",
    "link_list_1.insert_at_the_beginning(1)\n",
    "link_list_1.insert_at_the_beginning(2)\n",
    "link_list_1.insert_at_the_beginning(3)\n",
    "link_list_1.insert_at_the_beginning(4)\n",
    "link_list_1.insert_at_the_beginning(5)\n",
    "\n",
    "link_list_1.print_ll()"
   ]
  },
  {
   "cell_type": "code",
   "execution_count": 48,
   "id": "c307a734-db62-4373-8e04-3f78ff19080a",
   "metadata": {},
   "outputs": [],
   "source": [
    "#creat a linklist [insert from the end ]\n",
    "class Linkedlist:\n",
    "    def __init__(self): #after def space is neccesary\n",
    "        self.head=None \n",
    "#inserting at the beginning\n",
    "    def insert_at_the_beginning(self,new_data):\n",
    "        new_node = Node(new_data) #created a new node in the 'class Node'\n",
    "        new_node.next=self.head #\n",
    "        self.head=new_node\n",
    "#printing the linked list\n",
    "    def print_ll(self):\n",
    "        temp=self.head\n",
    "        while temp: #it means till temp not get null\n",
    "            print(temp.data,end='->')\n",
    "            temp=temp.next\n",
    "        print(\"None\")\n",
    "#insert at the end:\n",
    "    def insert_at_the_end(self,new_data):\n",
    "        new_node=Node(new_data)\n",
    "        if self.head == None: #we can use '==' or 'is'\n",
    "            self.head =new_node\n",
    "            return\n",
    "        last=self.head\n",
    "        while last.next:\n",
    "            last=last.next\n",
    "        last.next=new_node\n",
    "\n",
    "#delete from the beginning\n",
    "    def delete_from_the_beginning(self):\n",
    "        if self.head is None:\n",
    "            return'THE LIST IS EMPTY'\n",
    "        self.head = self.head.next\n",
    "\n",
    "#delete from the end\n",
    "    def delete_from_the_end(self):\n",
    "        if self.head is None:\n",
    "            return'THE LIST IS EMPTY'\n",
    "        if self.head.next is None:\n",
    "            self.head=None\n",
    "            return\n",
    "        temp=self.head\n",
    "        while temp.next.next:\n",
    "            temp=temp.next\n",
    "        temp.next=None"
   ]
  },
  {
   "cell_type": "code",
   "execution_count": 55,
   "id": "8c9e17c1-2fd2-441e-9beb-de6a15a9c6e8",
   "metadata": {},
   "outputs": [
    {
     "name": "stdout",
     "output_type": "stream",
     "text": [
      "5->4->3->2->1->None\n"
     ]
    }
   ],
   "source": [
    "#creat a linked list [insert at the beginning]\n",
    "link_list_1=Linkedlist()\n",
    "link_list_1.insert_at_the_beginning(1)\n",
    "link_list_1.insert_at_the_beginning(2)\n",
    "link_list_1.insert_at_the_beginning(3)\n",
    "link_list_1.insert_at_the_beginning(4)\n",
    "link_list_1.insert_at_the_beginning(5)\n",
    "\n",
    "link_list_1.print_ll()"
   ]
  },
  {
   "cell_type": "code",
   "execution_count": 54,
   "id": "165ef92e-13fc-4970-8046-b91df9194598",
   "metadata": {},
   "outputs": [
    {
     "name": "stdout",
     "output_type": "stream",
     "text": [
      "5->4->3->2->1->6->7->8->9->None\n"
     ]
    }
   ],
   "source": [
    "#inserting element from end\n",
    "link_list_1=Linkedlist()\n",
    "link_list_1.insert_at_the_beginning(1)\n",
    "link_list_1.insert_at_the_beginning(2)\n",
    "link_list_1.insert_at_the_beginning(3)\n",
    "link_list_1.insert_at_the_beginning(4)\n",
    "link_list_1.insert_at_the_beginning(5)\n",
    "\n",
    "link_list_1.insert_at_the_end(6)\n",
    "link_list_1.insert_at_the_end(7)\n",
    "link_list_1.insert_at_the_end(8)\n",
    "link_list_1.insert_at_the_end(9)\n",
    "\n",
    "\n",
    "link_list_1.print_ll()"
   ]
  },
  {
   "cell_type": "code",
   "execution_count": 52,
   "id": "43b0451c-94b2-4f9a-8b5c-d6f708cb67dd",
   "metadata": {},
   "outputs": [
    {
     "name": "stdout",
     "output_type": "stream",
     "text": [
      "4->3->2->1->6->7->8->9->None\n"
     ]
    }
   ],
   "source": [
    "#deleting from the beginning\n",
    "link_list_1=Linkedlist()\n",
    "link_list_1.insert_at_the_beginning(1)\n",
    "link_list_1.insert_at_the_beginning(2)\n",
    "link_list_1.insert_at_the_beginning(3)\n",
    "link_list_1.insert_at_the_beginning(4)\n",
    "link_list_1.insert_at_the_beginning(5)\n",
    "\n",
    "link_list_1.insert_at_the_end(6)\n",
    "link_list_1.insert_at_the_end(7)\n",
    "link_list_1.insert_at_the_end(8)\n",
    "link_list_1.insert_at_the_end(9)\n",
    "\n",
    "link_list_1.delete_from_the_beginning()\n",
    "\n",
    "\n",
    "link_list_1.print_ll()"
   ]
  },
  {
   "cell_type": "code",
   "execution_count": 56,
   "id": "f7ff0d6a-f879-45e4-983a-b67198bc9ff3",
   "metadata": {},
   "outputs": [
    {
     "name": "stdout",
     "output_type": "stream",
     "text": [
      "5->4->3->2->1->6->7->8->None\n"
     ]
    }
   ],
   "source": [
    "#deleting from the end\n",
    "link_list_1=Linkedlist()\n",
    "link_list_1.insert_at_the_beginning(1)\n",
    "link_list_1.insert_at_the_beginning(2)\n",
    "link_list_1.insert_at_the_beginning(3)\n",
    "link_list_1.insert_at_the_beginning(4)\n",
    "link_list_1.insert_at_the_beginning(5)\n",
    "\n",
    "link_list_1.insert_at_the_end(6)\n",
    "link_list_1.insert_at_the_end(7)\n",
    "link_list_1.insert_at_the_end(8)\n",
    "link_list_1.insert_at_the_end(9)\n",
    "\n",
    "\n",
    "link_list_1.delete_from_the_end()\n",
    "\n",
    "link_list_1.print_ll()"
   ]
  },
  {
   "cell_type": "code",
   "execution_count": null,
   "id": "960916fe-3394-4428-bb6d-3af0d99a7614",
   "metadata": {},
   "outputs": [],
   "source": []
  }
 ],
 "metadata": {
  "kernelspec": {
   "display_name": "Python 3 (ipykernel)",
   "language": "python",
   "name": "python3"
  },
  "language_info": {
   "codemirror_mode": {
    "name": "ipython",
    "version": 3
   },
   "file_extension": ".py",
   "mimetype": "text/x-python",
   "name": "python",
   "nbconvert_exporter": "python",
   "pygments_lexer": "ipython3",
   "version": "3.12.4"
  }
 },
 "nbformat": 4,
 "nbformat_minor": 5
}
