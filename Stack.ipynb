{
 "cells": [
  {
   "cell_type": "code",
   "execution_count": 2,
   "id": "3042eec7-8f1b-4fdf-a936-6af3821121c4",
   "metadata": {},
   "outputs": [],
   "source": [
    "\n",
    "class Stack:\n",
    "\n",
    "    def __init__(self):\n",
    "       \n",
    "        self.items=[]\n",
    "\n",
    "    def push(self, item):\n",
    "      \n",
    "        # There is no overflow condition here. why? we have created an empty list which\n",
    "        # has dynamic size. If we had created a list of fixed size, then we would have to\n",
    "        # check for overflow condition before pushing into the stack.\n",
    "        self.items.append(item)\n",
    "\n",
    "    def pop(self):\n",
    "\n",
    "        #underflow condition.\n",
    "        if self.isEmpty():\n",
    "            return \"The stack is empty\"\n",
    "\n",
    "        return self.items.pop()\n",
    "\n",
    "    def isEmpty(self):\n",
    "      \n",
    "        return self.items==[]\n",
    "\n",
    "    def peek(self):\n",
    "\n",
    "        return self.items[len(self.items)-1]\n",
    "\n",
    "    def size(self):\n",
    "\n",
    "        return len(self.items)"
   ]
  },
  {
   "cell_type": "code",
   "execution_count": 3,
   "id": "9ebd9313-e072-4cea-9be0-7ecd008f334d",
   "metadata": {},
   "outputs": [],
   "source": [
    "k=Stack()"
   ]
  },
  {
   "cell_type": "code",
   "execution_count": 6,
   "id": "7135661d-1132-43df-a62a-68602d032085",
   "metadata": {},
   "outputs": [
    {
     "data": {
      "text/plain": [
       "[]"
      ]
     },
     "execution_count": 6,
     "metadata": {},
     "output_type": "execute_result"
    }
   ],
   "source": [
    "k.items"
   ]
  },
  {
   "cell_type": "code",
   "execution_count": 10,
   "id": "13719d0d-990c-4c4f-9966-c963c01f57ab",
   "metadata": {},
   "outputs": [],
   "source": [
    "k.push(\"A\")\n",
    "k.push(\"B\")\n",
    "k.push(\"C\")\n",
    "k.push(\"D\")"
   ]
  },
  {
   "cell_type": "code",
   "execution_count": 11,
   "id": "35094b5c-d104-4334-b2ab-7ae50b7171b4",
   "metadata": {},
   "outputs": [
    {
     "data": {
      "text/plain": [
       "['A', 'B', 'C', 'D', 'A', 'B', 'C', 'D', 'A', 'B', 'C', 'D']"
      ]
     },
     "execution_count": 11,
     "metadata": {},
     "output_type": "execute_result"
    }
   ],
   "source": [
    "k.items"
   ]
  },
  {
   "cell_type": "code",
   "execution_count": 27,
   "id": "d5de3a40-8740-45aa-b8cf-4b37431d93ed",
   "metadata": {},
   "outputs": [],
   "source": [
    "def balanced_paranthesis(string):\n",
    "    \"\"\"\n",
    "    returns True is the paranthesis are balanced, else False\n",
    "    \"\"\"\n",
    "    s=Stack()\n",
    "    index=0\n",
    "    balanced=True\n",
    "\n",
    "    # Parse through the given string as long as the interator(index) reaches the end of string and the brackets are balanced.\n",
    "    # As soon as the code encounters the first non-balanced bracket, it should come out of the loop and return False\n",
    "    while (index<len(string) and balanced):\n",
    "        if string[index]=='(':\n",
    "            s.push(string[index])\n",
    "\n",
    "        else:\n",
    "\n",
    "            #When the number of closing brackets > opening brackets, the stack can go empty\n",
    "            if s.isEmpty():\n",
    "                balanced=False\n",
    "\n",
    "            #When the stack s is not empty and the string[index] != '(' in a particular iteration\n",
    "            else:\n",
    "                s.pop()\n",
    "\n",
    "        #increment the index(iterator) on each iteration\n",
    "        index+=1\n",
    "\n",
    "    # At any point if the stack becomes empty (balance=False), control will pass to this if statement\n",
    "    #and the function will return false. Another possibility of imbalanced paranthesis is\n",
    "    #when stack doesn't become empty until last iteration. Likely to happen when the no. of opening braces > closing braces\n",
    "    # Hence we need to check for both the conditions for the function to return \"True\"\n",
    "    if balanced and s.isEmpty():\n",
    "        return True\n",
    "    else:\n",
    "        return False"
   ]
  },
  {
   "cell_type": "code",
   "execution_count": 28,
   "id": "9ffa1875-c43e-4ed0-a696-192487811dbc",
   "metadata": {},
   "outputs": [
    {
     "name": "stdout",
     "output_type": "stream",
     "text": [
      "True\n"
     ]
    }
   ],
   "source": [
    "string=\"(()()())\"\n",
    "print(balanced_paranthesis(string))"
   ]
  },
  {
   "cell_type": "code",
   "execution_count": null,
   "id": "1bf0aa5e-6c97-4fcf-8e8f-32f15a956cb3",
   "metadata": {},
   "outputs": [],
   "source": []
  },
  {
   "cell_type": "code",
   "execution_count": null,
   "id": "a3eb88c3-da00-4966-bed0-b971d6e8a916",
   "metadata": {},
   "outputs": [],
   "source": []
  }
 ],
 "metadata": {
  "kernelspec": {
   "display_name": "Python 3 (ipykernel)",
   "language": "python",
   "name": "python3"
  },
  "language_info": {
   "codemirror_mode": {
    "name": "ipython",
    "version": 3
   },
   "file_extension": ".py",
   "mimetype": "text/x-python",
   "name": "python",
   "nbconvert_exporter": "python",
   "pygments_lexer": "ipython3",
   "version": "3.12.4"
  }
 },
 "nbformat": 4,
 "nbformat_minor": 5
}
