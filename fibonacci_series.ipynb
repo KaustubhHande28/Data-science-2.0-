{
 "cells": [
  {
   "cell_type": "code",
   "execution_count": 1,
   "id": "519af38b-2e7f-49fa-a5ea-2514079504e7",
   "metadata": {},
   "outputs": [
    {
     "name": "stdin",
     "output_type": "stream",
     "text": [
      "Enter the number of terms:  9\n"
     ]
    },
    {
     "name": "stdout",
     "output_type": "stream",
     "text": [
      "Fibonacci series up to 9 terms:\n",
      "[0, 1, 1, 2, 3, 5, 8, 13, 21]\n"
     ]
    }
   ],
   "source": [
    "def fibonacci_series(n):\n",
    "    series = []\n",
    "    a, b = 0, 1\n",
    "    for _ in range(n):\n",
    "        series.append(a)\n",
    "        a, b = b, a + b\n",
    "    return series\n",
    "\n",
    "def main():\n",
    "    try:\n",
    "        n = int(input(\"Enter the number of terms: \"))\n",
    "        if n <= 0:\n",
    "            print(\"Please enter a positive integer.\")\n",
    "        else:\n",
    "            print(f\"Fibonacci series up to {n} terms:\")\n",
    "            print(fibonacci_series(n))\n",
    "    except ValueError:\n",
    "        print(\"Please enter a valid integer.\")\n",
    "\n",
    "if __name__ == \"__main__\":\n",
    "\n",
    "    \n",
    "    main()\n"
   ]
  },
  {
   "cell_type": "code",
   "execution_count": null,
   "id": "1025c907-85a9-4732-8bec-8f5e5c2c698b",
   "metadata": {},
   "outputs": [],
   "source": []
  }
 ],
 "metadata": {
  "kernelspec": {
   "display_name": "Python 3 (ipykernel)",
   "language": "python",
   "name": "python3"
  },
  "language_info": {
   "codemirror_mode": {
    "name": "ipython",
    "version": 3
   },
   "file_extension": ".py",
   "mimetype": "text/x-python",
   "name": "python",
   "nbconvert_exporter": "python",
   "pygments_lexer": "ipython3",
   "version": "3.12.4"
  }
 },
 "nbformat": 4,
 "nbformat_minor": 5
}
