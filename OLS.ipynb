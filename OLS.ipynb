{
 "cells": [
  {
   "cell_type": "code",
   "execution_count": 1,
   "id": "faeb9334-ed30-4ed5-9b31-128f77f5e033",
   "metadata": {},
   "outputs": [],
   "source": [
    "#for running ols we use statsmodels.api"
   ]
  },
  {
   "cell_type": "code",
   "execution_count": 2,
   "id": "6f01b08d-7a56-40f1-9bb0-45814a176c03",
   "metadata": {},
   "outputs": [],
   "source": [
    "import pandas as pd\n",
    "import numpy as np\n",
    "import matplotlib.pyplot as plt\n",
    "import statsmodels.api as sm"
   ]
  },
  {
   "cell_type": "code",
   "execution_count": 2,
   "id": "6d5825e1-b500-4444-93dd-a002ef00df8d",
   "metadata": {},
   "outputs": [],
   "source": [
    "np.random.seed(42)\n",
    "house_size= np.random.randint(500,1000,size=300)\n",
    "house_price=0.01*house_size+np.random.normal(5,10,size=300)"
   ]
  },
  {
   "cell_type": "code",
   "execution_count": 3,
   "id": "1ac07387-1eaf-4bb6-a24f-6c4c0ac77d3a",
   "metadata": {},
   "outputs": [
    {
     "data": {
      "text/plain": [
       "(array([602, 935, 848, 770, 606, 571, 688, 520, 602, 621, 966, 714, 830,\n",
       "        958, 587, 872, 599, 859, 651, 630, 649, 808, 757, 843, 991, 913,\n",
       "        793, 885, 691, 943, 776, 660, 959, 813, 521, 752, 735, 844, 548,\n",
       "        974, 558, 669, 975, 687, 963, 770, 689, 945, 674, 945, 550, 863,\n",
       "        554, 743, 819, 630, 984, 806, 634, 520, 828, 666, 773, 887, 588,\n",
       "        815, 513, 741, 764, 845, 552, 885, 839, 591, 866, 943, 954, 927,\n",
       "        763, 930, 534, 705, 580, 919, 549, 859, 887, 501, 889, 553, 605,\n",
       "        759, 809, 976, 690, 901, 717, 543, 661, 701, 945, 983, 769, 850,\n",
       "        803, 770, 955, 961, 714, 751, 689, 795, 712, 707, 736, 837, 866,\n",
       "        552, 779, 909, 716, 751, 687, 879, 992, 540, 656, 514, 800, 564,\n",
       "        844, 826, 508, 843, 628, 991, 635, 971, 562, 638, 998, 580, 891,\n",
       "        662, 918, 788, 878, 760, 989, 730, 540, 527, 634, 700, 827, 767,\n",
       "        917, 532, 547, 906, 561, 715, 792, 598, 671, 859, 713, 974, 534,\n",
       "        948, 726, 600, 930, 961, 630, 756, 504, 717, 754, 897, 858, 782,\n",
       "        892, 706, 514, 845, 541, 879, 960, 678, 562, 851, 730, 740, 551,\n",
       "        595, 887, 721, 984, 906, 730, 736, 642, 670, 528, 535, 512, 659,\n",
       "        826, 686, 742, 585, 783, 565, 669, 544, 561, 940, 633, 783, 527,\n",
       "        607, 543, 839, 785, 945, 830, 627, 847, 972, 730, 689, 724, 884,\n",
       "        876, 782, 945, 620, 615, 960, 732, 758, 858, 697, 955, 910, 636,\n",
       "        817, 664, 724, 806, 733, 671, 651, 962, 814, 873, 659, 595, 971,\n",
       "        732, 679, 612, 817, 996, 941, 551, 767, 794, 885, 886, 612, 600,\n",
       "        612, 939, 580, 686, 612, 501, 629, 719, 553, 842, 984, 723, 724,\n",
       "        884, 902, 625, 629, 552, 671, 717, 659, 697, 915, 746, 823, 938,\n",
       "        702]),\n",
       " array([-2.19876951e+00,  7.66753301e+00,  1.21070900e+01,  2.67132156e+01,\n",
       "         1.06059734e+01,  1.28793673e+01,  1.70042373e+01,  1.56348869e+01,\n",
       "         1.13009946e+01, -7.60870633e-01,  2.25567280e+01,  1.64548946e+01,\n",
       "         2.33247701e+00,  7.75698436e+00,  1.97451161e+01,  1.97748313e+01,\n",
       "         3.78702007e+00,  1.08906623e+01,  1.00753777e+01,  1.74700378e+01,\n",
       "         2.39794070e+01,  1.37364916e+01,  2.42620765e+01,  2.21631697e+01,\n",
       "         1.69665013e+01, -3.04833517e-01,  2.65289136e+00,  2.12624064e+01,\n",
       "        -5.19529579e+00,  1.56197849e+01,  2.27648561e+01,  1.31242086e+01,\n",
       "         8.57602754e+00,  4.66385643e+00,  1.83715272e+01,  1.72370729e+01,\n",
       "         9.49510699e+00,  2.40929247e+01,  1.90199779e+01,  3.26259386e+01,\n",
       "         1.62489407e+01,  1.00449957e+01,  1.33200907e+01, -7.47570196e+00,\n",
       "         1.61365904e+01,  1.25428506e+01, -1.41074066e+00,  1.41971237e+01,\n",
       "         2.51716821e+01,  7.10452350e+00,  9.01053679e-01,  2.46792822e+01,\n",
       "         1.68824030e+01,  4.30409521e+01,  4.29839242e-03,  1.85038724e+01,\n",
       "         1.79989091e+01,  1.36528128e+01,  2.04451222e+01,  9.90274642e+00,\n",
       "        -6.08376210e+00,  3.18642472e+00,  2.63743345e+01,  2.55902890e+01,\n",
       "         7.14880810e+00,  1.81859706e+01,  3.79693805e+01,  1.20981320e+01,\n",
       "         1.25241668e+01,  1.53559871e+01,  1.65897571e+01,  1.03609882e+01,\n",
       "         1.94512936e+01, -8.53229594e+00,  1.70239876e+01,  1.49362981e+01,\n",
       "         1.23654302e+01,  9.51742652e+00,  6.53626624e+00,  6.16478903e+00,\n",
       "        -1.28406825e+01,  9.36981648e+00,  2.17632979e+01,  1.08358898e+01,\n",
       "         1.68411255e+01,  2.78799130e+00,  8.13024460e-01,  2.50238157e+00,\n",
       "         3.63500130e+00, -1.30039611e+00,  1.55477404e+01,  3.03792434e+01,\n",
       "         6.42056625e+00, -2.15818256e+00,  1.84679733e+01, -3.49008194e-01,\n",
       "         3.37343785e-01,  1.53799565e+01,  9.95690385e+00,  5.13824825e+00,\n",
       "         1.51335125e+01,  1.07359117e+01,  3.15854766e+01,  6.74195266e+00,\n",
       "         3.89587463e+00,  8.14966826e+00,  1.04223839e+01,  2.05664365e+01,\n",
       "        -7.77537787e+00,  1.67702587e+01,  6.47714558e+00,  2.07182300e+01,\n",
       "         1.16435629e+01,  1.72569446e+01,  8.44598188e+00,  1.77502260e+01,\n",
       "         3.02976979e+01,  3.12763569e+00,  1.17180552e+01,  9.22782714e+00,\n",
       "         2.80898179e+01,  8.17058401e+00,  4.54307799e+00,  8.00723086e+00,\n",
       "         1.35628262e+01,  2.46494982e+00,  7.87550011e+00,  1.17120186e+01,\n",
       "         1.18452659e+01,  1.89570858e+01,  1.02464492e+01,  1.12138349e+01,\n",
       "         1.27906175e+01,  3.58780661e+01,  3.40398090e+00,  3.41462441e+01,\n",
       "        -4.85731679e-01,  1.69997043e+01,  7.22613707e+00,  3.22729063e+00,\n",
       "         2.19709238e+01,  1.67989663e+01,  9.09751866e+00, -9.31794004e+00,\n",
       "         9.97952535e+00,  1.42720411e+01,  1.37981361e+01,  2.01593528e+01,\n",
       "         3.42254263e+01,  1.64387484e+01,  1.60776837e+01,  1.17518173e+01,\n",
       "         2.30643578e+01,  1.73140001e+01,  2.07610568e+01,  3.07595683e+01,\n",
       "         1.64398430e+01,  7.61037738e+00,  1.49328935e+01,  2.54224232e+01,\n",
       "         1.56242676e+01,  2.27563858e+01,  6.23025173e+00,  2.29915775e+00,\n",
       "         6.25962385e+00,  9.16176985e-01,  1.32329958e+01,  1.04397461e+01,\n",
       "         2.26421135e+01,  1.56775638e+00,  2.78092268e+01,  1.18799665e+00,\n",
       "         1.91769149e+00,  6.36348672e+00,  3.08128009e+01,  1.21591486e+01,\n",
       "         1.53343551e+01,  1.03310826e+01,  1.16392137e+01,  8.91119947e+00,\n",
       "         1.40874396e+01,  1.77659989e+01,  3.07030551e+01, -6.68468875e+00,\n",
       "         2.62482031e+01,  1.87296043e+01,  6.73237217e+00,  8.31276517e+00,\n",
       "         2.50367565e+01,  1.40697854e+01, -4.72065119e+00,  1.71406960e+01,\n",
       "         2.37437154e+01,  2.09786466e+01,  4.24142130e+00, -2.47007304e+00,\n",
       "         1.06102686e+01,  4.47498513e+01, -6.09989486e-01,  5.63264904e+00,\n",
       "         1.62204189e+01,  1.11147475e+01,  9.41795104e+00,  3.19472100e+01,\n",
       "         1.74740058e+00,  1.02071945e+01,  1.21390744e+01,  3.54263315e+00,\n",
       "        -1.14652739e+00,  1.45531765e+01,  3.05566658e+01,  1.48958290e+01,\n",
       "         1.37307259e+01,  1.14773044e+01,  9.10582264e+00,  2.22748232e+01,\n",
       "         5.55557726e+00,  8.32145156e-01, -4.48653926e+00,  1.36200901e+01,\n",
       "         2.08769246e+01,  1.34448525e+01,  7.25631215e+00,  1.79744130e+01,\n",
       "         1.47121234e+01,  2.27119047e+01,  2.65650389e+01,  1.72609871e+00,\n",
       "        -9.92596564e+00,  1.12046320e+01,  2.10658533e+00,  2.02095819e+01,\n",
       "         4.99666205e+00, -4.91778639e+00,  8.01798551e+00, -2.09974325e+00,\n",
       "         3.03515772e+01,  1.59164195e+01,  1.76255811e+01,  1.99602653e+01,\n",
       "         2.07217116e+01,  2.39134203e+01,  8.18254641e+00, -2.22961633e+00,\n",
       "         6.08066263e+00,  1.36475038e+01, -1.42834198e+01,  2.45972588e+01,\n",
       "        -7.32747220e+00,  1.82309333e+01,  1.13792921e+01,  1.51817532e+01,\n",
       "         6.99080259e+00,  1.36820648e+01,  9.90122476e+00,  7.57818854e+00,\n",
       "         4.75763669e+00,  2.68482996e+01,  1.46190942e+01,  1.68049686e+01,\n",
       "         3.56438212e+00,  9.44151666e+00,  1.24770792e+00,  8.25836471e+00,\n",
       "         2.86877610e+00,  3.03014413e+01,  2.94093909e+00,  3.91921177e+00,\n",
       "        -3.16102755e-01,  6.13794538e+00,  8.91106572e+00,  1.06252045e+01,\n",
       "         4.54677791e+00, -4.88611009e+00, -7.55748438e-01,  1.75965967e+01,\n",
       "         1.06321125e+01,  1.76089324e+01,  1.78127516e+01,  1.28007996e+01,\n",
       "        -1.27307675e-01,  1.24258492e+01,  2.74159665e+01,  1.03657198e+01,\n",
       "         1.56361525e+01,  1.21022204e+01,  2.75637780e+01,  7.24213907e+00,\n",
       "         2.27853187e+01,  7.53989372e+00,  3.57854046e+00,  1.28086007e+01,\n",
       "         1.55945692e+01,  3.07052961e+01,  1.51653758e+01,  1.60827806e+01,\n",
       "         2.84214294e+01,  1.92405394e+01,  7.93724820e+00,  2.55797039e+01]))"
      ]
     },
     "execution_count": 3,
     "metadata": {},
     "output_type": "execute_result"
    }
   ],
   "source": [
    "house_size,house_price"
   ]
  },
  {
   "cell_type": "code",
   "execution_count": 6,
   "id": "b0c21a3b-a9a0-4cb2-9941-431a72b877c5",
   "metadata": {},
   "outputs": [
    {
     "data": {
      "text/html": [
       "<div>\n",
       "<style scoped>\n",
       "    .dataframe tbody tr th:only-of-type {\n",
       "        vertical-align: middle;\n",
       "    }\n",
       "\n",
       "    .dataframe tbody tr th {\n",
       "        vertical-align: top;\n",
       "    }\n",
       "\n",
       "    .dataframe thead th {\n",
       "        text-align: right;\n",
       "    }\n",
       "</style>\n",
       "<table border=\"1\" class=\"dataframe\">\n",
       "  <thead>\n",
       "    <tr style=\"text-align: right;\">\n",
       "      <th></th>\n",
       "      <th>House Size</th>\n",
       "      <th>House Price</th>\n",
       "    </tr>\n",
       "  </thead>\n",
       "  <tbody>\n",
       "    <tr>\n",
       "      <th>0</th>\n",
       "      <td>602</td>\n",
       "      <td>-2.198770</td>\n",
       "    </tr>\n",
       "    <tr>\n",
       "      <th>1</th>\n",
       "      <td>935</td>\n",
       "      <td>7.667533</td>\n",
       "    </tr>\n",
       "    <tr>\n",
       "      <th>2</th>\n",
       "      <td>848</td>\n",
       "      <td>12.107090</td>\n",
       "    </tr>\n",
       "    <tr>\n",
       "      <th>3</th>\n",
       "      <td>770</td>\n",
       "      <td>26.713216</td>\n",
       "    </tr>\n",
       "    <tr>\n",
       "      <th>4</th>\n",
       "      <td>606</td>\n",
       "      <td>10.605973</td>\n",
       "    </tr>\n",
       "  </tbody>\n",
       "</table>\n",
       "</div>"
      ],
      "text/plain": [
       "   House Size  House Price\n",
       "0         602    -2.198770\n",
       "1         935     7.667533\n",
       "2         848    12.107090\n",
       "3         770    26.713216\n",
       "4         606    10.605973"
      ]
     },
     "execution_count": 6,
     "metadata": {},
     "output_type": "execute_result"
    }
   ],
   "source": [
    "data={\"House Size\":house_size,\"House Price\":house_price}\n",
    "df=pd.DataFrame(data)\n",
    "df.head()"
   ]
  },
  {
   "cell_type": "code",
   "execution_count": 19,
   "id": "7c3bd39f-9c53-43cd-92c4-970226b50844",
   "metadata": {},
   "outputs": [],
   "source": [
    "x=df['House Size']\n",
    "y=df['House Price']\n",
    "X=sm.add_constant(x)"
   ]
  },
  {
   "cell_type": "code",
   "execution_count": 20,
   "id": "f07d945d-4dce-474a-8c6a-cee852782c7f",
   "metadata": {},
   "outputs": [
    {
     "name": "stdout",
     "output_type": "stream",
     "text": [
      "                            OLS Regression Results                            \n",
      "==============================================================================\n",
      "Dep. Variable:            House Price   R-squared:                       0.009\n",
      "Model:                            OLS   Adj. R-squared:                  0.005\n",
      "Method:                 Least Squares   F-statistic:                     2.648\n",
      "Date:                Tue, 01 Oct 2024   Prob (F-statistic):              0.105\n",
      "Time:                        10:26:45   Log-Likelihood:                -1112.4\n",
      "No. Observations:                 300   AIC:                             2229.\n",
      "Df Residuals:                     298   BIC:                             2236.\n",
      "Df Model:                           1                                         \n",
      "Covariance Type:            nonrobust                                         \n",
      "==============================================================================\n",
      "                 coef    std err          t      P>|t|      [0.025      0.975]\n",
      "------------------------------------------------------------------------------\n",
      "const          7.5047      3.088      2.430      0.016       1.428      13.582\n",
      "House Size     0.0066      0.004      1.627      0.105      -0.001       0.015\n",
      "==============================================================================\n",
      "Omnibus:                        2.448   Durbin-Watson:                   2.019\n",
      "Prob(Omnibus):                  0.294   Jarque-Bera (JB):                2.166\n",
      "Skew:                           0.194   Prob(JB):                        0.339\n",
      "Kurtosis:                       3.149   Cond. No.                     4.12e+03\n",
      "==============================================================================\n",
      "\n",
      "Notes:\n",
      "[1] Standard Errors assume that the covariance matrix of the errors is correctly specified.\n",
      "[2] The condition number is large, 4.12e+03. This might indicate that there are\n",
      "strong multicollinearity or other numerical problems.\n"
     ]
    }
   ],
   "source": [
    "model=sm.OLS(y,X).fit()\n",
    "print(model.summary())"
   ]
  },
  {
   "cell_type": "code",
   "execution_count": null,
   "id": "a943cf43-994a-4d83-9215-8dd6d0e9d0fb",
   "metadata": {},
   "outputs": [],
   "source": [
    "#df()=no.of observation-no.of coefficient including intercepts"
   ]
  },
  {
   "cell_type": "code",
   "execution_count": 2,
   "id": "b15fa67c-d5dc-46fb-88ab-551b8fc24126",
   "metadata": {},
   "outputs": [],
   "source": [
    "# AIC :- (Akiake Information Criterial) it balances goodness of fit and model complexity a lower value indicates a better models.\n",
    "# BIC:- (Bayesian Information Criterial) same as aic but peenalises  model comnpolexity morer strongly and lower value indicates a better models\n",
    "# Rsqaured :- the ratio of veration  in dependented variable expalined by independent variables it is called (ess) to total sum of squares[ess/tss]\n",
    "#when fstatics is null the all the betas value is'0'\n",
    "# fstatistics  :- it is the ratio of explainted varitaion in n'y' divided by unexplianted varitaion 'y'[ess/k / rss/(n-k-1)]\n",
    "#(k is the no of predictors/ independent vairiable / fetures(x))\n",
    "# df=is the value we canot change [df=n-k-1]\n",
    "# a large f stat indicates at least sum of the predictors are statistically \n",
    "#if prob f stats is less the 5% (level of signification )the model is goodfit\n",
    "#logliklihood :-higher value indicates a better fit\n",
    "#constant coefficant:- is the intercets of the model it indicates the vaule of 'y' when all the fetures are '0' \n",
    "#coefficants of predicvtor variable: give the change in depented values for a 1 unit change in predictor varaibles (kepping all the predictor vales constant )\n",
    "#standerd error :- gibves the error of the estimated coefficant the smaller values more pessices estimate of the cofficiants tells range of +ve and -ve values \n",
    "#T statsicts for null value :- h0:cofficants (bi)=0 if \\T\\ is big=reject null or cofficents is statistically significan\n",
    "# if 'p value' is less then 5%(level of signification )the cofficants are statistically significant.\n",
    "#confidence intervale:-  dipix 95% interval for each coefficant that means the true value of coefficant is lightly to fall within the range \n",
    "#prob (omnibus): if the value is less than 5% then the residuals /error terms ar NOT normlly distribiution\n",
    "#skewness : a value close to '0' indicats normal distribution \n",
    "#kurtosis:a kurtosis of '3' indicats a normal distribution, higher values indicates heavier tails\n",
    "#prob (JB): A LOW VALUE {5%} INDICATES NON normal distribution\n",
    "#durbin-watson:a value close to '2' inticate no auto co-relation where values near 0 or4 suggest +ve or -ve auto co-realtion respectivlly\n",
    "#condition number: a value greater than 30 suggest multiple collinearity"
   ]
  },
  {
   "cell_type": "code",
   "execution_count": null,
   "id": "e2b7cf15-5105-4c36-8922-0ee05191d29e",
   "metadata": {},
   "outputs": [],
   "source": []
  }
 ],
 "metadata": {
  "kernelspec": {
   "display_name": "Python 3 (ipykernel)",
   "language": "python",
   "name": "python3"
  },
  "language_info": {
   "codemirror_mode": {
    "name": "ipython",
    "version": 3
   },
   "file_extension": ".py",
   "mimetype": "text/x-python",
   "name": "python",
   "nbconvert_exporter": "python",
   "pygments_lexer": "ipython3",
   "version": "3.12.4"
  }
 },
 "nbformat": 4,
 "nbformat_minor": 5
}
