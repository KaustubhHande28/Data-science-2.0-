{
 "cells": [
  {
   "cell_type": "markdown",
   "id": "1fb21767-df04-4edc-ba09-03e82898a1ea",
   "metadata": {},
   "source": [
    "### lambda function,map,filter,reduce\n"
   ]
  },
  {
   "cell_type": "code",
   "execution_count": 1,
   "id": "7df0c3fa-5ab0-427a-a4eb-ef19dab6d51b",
   "metadata": {},
   "outputs": [],
   "source": [
    "#lambda syntax it: lambda keyword input : function / output,iterable:\n",
    "#iterable=[list,tuple,dictonary,set ,string]"
   ]
  },
  {
   "cell_type": "code",
   "execution_count": 4,
   "id": "18ebb8a1-14f4-4a2c-806d-8619659dacdf",
   "metadata": {},
   "outputs": [
    {
     "data": {
      "text/plain": [
       "['INDIA', 'ENGLAND', 'US', 'EUROPE']"
      ]
     },
     "execution_count": 4,
     "metadata": {},
     "output_type": "execute_result"
    }
   ],
   "source": [
    "#print upper case using lambda fuction\n",
    "a=[\"India\",\"england\",\"us\",\"europe\"]\n",
    "list(map(lambda x:x.upper(),a))"
   ]
  },
  {
   "cell_type": "code",
   "execution_count": 5,
   "id": "244331d7-e163-4441-aa2d-0cd4a8e4de1e",
   "metadata": {},
   "outputs": [
    {
     "data": {
      "text/plain": [
       "[4, 16, 36, 64, 81]"
      ]
     },
     "execution_count": 5,
     "metadata": {},
     "output_type": "execute_result"
    }
   ],
   "source": [
    "#print square using lambda function\n",
    "dict=[2,4,6,8,9]\n",
    "list(map(lambda x:x**2,dict))"
   ]
  },
  {
   "cell_type": "code",
   "execution_count": 10,
   "id": "64baa5d1-b5f4-45a4-897f-67690d5e6fec",
   "metadata": {},
   "outputs": [
    {
     "data": {
      "text/plain": [
       "[5, 7, 2, 6]"
      ]
     },
     "execution_count": 10,
     "metadata": {},
     "output_type": "execute_result"
    }
   ],
   "source": [
    "#for calculating the lenght of word using lambda:\n",
    "a=[\"India\",\"england\",\"us\",\"europe\"]\n",
    "list(map(lambda x:len(x),a))"
   ]
  },
  {
   "cell_type": "code",
   "execution_count": 12,
   "id": "a5eb8873-d420-4aca-97e8-587232d5b2d0",
   "metadata": {},
   "outputs": [
    {
     "data": {
      "text/plain": [
       "[5, 7, 2, 6]"
      ]
     },
     "execution_count": 12,
     "metadata": {},
     "output_type": "execute_result"
    }
   ],
   "source": [
    "#for calculating the lenght of word using map:\n",
    "#map syntax list (map,(function, iterable))\n",
    "a=[\"India\",\"england\",\"us\",\"europe\"]\n",
    "list(map(len,a))"
   ]
  },
  {
   "cell_type": "markdown",
   "id": "09256763-9d21-4001-bc21-7046b6b031ce",
   "metadata": {},
   "source": [
    "### filter"
   ]
  },
  {
   "cell_type": "code",
   "execution_count": 30,
   "id": "e516acc6-9da8-4cf1-8fe2-fda549256c65",
   "metadata": {},
   "outputs": [
    {
     "data": {
      "text/plain": [
       "True"
      ]
     },
     "execution_count": 30,
     "metadata": {},
     "output_type": "execute_result"
    }
   ],
   "source": [
    "#filter function check condition is true or false:\n",
    "a=[3,4,5,6,7,8,9,10]\n",
    "divby3= lambda x :x%3==0\n",
    "divby3(9)"
   ]
  },
  {
   "cell_type": "code",
   "execution_count": 17,
   "id": "83bcb77e-90b5-44b9-8df3-899c3025b5d3",
   "metadata": {},
   "outputs": [
    {
     "data": {
      "text/plain": [
       "[3, 6, 9]"
      ]
     },
     "execution_count": 17,
     "metadata": {},
     "output_type": "execute_result"
    }
   ],
   "source": [
    "list (filter(divby3, a))"
   ]
  },
  {
   "cell_type": "code",
   "execution_count": 18,
   "id": "480f4d4c-1f25-41e4-a57e-ee6e4cfa3512",
   "metadata": {},
   "outputs": [
    {
     "data": {
      "text/plain": [
       "[3, 6, 9]"
      ]
     },
     "execution_count": 18,
     "metadata": {},
     "output_type": "execute_result"
    }
   ],
   "source": [
    "list (filter (lambda x :x%3==0,a))"
   ]
  },
  {
   "cell_type": "code",
   "execution_count": 26,
   "id": "b9954017-99c1-4efb-a1a6-dd9550e4dc70",
   "metadata": {},
   "outputs": [
    {
     "data": {
      "text/plain": [
       "[4, 6, 8, 10]"
      ]
     },
     "execution_count": 26,
     "metadata": {},
     "output_type": "execute_result"
    }
   ],
   "source": [
    "a=[3,4,5,6,7,8,9,10]\n",
    "even= lambda x :x%2==0\n",
    "even(6)\n",
    "list (filter(even, a))"
   ]
  },
  {
   "cell_type": "code",
   "execution_count": 29,
   "id": "bb1859d3-fd68-43a8-a8f7-ffa3ce5be9d1",
   "metadata": {},
   "outputs": [
    {
     "data": {
      "text/plain": [
       "[3, 5, 7, 9]"
      ]
     },
     "execution_count": 29,
     "metadata": {},
     "output_type": "execute_result"
    }
   ],
   "source": [
    "a=[3,4,5,6,7,8,9,10]\n",
    "odd= lambda x :x%2 !=0\n",
    "list (filter(odd, a))"
   ]
  },
  {
   "cell_type": "markdown",
   "id": "7fded186-cfe3-4836-9538-380aa2536227",
   "metadata": {},
   "source": [
    "### Reduce"
   ]
  },
  {
   "cell_type": "code",
   "execution_count": 39,
   "id": "34f2f66f-97ec-49ca-bf27-570e9382d7d5",
   "metadata": {},
   "outputs": [],
   "source": [
    "from functools import reduce \n",
    "#it is compulsory to import will doing reduce function"
   ]
  },
  {
   "cell_type": "code",
   "execution_count": 40,
   "id": "b19e9ce5-5187-4d20-bab7-9fdec568652b",
   "metadata": {},
   "outputs": [
    {
     "data": {
      "text/plain": [
       "140"
      ]
     },
     "execution_count": 40,
     "metadata": {},
     "output_type": "execute_result"
    }
   ],
   "source": [
    "#for adding the list value in together\n",
    "a=[20,30,40,50]\n",
    "reduce(lambda x,y:x+y,a)"
   ]
  },
  {
   "cell_type": "code",
   "execution_count": 41,
   "id": "4dc4cf32-2a0f-4692-acba-bd787f1b6615",
   "metadata": {},
   "outputs": [
    {
     "data": {
      "text/plain": [
       "60"
      ]
     },
     "execution_count": 41,
     "metadata": {},
     "output_type": "execute_result"
    }
   ],
   "source": [
    "#for subtracting the list value in together \n",
    "a=[150,40,30,20]\n",
    "reduce(lambda x,y:x-y,a)"
   ]
  },
  {
   "cell_type": "code",
   "execution_count": 42,
   "id": "f1e08ac0-a3c2-4077-b546-032ad79472de",
   "metadata": {},
   "outputs": [
    {
     "data": {
      "text/plain": [
       "'kaustubhhande'"
      ]
     },
     "execution_count": 42,
     "metadata": {},
     "output_type": "execute_result"
    }
   ],
   "source": [
    "#for adding string in together\n",
    "a=[\"kaustubh\",\"hande\"]\n",
    "reduce(lambda x,y:x+y,a)"
   ]
  },
  {
   "cell_type": "code",
   "execution_count": 44,
   "id": "0eb3326c-200b-4624-b2cd-a1d69da25779",
   "metadata": {},
   "outputs": [
    {
     "data": {
      "text/plain": [
       "5040"
      ]
     },
     "execution_count": 44,
     "metadata": {},
     "output_type": "execute_result"
    }
   ],
   "source": [
    "#for multiplication value in together\n",
    "a=[1,2,3,4,5,6,7]\n",
    "reduce(lambda x,y:x*y,a)"
   ]
  },
  {
   "cell_type": "code",
   "execution_count": 49,
   "id": "d742d78d-7649-4164-8c1a-108ce602bbe1",
   "metadata": {},
   "outputs": [
    {
     "data": {
      "text/plain": [
       "0"
      ]
     },
     "execution_count": 49,
     "metadata": {},
     "output_type": "execute_result"
    }
   ],
   "source": [
    "#example 4: reduce to return quotient of example\n",
    "a=[1,2,3,4,5,6,7]\n",
    "reduce(lambda x,y:x//y,a)"
   ]
  },
  {
   "cell_type": "code",
   "execution_count": 54,
   "id": "5d4fb8e8-e891-4389-93e5-0d91da0fdb49",
   "metadata": {},
   "outputs": [
    {
     "data": {
      "text/plain": [
       "7"
      ]
     },
     "execution_count": 54,
     "metadata": {},
     "output_type": "execute_result"
    }
   ],
   "source": [
    "# example 5 : calculating the maximum element in a list\n",
    "a=[1,2,3,4,5,6,7]\n",
    "reduce(lambda x,y: max(x,y),a)"
   ]
  },
  {
   "cell_type": "code",
   "execution_count": 51,
   "id": "cb1212e7-d0a2-47c4-a17d-7083c73b0f2a",
   "metadata": {},
   "outputs": [
    {
     "data": {
      "text/plain": [
       "'kaustubh hande'"
      ]
     },
     "execution_count": 51,
     "metadata": {},
     "output_type": "execute_result"
    }
   ],
   "source": [
    "#example 6: concatenate string in a list with a separator\n",
    "a=[\"kaustubh\",\"hande\"]\n",
    "reduce(lambda x,y:x+\" \"+y,a)"
   ]
  },
  {
   "cell_type": "code",
   "execution_count": null,
   "id": "a38067c2-2d1d-42fe-977f-2fe2fc6cc4e9",
   "metadata": {},
   "outputs": [],
   "source": []
  }
 ],
 "metadata": {
  "kernelspec": {
   "display_name": "Python 3 (ipykernel)",
   "language": "python",
   "name": "python3"
  },
  "language_info": {
   "codemirror_mode": {
    "name": "ipython",
    "version": 3
   },
   "file_extension": ".py",
   "mimetype": "text/x-python",
   "name": "python",
   "nbconvert_exporter": "python",
   "pygments_lexer": "ipython3",
   "version": "3.12.4"
  }
 },
 "nbformat": 4,
 "nbformat_minor": 5
}
