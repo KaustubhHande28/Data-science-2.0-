{
 "cells": [
  {
   "cell_type": "markdown",
   "id": "7281996b-55bf-456b-a286-fb2fe73034c4",
   "metadata": {},
   "source": [
    "# for calculating area of circle \n",
    "def calculate_area(radius):\n",
    "    area=3.14*(radius**2)\n",
    "    return area\n",
    "calculate_area(23)"
   ]
  },
  {
   "cell_type": "code",
   "execution_count": 24,
   "id": "e244332f-b59a-491e-b1a6-56d2d9d6a873",
   "metadata": {},
   "outputs": [
    {
     "name": "stdout",
     "output_type": "stream",
     "text": [
      "69.08\n"
     ]
    }
   ],
   "source": [
    "#for calculating circumference\n",
    "def calculate_circumference(radius):\n",
    "    circumference=2*3.14*radius\n",
    "    print(circumference)\n",
    "calculate_circumference(11)"
   ]
  },
  {
   "cell_type": "code",
   "execution_count": 12,
   "id": "48ee9172-d5b5-4a62-bbae-df950d2cf12c",
   "metadata": {},
   "outputs": [
    {
     "name": "stdout",
     "output_type": "stream",
     "text": [
      "hello, kaustubh ! you must attempt the weekly test.\n",
      "revise the concepts\n"
     ]
    }
   ],
   "source": [
    "''' write a function \"greet\" that takes user name as argument and prints:\n",
    "hello , john! you must attempt the weekly test.\n",
    "revise the concepts.'''\n",
    "\n",
    "def greet(name):\n",
    "    print (f\"hello, {name} ! you must attempt the weekly test.\\nrevise the concepts\")\n",
    "greet(\"kaustubh\")"
   ]
  },
  {
   "cell_type": "code",
   "execution_count": 22,
   "id": "e75d16a5-ec15-43b6-8ee2-95e2eaf95848",
   "metadata": {},
   "outputs": [
    {
     "name": "stdout",
     "output_type": "stream",
     "text": [
      "hello, kaustubh ! you must attempt the weekly test.\n",
      "revise the concepts\n"
     ]
    }
   ],
   "source": [
    "#if we want to use return than we have to use print function:'\n",
    "\n",
    "def greet(name):\n",
    "    return f\"hello, {name} ! you must attempt the weekly test.\\nrevise the concepts\"\n",
    "print (greet(\"kaustubh\"))"
   ]
  },
  {
   "cell_type": "code",
   "execution_count": 21,
   "id": "dbbccf7c-d071-49ca-b10d-ecc58f318486",
   "metadata": {},
   "outputs": [
    {
     "data": {
      "text/plain": [
       "720"
      ]
     },
     "execution_count": 21,
     "metadata": {},
     "output_type": "execute_result"
    }
   ],
   "source": [
    "#for calculating factorial \n",
    "def factorial(n):\n",
    "    fact=1\n",
    "    for i in range(1,n+1):\n",
    "        fact*=i\n",
    "    return fact\n",
    "factorial(6)"
   ]
  },
  {
   "cell_type": "code",
   "execution_count": 39,
   "id": "3d05f99d-fa3d-4ff4-aac1-3b4706d7487b",
   "metadata": {},
   "outputs": [
    {
     "data": {
      "text/plain": [
       "43545600"
      ]
     },
     "execution_count": 39,
     "metadata": {},
     "output_type": "execute_result"
    }
   ],
   "source": [
    "a=factorial(10)\n",
    "x=a*12\n",
    "x"
   ]
  },
  {
   "cell_type": "code",
   "execution_count": 40,
   "id": "355a6a0a-2300-484a-8f01-cc1511a5a90c",
   "metadata": {},
   "outputs": [
    {
     "name": "stdout",
     "output_type": "stream",
     "text": [
      "hi,kaustubh\n",
      "your age is 20\n"
     ]
    }
   ],
   "source": [
    "#write a function 'user-info' that takes name and age  as argument and\n",
    "#return 'hii,(name). your age is (age)'.\n",
    "def user_info(name,age):\n",
    "    print(f\"hi,{name}\\nyour age is {age}\")\n",
    "user_info(\"kaustubh\",20)"
   ]
  },
  {
   "cell_type": "code",
   "execution_count": 31,
   "id": "c808d191-e09d-40bd-8666-0fbce8824c68",
   "metadata": {},
   "outputs": [
    {
     "name": "stdout",
     "output_type": "stream",
     "text": [
      "hi,user\n",
      "your age is 19\n"
     ]
    }
   ],
   "source": [
    "def user_info(name=\"user\",age=19):\n",
    "    print(f\"hi,{name}\\nyour age is {age}\")\n",
    "user_info()"
   ]
  },
  {
   "cell_type": "code",
   "execution_count": 33,
   "id": "4e540d12-5348-4aab-b561-29f47a74f004",
   "metadata": {},
   "outputs": [
    {
     "data": {
      "text/plain": [
       "5"
      ]
     },
     "execution_count": 33,
     "metadata": {},
     "output_type": "execute_result"
    }
   ],
   "source": [
    "#for calculating addition:\n",
    "def addition(num1,num2):\n",
    "    return num1+num2\n",
    "addition(2,3) "
   ]
  },
  {
   "cell_type": "code",
   "execution_count": 1,
   "id": "88ece107-8171-4e1e-916e-117c9e3b3207",
   "metadata": {},
   "outputs": [
    {
     "data": {
      "text/plain": [
       "21"
      ]
     },
     "execution_count": 1,
     "metadata": {},
     "output_type": "execute_result"
    }
   ],
   "source": [
    "#for calculating addition by using arguments:\n",
    "# *args= is used to read the argument\n",
    "#**kwrgs= is used to read the key value pair: \n",
    "def addition(*args):\n",
    "    return sum(args)\n",
    "addition(1,2,3,4,5,6)"
   ]
  },
  {
   "cell_type": "code",
   "execution_count": 36,
   "id": "e579d193-48b1-432d-9f43-2a790ac6abcd",
   "metadata": {},
   "outputs": [
    {
     "name": "stdout",
     "output_type": "stream",
     "text": [
      "{'name': 'kaustubh', 'age': 20, 'course': 'ds'}\n",
      "name,kaustubh\n",
      "age,20\n",
      "course,ds\n"
     ]
    }
   ],
   "source": [
    "#**kwrgs= is used to read the key value pair:\n",
    "#if we want to unpacked dictionary\n",
    "def dictionary_conversion(**kwargs):\n",
    "    print(kwargs)\n",
    "    for key,value in kwargs.items():\n",
    "        print(f\"{key},{value}\")\n",
    "dictionary_conversion(name=\"kaustubh\", age=20,course=\"ds\")        "
   ]
  },
  {
   "cell_type": "code",
   "execution_count": 38,
   "id": "329e0f84-b25d-499f-98d5-b2cb8214349d",
   "metadata": {},
   "outputs": [
    {
     "name": "stdout",
     "output_type": "stream",
     "text": [
      "{'name': 'kaustubh', 'age': 20, 'course': 'ds'}\n"
     ]
    }
   ],
   "source": [
    "#if we want to packed the dictionary\n",
    "def dictionary_conversion(**kwargs):\n",
    "    print(kwargs)\n",
    "dictionary_conversion(name=\"kaustubh\", age=20,course=\"ds\")"
   ]
  },
  {
   "cell_type": "code",
   "execution_count": 58,
   "id": "94b2c22f-7824-493f-9509-c4395dfd2e3c",
   "metadata": {},
   "outputs": [
    {
     "data": {
      "text/plain": [
       "'saving is 2530'"
      ]
     },
     "execution_count": 58,
     "metadata": {},
     "output_type": "execute_result"
    }
   ],
   "source": [
    "def budget_check(*expenses,total_budget):\n",
    "    total_expense= sum(expenses)\n",
    "    saving= total_budget - total_expense\n",
    "    if saving <0:\n",
    "        return f\"exceeded budget by{saving}\"\n",
    "    else:\n",
    "        return f\"saving is {saving}\"\n",
    "budget_check( 100 ,200 ,2000 ,170,total_budget=5000)"
   ]
  },
  {
   "cell_type": "code",
   "execution_count": null,
   "id": "4b512f88-1d6e-48d8-9878-b797a57bb213",
   "metadata": {},
   "outputs": [],
   "source": []
  }
 ],
 "metadata": {
  "kernelspec": {
   "display_name": "Python 3 (ipykernel)",
   "language": "python",
   "name": "python3"
  },
  "language_info": {
   "codemirror_mode": {
    "name": "ipython",
    "version": 3
   },
   "file_extension": ".py",
   "mimetype": "text/x-python",
   "name": "python",
   "nbconvert_exporter": "python",
   "pygments_lexer": "ipython3",
   "version": "3.12.4"
  }
 },
 "nbformat": 4,
 "nbformat_minor": 5
}
