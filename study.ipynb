{
 "cells": [
  {
   "cell_type": "code",
   "execution_count": 1,
   "id": "b8b83d7a-46e7-4dd9-9b1b-0d3947ca244c",
   "metadata": {},
   "outputs": [
    {
     "name": "stdout",
     "output_type": "stream",
     "text": [
      "[1, 2, 3, 4, 5, 6]\n"
     ]
    },
    {
     "data": {
      "text/plain": [
       "list"
      ]
     },
     "execution_count": 1,
     "metadata": {},
     "output_type": "execute_result"
    }
   ],
   "source": [
    "#list creation :- for list creation we use \"[]\" bracate, and for get to know about the datatype we use \"type()\" method \n",
    "a=[1,2,3,4,5,6]\n",
    "print(a)\n",
    "type(a)"
   ]
  },
  {
   "cell_type": "code",
   "execution_count": 2,
   "id": "bfb32a32-35a8-4908-a05c-46760d683468",
   "metadata": {},
   "outputs": [
    {
     "data": {
      "text/plain": [
       "[1, 2, 3, 4, 5, 6, 7]"
      ]
     },
     "execution_count": 2,
     "metadata": {},
     "output_type": "execute_result"
    }
   ],
   "source": [
    "#for updating value in the present list we use \"appent\" function for updating list\n",
    "a=[1,2,3,4,5,6]\n",
    "a.append(7)\n",
    "a"
   ]
  },
  {
   "cell_type": "code",
   "execution_count": 3,
   "id": "aa1a6060-93ba-4759-9ecb-640983bd1b38",
   "metadata": {},
   "outputs": [
    {
     "data": {
      "text/plain": [
       "[]"
      ]
     },
     "execution_count": 3,
     "metadata": {},
     "output_type": "execute_result"
    }
   ],
   "source": [
    "# for deleting the whole list we use \"clear\" function \n",
    "a=[1,2,3,4,5,6]\n",
    "a.clear()\n",
    "a"
   ]
  },
  {
   "cell_type": "code",
   "execution_count": 4,
   "id": "276f6af6-e503-4766-ba47-0a93f8d66044",
   "metadata": {},
   "outputs": [
    {
     "data": {
      "text/plain": [
       "[1, 2, 3, 4, 5, 6]"
      ]
     },
     "execution_count": 4,
     "metadata": {},
     "output_type": "execute_result"
    }
   ],
   "source": [
    "#for copying the present list we use \"copy\" function \n",
    "a=[1,2,3,4,5,6]\n",
    "a.copy()\n",
    "a"
   ]
  },
  {
   "cell_type": "code",
   "execution_count": 5,
   "id": "be24f720-8e6f-472b-bea2-ac7f8b514a36",
   "metadata": {},
   "outputs": [
    {
     "data": {
      "text/plain": [
       "3"
      ]
     },
     "execution_count": 5,
     "metadata": {},
     "output_type": "execute_result"
    }
   ],
   "source": [
    "# if list is containing  the similar no. than for we use\"count\" function but this fuction doesnot need to call\n",
    "a=[1,2,2,2,3,3,3,4,4,4,5,6]\n",
    "a.count(4)\n"
   ]
  },
  {
   "cell_type": "code",
   "execution_count": 26,
   "id": "15e253ec-7b69-4c43-b79a-1390be6b5e59",
   "metadata": {},
   "outputs": [
    {
     "data": {
      "text/plain": [
       "[1, 2, 3, 4, 5, 6, 7, 8, 9, 10, 11]"
      ]
     },
     "execution_count": 26,
     "metadata": {},
     "output_type": "execute_result"
    }
   ],
   "source": [
    "#\"extend\" function is used to extend the list by merging the another list\n",
    "a=[1,2,3,4,5,6]\n",
    "b=[7,8,9,10,11]\n",
    "a.extend(b)\n",
    "a"
   ]
  },
  {
   "cell_type": "code",
   "execution_count": null,
   "id": "e747f48b-a84f-4926-b197-6ad629db21ea",
   "metadata": {},
   "outputs": [],
   "source": [
    "# for get to know the place where the index is been placed than we use \"index\" function (the count start from 0,1,2,3,4,...)\n",
    "a=[1,2,3,4,5,6]\n",
    "a.index(3)\n"
   ]
  },
  {
   "cell_type": "code",
   "execution_count": null,
   "id": "bc8f1350-f56e-4cca-9e29-b56f5533240f",
   "metadata": {},
   "outputs": [],
   "source": [
    "#for updating index in the list we also use \"insert\" but insert function update the index after the index is been update\n",
    "a=[1,2,3,4,5,6]\n",
    "a.insert(5,7)\n",
    "a"
   ]
  },
  {
   "cell_type": "code",
   "execution_count": 8,
   "id": "07acf52e-5fb6-4874-8a66-1eb9e25625a1",
   "metadata": {},
   "outputs": [
    {
     "data": {
      "text/plain": [
       "[1, 2, 3, 5, 6]"
      ]
     },
     "execution_count": 8,
     "metadata": {},
     "output_type": "execute_result"
    }
   ],
   "source": [
    "# \"pop\" function is used to remove the last index from the list \n",
    "#if we have to remove the middle no. from the list then pop should get the befor index for removing index\n",
    "a=[1,2,3,4,5,6]\n",
    "a.pop()\n",
    "a\n",
    "a=[1,2,3,4,5,6]\n",
    "a.pop(3)\n",
    "a"
   ]
  },
  {
   "cell_type": "code",
   "execution_count": 10,
   "id": "9c146f2e-7d27-4413-85e9-df383a9607d0",
   "metadata": {},
   "outputs": [
    {
     "data": {
      "text/plain": [
       "[1, 2, 3, 4, 6]"
      ]
     },
     "execution_count": 10,
     "metadata": {},
     "output_type": "execute_result"
    }
   ],
   "source": [
    "#\"remove\" function is used for removeing the perticular inddex from the list\n",
    "a=[1,2,3,4,5,6]\n",
    "a.remove(5)\n",
    "a"
   ]
  },
  {
   "cell_type": "code",
   "execution_count": 13,
   "id": "c0aced0f-c7b0-452b-bce2-4752881c0262",
   "metadata": {},
   "outputs": [
    {
     "data": {
      "text/plain": [
       "[6, 5, 4, 3, 2, 1]"
      ]
     },
     "execution_count": 13,
     "metadata": {},
     "output_type": "execute_result"
    }
   ],
   "source": [
    "#\"reverse\" function is used to revers the list\n",
    "a=[1,2,3,4,5,6]\n",
    "a.reverse()\n",
    "a\n"
   ]
  },
  {
   "cell_type": "code",
   "execution_count": 22,
   "id": "d101490d-b1d8-4b83-9134-66a13188db1c",
   "metadata": {},
   "outputs": [
    {
     "data": {
      "text/plain": [
       "[1, 2, 3, 4, 5, 6]"
      ]
     },
     "execution_count": 22,
     "metadata": {},
     "output_type": "execute_result"
    }
   ],
   "source": [
    "#for sorting the list we use \"sort\"function which means in the list we got a mixed index than this fuction is used for make correct changes\n",
    "a=[2,1,3,4,6,5]\n",
    "a.sort()\n",
    "a"
   ]
  },
  {
   "cell_type": "code",
   "execution_count": null,
   "id": "0253a167-af47-4b53-aef9-26ad7ce4823c",
   "metadata": {},
   "outputs": [],
   "source": []
  }
 ],
 "metadata": {
  "kernelspec": {
   "display_name": "Python 3 (ipykernel)",
   "language": "python",
   "name": "python3"
  },
  "language_info": {
   "codemirror_mode": {
    "name": "ipython",
    "version": 3
   },
   "file_extension": ".py",
   "mimetype": "text/x-python",
   "name": "python",
   "nbconvert_exporter": "python",
   "pygments_lexer": "ipython3",
   "version": "3.12.4"
  }
 },
 "nbformat": 4,
 "nbformat_minor": 5
}
