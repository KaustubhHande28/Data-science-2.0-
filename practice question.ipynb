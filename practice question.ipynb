{
 "cells": [
  {
   "cell_type": "markdown",
   "id": "0afc42bd-ea0c-47d9-8e15-84ed1c5bc35d",
   "metadata": {},
   "source": [
    "### CHECK NUMBER IS AMSTRONG OR NOT "
   ]
  },
  {
   "cell_type": "code",
   "execution_count": 2,
   "id": "e088183e-7798-472b-b4a6-d47e03bee672",
   "metadata": {},
   "outputs": [
    {
     "name": "stdin",
     "output_type": "stream",
     "text": [
      "enter 3 digit number or more  153\n"
     ]
    },
    {
     "name": "stdout",
     "output_type": "stream",
     "text": [
      "it is amstrong number\n"
     ]
    }
   ],
   "source": [
    "number= int(input(\"enter 3 digit number or more \"))\n",
    "if number<0 or len (str(number))<3:\n",
    "    print(\"number should be postive and atlest 3 digit number \")\n",
    "else:\n",
    "    \n",
    "    num_str=str(number)\n",
    "    num_digit = len(num_str)\n",
    "    sum= 0\n",
    "    for i in num_str:\n",
    "        sum+= int (i)**num_digit\n",
    "    if sum==number:\n",
    "        print(\"it is amstrong number\")\n",
    "    else:\n",
    "        print(\"it is not amstrong number\")"
   ]
  },
  {
   "cell_type": "code",
   "execution_count": 1,
   "id": "78740021-44dc-4de5-b6fd-e2917b8d72cc",
   "metadata": {},
   "outputs": [
    {
     "name": "stdin",
     "output_type": "stream",
     "text": [
      "Enter string1:  pot\n",
      "Enter string2:  top\n"
     ]
    },
    {
     "name": "stdout",
     "output_type": "stream",
     "text": [
      "The strings are anagrams.\n"
     ]
    }
   ],
   "source": [
    "def check(s1, s2):\n",
    "\t\n",
    "\tif(sorted(s1)== sorted(s2)):\n",
    "\t\tprint(\"The strings are anagrams.\")\n",
    "\telse:\n",
    "\t\tprint(\"The strings aren't anagrams.\")\t\t\n",
    "\t\t\n",
    "s1 = input(\"Enter string1: \")\n",
    "\n",
    "s2 = input(\"Enter string2: \")\n",
    "check(s1, s2)"
   ]
  },
  {
   "cell_type": "markdown",
   "id": "054ad285-7805-4029-b04c-bcfe123e82b9",
   "metadata": {},
   "source": []
  },
  {
   "cell_type": "code",
   "execution_count": 5,
   "id": "8d7451bd-205b-4c80-95f1-3eb1e94af98c",
   "metadata": {},
   "outputs": [
    {
     "name": "stdin",
     "output_type": "stream",
     "text": [
      "please enter a string  kaustubh\n"
     ]
    },
    {
     "name": "stdout",
     "output_type": "stream",
     "text": [
      "There is a vowel\n"
     ]
    }
   ],
   "source": [
    "str=input(\"please enter a string \" ).lower()\n",
    "vowel=['a','e','i','o','u']\n",
    "vowel_check= False\n",
    "for char in str:\n",
    "    if char in vowel:\n",
    "        vowel_check = True\n",
    "        break\n",
    "if vowel_check==True:\n",
    "    print(\"There is a vowel\")\n",
    "else:\n",
    "    print(\"There is no vowel\")\n"
   ]
  },
  {
   "cell_type": "code",
   "execution_count": null,
   "id": "001f2298-2ec1-48fb-8499-f7c8a911ece8",
   "metadata": {},
   "outputs": [],
   "source": []
  },
  {
   "cell_type": "code",
   "execution_count": null,
   "id": "eb450d2a-87bf-48ac-b274-c60b2597fffb",
   "metadata": {},
   "outputs": [],
   "source": []
  }
 ],
 "metadata": {
  "kernelspec": {
   "display_name": "Python 3 (ipykernel)",
   "language": "python",
   "name": "python3"
  },
  "language_info": {
   "codemirror_mode": {
    "name": "ipython",
    "version": 3
   },
   "file_extension": ".py",
   "mimetype": "text/x-python",
   "name": "python",
   "nbconvert_exporter": "python",
   "pygments_lexer": "ipython3",
   "version": "3.12.4"
  }
 },
 "nbformat": 4,
 "nbformat_minor": 5
}
