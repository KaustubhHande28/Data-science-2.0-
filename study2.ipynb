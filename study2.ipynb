{
 "cells": [
  {
   "cell_type": "markdown",
   "id": "486077db-c273-485c-bb15-7e6e374fb406",
   "metadata": {},
   "source": [
    "### for loop study"
   ]
  },
  {
   "cell_type": "code",
   "execution_count": 1,
   "id": "7aedc545-0aaa-4e20-ab3a-1f5f3e86f963",
   "metadata": {},
   "outputs": [
    {
     "name": "stdout",
     "output_type": "stream",
     "text": [
      "[1, 4, 9, 16, 25]\n"
     ]
    }
   ],
   "source": [
    "#for making square of the list use method:\n",
    "a=[1,2,3,4,5]\n",
    "squared_a=[]\n",
    "for num in a:       #num can be any element\n",
    "    squared_a.append(num**2)\n",
    "print(squared_a) "
   ]
  },
  {
   "cell_type": "code",
   "execution_count": 2,
   "id": "82e06d7f-1287-47b4-8004-0cd14b75d6ec",
   "metadata": {},
   "outputs": [
    {
     "name": "stdout",
     "output_type": "stream",
     "text": [
      "[400, 900, 1600, 2500]\n"
     ]
    }
   ],
   "source": [
    "a=[20,30,40,50]\n",
    "nums_a=[]\n",
    "for b in a:\n",
    "    nums_a.append(b**2)\n",
    "print(nums_a)   "
   ]
  },
  {
   "cell_type": "code",
   "execution_count": 19,
   "id": "fc080892-8638-44fb-9cf3-3d9c338f3dfb",
   "metadata": {},
   "outputs": [
    {
     "name": "stdout",
     "output_type": "stream",
     "text": [
      "(400, 900, 1600, 2500)\n"
     ]
    }
   ],
   "source": [
    "#if we have to want list output in tuple from than:\n",
    "a=[20,30,40,50]\n",
    "nums_a=[]\n",
    "for b in a:\n",
    "    nums_a.append(b**2)\n",
    "print(tuple(nums_a))   "
   ]
  },
  {
   "cell_type": "code",
   "execution_count": 3,
   "id": "c4653fdf-194f-4771-ae4e-b90bf2556e59",
   "metadata": {},
   "outputs": [
    {
     "name": "stdout",
     "output_type": "stream",
     "text": [
      "[1, 4, 9, 16, 25]\n"
     ]
    }
   ],
   "source": [
    "#another method for making square of the list use method \n",
    "a=[1,2,3,4,5]\n",
    "nums_a=[]\n",
    "for k in range(0,len(a)):\n",
    "    a[k]=a[k]**2\n",
    "print(a)    \n",
    "#output of [1,2,3,4,5]:  [1, 4, 9, 16, 25] \n",
    "#range start from        [0, 1, 2, 3, 4 ]"
   ]
  },
  {
   "cell_type": "code",
   "execution_count": 12,
   "id": "f0d46a8d-438e-40c1-a114-3fb0e79d3c51",
   "metadata": {},
   "outputs": [
    {
     "name": "stdout",
     "output_type": "stream",
     "text": [
      "[4, 16]\n",
      "[1, 9, 25]\n"
     ]
    }
   ],
   "source": [
    "#for getting even and odd number from output of list:\n",
    "even_num=[]\n",
    "odd_num=[]\n",
    "for nums in a:\n",
    "    if nums%2 ==0:\n",
    "        even_num.append(nums)\n",
    "    else:\n",
    "        odd_num.append(nums)\n",
    "print(even_num)\n",
    "print(odd_num)\n",
    "\n",
    "#input list[1,4,9,16,25]\n",
    "#output even_number[4,16]\n",
    "#output odd_number[1,9,25]"
   ]
  },
  {
   "cell_type": "code",
   "execution_count": 16,
   "id": "88f705f4-a5c1-4895-8526-b4d360eba0f9",
   "metadata": {},
   "outputs": [
    {
     "name": "stdout",
     "output_type": "stream",
     "text": [
      "odd number\n",
      "even number\n",
      "odd number\n",
      "even number\n",
      "odd number\n"
     ]
    }
   ],
   "source": [
    "#if we have to define the list output as even and odd :\n",
    "a=[1,4,9,16,25]\n",
    "for i in a:\n",
    "    if i%2==0:\n",
    "        print(\"even number\")\n",
    "    else:\n",
    "        print(\"odd number\") \n",
    "\n",
    "\n",
    "\n",
    "#input    \\  output\n",
    "#1           odd number\n",
    "#4           even number\n",
    "#9           odd number\n",
    "#16          even number\n",
    "#25          odd number\n"
   ]
  },
  {
   "cell_type": "code",
   "execution_count": 18,
   "id": "6520b7fc-7f42-42ee-95cc-9d3aec5dc2f6",
   "metadata": {},
   "outputs": [
    {
     "name": "stdout",
     "output_type": "stream",
     "text": [
      "hhhhhhhhhh\n",
      "eeeeeeeeee\n",
      "llllllllll\n",
      "llllllllll\n",
      "oooooooooo\n",
      "          \n",
      "kkkkkkkkkk\n",
      "aaaaaaaaaa\n",
      "uuuuuuuuuu\n",
      "ssssssssss\n",
      "tttttttttt\n",
      "uuuuuuuuuu\n",
      "bbbbbbbbbb\n",
      "hhhhhhhhhh\n"
     ]
    }
   ],
   "source": [
    "#if we have to write single word in no. of times:\n",
    "a=\"hello kaustubh\"\n",
    "for i in a:\n",
    "    print(i*10)"
   ]
  },
  {
   "cell_type": "code",
   "execution_count": 23,
   "id": "4e4dbdf0-6149-450e-b70e-7c74320c3a38",
   "metadata": {},
   "outputs": [
    {
     "name": "stdout",
     "output_type": "stream",
     "text": [
      "a\n",
      "b\n",
      "c\n",
      "d\n"
     ]
    }
   ],
   "source": [
    "#if we want to define key and value from dictonary than:\n",
    "a={\"a\":1 ,\"b\":3,\"c\":4,\"d\":5}\n",
    "for b in a:\n",
    "    print(b)"
   ]
  },
  {
   "cell_type": "code",
   "execution_count": 35,
   "id": "094d6faf-30c0-49b2-a519-2df5f2bfedbc",
   "metadata": {},
   "outputs": [
    {
     "name": "stdout",
     "output_type": "stream",
     "text": [
      "a\n",
      "('a', 1)\n",
      "b\n",
      "('b', 3)\n",
      "c\n",
      "('c', 4)\n",
      "d\n",
      "('d', 5)\n"
     ]
    }
   ],
   "source": [
    "a={\"a\":1 ,\"b\":3,\"c\":4,\"d\":5}\n",
    "a.items()\n",
    "for a,c in a.items():\n",
    "    print(a)\n",
    "    print((a,c))    "
   ]
  },
  {
   "cell_type": "code",
   "execution_count": null,
   "id": "ed0ab67e-ca17-4f90-9e07-1a8ba2d7b419",
   "metadata": {},
   "outputs": [],
   "source": []
  },
  {
   "cell_type": "code",
   "execution_count": null,
   "id": "08073eff-1b91-489a-ae9e-cdf7ee321ebc",
   "metadata": {},
   "outputs": [],
   "source": []
  },
  {
   "cell_type": "code",
   "execution_count": null,
   "id": "a4e193e3-0835-400d-a113-7dba82d932b2",
   "metadata": {},
   "outputs": [],
   "source": []
  }
 ],
 "metadata": {
  "kernelspec": {
   "display_name": "Python 3 (ipykernel)",
   "language": "python",
   "name": "python3"
  },
  "language_info": {
   "codemirror_mode": {
    "name": "ipython",
    "version": 3
   },
   "file_extension": ".py",
   "mimetype": "text/x-python",
   "name": "python",
   "nbconvert_exporter": "python",
   "pygments_lexer": "ipython3",
   "version": "3.12.4"
  }
 },
 "nbformat": 4,
 "nbformat_minor": 5
}
