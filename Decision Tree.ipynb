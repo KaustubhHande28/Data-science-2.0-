{
 "cells": [
  {
   "cell_type": "markdown",
   "id": "72d9b411-4c8c-41d1-a3a4-50106142889a",
   "metadata": {},
   "source": [
    "### A decision tree is a supervisted machine learning algorithm used for both  classification and predection. it is tree like structure with root node , branch node , & leaf node\n",
    "- Root node : it is the node were the tree start it is the starting node were decision and contaions the eniter dataset \n",
    "- brance node[decision node ] : any node that represent question or am decision that can lead to the further slipting , this node always appears after the root node\n",
    "- leaf node [terminal node ]: the node where the decision tree ends it repsents the final outcomes or decisions were no futher question are asked \n",
    "- example :loan accepted by clinet [ classification problem],salary prediction (regression problem)"
   ]
  },
  {
   "cell_type": "markdown",
   "id": "587a811a-0e18-45b0-8248-82c8e65a6a48",
   "metadata": {},
   "source": [
    "### Gini impurity :-  measures how mixed the groups are it helps us to understand if a group contains mostly one kind of respons like 'mostly Yes' or 'mostly No'\n",
    "- A pure group [only yes or only No] has a gini impurtity of zero.\n",
    "- A higher value of gini impurity means a group is more mixed.\n",
    "- Purpose of decision tree is to lower the gini impurity so the groups are pure as decision tree.\n",
    "- If the data is incline in one side then the gini impurity is low and if it is equal then  gini impurity will be high."
   ]
  },
  {
   "cell_type": "markdown",
   "id": "9bd39119-fe1f-43e0-b513-f4e7d747de05",
   "metadata": {},
   "source": [
    "### Information gain [ENTROPY]: it tells us how much a certian split makes the data more organise ,when we slipt the data are aim is to make it as neat as possible ,information gain is the differance in impurity before and after the slipt\n",
    "- The bigger the gain than split will be bigger."
   ]
  },
  {
   "cell_type": "markdown",
   "id": "29946483-3f4b-4bf7-80e5-98b772180887",
   "metadata": {},
   "source": [
    "### F1 score : The F1 score is a statistical metric that combines precision and recall into a single score to evaluate a machine learning model's performance"
   ]
  },
  {
   "cell_type": "markdown",
   "id": "fa9abd8a-21e7-4150-8339-72d898386056",
   "metadata": {},
   "source": [
    "- Formula of F1 score is : *** f1 =  2 * (precision * recall) / (precision + recall) ***"
   ]
  },
  {
   "cell_type": "markdown",
   "id": "317b63dc-228c-4808-ae44-a74bc794fce3",
   "metadata": {},
   "source": [
    "### KNL : K Nearest Lablel"
   ]
  },
  {
   "cell_type": "markdown",
   "id": "5b34ab69-2216-4d7f-bedf-f9e2a347451f",
   "metadata": {},
   "source": [
    "### Grid search for k value"
   ]
  },
  {
   "cell_type": "markdown",
   "id": "e7015301-73f3-427f-9d0a-2a2a283ad0ea",
   "metadata": {},
   "source": [
    "Full Cross Validation Grid Search for K Value\n",
    "Creating a Pipeline to find K value\n",
    "\n",
    "Follow along very carefully here! We use very specific string codes AND variable names here so that everything matches up correctly. This is not a case where you can easily swap out variable names for whatever you want!\n",
    "\n",
    "We'll use a Pipeline object to set up a workflow of operations:\n",
    "\n",
    "Scale Data\n",
    "Create Model on Scaled Data\n",
    "\n",
    "How does the Scaler work inside a Pipeline with CV? Is scikit-learn \"smart\" enough to un10:43 am"
   ]
  },
  {
   "cell_type": "code",
   "execution_count": null,
   "id": "58aacf6f-f932-4f0e-9b73-99fcdd4380fc",
   "metadata": {},
   "outputs": [],
   "source": []
  }
 ],
 "metadata": {
  "kernelspec": {
   "display_name": "Python 3 (ipykernel)",
   "language": "python",
   "name": "python3"
  },
  "language_info": {
   "codemirror_mode": {
    "name": "ipython",
    "version": 3
   },
   "file_extension": ".py",
   "mimetype": "text/x-python",
   "name": "python",
   "nbconvert_exporter": "python",
   "pygments_lexer": "ipython3",
   "version": "3.12.4"
  }
 },
 "nbformat": 4,
 "nbformat_minor": 5
}
