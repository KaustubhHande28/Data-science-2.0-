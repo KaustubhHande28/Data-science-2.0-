{
 "cells": [
  {
   "cell_type": "markdown",
   "id": "52d43b62-b1c5-4b40-b182-4a9139623fd7",
   "metadata": {},
   "source": [
    "### 1. Convert radians into degrees"
   ]
  },
  {
   "cell_type": "markdown",
   "id": "01330510-62cf-4a24-a5ad-1639689d2bcd",
   "metadata": {},
   "source": [
    "#### Write a function in Python that accepts one numeric parameter. This parameter will be the measure of an angle in radians. The function should convert the radians into degrees and then return that value."
   ]
  },
  {
   "cell_type": "code",
   "execution_count": 1,
   "id": "8100a80a-6639-4fda-892e-a7e3739e9f91",
   "metadata": {},
   "outputs": [],
   "source": [
    "#formula for converting radian to degree :- 1Rad × 180/π degree \n",
    "import math\n",
    "def radian(rad):\n",
    "    degree = rad*180/(math.pi)\n",
    "    return degree"
   ]
  },
  {
   "cell_type": "code",
   "execution_count": 2,
   "id": "2ccd46a5-bd59-48e0-a146-bc0b649c5378",
   "metadata": {},
   "outputs": [
    {
     "data": {
      "text/plain": [
       "2578.3100780887044"
      ]
     },
     "execution_count": 2,
     "metadata": {},
     "output_type": "execute_result"
    }
   ],
   "source": [
    "radian(45)"
   ]
  },
  {
   "cell_type": "markdown",
   "id": "18868704-e51b-42d6-9528-5a6ee7f44ce1",
   "metadata": {},
   "source": [
    "### 2. Sort a list"
   ]
  },
  {
   "cell_type": "markdown",
   "id": "156cdf75-ad23-4032-9329-8e0553fa92f5",
   "metadata": {},
   "source": [
    "#### Create a function in Python that accepts two parameters. The first will be a list of numbers. The second parameter will be a string that can be one of the following values: asc, desc, and none"
   ]
  },
  {
   "cell_type": "code",
   "execution_count": 6,
   "id": "c2c913c3-a4a4-4812-886b-8980fbe45c42",
   "metadata": {},
   "outputs": [],
   "source": [
    "def sort_list(list,order):\n",
    "    if list == []:\n",
    "        return \"list is empty\"\n",
    "    elif order == 'asc':\n",
    "        list.sort()\n",
    "        return list\n",
    "    elif order ==\"desc\":\n",
    "        list.sort(reverse = True)\n",
    "        return list\n",
    "    else:\n",
    "        return list"
   ]
  },
  {
   "cell_type": "code",
   "execution_count": 7,
   "id": "b2ff057e-5328-4b8b-a130-3bd1333a3aff",
   "metadata": {},
   "outputs": [
    {
     "data": {
      "text/plain": [
       "[1, 2, 3, 4, 5]"
      ]
     },
     "execution_count": 7,
     "metadata": {},
     "output_type": "execute_result"
    }
   ],
   "source": [
    "sort_list([5,4,3,2,1], 'asc')"
   ]
  },
  {
   "cell_type": "markdown",
   "id": "08d0684e-5081-432e-98f6-256f361063e4",
   "metadata": {},
   "source": [
    "### 3. Convert a decimal number into binary"
   ]
  },
  {
   "cell_type": "markdown",
   "id": "e61180fd-7e3b-4416-9b10-2e5de18e1909",
   "metadata": {},
   "source": [
    "#### Write a function in Python that accepts a decimal number and returns the equivalent binary number. To make this simple, the decimal number will always be less than 1,024, so the binary number returned will always be less than ten digits long."
   ]
  },
  {
   "cell_type": "code",
   "execution_count": 16,
   "id": "b791ded3-6d2f-416b-83de-6040b22f2fb2",
   "metadata": {},
   "outputs": [],
   "source": [
    "def decimal_binary(decimal):\n",
    "    remainder=[]\n",
    "    while decimal >0:\n",
    "        mod = decimal % 2\n",
    "        remainder.append(mod)\n",
    "        decimal //= 2\n",
    "    remainder.reverse()\n",
    "    return''.join(map(str,remainder))\n",
    "    "
   ]
  },
  {
   "cell_type": "code",
   "execution_count": 19,
   "id": "8303518a-fbe2-4f77-be95-9f384bfc80e3",
   "metadata": {},
   "outputs": [
    {
     "data": {
      "text/plain": [
       "'110010'"
      ]
     },
     "execution_count": 19,
     "metadata": {},
     "output_type": "execute_result"
    }
   ],
   "source": [
    "decimal_binary(50)"
   ]
  },
  {
   "cell_type": "markdown",
   "id": "426b1c1d-43c1-4197-91e1-7cfb19467e9e",
   "metadata": {},
   "source": [
    "#### Logic of decimal to binary\n",
    "- 45 % 2 = 22 (remainder = 1)\n",
    "- 22 % 2 = 11 (remainder = 0)\n",
    "- 11 % 2 = 5 (remainder = 1)\n",
    "- 5 % 2 = 2 (remainder = 1)\n",
    "- 2 % 2 = 1 (remainder = 0)\n",
    "- 1 % 2 = 0.0.....\n",
    "\n",
    "**binary value** = 101101"
   ]
  },
  {
   "cell_type": "code",
   "execution_count": 20,
   "id": "5e5e6d96-0d0d-4b7f-9bcf-040fc9786a52",
   "metadata": {},
   "outputs": [],
   "source": [
    "def decimal_binary(decimal):\n",
    "    if decimal>1024:\n",
    "        return \"Give a number less than 1024\"\n",
    "        remainder=[]\n",
    "    while decimal >0:\n",
    "        mod = decimal % 2\n",
    "        remainder.append(mod)\n",
    "        decimal //= 2\n",
    "    remainder.reverse()\n",
    "    return''.join(map(str,remainder))"
   ]
  },
  {
   "cell_type": "code",
   "execution_count": 21,
   "id": "74a392db-5792-40ce-8764-165ac73b799b",
   "metadata": {},
   "outputs": [
    {
     "data": {
      "text/plain": [
       "'Give a number less than 1024'"
      ]
     },
     "execution_count": 21,
     "metadata": {},
     "output_type": "execute_result"
    }
   ],
   "source": [
    "decimal_binary(1025)"
   ]
  },
  {
   "cell_type": "code",
   "execution_count": null,
   "id": "edaa092d-4d3c-4f6f-8a7b-859afdb4b539",
   "metadata": {},
   "outputs": [],
   "source": []
  }
 ],
 "metadata": {
  "kernelspec": {
   "display_name": "Python 3 (ipykernel)",
   "language": "python",
   "name": "python3"
  },
  "language_info": {
   "codemirror_mode": {
    "name": "ipython",
    "version": 3
   },
   "file_extension": ".py",
   "mimetype": "text/x-python",
   "name": "python",
   "nbconvert_exporter": "python",
   "pygments_lexer": "ipython3",
   "version": "3.12.4"
  }
 },
 "nbformat": 4,
 "nbformat_minor": 5
}
