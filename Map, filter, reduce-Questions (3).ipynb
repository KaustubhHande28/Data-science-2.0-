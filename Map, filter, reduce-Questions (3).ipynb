{
 "cells": [
  {
   "cell_type": "code",
   "execution_count": 1,
   "id": "7174ba13-b360-48cc-b0d7-2d84ae70d075",
   "metadata": {},
   "outputs": [
    {
     "ename": "SyntaxError",
     "evalue": "invalid syntax (684385072.py, line 1)",
     "output_type": "error",
     "traceback": [
      "\u001b[1;36m  Cell \u001b[1;32mIn[1], line 1\u001b[1;36m\u001b[0m\n\u001b[1;33m    **Lambda**\u001b[0m\n\u001b[1;37m    ^\u001b[0m\n\u001b[1;31mSyntaxError\u001b[0m\u001b[1;31m:\u001b[0m invalid syntax\n"
     ]
    }
   ],
   "source": [
    "**Lambda**\n",
    "Question 1: Write a lambda function to calculate the cube of a number.\n",
    "\n",
    "Question 2: Create a lambda function that adds two numbers and assign it to a variable. Then, use this function to add 3 and 5.\n",
    "\n",
    "Question 3: Use a lambda function to sort the list of tuples [(1, 2), (3, 3), (2, 1)] by the second value in each tuple.\n",
    "\n",
    "Question 4: Create a lambda function that returns True if a string starts with 'A' and False otherwise. Test it with the string \"Apple\".\n",
    "\n",
    "Question 5: Write a lambda function to check if a number is even. Test it with the number 4.\n",
    "\n",
    "**Map**\n",
    "Question 6: Use map and a lambda function to convert the list ['1', '2', '3'] to integers.\n",
    "\n",
    "Question 7: Apply a lambda function using map to add 5 to each element in the list [0, 1, 2, 3].\n",
    "\n",
    "Question 8: Use map and a lambda function to find the length of each word in the list ['apple', 'banana', 'cherry'].\n",
    "\n",
    "Question 9: Given two lists [1, 2, 3] and [4, 5, 6], use map and a lambda function to add corresponding elements of both lists.\n",
    "\n",
    "Question 10: Apply a lambda function using map to convert a list of temperatures in Celsius [0, 20, 100] to Fahrenheit.\n",
    "\n",
    "**Filter**\n",
    "Question 11: Use filter and a lambda function to get all even numbers from the list [1, 2, 3, 4, 5, 6].\n",
    "\n",
    "Question 12: Use filter and a lambda function to get all strings with length greater than 3 from the list ['apple', 'it', 'banana', 'a', 'cherry'].\n",
    "\n",
    "Question 13: Use filter and a lambda function to find all numbers greater than 10 in the list [5, 10, 15, 20, 25].\n",
    "\n",
    "Question 14: Use filter and a lambda function to get all the vowels from the string 'hello world'.\n",
    "\n",
    "Question 15: Use filter and a lambda function to find all negative numbers in the list [-2, -1, 0, 1, 2].\n",
    "\n",
    "**Reduce**\n",
    "Question 16: Use reduce and a lambda function to find the sum of the list [1, 2, 3, 4, 5].\n",
    "\n",
    "Question 17: Use reduce and a lambda function to find the product of the list [1, 2, 3, 4, 5].\n",
    "Answer:\n",
    "\n",
    "python\n",
    "Copy code\n",
    "from functools import reduce\n",
    "numbers = [1, 2, 3, 4, 5]\n",
    "product = reduce(lambda x, y: x * y, numbers)  # Result: 120\n",
    "Question: Use reduce and a lambda function to find the maximum value in the list [3, 1, 4, 1, 5, 9, 2, 6, 5].\n",
    "Answer:\n",
    "\n",
    "python\n",
    "Copy code\n",
    "from functools import reduce\n",
    "numbers = [3, 1, 4, 1, 5, 9, 2, 6, 5]\n",
    "max_value = reduce(lambda x, y: x if x > y else y, numbers)  # Result: 9\n",
    "Question: Use reduce and a lambda function to concatenate a list of strings ['Hello', ' ', 'World', '!'].\n",
    "Answer:\n",
    "\n",
    "python\n",
    "Copy code\n",
    "from functools import reduce\n",
    "strings = ['Hello', ' ', 'World', '!']\n",
    "concatenated = reduce(lambda x, y: x + y, strings)  # Result: 'Hello World!'\n",
    "Question: Use reduce and a lambda function to find the smallest number in the list [3, 5, 2, 8, 1].\n",
    "Answer:\n",
    "\n",
    "python\n",
    "Copy code\n",
    "from functools import reduce\n",
    "numbers = [3, 5, 2, 8, 1]\n",
    "min_value = reduce(lambda x, y: x if x < y else y, numbers)  # Result: 1"
   ]
  },
  {
   "cell_type": "code",
   "execution_count": 1,
   "id": "a068bad9-779f-47e1-89bb-b3c852a46479",
   "metadata": {},
   "outputs": [
    {
     "data": {
      "text/plain": [
       "[1, 8, 27, 64, 125]"
      ]
     },
     "execution_count": 1,
     "metadata": {},
     "output_type": "execute_result"
    }
   ],
   "source": [
    "#Write a lambda function to calculate the cube of a number.\n",
    "a=[1,2,3,4,5]\n",
    "list(map(lambda x:x**3, a))"
   ]
  },
  {
   "cell_type": "code",
   "execution_count": 2,
   "id": "d7b10117-673e-479b-a7a7-0b1895eb258d",
   "metadata": {},
   "outputs": [
    {
     "name": "stdout",
     "output_type": "stream",
     "text": [
      "10\n"
     ]
    }
   ],
   "source": [
    "#Question 2: Create a lambda function that adds two numbers and assign it to a variable. Then, use this function to add 3 and 5.\n",
    "add = lambda x, y: x + y\n",
    "result = add(5, 5)\n",
    "print(result)"
   ]
  },
  {
   "cell_type": "code",
   "execution_count": 3,
   "id": "1ee2276e-d383-4563-89d5-4380bf764c89",
   "metadata": {},
   "outputs": [
    {
     "name": "stdout",
     "output_type": "stream",
     "text": [
      "[(1, 2), (2, 1), (3, 3)]\n"
     ]
    }
   ],
   "source": [
    "#Use a lambda function to sort the list of tuples [(1, 2), (3, 3), (2, 1)]by the second value in each tuple.\n",
    "tuples_list = [(1, 2), (3, 3), (2, 1)]\n",
    "sorted_list = sorted(tuples_list, key=lambda x: x[0])\n",
    "print(sorted_list)"
   ]
  },
  {
   "cell_type": "code",
   "execution_count": 4,
   "id": "805f4380-6167-4335-afe5-060fe47ac666",
   "metadata": {},
   "outputs": [
    {
     "data": {
      "text/plain": [
       "True"
      ]
     },
     "execution_count": 4,
     "metadata": {},
     "output_type": "execute_result"
    }
   ],
   "source": [
    "#Question 4: Create a lambda function that returns True if a string starts with 'A' and False otherwise. Test it with the string \"Apple\".\n",
    "str=lambda x:x[0]==\"A\"\n",
    "str(\"Apple\")"
   ]
  },
  {
   "cell_type": "code",
   "execution_count": 5,
   "id": "5cbe0e62-fd20-43bf-848a-d77d637a343b",
   "metadata": {},
   "outputs": [
    {
     "data": {
      "text/plain": [
       "True"
      ]
     },
     "execution_count": 5,
     "metadata": {},
     "output_type": "execute_result"
    }
   ],
   "source": [
    "#Question 5: Write a lambda function to check if a number is even. Test it with the number 4.\n",
    "e = [3,4,5,6,7,8,9,10]\n",
    "check_even = lambda x : x%2 == 0\n",
    "check_even(4)"
   ]
  },
  {
   "cell_type": "code",
   "execution_count": 6,
   "id": "5bca80dc-13ad-4f6e-a20d-c0c537788c0e",
   "metadata": {},
   "outputs": [
    {
     "name": "stdout",
     "output_type": "stream",
     "text": [
      "[1, 2, 3]\n"
     ]
    }
   ],
   "source": [
    "#Question 6: Use map and a lambda function to convert the list ['1', '2', '3'] to integers.\n",
    "string_list = ['1', '2', '3']\n",
    "int_list = list(map(lambda x: int(x), string_list))\n",
    "print(int_list)"
   ]
  },
  {
   "cell_type": "code",
   "execution_count": 7,
   "id": "535a7531-729e-4138-a5ac-071982cb7df6",
   "metadata": {},
   "outputs": [
    {
     "name": "stdout",
     "output_type": "stream",
     "text": [
      "[5, 6, 7, 8]\n"
     ]
    }
   ],
   "source": [
    "#Question 7: Apply a lambda function using map to add 5 to each element in the list [0, 1, 2, 3].\n",
    "o_list = [0, 1, 2, 3]\n",
    "m_list = list(map(lambda x: x + 5, o_list))\n",
    "print(m_list)"
   ]
  },
  {
   "cell_type": "code",
   "execution_count": 8,
   "id": "ea439122-70f5-4dd3-91cf-6d792dc58a6b",
   "metadata": {},
   "outputs": [
    {
     "data": {
      "text/plain": [
       "[5, 6, 6]"
      ]
     },
     "execution_count": 8,
     "metadata": {},
     "output_type": "execute_result"
    }
   ],
   "source": [
    "#Question 8: Use map and a lambda function to find the length of each word in the list ['apple', 'banana', 'cherry'].\n",
    "a = ['apple', 'banana', 'cherry']\n",
    "list(map(lambda x:len(x), a))\n"
   ]
  },
  {
   "cell_type": "code",
   "execution_count": 9,
   "id": "66f1730a-2444-41c0-8ed6-1820aaca007c",
   "metadata": {},
   "outputs": [
    {
     "name": "stdout",
     "output_type": "stream",
     "text": [
      "[5, 7, 9]\n"
     ]
    }
   ],
   "source": [
    "#Question 9: Given two lists [1, 2, 3] and [4, 5, 6], use map and a lambda function to add corresponding elements of both lists.\n",
    "l1 = [1,2,3]\n",
    "l2 = [4,5,6]\n",
    "result = list(map(lambda x,y: x + y, l1,l2))\n",
    "print(result)"
   ]
  },
  {
   "cell_type": "code",
   "execution_count": 10,
   "id": "50d79160-24e7-4bc4-acf8-77df3a5a667a",
   "metadata": {},
   "outputs": [
    {
     "data": {
      "text/plain": [
       "[32.0, 68.0, 212.0]"
      ]
     },
     "execution_count": 10,
     "metadata": {},
     "output_type": "execute_result"
    }
   ],
   "source": [
    "# Question 10: Apply a lambda function using map to convert a list of temperatures in Celsius [0, 20, 100] to Fahrenheit.\n",
    "a = [0,20,100]\n",
    "list(map(lambda x:(9/5)*x+32, a))"
   ]
  },
  {
   "cell_type": "code",
   "execution_count": 11,
   "id": "e057bcbf-5890-4ee7-84d6-8fff8297c45d",
   "metadata": {},
   "outputs": [
    {
     "data": {
      "text/plain": [
       "[4, 6, 8, 10]"
      ]
     },
     "execution_count": 11,
     "metadata": {},
     "output_type": "execute_result"
    }
   ],
   "source": [
    "# Question 11: Use filter and a lambda function to get all even numbers from the list [1, 2, 3, 4, 5, 6].\n",
    "e = [3,4,5,6,7,8,9,10]\n",
    "check_even = lambda x : x%2 == 0\n",
    "check_even(4)\n",
    "list(filter(check_even, e))"
   ]
  },
  {
   "cell_type": "code",
   "execution_count": 12,
   "id": "1d4662ab-de3d-4919-8a39-f157c519adef",
   "metadata": {},
   "outputs": [
    {
     "name": "stdout",
     "output_type": "stream",
     "text": [
      "['apple', 'banana', 'cherry']\n"
     ]
    }
   ],
   "source": [
    "#Question 12: Use filter and a lambda function to get all strings with length greater than 3 from the list ['apple', 'it', 'banana', 'a', 'cherry']\n",
    "str1 = ['apple', 'it', 'banana', 'a', 'cherry']\n",
    "str2 = list(filter(lambda x:len(x)>3, str1))\n",
    "print(str2)"
   ]
  },
  {
   "cell_type": "code",
   "execution_count": 13,
   "id": "1861dd38-5c8f-4abb-8c24-f9f6cfaa5779",
   "metadata": {},
   "outputs": [
    {
     "data": {
      "text/plain": [
       "[15, 20, 25]"
      ]
     },
     "execution_count": 13,
     "metadata": {},
     "output_type": "execute_result"
    }
   ],
   "source": [
    "# Question 13: Use filter and a lambda function to find all numbers greater than 10 in the list [5, 10, 15, 20, 25].\n",
    "a = [5,10,15,20,25]\n",
    "check_greater = lambda x : x > 10\n",
    "list(filter(check_greater , a))"
   ]
  },
  {
   "cell_type": "code",
   "execution_count": 14,
   "id": "6741d69f-e265-486b-a17c-cf5ffb1d6fb4",
   "metadata": {},
   "outputs": [
    {
     "data": {
      "text/plain": [
       "['e', 'o', 'o']"
      ]
     },
     "execution_count": 14,
     "metadata": {},
     "output_type": "execute_result"
    }
   ],
   "source": [
    "# Question 14: Use filter and a lambda function to get all the vowels from the string 'hello world'.\n",
    "a = 'hello world'\n",
    "check_vowel = lambda x : x == 'a' or x == 'e' or x == 'i' or x == 'o' or x == 'u'\n",
    "list(filter(check_vowel , a))\n"
   ]
  },
  {
   "cell_type": "code",
   "execution_count": 15,
   "id": "aa6770c3-8d3e-48d5-aa10-76134ac955c7",
   "metadata": {},
   "outputs": [
    {
     "data": {
      "text/plain": [
       "[-2, -1]"
      ]
     },
     "execution_count": 15,
     "metadata": {},
     "output_type": "execute_result"
    }
   ],
   "source": [
    "# Question 15: Use filter and a lambda function to find all negative numbers in the list [-2, -1, 0, 1, 2].\n",
    "a = [-2, -1, 0, 1, 2]\n",
    "check_neg = lambda x : x < 0\n",
    "list(filter(check_neg , a))"
   ]
  },
  {
   "cell_type": "code",
   "execution_count": 16,
   "id": "7600437d-bf5d-4693-a116-8d77937041eb",
   "metadata": {},
   "outputs": [],
   "source": [
    "from functools import reduce"
   ]
  },
  {
   "cell_type": "code",
   "execution_count": 17,
   "id": "f65b156c-edb9-4b71-bc2e-923e468ce2b3",
   "metadata": {},
   "outputs": [
    {
     "data": {
      "text/plain": [
       "15"
      ]
     },
     "execution_count": 17,
     "metadata": {},
     "output_type": "execute_result"
    }
   ],
   "source": [
    "# Question 16: Use reduce and a lambda function to find the sum of the list [1, 2, 3, 4, 5].\n",
    "a = [1,2,3,4,5]\n",
    "reduce(lambda x,y:x+y, a)"
   ]
  },
  {
   "cell_type": "code",
   "execution_count": 18,
   "id": "7e90c29c-48f5-4bfa-a8b1-9ca5962c91c5",
   "metadata": {},
   "outputs": [
    {
     "data": {
      "text/plain": [
       "120"
      ]
     },
     "execution_count": 18,
     "metadata": {},
     "output_type": "execute_result"
    }
   ],
   "source": [
    "#Question 17: Use reduce and a lambda function to find the product of the list [1, 2, 3, 4, 5].\n",
    "numbers = [1, 2, 3, 4, 5]\n",
    "product = reduce(lambda x, y: x * y, numbers)\n",
    "product"
   ]
  },
  {
   "cell_type": "code",
   "execution_count": 19,
   "id": "a0d3526d-4950-49a2-b984-d47242b05f59",
   "metadata": {},
   "outputs": [
    {
     "data": {
      "text/plain": [
       "9"
      ]
     },
     "execution_count": 19,
     "metadata": {},
     "output_type": "execute_result"
    }
   ],
   "source": [
    "# Question: Use reduce and a lambda function to find the maximum value in the list [3, 1, 4, 1, 5, 9, 2, 6, 5].\n",
    "numbers = [3, 1, 4, 1, 5, 9, 2, 6, 5]\n",
    "max_value = reduce(lambda x, y: x if x > y else y, numbers)  \n",
    "max_value"
   ]
  },
  {
   "cell_type": "code",
   "execution_count": 20,
   "id": "5ac61c18-fbe9-4b42-9935-1ad5d9aacbbb",
   "metadata": {},
   "outputs": [
    {
     "data": {
      "text/plain": [
       "'Hello World!'"
      ]
     },
     "execution_count": 20,
     "metadata": {},
     "output_type": "execute_result"
    }
   ],
   "source": [
    "# Question: Use reduce and a lambda function to concatenate a list of strings ['Hello', ' ', 'World', '!'].\n",
    "strings = ['Hello', ' ', 'World', '!']\n",
    "concatenated = reduce(lambda x, y: x + y, strings)  \n",
    "concatenated"
   ]
  },
  {
   "cell_type": "code",
   "execution_count": 21,
   "id": "ba259d66-8704-480d-830f-eafa9407c042",
   "metadata": {},
   "outputs": [
    {
     "data": {
      "text/plain": [
       "1"
      ]
     },
     "execution_count": 21,
     "metadata": {},
     "output_type": "execute_result"
    }
   ],
   "source": [
    "#Question: Use reduce and a lambda function to find the smallest number in the list [3, 5, 2, 8, 1]\n",
    "num = [3, 5, 2, 8, 1]\n",
    "min_value = reduce(lambda x, y: x if x < y else y, num)\n",
    "min_value"
   ]
  },
  {
   "cell_type": "code",
   "execution_count": null,
   "id": "4099655e-9ed2-49eb-ab49-ae634c917470",
   "metadata": {},
   "outputs": [],
   "source": []
  },
  {
   "cell_type": "code",
   "execution_count": null,
   "id": "18508572-8743-477b-ba45-75eb2c8aa87c",
   "metadata": {},
   "outputs": [],
   "source": []
  }
 ],
 "metadata": {
  "kernelspec": {
   "display_name": "Python 3 (ipykernel)",
   "language": "python",
   "name": "python3"
  },
  "language_info": {
   "codemirror_mode": {
    "name": "ipython",
    "version": 3
   },
   "file_extension": ".py",
   "mimetype": "text/x-python",
   "name": "python",
   "nbconvert_exporter": "python",
   "pygments_lexer": "ipython3",
   "version": "3.12.4"
  }
 },
 "nbformat": 4,
 "nbformat_minor": 5
}
