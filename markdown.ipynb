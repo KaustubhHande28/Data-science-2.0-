{
 "cells": [
  {
   "cell_type": "code",
   "execution_count": 4,
   "id": "8887d3ff-460e-4648-bf5d-20dde6d6a97e",
   "metadata": {},
   "outputs": [],
   "source": [
    "x=2"
   ]
  },
  {
   "cell_type": "code",
   "execution_count": 5,
   "id": "1aa8cc5d-536f-4931-a5c6-9cb305eb9f46",
   "metadata": {},
   "outputs": [
    {
     "data": {
      "text/plain": [
       "2"
      ]
     },
     "execution_count": 5,
     "metadata": {},
     "output_type": "execute_result"
    }
   ],
   "source": [
    "x"
   ]
  },
  {
   "cell_type": "markdown",
   "id": "1b8a51a4-3eb3-4f9a-9ae1-19fd21bc8d82",
   "metadata": {},
   "source": [
    "# First lecture on python\n",
    "## First lecture on python\n",
    "### First lecture on python\n",
    "#### First lecture on python\n",
    "##### First lecture on python"
   ]
  },
  {
   "cell_type": "code",
   "execution_count": 6,
   "id": "f087f98d-2369-4781-ad7d-828e08c22e62",
   "metadata": {},
   "outputs": [],
   "source": [
    "#first lecture on python"
   ]
  },
  {
   "cell_type": "markdown",
   "id": "e99e6dfd-8e44-4c44-95e1-320ff8f79e35",
   "metadata": {},
   "source": [
    "I am ***kaustubh hande***"
   ]
  },
  {
   "cell_type": "markdown",
   "id": "23c7c04b-93f7-42a7-8225-02d0b3f3913a",
   "metadata": {},
   "source": [
    "### Monospace font\n",
    "i am `kaustubh hande` "
   ]
  },
  {
   "cell_type": "markdown",
   "id": "daf1a372-ed70-430b-bb45-d417c55cf7f0",
   "metadata": {},
   "source": [
    "hello friends Im learning <br> excel,<br>Python,<br>java."
   ]
  },
  {
   "cell_type": "markdown",
   "id": "10cfff58-aba4-498e-bd4a-595c69257700",
   "metadata": {},
   "source": [
    "hello friends Im learning\n",
    ">> excel\n",
    "\n",
    ">> Python\n",
    "\n",
    ">> java\n"
   ]
  },
  {
   "cell_type": "markdown",
   "id": "85a7aef1-155c-4ded-b5a3-68f9aec47035",
   "metadata": {},
   "source": [
    "hello friends Im learning \n",
    "- excel\n",
    "\n",
    "- Python \n",
    "\n",
    "- java"
   ]
  },
  {
   "cell_type": "markdown",
   "id": "b1a7ce0d-1d11-483e-99b5-383410427731",
   "metadata": {},
   "source": [
    "animal \n",
    "- dog\n",
    "\n",
    "    - cat\n",
    "\n",
    "        - monkey\n"
   ]
  },
  {
   "cell_type": "markdown",
   "id": "13c0e7d2-0803-4792-b137-66a1af265289",
   "metadata": {},
   "source": [
    "<font color='red'> Hii I am kaustubh"
   ]
  },
  {
   "cell_type": "markdown",
   "id": "80c5be13-0cef-4917-b710-46aae7372370",
   "metadata": {},
   "source": [
    "<h1 style='color:red'>Kaustubh hande"
   ]
  },
  {
   "cell_type": "markdown",
   "id": "e4ab13e2-3ed3-496f-9edf-4b0f19439217",
   "metadata": {},
   "source": [
    "Find out y\n",
    "\n",
    "$2x+y=10$"
   ]
  },
  {
   "cell_type": "markdown",
   "id": "376da844-dae3-4ac5-91b0-ea46d07f1dfb",
   "metadata": {},
   "source": [
    "#Creating table(Right side)\n",
    "|Name|marks|\n",
    "|:---|:---|\n",
    "|kaustubh|95|\n",
    "|sahil|90|"
   ]
  },
  {
   "cell_type": "markdown",
   "id": "948cd35f-3d10-4e76-9393-710dedf6349b",
   "metadata": {},
   "source": [
    "#Creating table(left side)\n",
    "|Name|marks|\n",
    "|---:|---:|\n",
    "|kaustubh|95|\n",
    "|sahil|90|"
   ]
  },
  {
   "cell_type": "markdown",
   "id": "8ab20e9e-6881-4f01-bb82-b491012d0d74",
   "metadata": {},
   "source": [
    "#Creating table(middle)\n",
    "|Name|marks|\n",
    "|:---:|:---:|\n",
    "|kaustubh|95|\n",
    "|sahil|90|"
   ]
  },
  {
   "cell_type": "code",
   "execution_count": null,
   "id": "fd0cc386-0a6e-4a17-8080-647f0dd70c3b",
   "metadata": {},
   "outputs": [],
   "source": []
  }
 ],
 "metadata": {
  "kernelspec": {
   "display_name": "Python 3 (ipykernel)",
   "language": "python",
   "name": "python3"
  },
  "language_info": {
   "codemirror_mode": {
    "name": "ipython",
    "version": 3
   },
   "file_extension": ".py",
   "mimetype": "text/x-python",
   "name": "python",
   "nbconvert_exporter": "python",
   "pygments_lexer": "ipython3",
   "version": "3.12.4"
  }
 },
 "nbformat": 4,
 "nbformat_minor": 5
}
