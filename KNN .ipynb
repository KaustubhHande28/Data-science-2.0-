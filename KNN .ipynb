{
 "cells": [
  {
   "cell_type": "markdown",
   "id": "13a91742-9316-4bc1-be62-0c3c96725670",
   "metadata": {},
   "source": [
    "### KNL : K NEAREST LABEL "
   ]
  },
  {
   "cell_type": "markdown",
   "id": "1124cd5c-fa08-4029-a7ad-ca1eda9121cb",
   "metadata": {},
   "source": [
    "- K is to find the value from the nearest neighboor \n",
    "- K mean is a unsupervised \n",
    "- k is having both prediction and classification"
   ]
  },
  {
   "cell_type": "markdown",
   "id": "111e7584-b9df-4b11-8f4a-2fc66d09c8be",
   "metadata": {},
   "source": [
    "### KNN : K NEAREST NEIGHBOOR "
   ]
  },
  {
   "cell_type": "markdown",
   "id": "55c61707-842f-48a3-b68a-5afb5c307923",
   "metadata": {},
   "source": [
    "- It is the algorithm used for both prediction and classification\n",
    "- It is also used for pattern regocgnization in data mining , intrustion detection [detect bugs from link ]\n",
    "- It is used for Clustering "
   ]
  },
  {
   "cell_type": "markdown",
   "id": "6dd875c5-6841-44c5-a86c-4e44cc937713",
   "metadata": {},
   "source": [
    "### ADVANTAGEST OF KNN "
   ]
  },
  {
   "cell_type": "markdown",
   "id": "229984be-ab3b-4803-958e-3aacf548ecb4",
   "metadata": {},
   "source": [
    "- Easy to implement \n",
    "- Easy to adaptable \n",
    "- having high complexity\n",
    "- having few hyper parameters [tell k , distance of function ]"
   ]
  },
  {
   "cell_type": "markdown",
   "id": "c47afc3c-9811-40f8-b231-0f7452037c79",
   "metadata": {},
   "source": [
    "### DISADAVANTAGES OF KNN "
   ]
  },
  {
   "cell_type": "markdown",
   "id": "a55691f4-8d19-4b69-a06d-f86b3b873eb8",
   "metadata": {},
   "source": [
    "- lot of computing power and data storage is needed hence its is not scaleable\n",
    "- curse of dimensionality\n",
    "- prone to overfitting  "
   ]
  },
  {
   "cell_type": "markdown",
   "id": "3d4b6cb2-44f1-42fa-860b-a82936c82cc7",
   "metadata": {},
   "source": [
    "### process of KNN alogorith :"
   ]
  },
  {
   "cell_type": "markdown",
   "id": "f03b2fbd-0a9a-482a-b70e-44cc1d727641",
   "metadata": {},
   "source": [
    "- step 1 : select optimal value of k\n",
    "- step 2 : calculate the distance , default is ED [Euclidean distance]\n",
    "- step 3 : find nearest neighboors\n",
    "- step 4 : use voting for classification or take average for prediction "
   ]
  },
  {
   "cell_type": "markdown",
   "id": "ee8a2d32-c4df-4883-b011-81f5bc9ff0a6",
   "metadata": {},
   "source": [
    "# Full Cross Validation Grid Search for K Value\n",
    "## Creating a Pipeline to find K value\n",
    "\n",
    "Follow along very carefully here! We use very specific string codes AND variable names here so that everything matches up correctly. This is not a case where you can easily swap out variable names for whatever you want!\n",
    "\n",
    "We'll use a Pipeline object to set up a workflow of operations:\n",
    "\n",
    "- Scale Data\n",
    "- Create Model on Scaled Data\n",
    "\n"
   ]
  },
  {
   "cell_type": "markdown",
   "id": "6108f6ba-5b82-4be5-8164-5fa963be358a",
   "metadata": {},
   "source": [
    "How does the Scaler work inside a Pipeline with CV? Is scikit-learn \"smart\" enough to understand .fit() on train vs .transform() on train and test?*\n",
    "\n",
    "** Yes! Scikit-Learn's pipeline is well suited for this! Full Info in Documentation: https://scikit-learn.org/stable/modules/preprocessing.html#standardization-or-mean-removal-and-variance-scaling  **\n",
    "\n",
    "When you use the StandardScaler as a step inside a Pipeline then scikit-learn will internally do the job for you."
   ]
  },
  {
   "cell_type": "markdown",
   "id": "3b5edc7d-2b03-4971-9134-91be7bd4df24",
   "metadata": {},
   "source": [
    "### What happens can be discribed as follows:\n",
    "\n",
    "- Step 0: The data are split into TRAINING data and TEST data according to the cv parameter that you specified in the GridSearchCV.\n",
    "- Step 1: the scaler is fitted on the TRAINING data\n",
    "- Step 2: the scaler transforms TRAINING data\n",
    "- Step 3: the models are fitted/trained using the transformed TRAINING data\n",
    "- Step 4: the scaler is used to transform the TEST data\n",
    "- Step 5: the trained models predict using the transformed TEST data"
   ]
  },
  {
   "cell_type": "code",
   "execution_count": null,
   "id": "54de9b51-e108-426e-a50f-57122f93758e",
   "metadata": {},
   "outputs": [],
   "source": []
  }
 ],
 "metadata": {
  "kernelspec": {
   "display_name": "Python 3 (ipykernel)",
   "language": "python",
   "name": "python3"
  },
  "language_info": {
   "codemirror_mode": {
    "name": "ipython",
    "version": 3
   },
   "file_extension": ".py",
   "mimetype": "text/x-python",
   "name": "python",
   "nbconvert_exporter": "python",
   "pygments_lexer": "ipython3",
   "version": "3.12.4"
  }
 },
 "nbformat": 4,
 "nbformat_minor": 5
}
