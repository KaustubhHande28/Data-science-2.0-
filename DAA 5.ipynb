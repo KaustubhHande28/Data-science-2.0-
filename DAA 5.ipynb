{
 "cells": [
  {
   "cell_type": "code",
   "execution_count": 1,
   "id": "166f1839",
   "metadata": {},
   "outputs": [
    {
     "name": "stdout",
     "output_type": "stream",
     "text": [
      "Original array: 6 4 12 8 15 16 \n",
      "Sorted array: 4 6 8 12 15 16 \n"
     ]
    }
   ],
   "source": [
    "import random\n",
    "\n",
    "def partition_left(arr, low, high):\n",
    "    pivot = arr[high]  \n",
    "    i = low            \n",
    "    for j in range(low, high):\n",
    "        if arr[j] <= pivot:  \n",
    "            arr[i], arr[j] = arr[j], arr[i]  \n",
    "            i += 1\n",
    "    arr[i], arr[high] = arr[high], arr[i]  \n",
    "    return i  \n",
    "def partition_right(arr, low, high):\n",
    "    r = random.randint(low, high)  \n",
    "    arr[r], arr[high] = arr[high], arr[r] \n",
    "    return partition_left(arr, low, high)\n",
    "\n",
    "def quicksort(arr, low, high):\n",
    "    if low < high:\n",
    "        p = partition_right(arr, low, high) \n",
    "        quicksort(arr, low, p - 1)           \n",
    "        quicksort(arr, p + 1, high)         \n",
    "\n",
    "def printArray(arr):\n",
    "    for element in arr:\n",
    "        print(element, end=\" \")\n",
    "    print()\n",
    "\n",
    "\n",
    "arr = [6, 4, 12, 8, 15, 16]\n",
    "n = len(arr)\n",
    "print(\"Original array:\", end=\" \")\n",
    "printArray(arr)\n",
    "quicksort(arr, 0, n - 1)\n",
    "print(\"Sorted array:\", end=\" \")\n",
    "printArray(arr)\n"
   ]
  },
  {
   "cell_type": "code",
   "execution_count": null,
   "id": "4057c7ef",
   "metadata": {},
   "outputs": [],
   "source": []
  }
 ],
 "metadata": {
  "kernelspec": {
   "display_name": "Python 3 (ipykernel)",
   "language": "python",
   "name": "python3"
  },
  "language_info": {
   "codemirror_mode": {
    "name": "ipython",
    "version": 3
   },
   "file_extension": ".py",
   "mimetype": "text/x-python",
   "name": "python",
   "nbconvert_exporter": "python",
   "pygments_lexer": "ipython3",
   "version": "3.12.6"
  }
 },
 "nbformat": 4,
 "nbformat_minor": 5
}
