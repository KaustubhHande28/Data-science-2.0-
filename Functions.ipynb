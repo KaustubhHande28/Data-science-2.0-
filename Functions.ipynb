{
 "cells": [
  {
   "cell_type": "code",
   "execution_count": 8,
   "id": "1e165937-db90-469a-8fbe-bcb2c922a31f",
   "metadata": {},
   "outputs": [
    {
     "data": {
      "text/plain": [
       "-3"
      ]
     },
     "execution_count": 8,
     "metadata": {},
     "output_type": "execute_result"
    }
   ],
   "source": [
    "def count_opration(num1,num2):\n",
    "    count=0\n",
    "    while True:\n",
    "        if num1==0 or num2==0:\n",
    "            return count\n",
    "        elif num1>=num2:\n",
    "            return num1-num2\n",
    "        elif num2<=num1:\n",
    "            return num2-num1\n",
    "        else:num1==num2\n",
    "        return num1-num2\n",
    "        count +=1\n",
    "    return count\n",
    "\n",
    "count_opration(1,4)\n",
    "    \n",
    "    "
   ]
  },
  {
   "cell_type": "code",
   "execution_count": 9,
   "id": "483dec08-bde8-4d34-b98d-a1ddf67dadbb",
   "metadata": {},
   "outputs": [
    {
     "data": {
      "text/plain": [
       "-1"
      ]
     },
     "execution_count": 9,
     "metadata": {},
     "output_type": "execute_result"
    }
   ],
   "source": [
    "num1=(2)\n",
    "num2=(3)    \n",
    "count_opration(num1,num2)"
   ]
  },
  {
   "cell_type": "code",
   "execution_count": 10,
   "id": "b1d1e65b-44bd-4de3-8ab5-599bd90a4251",
   "metadata": {},
   "outputs": [],
   "source": [
    "def min_operations(nums):\n",
    "    min_num = min(nums)\n",
    "    operations = 0\n",
    "    for num in nums:\n",
    "        operations += num + min_num\n",
    "    return operations\n"
   ]
  },
  {
   "cell_type": "code",
   "execution_count": 11,
   "id": "bf3dffbe-1e3a-4666-88f6-cbd2276c7f15",
   "metadata": {},
   "outputs": [
    {
     "data": {
      "text/plain": [
       "7"
      ]
     },
     "execution_count": 11,
     "metadata": {},
     "output_type": "execute_result"
    }
   ],
   "source": [
    "nums=[1,2,1]\n",
    "min_operations(nums)"
   ]
  },
  {
   "cell_type": "code",
   "execution_count": 12,
   "id": "e0ae2ec4-2d0b-41ce-b18d-b6cc7540cdb8",
   "metadata": {},
   "outputs": [
    {
     "ename": "NameError",
     "evalue": "name 'List' is not defined",
     "output_type": "error",
     "traceback": [
      "\u001b[1;31m---------------------------------------------------------------------------\u001b[0m",
      "\u001b[1;31mNameError\u001b[0m                                 Traceback (most recent call last)",
      "Cell \u001b[1;32mIn[12], line 1\u001b[0m\n\u001b[1;32m----> 1\u001b[0m \u001b[38;5;28;01mdef\u001b[39;00m \u001b[38;5;21mminOperations\u001b[39m(\u001b[38;5;28mself\u001b[39m, nums: List[\u001b[38;5;28mint\u001b[39m]) \u001b[38;5;241m-\u001b[39m\u001b[38;5;241m>\u001b[39m \u001b[38;5;28mint\u001b[39m:\n\u001b[0;32m      2\u001b[0m     c\u001b[38;5;241m=\u001b[39m\u001b[38;5;241m0\u001b[39m\n\u001b[0;32m      3\u001b[0m     \u001b[38;5;28;01mfor\u001b[39;00m i \u001b[38;5;129;01min\u001b[39;00m \u001b[38;5;28mrange\u001b[39m(\u001b[38;5;241m1\u001b[39m,\u001b[38;5;28mlen\u001b[39m(nums)):\n",
      "\u001b[1;31mNameError\u001b[0m: name 'List' is not defined"
     ]
    }
   ],
   "source": [
    "\n",
    "def minOperations(self, nums: List[int]) -> int:\n",
    "    c=0\n",
    "    for i in range(1,len(nums)):\n",
    "        if nums[i]<=nums[i-1]:\n",
    "            diff=nums[i-1]-nums[i]+1\n",
    "            nums[i]=nums[i-1]+1\n",
    "            c+=diff\n",
    "        return c"
   ]
  },
  {
   "cell_type": "code",
   "execution_count": 13,
   "id": "2de87da0-e8ff-47e0-b5e4-b4af8860a650",
   "metadata": {},
   "outputs": [
    {
     "ename": "NameError",
     "evalue": "name 'List' is not defined",
     "output_type": "error",
     "traceback": [
      "\u001b[1;31m---------------------------------------------------------------------------\u001b[0m",
      "\u001b[1;31mNameError\u001b[0m                                 Traceback (most recent call last)",
      "Cell \u001b[1;32mIn[13], line 1\u001b[0m\n\u001b[1;32m----> 1\u001b[0m \u001b[38;5;28;01mdef\u001b[39;00m \u001b[38;5;21mminOperations\u001b[39m(\u001b[38;5;28mself\u001b[39m, nums: List[\u001b[38;5;28mint\u001b[39m]) \u001b[38;5;241m-\u001b[39m\u001b[38;5;241m>\u001b[39m \u001b[38;5;28mint\u001b[39m:\n\u001b[0;32m      2\u001b[0m     \u001b[38;5;28;01mif\u001b[39;00m \u001b[38;5;28mlen\u001b[39m(nums)\u001b[38;5;241m==\u001b[39m\u001b[38;5;241m1\u001b[39m:\n\u001b[0;32m      3\u001b[0m         \u001b[38;5;28;01mreturn\u001b[39;00m \u001b[38;5;241m0\u001b[39m\n",
      "\u001b[1;31mNameError\u001b[0m: name 'List' is not defined"
     ]
    }
   ],
   "source": [
    "\n",
    "    def minOperations(self, nums: List[int]) -> int:\n",
    "        if len(nums)==1:\n",
    "            return 0\n",
    "        count = prev= 0\n",
    "        for i in nums:\n",
    "            if i <= prev :\n",
    "                prev += 1\n",
    "                count += prev-i\n",
    "            else:\n",
    "                prev = i\n",
    "        return count"
   ]
  },
  {
   "cell_type": "code",
   "execution_count": 34,
   "id": "0037fdfd-4fa9-4704-8385-a9ffd023dd33",
   "metadata": {},
   "outputs": [],
   "source": [
    "def final_opration(opration):\n",
    "    x=0\n",
    "    for i in  opration:\n",
    "        if i=='--x' or i=='x--':\n",
    "            return x-1\n",
    "        elif i=='++x' or i=='x++':\n",
    "            return x+1\n",
    "    return x\n",
    "        "
   ]
  },
  {
   "cell_type": "code",
   "execution_count": 35,
   "id": "c146f48a-e19c-4f6a-86d1-3cb91b2a4a1b",
   "metadata": {},
   "outputs": [
    {
     "name": "stdout",
     "output_type": "stream",
     "text": [
      "1\n"
     ]
    }
   ],
   "source": [
    "oprations=['++x','++x','x++']\n",
    "print(final_opration(oprations))"
   ]
  },
  {
   "cell_type": "code",
   "execution_count": null,
   "id": "6d142fae-5910-4db1-a8c6-751e0fddeb3f",
   "metadata": {},
   "outputs": [],
   "source": []
  }
 ],
 "metadata": {
  "kernelspec": {
   "display_name": "Python 3 (ipykernel)",
   "language": "python",
   "name": "python3"
  },
  "language_info": {
   "codemirror_mode": {
    "name": "ipython",
    "version": 3
   },
   "file_extension": ".py",
   "mimetype": "text/x-python",
   "name": "python",
   "nbconvert_exporter": "python",
   "pygments_lexer": "ipython3",
   "version": "3.12.4"
  }
 },
 "nbformat": 4,
 "nbformat_minor": 5
}
