{
 "cells": [
  {
   "cell_type": "code",
   "execution_count": 1,
   "id": "9f6d3b20-dcb4-4f3a-b26e-4c0f103652a6",
   "metadata": {},
   "outputs": [],
   "source": [
    "#object oriented programming"
   ]
  },
  {
   "cell_type": "code",
   "execution_count": 2,
   "id": "2c2041d6-380d-4a4f-89c1-5eae28f5f508",
   "metadata": {},
   "outputs": [
    {
     "name": "stdout",
     "output_type": "stream",
     "text": [
      "<class 'str'>\n"
     ]
    }
   ],
   "source": [
    "print(type(\"hello\"))"
   ]
  },
  {
   "cell_type": "code",
   "execution_count": 3,
   "id": "ec9c5e35-ffd2-4054-97b4-eb206b4dffdb",
   "metadata": {},
   "outputs": [
    {
     "name": "stdout",
     "output_type": "stream",
     "text": [
      "<class 'str'>\n"
     ]
    }
   ],
   "source": [
    "a='hello'\n",
    "print(type(a))"
   ]
  },
  {
   "cell_type": "code",
   "execution_count": 4,
   "id": "8a177475-7da3-474b-a3d5-65ffd92d01ff",
   "metadata": {},
   "outputs": [
    {
     "data": {
      "text/plain": [
       "__main__.animal"
      ]
     },
     "execution_count": 4,
     "metadata": {},
     "output_type": "execute_result"
    }
   ],
   "source": [
    "class animal():\n",
    "    pass\n",
    "dog=animal()\n",
    "type(dog)"
   ]
  },
  {
   "cell_type": "code",
   "execution_count": 14,
   "id": "4f8fc2c6-abb7-4fcc-8201-56b709c3fd76",
   "metadata": {},
   "outputs": [],
   "source": [
    "class Rectangle():\n",
    "    def __init__(self,length,breadth):\n",
    "        self.length=length\n",
    "        self.breadth=breadth\n",
    "    def area(self):\n",
    "        return self.length*self.breadth\n",
    "    def circumference(self):\n",
    "        return 2*(self.length+self.breadth)"
   ]
  },
  {
   "cell_type": "code",
   "execution_count": 15,
   "id": "94925db4-30fd-4eae-a877-70a85f8dcfe8",
   "metadata": {},
   "outputs": [
    {
     "name": "stdout",
     "output_type": "stream",
     "text": [
      "9\n",
      "4\n",
      "36\n"
     ]
    },
    {
     "data": {
      "text/plain": [
       "26"
      ]
     },
     "execution_count": 15,
     "metadata": {},
     "output_type": "execute_result"
    }
   ],
   "source": [
    "rect_1= Rectangle(9,4)\n",
    "print(rect_1.length)\n",
    "print(rect_1.breadth)\n",
    "print(rect_1.area())\n",
    "rect_1.circumference()"
   ]
  },
  {
   "cell_type": "code",
   "execution_count": 17,
   "id": "dcf9d530-e9b0-49c9-a16d-ca6810046af1",
   "metadata": {},
   "outputs": [
    {
     "name": "stdout",
     "output_type": "stream",
     "text": [
      "78.5\n",
      "31.400000000000002\n"
     ]
    }
   ],
   "source": [
    "#creat a class circle with area and perimeter as method\n",
    "class Circle():\n",
    "    def __init__(self,radius):\n",
    "        self.radius=radius\n",
    "    def area(self):\n",
    "        return 3.14*self.radius**2\n",
    "    def perimeter(self):\n",
    "        return 2*3.14*self.radius\n",
    "\n",
    "\n",
    "circle_1=Circle(5)\n",
    "print(circle_1.area())\n",
    "print(circle_1.perimeter())\n"
   ]
  },
  {
   "cell_type": "code",
   "execution_count": 34,
   "id": "a3af33f3-7ce7-4252-bf18-0f0a70adf779",
   "metadata": {},
   "outputs": [],
   "source": [
    "class Dog():\n",
    "    species = 'mammals'\n",
    "    def __init__(self,name,breed):\n",
    "        self.name=name\n",
    "        self.breed=breed\n",
    "    def description(self):\n",
    "        return f'{self.name} is a {self.breed}'\n",
    "\n",
    "dog1=Dog(\"mikal\",'petbull')\n",
    "dog2=Dog(\"jackson\",'lab')"
   ]
  },
  {
   "cell_type": "code",
   "execution_count": 35,
   "id": "6d71a5b0-0d61-48e3-98a7-04e9eb3f4982",
   "metadata": {},
   "outputs": [
    {
     "data": {
      "text/plain": [
       "'mammals'"
      ]
     },
     "execution_count": 35,
     "metadata": {},
     "output_type": "execute_result"
    }
   ],
   "source": [
    "dog2.species"
   ]
  },
  {
   "cell_type": "code",
   "execution_count": 36,
   "id": "00165757-a3b2-4b58-a030-31f89a1b3606",
   "metadata": {},
   "outputs": [
    {
     "data": {
      "text/plain": [
       "'lab'"
      ]
     },
     "execution_count": 36,
     "metadata": {},
     "output_type": "execute_result"
    }
   ],
   "source": [
    "dog2.breed"
   ]
  },
  {
   "cell_type": "code",
   "execution_count": 37,
   "id": "bb50fb62-6b7a-4167-aee2-17e68e4574ce",
   "metadata": {},
   "outputs": [
    {
     "data": {
      "text/plain": [
       "'jackson'"
      ]
     },
     "execution_count": 37,
     "metadata": {},
     "output_type": "execute_result"
    }
   ],
   "source": [
    "dog2.name"
   ]
  },
  {
   "cell_type": "code",
   "execution_count": 38,
   "id": "c5393a93-207f-4d4e-80c4-219a49b9cbdb",
   "metadata": {},
   "outputs": [
    {
     "data": {
      "text/plain": [
       "'jackson is a lab'"
      ]
     },
     "execution_count": 38,
     "metadata": {},
     "output_type": "execute_result"
    }
   ],
   "source": [
    "dog2.description()"
   ]
  },
  {
   "cell_type": "code",
   "execution_count": null,
   "id": "1f655795-75e2-4a66-9d1f-baaf180fb2f5",
   "metadata": {},
   "outputs": [],
   "source": []
  }
 ],
 "metadata": {
  "kernelspec": {
   "display_name": "Python 3 (ipykernel)",
   "language": "python",
   "name": "python3"
  },
  "language_info": {
   "codemirror_mode": {
    "name": "ipython",
    "version": 3
   },
   "file_extension": ".py",
   "mimetype": "text/x-python",
   "name": "python",
   "nbconvert_exporter": "python",
   "pygments_lexer": "ipython3",
   "version": "3.12.4"
  }
 },
 "nbformat": 4,
 "nbformat_minor": 5
}
