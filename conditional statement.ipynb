{
 "cells": [
  {
   "cell_type": "code",
   "execution_count": 12,
   "id": "dc9d8948-08df-4230-9a28-da9503c06ef2",
   "metadata": {},
   "outputs": [
    {
     "name": "stdout",
     "output_type": "stream",
     "text": [
      "class will happen\n"
     ]
    }
   ],
   "source": [
    "#if statement(check if the class strenght is 30>,print class will happen )\n",
    "\n",
    "class_strenght=40\n",
    "if class_strenght>20:\n",
    "    print(\"class will happen\")"
   ]
  },
  {
   "cell_type": "code",
   "execution_count": 13,
   "id": "7fe91633-efd5-4331-b550-90bdc142e7a3",
   "metadata": {},
   "outputs": [
    {
     "name": "stdout",
     "output_type": "stream",
     "text": [
      "class will not happen\n"
     ]
    }
   ],
   "source": [
    "# Eles statement\n",
    "class_strenght=10\n",
    "if class_strenght>20:\n",
    "    print(\"class will happen\")\n",
    "else :\n",
    "    print(\"class will not happen\")"
   ]
  },
  {
   "cell_type": "code",
   "execution_count": 26,
   "id": "4688ccf9-196e-4ae8-a767-f467cb2e05eb",
   "metadata": {},
   "outputs": [
    {
     "name": "stdin",
     "output_type": "stream",
     "text": [
      "what is strenght of class? 45\n"
     ]
    },
    {
     "name": "stdout",
     "output_type": "stream",
     "text": [
      "class will happen\n"
     ]
    }
   ],
   "source": [
    "class_strenght= int (input(\"what is strenght of class?\"))\n",
    "if class_strenght>20:\n",
    "        print(\"class will happen\")\n",
    "else :\n",
    "        print(\"class will not happen\")"
   ]
  },
  {
   "cell_type": "code",
   "execution_count": 23,
   "id": "ba69bf97-7db4-4398-9db9-cb7d3ad641f1",
   "metadata": {},
   "outputs": [
    {
     "name": "stdin",
     "output_type": "stream",
     "text": [
      "what is strenght of class? -6\n"
     ]
    },
    {
     "name": "stdout",
     "output_type": "stream",
     "text": [
      "class strenght should not be 0\n"
     ]
    }
   ],
   "source": [
    "\n",
    "class_strenght= int (input(\"what is strenght of class?\"))\n",
    "if class_strenght<0:\n",
    "    print(\"class strenght should not be 0\")\n",
    "else:\n",
    "     if class_strenght>20:\n",
    "        print(\"class will happen\")\n",
    "     else :\n",
    "        print(\"class will not happen\")"
   ]
  },
  {
   "cell_type": "code",
   "execution_count": 49,
   "id": "245fa993-08d5-44e6-b139-db500af3ba58",
   "metadata": {},
   "outputs": [
    {
     "name": "stdin",
     "output_type": "stream",
     "text": [
      "Age of the female? 25\n",
      "enter your gender M for male and F for female? f\n"
     ]
    },
    {
     "name": "stdout",
     "output_type": "stream",
     "text": [
      "They are eligible to Get pass\n"
     ]
    }
   ],
   "source": [
    "#goverment is giving free pass to female who are eligible to vote\n",
    "#write a code that take input from user and check if they are eligible or not\n",
    "\n",
    "vote_age = int(input(\"Age of the female?\"))\n",
    "vote_gender = input(\"enter your gender M for male and F for female?\").casefold()      \n",
    "if vote_age<0:\n",
    "    print=(\"user not found\")\n",
    "else:\n",
    "    if vote_age >= 18 and vote_gender == \"f\":\n",
    "        print(\"They are eligible to Get pass\")\n",
    "    else: \n",
    "        print(\"They are not eligible tt get pass\")\n"
   ]
  },
  {
   "cell_type": "code",
   "execution_count": 5,
   "id": "4f3fd85d-c813-413d-b964-5acfc8a8dee8",
   "metadata": {},
   "outputs": [
    {
     "name": "stdin",
     "output_type": "stream",
     "text": [
      " enter number 1 10\n",
      " enter number 2 5\n"
     ]
    },
    {
     "name": "stdout",
     "output_type": "stream",
     "text": [
      "2.0\n"
     ]
    }
   ],
   "source": [
    "#get two integer from the user and if possible ,divide them and print result\n",
    "'''\n",
    "get user input from number 1\n",
    "get user input from number 2\n",
    "check if number 2==0:\n",
    "   print invalid user\n",
    "otherwise:    \n",
    "   print number 1/ number 2 ''' # this is the sudo code which is asked in the interview\n",
    "\n",
    "number1=int(input(\" enter number 1\" ))\n",
    "number2=int(input(\" enter number 2\"))\n",
    "if number2 ==0:\n",
    " print(\"invalid input\")\n",
    "else: \n",
    "    print(number1 / number2)"
   ]
  },
  {
   "cell_type": "markdown",
   "id": "18f20a4c-81bb-48f7-8c9f-20cf8ffacc87",
   "metadata": {},
   "source": [
    "# if-elif-else\n",
    "#write a program that uses the elif statement to categorize empoloyee into the following group:\n",
    "- if attendence is perfect(30 days),lable the employee as outstanding\n",
    "- if attendence is between 25 to 29 days,lable the employee statisfactory\n",
    "- if attendence is between 20 to 24 days,lable the employee as need to improvement\n",
    "- if attendence is below 20 days,lable the employee unstatisfactory"
   ]
  },
  {
   "cell_type": "code",
   "execution_count": 6,
   "id": "c2c13eaf-2787-4ec4-9c91-17160c2c30bb",
   "metadata": {},
   "outputs": [
    {
     "name": "stdin",
     "output_type": "stream",
     "text": [
      "employee attendence 24\n"
     ]
    },
    {
     "name": "stdout",
     "output_type": "stream",
     "text": [
      "improvement\n"
     ]
    }
   ],
   "source": [
    "'''\n",
    "Get attendence input\n",
    "check if_attendence == 30;\n",
    "  print outstanding\n",
    "otherwise if attendence 25>= and <=29\n",
    "  print employ satisfactory\n",
    "otherwise if attendence 20>= and <=24\n",
    " print employee need to improvement\n",
    "else\n",
    " print employee unsatisfactory '''\n",
    "\n",
    "attendence = int(input(\"employee attendence\"))\n",
    "if attendence <=0 or attendence>=31:\n",
    "    print(\"invalid input\")\n",
    "else:   \n",
    "    if attendence ==30:\n",
    "        print(\"outstanding\")\n",
    "    elif 25<= attendence >=29:\n",
    "        print(\"satisfactory\")\n",
    "    elif 20<= attendence >=24:\n",
    "        print(\"improvement\")\n",
    "    else:\n",
    "        print(\"unsatisfactory\")\n",
    "    \n",
    "  \n"
   ]
  },
  {
   "cell_type": "code",
   "execution_count": null,
   "id": "00a7bac3-38f6-42ff-bb23-7fad941f7f21",
   "metadata": {},
   "outputs": [],
   "source": []
  }
 ],
 "metadata": {
  "kernelspec": {
   "display_name": "Python 3 (ipykernel)",
   "language": "python",
   "name": "python3"
  },
  "language_info": {
   "codemirror_mode": {
    "name": "ipython",
    "version": 3
   },
   "file_extension": ".py",
   "mimetype": "text/x-python",
   "name": "python",
   "nbconvert_exporter": "python",
   "pygments_lexer": "ipython3",
   "version": "3.12.4"
  }
 },
 "nbformat": 4,
 "nbformat_minor": 5
}
