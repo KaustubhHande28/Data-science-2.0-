{
 "cells": [
  {
   "cell_type": "code",
   "execution_count": 1,
   "id": "d8c70861",
   "metadata": {},
   "outputs": [
    {
     "name": "stdout",
     "output_type": "stream",
     "text": [
      "Maximum value in the knapsack: 240.0\n"
     ]
    }
   ],
   "source": [
    "class Item:\n",
    "    def __init__(self, value, weight):\n",
    "        self.value = value\n",
    "        self.weight = weight\n",
    "        self.ratio = value / weight  \n",
    "\n",
    "def fractional_knapsack(capacity, items):\n",
    "    \n",
    "    items.sort(key=lambda x: x.ratio, reverse=True)\n",
    "\n",
    "    total_value = 0.0  \n",
    "    for item in items:\n",
    "        if capacity <= 0:  \n",
    "            break\n",
    "\n",
    "        if item.weight <= capacity:\n",
    "            \n",
    "            total_value += item.value\n",
    "            capacity -= item.weight\n",
    "        else:\n",
    "            \n",
    "            total_value += item.ratio * capacity\n",
    "            capacity = 0  \n",
    "\n",
    "    return total_value\n",
    "\n",
    "def main():\n",
    "    \n",
    "    items = [\n",
    "        Item(60, 10),   \n",
    "        Item(100, 20),  \n",
    "        Item(120, 30)   \n",
    "    ]\n",
    "    capacity = 50  \n",
    "    max_value = fractional_knapsack(capacity, items)\n",
    "    print(f\"Maximum value in the knapsack: {max_value}\")\n",
    "\n",
    "if __name__ == \"__main__\":\n",
    "    main()\n"
   ]
  },
  {
   "cell_type": "code",
   "execution_count": null,
   "id": "d1d4e775",
   "metadata": {},
   "outputs": [],
   "source": []
  }
 ],
 "metadata": {
  "kernelspec": {
   "display_name": "Python 3 (ipykernel)",
   "language": "python",
   "name": "python3"
  },
  "language_info": {
   "codemirror_mode": {
    "name": "ipython",
    "version": 3
   },
   "file_extension": ".py",
   "mimetype": "text/x-python",
   "name": "python",
   "nbconvert_exporter": "python",
   "pygments_lexer": "ipython3",
   "version": "3.12.6"
  }
 },
 "nbformat": 4,
 "nbformat_minor": 5
}
