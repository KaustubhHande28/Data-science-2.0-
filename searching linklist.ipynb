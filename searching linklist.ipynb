{
 "cells": [
  {
   "cell_type": "markdown",
   "id": "04b6abb2-990c-4d69-8127-98299d6bd025",
   "metadata": {},
   "source": [
    "### linear search"
   ]
  },
  {
   "cell_type": "code",
   "execution_count": 1,
   "id": "b571f10e-1000-45c8-997b-4dcdd4203844",
   "metadata": {},
   "outputs": [],
   "source": [
    "#pseudo code\n",
    "#step1: Initalializea variable (i) to store the index of the target element\n",
    "#step2: Iterate through each element of the array \n",
    "#from i=0 and i=len(arr)-1\n",
    "#step3: check if the correct is equal  to the target\n",
    "#if arr [i] == target:\n",
    "#step4: if the target is found , store it index and break out of the loop=>\n",
    "  #index=i\n",
    "  #break\n",
    "#step5: retuen the index of the target element\n",
    "#return index (return -1 if match is not found)"
   ]
  },
  {
   "cell_type": "code",
   "execution_count": 5,
   "id": "1dde96fe-e0df-4656-bfff-9d09ccd5d5e2",
   "metadata": {},
   "outputs": [],
   "source": [
    "def linear_search(arr, target):\n",
    "    index=-1 \n",
    "    for i in range(len(arr)):\n",
    "        if arr[i]== target:\n",
    "            index == i\n",
    "            break\n",
    "    return index"
   ]
  },
  {
   "cell_type": "code",
   "execution_count": 6,
   "id": "feb09dc3-8b4f-4292-87a2-6a75964f3ea9",
   "metadata": {},
   "outputs": [
    {
     "data": {
      "text/plain": [
       "-1"
      ]
     },
     "execution_count": 6,
     "metadata": {},
     "output_type": "execute_result"
    }
   ],
   "source": [
    "linear_search([1,2,3,4,5],5)"
   ]
  },
  {
   "cell_type": "code",
   "execution_count": 8,
   "id": "215c65ce-287d-43fe-8f96-1dfcc777b2dd",
   "metadata": {},
   "outputs": [],
   "source": [
    "### consider the case where all element in the array are the same .if the target element is present \n"
   ]
  },
  {
   "cell_type": "code",
   "execution_count": 9,
   "id": "c781ca2b-937c-46bb-91d8-7b8f6ff0f671",
   "metadata": {},
   "outputs": [],
   "source": [
    "def linear_search(arr, target):\n",
    "    if arr== []:\n",
    "        print(\"it is empty array\")\n",
    "    else:\n",
    "        index=-1 \n",
    "        for i in range(len(arr)):\n",
    "            if arr[i]== target:\n",
    "                index = i\n",
    "                break\n",
    "        return index"
   ]
  },
  {
   "cell_type": "code",
   "execution_count": 10,
   "id": "edb12cbe-b420-4328-98ab-3ee8127be616",
   "metadata": {},
   "outputs": [
    {
     "name": "stdout",
     "output_type": "stream",
     "text": [
      "it is empty array\n"
     ]
    }
   ],
   "source": [
    "linear_search([],5)"
   ]
  },
  {
   "cell_type": "code",
   "execution_count": 20,
   "id": "2ffa164f-bec6-45ac-939c-8648aa129e9f",
   "metadata": {},
   "outputs": [
    {
     "data": {
      "text/plain": [
       "2"
      ]
     },
     "execution_count": 20,
     "metadata": {},
     "output_type": "execute_result"
    }
   ],
   "source": [
    "linear_search([2,2,3,2],3)"
   ]
  },
  {
   "cell_type": "markdown",
   "id": "e02e1cad-e9e7-4991-921d-a665babf4030",
   "metadata": {},
   "source": [
    "### Binary search"
   ]
  },
  {
   "cell_type": "code",
   "execution_count": null,
   "id": "eef91487-f2c0-4ade-adb3-f30a64f75671",
   "metadata": {},
   "outputs": [],
   "source": [
    "#pseudo code:\n",
    "\n",
    "#initilaize high and low pointers to represent the bounds of the search range with in the array\n",
    "#initiate a loop that continues aas long as low<=high \n",
    "#calculate the middle va;lue usiing the current low and high pointer range => mid=(l+h)/2\n",
    "#compare value at mid index with the target value ,if they are equal ,then return the index of the matched value\n",
    "#if tghe mid index element is less than the target value,reassign low pointer to mid-1\n",
    "#if the mid index element is more than the target value,reassign high pointer to mid-1"
   ]
  },
  {
   "cell_type": "code",
   "execution_count": 12,
   "id": "eda41184-119c-453d-b748-c071a3d67955",
   "metadata": {},
   "outputs": [],
   "source": [
    "def binary_search(arr,key):\n",
    "    if arr ==[]:\n",
    "        print(\"it is an empty array\")\n",
    "    else:\n",
    "    \n",
    "        low =0\n",
    "        high = len(arr)-1\n",
    "\n",
    "        while low <=high:\n",
    "            mid = (low+high)//2\n",
    "\n",
    "            if arr[mid]==key:\n",
    "                return mid\n",
    "            elif arr[mid]<key:\n",
    "                low=mid+1\n",
    "            else:\n",
    "                high=mid-1\n",
    "        return f\"element not in the array\""
   ]
  },
  {
   "cell_type": "code",
   "execution_count": 13,
   "id": "7e73959c-4cb1-497a-810c-ee309cb969f1",
   "metadata": {},
   "outputs": [
    {
     "data": {
      "text/plain": [
       "2"
      ]
     },
     "execution_count": 13,
     "metadata": {},
     "output_type": "execute_result"
    }
   ],
   "source": [
    "binary_search([2,2,2,2,2],2)"
   ]
  },
  {
   "cell_type": "code",
   "execution_count": 14,
   "id": "cdcb8f3a-3cee-4229-8302-c5d49b6b3abf",
   "metadata": {},
   "outputs": [],
   "source": [
    "#check even number using searching\n",
    "#time complexity is ['o[1]']\n",
    "def check_even(a):\n",
    "    if a%2==0:\n",
    "          print(\"it is even number\")\n",
    "    else:\n",
    "            print(\"it is odd number\")"
   ]
  },
  {
   "cell_type": "code",
   "execution_count": 15,
   "id": "7ca8cf48-3ac1-462c-9f3a-47f67823c63a",
   "metadata": {},
   "outputs": [
    {
     "name": "stdout",
     "output_type": "stream",
     "text": [
      "it is odd number\n"
     ]
    }
   ],
   "source": [
    "check_even(3)"
   ]
  },
  {
   "cell_type": "code",
   "execution_count": 16,
   "id": "e480fcc7-7300-4af0-ae0b-ce47e6d810cb",
   "metadata": {},
   "outputs": [],
   "source": [
    "#check even number using searching\n",
    "#time complexity is ['o[n]']\n",
    "def check_even(list):\n",
    "    for a in list:\n",
    "        if a%2==0:\n",
    "          print(\"it is even number\")\n",
    "        elif a%2!=0:\n",
    "            print(\"it is odd number\")\n",
    "        else:\n",
    "            print(\"invalid num\")"
   ]
  },
  {
   "cell_type": "code",
   "execution_count": 17,
   "id": "b10bca6b-4a7a-4d20-8134-6b0b89c1fba0",
   "metadata": {},
   "outputs": [
    {
     "name": "stdout",
     "output_type": "stream",
     "text": [
      "it is odd number\n",
      "it is even number\n",
      "it is odd number\n",
      "it is even number\n",
      "it is odd number\n",
      "it is even number\n",
      "it is odd number\n",
      "it is even number\n",
      "it is odd number\n"
     ]
    }
   ],
   "source": [
    "check_even([1,2,3,4,5,6,7,8,9])"
   ]
  },
  {
   "cell_type": "code",
   "execution_count": 18,
   "id": "2e6e68d6-ddd3-4c81-9d66-774b182c9438",
   "metadata": {},
   "outputs": [],
   "source": [
    "def check_even(list1,list2):\n",
    "    for a in list1:\n",
    "        for b in list2:\n",
    "            if b%2==0 and a%2 ==0:\n",
    "                  print(\"it is even number\")\n",
    "            else:\n",
    "                print(\"it is an odd number\")"
   ]
  },
  {
   "cell_type": "code",
   "execution_count": 19,
   "id": "1814cd95-da70-40ff-aa69-dba1ef489246",
   "metadata": {},
   "outputs": [
    {
     "name": "stdout",
     "output_type": "stream",
     "text": [
      "it is an odd number\n",
      "it is an odd number\n",
      "it is an odd number\n",
      "it is an odd number\n",
      "it is an odd number\n",
      "it is even number\n",
      "it is an odd number\n",
      "it is even number\n",
      "it is an odd number\n",
      "it is even number\n",
      "it is an odd number\n",
      "it is an odd number\n",
      "it is an odd number\n",
      "it is an odd number\n",
      "it is an odd number\n",
      "it is even number\n",
      "it is an odd number\n",
      "it is even number\n",
      "it is an odd number\n",
      "it is even number\n",
      "it is an odd number\n",
      "it is an odd number\n",
      "it is an odd number\n",
      "it is an odd number\n",
      "it is an odd number\n"
     ]
    }
   ],
   "source": [
    "check_even([1,2,3,4,5],[6,7,8,9,10])"
   ]
  },
  {
   "cell_type": "code",
   "execution_count": null,
   "id": "5a29bfde-26d4-4982-bc2e-f876848c97de",
   "metadata": {},
   "outputs": [],
   "source": []
  },
  {
   "cell_type": "code",
   "execution_count": null,
   "id": "189c7203-79be-451d-9154-cd8945a98c93",
   "metadata": {},
   "outputs": [],
   "source": []
  },
  {
   "cell_type": "code",
   "execution_count": null,
   "id": "00f5fbb1-1c28-442c-8e53-26ded8a9021c",
   "metadata": {},
   "outputs": [],
   "source": []
  }
 ],
 "metadata": {
  "kernelspec": {
   "display_name": "Python 3 (ipykernel)",
   "language": "python",
   "name": "python3"
  },
  "language_info": {
   "codemirror_mode": {
    "name": "ipython",
    "version": 3
   },
   "file_extension": ".py",
   "mimetype": "text/x-python",
   "name": "python",
   "nbconvert_exporter": "python",
   "pygments_lexer": "ipython3",
   "version": "3.12.4"
  }
 },
 "nbformat": 4,
 "nbformat_minor": 5
}
