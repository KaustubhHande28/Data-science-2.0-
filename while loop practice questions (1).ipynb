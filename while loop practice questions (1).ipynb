{
 "cells": [
  {
   "cell_type": "markdown",
   "id": "1a6cb794-86e7-4a8b-8927-26abdf7d736d",
   "metadata": {},
   "source": [
    "1. Write a program to calculate the sum of all natural numbers up to a given number n.\n",
    "2. Write a program where the user has to guess a pre-defined number between 1 and 10.\n",
    "3. Write a program to print the multiplication table of a given number.\n",
    "4. Write a program to calculate the factorial of a given number.\n",
    "5. Write a program that counts down from a given number to 0.\n",
    "6. Write a program to find the sum of digits of a given number."
   ]
  },
  {
   "cell_type": "code",
   "execution_count": 1,
   "id": "6989f6ea-4eed-4396-a921-e2981aeccd4c",
   "metadata": {},
   "outputs": [
    {
     "name": "stdin",
     "output_type": "stream",
     "text": [
      "enter the number: 1\n"
     ]
    },
    {
     "name": "stdout",
     "output_type": "stream",
     "text": [
      "the sum from 1 to 1=1\n"
     ]
    }
   ],
   "source": [
    "#Write a program to calculate the sum of all natural numbers up to a given number n.\n",
    "num = int(input(\"enter the number:\"))\n",
    "total=0\n",
    "value=1\n",
    "while value <= num:\n",
    "    total=total +value\n",
    "    value= value+ 1\n",
    "print(\"the sum from 1 to {0}={1}\".format(num,total))"
   ]
  },
  {
   "cell_type": "code",
   "execution_count": 2,
   "id": "a0679e67-08ca-401a-a47e-0f23c9c9d553",
   "metadata": {},
   "outputs": [
    {
     "name": "stdin",
     "output_type": "stream",
     "text": [
      "enter the number between 1 to 10 2\n"
     ]
    },
    {
     "name": "stdout",
     "output_type": "stream",
     "text": [
      "sorry , incorrect input\n"
     ]
    }
   ],
   "source": [
    "#Write a program where the user has to guess a pre-defined number between 1 and 10\n",
    "target=9\n",
    "user_guess = int(input(\"enter the number between 1 to 10\"))\n",
    "while user_guess>0:\n",
    "    if user_guess !=target:\n",
    "        print (\"sorry , incorrect input\")\n",
    "        break\n",
    "    else:\n",
    "        print(\"correct guess\")\n",
    "    break"
   ]
  },
  {
   "cell_type": "code",
   "execution_count": 3,
   "id": "106acfc8-f364-4362-89e6-dad8a43ec732",
   "metadata": {},
   "outputs": [
    {
     "name": "stdout",
     "output_type": "stream",
     "text": [
      "1x 9=9\n",
      "2x 9=18\n",
      "3x 9=27\n",
      "4x 9=36\n",
      "5x 9=45\n",
      "6x 9=54\n",
      "7x 9=63\n",
      "8x 9=72\n",
      "9x 9=81\n",
      "10x 9=90\n"
     ]
    }
   ],
   "source": [
    "#Write a program to print the multiplication table of a given number.\n",
    "multiple =9\n",
    "count=1 \n",
    "while count <= 10:\n",
    "    result = count * multiple\n",
    "    print(f\"{count}x {multiple}={result}\")\n",
    "    count +=1"
   ]
  },
  {
   "cell_type": "code",
   "execution_count": 4,
   "id": "2df31aee-fa99-4c91-8a70-88ee0e215fb0",
   "metadata": {},
   "outputs": [
    {
     "name": "stdin",
     "output_type": "stream",
     "text": [
      "enter a number: 6\n"
     ]
    },
    {
     "name": "stdout",
     "output_type": "stream",
     "text": [
      "factorial of  6 is 720\n"
     ]
    }
   ],
   "source": [
    "#Write a program to calculate the factorial of a given number.\n",
    "num1= int(input(\"enter a number:\"))\n",
    "k = 1\n",
    "a=1\n",
    "while a<= num1:\n",
    "    \n",
    "    k=k*a\n",
    "    a=a+1\n",
    "print(\"factorial of \", num1, \"is\",k)"
   ]
  },
  {
   "cell_type": "code",
   "execution_count": 5,
   "id": "1a4fd45d-52c9-477d-905c-9fe21a1eefd5",
   "metadata": {},
   "outputs": [
    {
     "name": "stdout",
     "output_type": "stream",
     "text": [
      "15\n",
      "14\n",
      "13\n",
      "12\n",
      "11\n",
      "10\n",
      "9\n",
      "8\n",
      "7\n",
      "6\n",
      "5\n",
      "4\n",
      "3\n",
      "2\n",
      "1\n",
      "loop close\n"
     ]
    }
   ],
   "source": [
    "#Write a program that counts down from a given number to 0\n",
    "a=15\n",
    "while a >=1:\n",
    "    print(a)\n",
    "    a-=1\n",
    "\n",
    "else:\n",
    "     print(\"loop close\")\n",
    "    "
   ]
  },
  {
   "cell_type": "code",
   "execution_count": 6,
   "id": "67df221e-dfec-4580-95d9-2e469dad2ee5",
   "metadata": {},
   "outputs": [
    {
     "data": {
      "text/plain": [
       "21"
      ]
     },
     "execution_count": 6,
     "metadata": {},
     "output_type": "execute_result"
    }
   ],
   "source": [
    "#Write a program to find the sum of digits of a given number\n",
    "def addition(*args):\n",
    "    return sum(args)\n",
    "addition(1,2,3,4,5,6)"
   ]
  },
  {
   "cell_type": "code",
   "execution_count": null,
   "id": "01a552ec-68bb-4390-b20d-ed18faf9ad5f",
   "metadata": {},
   "outputs": [],
   "source": []
  }
 ],
 "metadata": {
  "kernelspec": {
   "display_name": "Python 3 (ipykernel)",
   "language": "python",
   "name": "python3"
  },
  "language_info": {
   "codemirror_mode": {
    "name": "ipython",
    "version": 3
   },
   "file_extension": ".py",
   "mimetype": "text/x-python",
   "name": "python",
   "nbconvert_exporter": "python",
   "pygments_lexer": "ipython3",
   "version": "3.12.4"
  }
 },
 "nbformat": 4,
 "nbformat_minor": 5
}
