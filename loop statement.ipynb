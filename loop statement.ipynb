{
 "cells": [
  {
   "cell_type": "markdown",
   "id": "440eaead-57f1-48cd-aeb1-0aca0850b345",
   "metadata": {},
   "source": [
    "### FOR LOOP"
   ]
  },
  {
   "cell_type": "code",
   "execution_count": 1,
   "id": "d77ea744-3dfb-4659-97ef-2e350e0b12b1",
   "metadata": {},
   "outputs": [
    {
     "name": "stdout",
     "output_type": "stream",
     "text": [
      "[1, 4, 9, 16, 25, 36]\n"
     ]
    }
   ],
   "source": [
    "a=[1,2,3,4,5,6]\n",
    "squared_a=[]\n",
    "for num in a:\n",
    "    squared_a.append(num**2)\n",
    "print(squared_a) "
   ]
  },
  {
   "cell_type": "code",
   "execution_count": 2,
   "id": "19392224-35e8-455b-bb2b-5ac7eed3c663",
   "metadata": {},
   "outputs": [
    {
     "name": "stdout",
     "output_type": "stream",
     "text": [
      "[1, 4, 9, 16, 25, 36]\n"
     ]
    }
   ],
   "source": [
    "   for i in range(0,len(a)):\n",
    "    a[i]=a[i]**2\n",
    "print(a)  "
   ]
  },
  {
   "cell_type": "code",
   "execution_count": 3,
   "id": "fd14d82a-1526-464b-9e02-643a8ec320dd",
   "metadata": {},
   "outputs": [
    {
     "name": "stdout",
     "output_type": "stream",
     "text": [
      "[4, 16, 36]\n",
      "[1, 9, 25]\n"
     ]
    }
   ],
   "source": [
    "even_num=[]\n",
    "odd_num=[]\n",
    "for nums in a:\n",
    "    if nums%2 ==0:\n",
    "     even_num.append(nums)\n",
    "    else:\n",
    "     odd_num.append(nums)\n",
    "print(even_num)\n",
    "print(odd_num)\n",
    "    "
   ]
  },
  {
   "cell_type": "code",
   "execution_count": 4,
   "id": "7c16407b-39b5-4407-b5b3-10927a2055c4",
   "metadata": {},
   "outputs": [
    {
     "name": "stdout",
     "output_type": "stream",
     "text": [
      "[4, 16, 36]\n",
      "[1, 9, 25]\n"
     ]
    }
   ],
   "source": [
    "even_num=[]\n",
    "odd_num=[]\n",
    "for nums in a:\n",
    "    if nums%2 ==0:\n",
    "     even_num.append(nums)\n",
    "    else:\n",
    "     odd_num.append(nums)\n",
    "print(even_num)\n",
    "print(odd_num)\n",
    "    "
   ]
  },
  {
   "cell_type": "code",
   "execution_count": 5,
   "id": "5b39f7cc-1406-4815-9fc1-0f240bcddf5a",
   "metadata": {},
   "outputs": [
    {
     "name": "stdout",
     "output_type": "stream",
     "text": [
      "odd number\n",
      "even number\n",
      "odd number\n",
      "even number\n",
      "odd number\n",
      "even number\n"
     ]
    }
   ],
   "source": [
    "#input[1, 4, 9, 16, 25, 36]\n",
    "'''\n",
    "output:\n",
    "odd number\n",
    "even number\n",
    "odd number\n",
    "even number\n",
    "odd number\n",
    "even number\n",
    "'''\n",
    "\n",
    "for nums in a:\n",
    "    if nums%2 == 0:\n",
    "        print(\"even number\")\n",
    "    else:\n",
    "        print(\"odd number\")\n",
    "        "
   ]
  },
  {
   "cell_type": "code",
   "execution_count": 6,
   "id": "138b02c8-61bd-4c8f-95e9-3dde75eff239",
   "metadata": {},
   "outputs": [
    {
     "name": "stdout",
     "output_type": "stream",
     "text": [
      "ssssssssss\n",
      "tttttttttt\n",
      "rrrrrrrrrr\n",
      "iiiiiiiiii\n",
      "nnnnnnnnnn\n",
      "gggggggggg\n",
      "          \n",
      "hhhhhhhhhh\n",
      "eeeeeeeeee\n",
      "llllllllll\n",
      "llllllllll\n",
      "oooooooooo\n",
      "          \n",
      "wwwwwwwwww\n",
      "oooooooooo\n",
      "rrrrrrrrrr\n",
      "llllllllll\n",
      "dddddddddd\n"
     ]
    }
   ],
   "source": [
    "a=\"string hello world\"\n",
    "for char in  a:\n",
    "    print(char*10)\n",
    "    "
   ]
  },
  {
   "cell_type": "code",
   "execution_count": 7,
   "id": "02ba4f59-3049-4ed3-8a98-16c83eb84e36",
   "metadata": {},
   "outputs": [
    {
     "name": "stdout",
     "output_type": "stream",
     "text": [
      "(1, 4, 9, 16, 25, 36)\n"
     ]
    }
   ],
   "source": [
    "a=[1,2,3,4,5,6]\n",
    "squared_a=[]\n",
    "for num in a:\n",
    "    squared_a.append(num**2)\n",
    "print(tuple(squared_a)) "
   ]
  },
  {
   "cell_type": "code",
   "execution_count": 8,
   "id": "3a4ad343-14c0-4b7b-a5ed-eecdd2ad6763",
   "metadata": {},
   "outputs": [
    {
     "name": "stdout",
     "output_type": "stream",
     "text": [
      "a\n",
      "b\n",
      "c\n",
      "d\n"
     ]
    }
   ],
   "source": [
    "a={\"a\":1 ,\"b\":3,\"c\":4,\"d\":5}\n",
    "for b in  a:\n",
    "    print(b)"
   ]
  },
  {
   "cell_type": "code",
   "execution_count": 9,
   "id": "ca5981c5-79f8-471f-a016-fc30dbad8f21",
   "metadata": {},
   "outputs": [
    {
     "data": {
      "text/plain": [
       "dict_items([('a', 1), ('b', 3), ('c', 4), ('d', 5)])"
      ]
     },
     "execution_count": 9,
     "metadata": {},
     "output_type": "execute_result"
    }
   ],
   "source": [
    "c={\"a\":1 ,\"b\":3,\"c\":4,\"d\":5}\n",
    "c.items()\n"
   ]
  },
  {
   "cell_type": "code",
   "execution_count": 10,
   "id": "57f818a2-a13a-430a-8599-d609cfd66386",
   "metadata": {},
   "outputs": [
    {
     "name": "stdout",
     "output_type": "stream",
     "text": [
      "a\n",
      "1\n",
      "('a', 1)\n",
      "b\n",
      "3\n",
      "('b', 3)\n",
      "c\n",
      "4\n",
      "('c', 4)\n",
      "d\n",
      "5\n",
      "('d', 5)\n"
     ]
    }
   ],
   "source": [
    "for a,c in c.items():\n",
    "    print(a)\n",
    "    print(c)\n",
    "    print((a,c))"
   ]
  },
  {
   "cell_type": "code",
   "execution_count": 11,
   "id": "b66c8aa3-f243-4e52-a0df-3060341d73c5",
   "metadata": {},
   "outputs": [
    {
     "data": {
      "text/plain": [
       "{'a': 10, 'b': 20, 'c': 30, 'd': 40}"
      ]
     },
     "execution_count": 11,
     "metadata": {},
     "output_type": "execute_result"
    }
   ],
   "source": [
    "#creat two list;\n",
    "#key list with element a,b,c,d\n",
    "#values list with element 10,20,30,40\n",
    "#creat a dictonary for these two list using for loops\n",
    "#input:key_list[\"a\",\"b\",\"c\",\"d\"] and value_list=[10,20,30,40]\n",
    "#output:dict_new={\"a\":10,\"b\":20,\"c\":30,\"d\":40} \n",
    "\n",
    "\n",
    "\n",
    "key =[\"a\",\"b\",\"c\",\"d\"]\n",
    "value =(10,20,30,40)\n",
    "dictonary_new=dict(zip(key,value))\n",
    "dictonary_new\n"
   ]
  },
  {
   "cell_type": "code",
   "execution_count": 12,
   "id": "875188b4-156a-4a0c-82a4-9292af95da0d",
   "metadata": {},
   "outputs": [
    {
     "data": {
      "text/plain": [
       "{'bread': 40, 'eggs': 30, 'milk': 50}"
      ]
     },
     "execution_count": 12,
     "metadata": {},
     "output_type": "execute_result"
    }
   ],
   "source": [
    "shopping_list={\"bread\",\"milk\",\"eggs\"}\n",
    "price=(40,30,50)\n",
    "shopping_dictonary=dict(zip(shopping_list,price))\n",
    "shopping_dictonary"
   ]
  },
  {
   "cell_type": "code",
   "execution_count": 13,
   "id": "fd2d04d0-cd9d-4047-b408-dd8eb8fdead6",
   "metadata": {},
   "outputs": [
    {
     "data": {
      "text/plain": [
       "'\\nstudy:\\nw3schools\\ngreek for greek\\npractice:\\ncode chef\\nlect code/ neck code\\nhackrank'"
      ]
     },
     "execution_count": 13,
     "metadata": {},
     "output_type": "execute_result"
    }
   ],
   "source": [
    "'''\n",
    "study:\n",
    "w3schools\n",
    "greek for greek\n",
    "practice:\n",
    "code chef\n",
    "lect code/ neck code\n",
    "hackrank'''"
   ]
  },
  {
   "cell_type": "code",
   "execution_count": 14,
   "id": "9c9cec6f-b598-4d22-8604-23babc6b0eb8",
   "metadata": {},
   "outputs": [
    {
     "name": "stdout",
     "output_type": "stream",
     "text": [
      "10\n"
     ]
    }
   ],
   "source": [
    "a=[1,2,3,4]\n",
    "sum=0\n",
    "for i in range(0,len(a)):\n",
    "    sum +=a[i]\n",
    "    a[i]=sum\n",
    "print(sum)"
   ]
  },
  {
   "cell_type": "markdown",
   "id": "48c39b33-bd0f-4e8b-8703-12dcb4a93e67",
   "metadata": {},
   "source": [
    "### while loop"
   ]
  },
  {
   "cell_type": "code",
   "execution_count": 15,
   "id": "73e24f70-1fd7-4c2b-9b69-3717e190e16d",
   "metadata": {},
   "outputs": [
    {
     "name": "stdout",
     "output_type": "stream",
     "text": [
      "10\n",
      "11\n",
      "12\n",
      "13\n",
      "14\n",
      "15\n",
      "loop close\n"
     ]
    }
   ],
   "source": [
    "'''\n",
    "while text condition:\n",
    " code statement\n",
    "else:\n",
    " final loop close\n",
    " '''\n",
    "x=10\n",
    "while x <= 15:\n",
    "    print(x)\n",
    "    x +=1\n",
    "else:\n",
    "    print(\"loop close\")"
   ]
  },
  {
   "cell_type": "code",
   "execution_count": 16,
   "id": "a814bc73-f312-45e4-a80f-ddec0f632283",
   "metadata": {},
   "outputs": [
    {
     "name": "stdout",
     "output_type": "stream",
     "text": [
      "10\n",
      "11\n",
      "12\n",
      "13\n"
     ]
    }
   ],
   "source": [
    "#loop break\n",
    "x=10\n",
    "while x <= 15:\n",
    "    print(x)\n",
    "    x +=1\n",
    "    if x==14:\n",
    "     break\n",
    "else:\n",
    "    print(\"loop close\")"
   ]
  },
  {
   "cell_type": "code",
   "execution_count": 17,
   "id": "e62bd9a8-ad84-4247-87f5-266a4f5ddf24",
   "metadata": {},
   "outputs": [
    {
     "name": "stdout",
     "output_type": "stream",
     "text": [
      "10\n",
      "11\n",
      "12\n",
      "13\n",
      "14\n",
      "15\n",
      "loop close\n"
     ]
    }
   ],
   "source": [
    "#loop continue\n",
    "x=10\n",
    "while x <= 15:\n",
    "    print(x)\n",
    "    x +=1\n",
    "    if x==14:\n",
    "     continue\n",
    "else:\n",
    "    print(\"loop close\")"
   ]
  },
  {
   "cell_type": "code",
   "execution_count": 18,
   "id": "05a7086d-2259-42f6-b716-ff2f00145a56",
   "metadata": {},
   "outputs": [
    {
     "name": "stdout",
     "output_type": "stream",
     "text": [
      "1\n",
      "3\n",
      "5\n",
      "7\n",
      "9\n"
     ]
    }
   ],
   "source": [
    "#when we want odd number\n",
    "n=1\n",
    "while n <=10:\n",
    "    if n%2 == 0:\n",
    "        n+=1\n",
    "        continue\n",
    "    print(n)   \n",
    "    n+=1\n",
    "        "
   ]
  },
  {
   "cell_type": "code",
   "execution_count": 19,
   "id": "e1986e88-bfc9-4b4a-a96a-86272f66430b",
   "metadata": {},
   "outputs": [
    {
     "name": "stdout",
     "output_type": "stream",
     "text": [
      "2\n",
      "4\n",
      "6\n",
      "8\n",
      "10\n"
     ]
    }
   ],
   "source": [
    "#when we want even number\n",
    "n=1\n",
    "while n <=10:\n",
    "    if n%2 != 0:\n",
    "        n+=1\n",
    "        continue\n",
    "    print(n)   \n",
    "    n+=1\n",
    "        "
   ]
  },
  {
   "cell_type": "code",
   "execution_count": 23,
   "id": "938ce1a9-c6ce-46c2-b711-f58c413d4fde",
   "metadata": {},
   "outputs": [
    {
     "name": "stdout",
     "output_type": "stream",
     "text": [
      "2\n",
      "4\n",
      "6\n",
      "8\n",
      "10\n",
      "12\n",
      "14\n",
      "16\n",
      "18\n",
      "20\n"
     ]
    }
   ],
   "source": [
    "a=1\n",
    "while a <=20:\n",
    "    if a%2 != 0:\n",
    "        a+=1\n",
    "        continue\n",
    "    print(a)\n",
    "    a+=1"
   ]
  },
  {
   "cell_type": "code",
   "execution_count": null,
   "id": "0896de41-189c-4e3a-baf5-33ea8d287284",
   "metadata": {},
   "outputs": [],
   "source": []
  },
  {
   "cell_type": "code",
   "execution_count": null,
   "id": "4152979d-ba27-40e6-b766-5c3e13f86f75",
   "metadata": {},
   "outputs": [],
   "source": []
  }
 ],
 "metadata": {
  "kernelspec": {
   "display_name": "Python 3 (ipykernel)",
   "language": "python",
   "name": "python3"
  },
  "language_info": {
   "codemirror_mode": {
    "name": "ipython",
    "version": 3
   },
   "file_extension": ".py",
   "mimetype": "text/x-python",
   "name": "python",
   "nbconvert_exporter": "python",
   "pygments_lexer": "ipython3",
   "version": "3.12.4"
  }
 },
 "nbformat": 4,
 "nbformat_minor": 5
}
