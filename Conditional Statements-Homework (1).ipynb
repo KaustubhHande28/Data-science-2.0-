{
 "cells": [
  {
   "cell_type": "markdown",
   "id": "2e8f809b-dcf5-4aa1-b5f5-5d9b1495ed51",
   "metadata": {},
   "source": [
    "Quiz\n",
    "Write a Python program that categorizes students into Pass or Fail based on the following conditions:\n",
    "\n",
    "If the score is greater than or equal to 70, they pass.\n",
    "\n",
    "If the score is between 50 and 69 (inclusive), a second check is done: If attendance is greater than or equal to 80%, they pass; otherwise, they fail.\n",
    "\n",
    "If the score is below 50, they fail."
   ]
  },
  {
   "cell_type": "code",
   "execution_count": 6,
   "id": "ec73238f-a6a5-4dde-91ae-d0513138894f",
   "metadata": {},
   "outputs": [
    {
     "name": "stdin",
     "output_type": "stream",
     "text": [
      "enter your marks: 85\n",
      "enter your attendence 75\n"
     ]
    },
    {
     "name": "stdout",
     "output_type": "stream",
     "text": [
      "candidate is pass\n"
     ]
    }
   ],
   "source": [
    "'''\n",
    "get marks \n",
    "check if marks >=70\n",
    " print(\"candidate is pass\")\n",
    "elif if marks 50<= and >=69 \n",
    " print(\"candidate is inclusive\")\n",
    "else \n",
    "print(\"candidate is fail\")get attendence \n",
    "if attendence >=80\n",
    "print(\"candidate will pass\")\n",
    "else\n",
    "print(\"candidate will not pass\") '''\n",
    "\n",
    "marks = int(input(\"enter your marks:\"))\n",
    "attendence = int (input(\"enter your attendence\"))\n",
    "if marks >=70:\n",
    "    print(\"candidate is pass\")\n",
    "else:\n",
    "    if 50<= marks<=69 and attendence<=80:\n",
    "        print(\"candidate is pass\")\n",
    "    elif 50<= marks <=69 and attendence>=80:\n",
    "        print(\"candidate is fail\")\n",
    "    else:\n",
    "        print(\"candidate is fail\")"
   ]
  },
  {
   "cell_type": "markdown",
   "id": "a54bcbfb-abf6-40b3-b4ca-dddacf04b956",
   "metadata": {},
   "source": [
    "Write a Python program that takes a day of the week as input and checks if it's a weekday or a weekend day. If it's a weekday, print It's a workday. If it's a weekend day, print Enjoy your weekend."
   ]
  },
  {
   "cell_type": "code",
   "execution_count": 16,
   "id": "509bb754-f99b-453e-9329-b3efa3d51ce2",
   "metadata": {},
   "outputs": [
    {
     "name": "stdin",
     "output_type": "stream",
     "text": [
      "which day it is? weekend\n"
     ]
    },
    {
     "name": "stdout",
     "output_type": "stream",
     "text": [
      "enjoy your weekend\n"
     ]
    }
   ],
   "source": [
    "'''\n",
    "get week\n",
    "check if week==weekday\n",
    " print(\"it is workday\")\n",
    "check else\n",
    "print(\"enjoy your weekend\")'''\n",
    "\n",
    "week =input(\"which day it is?\")\n",
    "if week==\"weekday\":\n",
    "    print(\"it is workday\")\n",
    "else:\n",
    "    print(\"enjoy your weekend\")\n"
   ]
  },
  {
   "cell_type": "markdown",
   "id": "05ab1797-f65b-4719-a448-eb710185fe5c",
   "metadata": {},
   "source": [
    "Write a Python program using the elif statement to assign grades to sales representatives according to the following criteria:\n",
    "\n",
    "If sales are greater than or equal to 100 units, assign the grade Excellent.\n",
    "\n",
    "If sales are between 50 and 99 units (inclusive), assign the grade Good.\n",
    "\n",
    "If sales are between 20 and 49 units (inclusive), assign the grade Acceptable.\n",
    "\n",
    "If sales are less than 20 units, assign the grade Needs Improvement."
   ]
  },
  {
   "cell_type": "code",
   "execution_count": 23,
   "id": "ee63b368-e8ea-4155-bc5d-637943b0541a",
   "metadata": {},
   "outputs": [
    {
     "name": "stdin",
     "output_type": "stream",
     "text": [
      "enter sales history 10\n"
     ]
    },
    {
     "name": "stdout",
     "output_type": "stream",
     "text": [
      "need improvement\n"
     ]
    }
   ],
   "source": [
    "'''\n",
    "get sales_history\n",
    "check if sales_history <=100:\n",
    "print(\"excellent\")\n",
    "check elif 50>= sales_history <=99:\n",
    "print(\"good\")\n",
    "check elif 20>= sales_history <=49:\n",
    "print(\"acceptable\")\n",
    "else\n",
    "print(\"need improvement\")'''\n",
    "\n",
    "sales_history=int(input(\"enter sales history\"))\n",
    "if sales_history>=100:\n",
    "    print(\"execleent\")\n",
    "elif 50<= sales_history <=99:\n",
    "    print(\"good\")\n",
    "elif 20<= sales_history <=49:\n",
    "    print(\"acceptable\")\n",
    "else:\n",
    "    print(\"need improvement\")"
   ]
  },
  {
   "cell_type": "markdown",
   "id": "cfe9c33e-515d-4e0f-9311-ad8464ce89c2",
   "metadata": {},
   "source": [
    "Create a Python program that prompts the user to enter their age.\n",
    "\n",
    "If the age is less than 18, print You are a minor.\n",
    "\n",
    "If the age is 60 or older, print You are a senior citizen.\n",
    "\n",
    "In any other case, print You are an adult."
   ]
  },
  {
   "cell_type": "code",
   "execution_count": 27,
   "id": "87f401f9-3a19-4d48-a08f-1fd03d929a6d",
   "metadata": {},
   "outputs": [
    {
     "name": "stdin",
     "output_type": "stream",
     "text": [
      "enter your age ? 45\n"
     ]
    },
    {
     "name": "stdout",
     "output_type": "stream",
     "text": [
      "you are adult\n"
     ]
    }
   ],
   "source": [
    "'''\n",
    "get age\n",
    "check if age>=18:\n",
    " print(\"you are minor\")\n",
    "check elif age <=60:'\n",
    " print(\"you are senior citizen\")\n",
    "check else:\n",
    "print (\"you are adult\")'''\n",
    "\n",
    "age=int(input(\"enter your age ?\"))\n",
    "if age <=18:\n",
    "    print(\"you are minor\")\n",
    "elif age>=60:\n",
    "    print(\"you are senior citizen\")\n",
    "else:\n",
    "    print(\"you are adult\")\n",
    " "
   ]
  },
  {
   "cell_type": "markdown",
   "id": "68f3bea7-e6ef-4e04-a305-b3f4d8e8e794",
   "metadata": {},
   "source": [
    "Create a Python program that simulates a simple login system. Ask the user for their username and age. Check if the username is admin and the age is 18 or older. If both conditions are true, print Login successful. Otherwise, print Access denied."
   ]
  },
  {
   "cell_type": "code",
   "execution_count": 1,
   "id": "6ff76ed3-f62e-47c3-9563-c1af5ed72194",
   "metadata": {},
   "outputs": [
    {
     "name": "stdin",
     "output_type": "stream",
     "text": [
      "enter username:  kaustubh\n",
      "age: 20\n"
     ]
    },
    {
     "name": "stdout",
     "output_type": "stream",
     "text": [
      "login successful\n"
     ]
    }
   ],
   "source": [
    "'''\n",
    "get \n",
    "login name:\n",
    "login age:\n",
    "check if username==\"kaustubh\" and age>=18:\n",
    "print(\"login successfull\")\n",
    "check else:\n",
    "print(\"access denied\")'''\n",
    "\n",
    "login_name=input(\"enter username: \")\n",
    "login_age=int(input(\"age:\"))\n",
    "if login_name==\"kaustubh\" and login_age>=18:\n",
    "    print(\"login successful\")\n",
    "else:\n",
    "    print(\"access denied \")\n"
   ]
  },
  {
   "cell_type": "code",
   "execution_count": null,
   "id": "7ba50376-e9b4-4460-934c-bc456d0747d0",
   "metadata": {},
   "outputs": [],
   "source": []
  }
 ],
 "metadata": {
  "kernelspec": {
   "display_name": "Python 3 (ipykernel)",
   "language": "python",
   "name": "python3"
  },
  "language_info": {
   "codemirror_mode": {
    "name": "ipython",
    "version": 3
   },
   "file_extension": ".py",
   "mimetype": "text/x-python",
   "name": "python",
   "nbconvert_exporter": "python",
   "pygments_lexer": "ipython3",
   "version": "3.12.4"
  }
 },
 "nbformat": 4,
 "nbformat_minor": 5
}
