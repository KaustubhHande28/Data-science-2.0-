{
 "cells": [
  {
   "cell_type": "code",
   "execution_count": 1,
   "id": "e0ce7935-f9f5-41aa-9226-52fb6d87dee6",
   "metadata": {},
   "outputs": [
    {
     "name": "stdout",
     "output_type": "stream",
     "text": [
      "['facebook', 'google', 'leetcode']\n"
     ]
    }
   ],
   "source": [
    "def wordSubsets(words1, words2):\n",
    "    max_freq_words2 = {}\n",
    "\n",
    "    for char in words2:\n",
    "        max_freq_words2[char] = max_freq_words2.get(char, 0) + 1\n",
    "\n",
    "    result = []\n",
    "    for word in words1:\n",
    "        freq_word = {}\n",
    "        for char in word:\n",
    "            freq_word[char] = freq_word.get(char, 0) + 1\n",
    "\n",
    "        universal = True \n",
    "        for char in max_freq_words2:\n",
    "            if freq_word.get(char, 0) < max_freq_words2[char]:\n",
    "                universal = False\n",
    "                break\n",
    "\n",
    "        if universal:\n",
    "            result.append(word)\n",
    "\n",
    "    return result\n",
    "\n",
    "words1 = ['amazon','apple','facebook','google','leetcode']\n",
    "words2 = ['e','o']\n",
    "\n",
    "print(wordSubsets(words1,words2))"
   ]
  },
  {
   "cell_type": "code",
   "execution_count": 2,
   "id": "4298ab99-aca4-4003-a4da-f95af455959f",
   "metadata": {},
   "outputs": [
    {
     "name": "stdout",
     "output_type": "stream",
     "text": [
      "{'brand': 5, 'model': 6, 'year': 7}\n"
     ]
    }
   ],
   "source": [
    "car = {\n",
    "    'brand':4,\n",
    "    'model':5,\n",
    "    'year':6\n",
    "}\n",
    "\n",
    "x = {}\n",
    "for key in car:\n",
    "    x[key] = car.get(key) + 1 # keys chya value madhi 1 add karun output yenar\n",
    "\n",
    "print(x)"
   ]
  },
  {
   "cell_type": "code",
   "execution_count": 3,
   "id": "f4c86091-947f-459b-89fa-ea758aedd4f5",
   "metadata": {},
   "outputs": [
    {
     "name": "stdout",
     "output_type": "stream",
     "text": [
      "{'brand': 6, 'model': 6, 'year': 6}\n"
     ]
    }
   ],
   "source": [
    "car = {\n",
    "    'brand':4,\n",
    "    'model':5,\n",
    "    'year':6\n",
    "}\n",
    "\n",
    "x = {}\n",
    "for key in car:\n",
    "    x[key] = car.get('model') + 1 # model chi value saglyanna apply honar ani mg model chya value madhi 1 add karun output yenar\n",
    "\n",
    "print(x)"
   ]
  },
  {
   "cell_type": "code",
   "execution_count": null,
   "id": "a6581190-2baf-4e94-bd8a-52efd06bc0a6",
   "metadata": {},
   "outputs": [],
   "source": []
  }
 ],
 "metadata": {
  "kernelspec": {
   "display_name": "Python 3 (ipykernel)",
   "language": "python",
   "name": "python3"
  },
  "language_info": {
   "codemirror_mode": {
    "name": "ipython",
    "version": 3
   },
   "file_extension": ".py",
   "mimetype": "text/x-python",
   "name": "python",
   "nbconvert_exporter": "python",
   "pygments_lexer": "ipython3",
   "version": "3.12.4"
  }
 },
 "nbformat": 4,
 "nbformat_minor": 5
}
