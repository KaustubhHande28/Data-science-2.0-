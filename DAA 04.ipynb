{
 "cells": [
  {
   "cell_type": "code",
   "execution_count": 1,
   "id": "ec522186",
   "metadata": {},
   "outputs": [
    {
     "name": "stdout",
     "output_type": "stream",
     "text": [
      "Solution found:\n",
      "Q . . . . . . .\n",
      ". . . . Q . . .\n",
      ". . . . . . . Q\n",
      ". . . . . Q . .\n",
      ". . Q . . . . .\n",
      ". . . . . . Q .\n",
      ". Q . . . . . .\n",
      ". . . Q . . . .\n"
     ]
    }
   ],
   "source": [
    "def is_safe(board, row, col):\n",
    "    \n",
    "    for i in range(row):\n",
    "        if board[i][col] == 1:\n",
    "            return False\n",
    "\n",
    "    \n",
    "    for i, j in zip(range(row, -1, -1), range(col, -1, -1)):\n",
    "        if board[i][j] == 1:\n",
    "            return False\n",
    "\n",
    "    \n",
    "    for i, j in zip(range(row, -1, -1), range(col, len(board))):\n",
    "        if board[i][j] == 1:\n",
    "            return False\n",
    "\n",
    "    return True\n",
    "\n",
    "def solve_n_queens_util(board, row):\n",
    "    if row >= len(board):\n",
    "        return True\n",
    "\n",
    "    for col in range(len(board)):\n",
    "        if is_safe(board, row, col):\n",
    "            board[row][col] = 1  \n",
    "\n",
    "            if solve_n_queens_util(board, row + 1):  \n",
    "                return True\n",
    "\n",
    "            board[row][col] = 0  \n",
    "\n",
    "    return False\n",
    "\n",
    "def print_board(board):\n",
    "    for row in board:\n",
    "        print(\" \".join(\"Q\" if x == 1 else \".\" for x in row))\n",
    "\n",
    "def solve_n_queens(n, first_queen_pos):\n",
    "    board = [[0] * n for _ in range(n)]\n",
    "    row, col = first_queen_pos\n",
    "    board[row][col] = 1  \n",
    "\n",
    "    if solve_n_queens_util(board, row + 1):\n",
    "        print(\"Solution found:\")\n",
    "        print_board(board)\n",
    "    else:\n",
    "        print(\"No solution exists.\")\n",
    "\n",
    "def main():\n",
    "    n = 8\n",
    "    first_queen_pos = (0, 0)  \n",
    "    \n",
    "    solve_n_queens(n, first_queen_pos)\n",
    "\n",
    "if __name__ == \"__main__\":\n",
    "    main()\n"
   ]
  },
  {
   "cell_type": "code",
   "execution_count": null,
   "id": "bbff5391",
   "metadata": {},
   "outputs": [],
   "source": []
  }
 ],
 "metadata": {
  "kernelspec": {
   "display_name": "Python 3 (ipykernel)",
   "language": "python",
   "name": "python3"
  },
  "language_info": {
   "codemirror_mode": {
    "name": "ipython",
    "version": 3
   },
   "file_extension": ".py",
   "mimetype": "text/x-python",
   "name": "python",
   "nbconvert_exporter": "python",
   "pygments_lexer": "ipython3",
   "version": "3.12.6"
  }
 },
 "nbformat": 4,
 "nbformat_minor": 5
}
